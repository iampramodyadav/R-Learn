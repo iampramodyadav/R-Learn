{
 "cells": [
  {
   "cell_type": "code",
   "execution_count": null,
   "id": "86d1a9ed-498a-47b1-82ff-7b034f99afc1",
   "metadata": {},
   "outputs": [],
   "source": []
  },
  {
   "cell_type": "markdown",
   "id": "d00494bd-8fff-41bc-96f5-333a59f28dfb",
   "metadata": {},
   "source": [
    "here are some additional topics you might want to cover next:\n",
    "\n",
    "## 1. **Subsetting Data**\n",
    "   - Teach how to access and manipulate subsets of vectors, matrices, data frames, and lists.\n",
    "   - Concepts: slicing, indexing, logical subsetting, `subset()` function."
   ]
  },
  {
   "cell_type": "markdown",
   "id": "07366498-f583-41eb-8861-4014194e6dfa",
   "metadata": {},
   "source": [
    "Subsetting refers to extracting a portion of data from R objects like vectors, matrices, lists, and data frames. It is essential for data manipulation, as it allows you to isolate and work with specific elements, rows, or columns.\n",
    "\n",
    "R provides several ways to subset data, including:\n",
    "- **By Indexing**: Using square brackets `[]`.\n",
    "- **By Logical Conditions**: Selecting elements based on conditions.\n",
    "- **By Named Elements**: Accessing elements with names (for lists, data frames)."
   ]
  },
  {
   "cell_type": "markdown",
   "id": "74d25f14-173d-44e0-9f3d-0232ccd35979",
   "metadata": {},
   "source": [
    "### **1. Subsetting Vectors**\n",
    "\n",
    "Vectors are one-dimensional, so you can subset them using index positions or logical conditions."
   ]
  },
  {
   "cell_type": "markdown",
   "id": "de572b81-2029-4801-b128-a53a6c0b9a71",
   "metadata": {},
   "source": [
    "#### **Subsetting by Indexing**\n",
    "Use square brackets `[]` to extract elements by their position."
   ]
  },
  {
   "cell_type": "code",
   "execution_count": 2,
   "id": "a02afc0e-2291-4b55-af17-c820dc500f8f",
   "metadata": {},
   "outputs": [
    {
     "data": {
      "text/html": [
       "10"
      ],
      "text/latex": [
       "10"
      ],
      "text/markdown": [
       "10"
      ],
      "text/plain": [
       "[1] 10"
      ]
     },
     "metadata": {},
     "output_type": "display_data"
    },
    {
     "data": {
      "text/html": [
       "<style>\n",
       ".list-inline {list-style: none; margin:0; padding: 0}\n",
       ".list-inline>li {display: inline-block}\n",
       ".list-inline>li:not(:last-child)::after {content: \"\\00b7\"; padding: 0 .5ex}\n",
       "</style>\n",
       "<ol class=list-inline><li>10</li><li>30</li></ol>\n"
      ],
      "text/latex": [
       "\\begin{enumerate*}\n",
       "\\item 10\n",
       "\\item 30\n",
       "\\end{enumerate*}\n"
      ],
      "text/markdown": [
       "1. 10\n",
       "2. 30\n",
       "\n",
       "\n"
      ],
      "text/plain": [
       "[1] 10 30"
      ]
     },
     "metadata": {},
     "output_type": "display_data"
    },
    {
     "data": {
      "text/html": [
       "<style>\n",
       ".list-inline {list-style: none; margin:0; padding: 0}\n",
       ".list-inline>li {display: inline-block}\n",
       ".list-inline>li:not(:last-child)::after {content: \"\\00b7\"; padding: 0 .5ex}\n",
       "</style>\n",
       "<ol class=list-inline><li>10</li><li>30</li><li>40</li><li>50</li></ol>\n"
      ],
      "text/latex": [
       "\\begin{enumerate*}\n",
       "\\item 10\n",
       "\\item 30\n",
       "\\item 40\n",
       "\\item 50\n",
       "\\end{enumerate*}\n"
      ],
      "text/markdown": [
       "1. 10\n",
       "2. 30\n",
       "3. 40\n",
       "4. 50\n",
       "\n",
       "\n"
      ],
      "text/plain": [
       "[1] 10 30 40 50"
      ]
     },
     "metadata": {},
     "output_type": "display_data"
    }
   ],
   "source": [
    "\n",
    "# Create a numeric vector\n",
    "vec <- c(10, 20, 30, 40, 50)\n",
    "\n",
    "# Subset the first element\n",
    "vec[1]  # Output: 10\n",
    "\n",
    "# Subset the first and third elements\n",
    "vec[c(1, 3)]  # Output: 10 30\n",
    "\n",
    "# Subset all except the second element (negative index)\n",
    "vec[-2]  # Output: 10 30 40 50"
   ]
  },
  {
   "cell_type": "markdown",
   "id": "d0391f51-21f3-434e-9e9f-a5f68a672267",
   "metadata": {},
   "source": [
    "#### **Subsetting by Logical Conditions**\n",
    "You can also subset by specifying a logical vector."
   ]
  },
  {
   "cell_type": "code",
   "execution_count": 3,
   "id": "e18e6970-b0ff-47bb-8cbb-ebc735a1381a",
   "metadata": {},
   "outputs": [
    {
     "data": {
      "text/html": [
       "<style>\n",
       ".list-inline {list-style: none; margin:0; padding: 0}\n",
       ".list-inline>li {display: inline-block}\n",
       ".list-inline>li:not(:last-child)::after {content: \"\\00b7\"; padding: 0 .5ex}\n",
       "</style>\n",
       "<ol class=list-inline><li>30</li><li>40</li><li>50</li></ol>\n"
      ],
      "text/latex": [
       "\\begin{enumerate*}\n",
       "\\item 30\n",
       "\\item 40\n",
       "\\item 50\n",
       "\\end{enumerate*}\n"
      ],
      "text/markdown": [
       "1. 30\n",
       "2. 40\n",
       "3. 50\n",
       "\n",
       "\n"
      ],
      "text/plain": [
       "[1] 30 40 50"
      ]
     },
     "metadata": {},
     "output_type": "display_data"
    },
    {
     "data": {
      "text/html": [
       "<style>\n",
       ".list-inline {list-style: none; margin:0; padding: 0}\n",
       ".list-inline>li {display: inline-block}\n",
       ".list-inline>li:not(:last-child)::after {content: \"\\00b7\"; padding: 0 .5ex}\n",
       "</style>\n",
       "<ol class=list-inline><li>10</li><li>30</li><li>50</li></ol>\n"
      ],
      "text/latex": [
       "\\begin{enumerate*}\n",
       "\\item 10\n",
       "\\item 30\n",
       "\\item 50\n",
       "\\end{enumerate*}\n"
      ],
      "text/markdown": [
       "1. 10\n",
       "2. 30\n",
       "3. 50\n",
       "\n",
       "\n"
      ],
      "text/plain": [
       "[1] 10 30 50"
      ]
     },
     "metadata": {},
     "output_type": "display_data"
    }
   ],
   "source": [
    "\n",
    "# Subset elements greater than 25\n",
    "vec[vec > 25]  # Output: 30 40 50\n",
    "\n",
    "# Subset based on a logical vector\n",
    "logical_vector <- c(TRUE, FALSE, TRUE, FALSE, TRUE)\n",
    "vec[logical_vector]  # Output: 10 30 50\n"
   ]
  },
  {
   "cell_type": "markdown",
   "id": "69493c7b-0a59-4d69-9477-15105d10b63e",
   "metadata": {},
   "source": [
    "### **2. Subsetting Matrices**\n",
    "\n",
    "Matrices are two-dimensional, so you need to specify both rows and columns for subsetting."
   ]
  },
  {
   "cell_type": "markdown",
   "id": "bb6b1dfa-8a59-411a-823e-8b55dfd4c60b",
   "metadata": {},
   "source": [
    "#### **Subsetting by Indexing**\n",
    "You can extract specific rows, columns, or individual elements."
   ]
  },
  {
   "cell_type": "code",
   "execution_count": 4,
   "id": "a89b2828-cc08-4b80-9a40-369342b56f35",
   "metadata": {},
   "outputs": [
    {
     "data": {
      "text/html": [
       "6"
      ],
      "text/latex": [
       "6"
      ],
      "text/markdown": [
       "6"
      ],
      "text/plain": [
       "[1] 6"
      ]
     },
     "metadata": {},
     "output_type": "display_data"
    },
    {
     "data": {
      "text/html": [
       "<style>\n",
       ".list-inline {list-style: none; margin:0; padding: 0}\n",
       ".list-inline>li {display: inline-block}\n",
       ".list-inline>li:not(:last-child)::after {content: \"\\00b7\"; padding: 0 .5ex}\n",
       "</style>\n",
       "<ol class=list-inline><li>4</li><li>5</li><li>6</li></ol>\n"
      ],
      "text/latex": [
       "\\begin{enumerate*}\n",
       "\\item 4\n",
       "\\item 5\n",
       "\\item 6\n",
       "\\end{enumerate*}\n"
      ],
      "text/markdown": [
       "1. 4\n",
       "2. 5\n",
       "3. 6\n",
       "\n",
       "\n"
      ],
      "text/plain": [
       "[1] 4 5 6"
      ]
     },
     "metadata": {},
     "output_type": "display_data"
    },
    {
     "data": {
      "text/html": [
       "<style>\n",
       ".list-inline {list-style: none; margin:0; padding: 0}\n",
       ".list-inline>li {display: inline-block}\n",
       ".list-inline>li:not(:last-child)::after {content: \"\\00b7\"; padding: 0 .5ex}\n",
       "</style>\n",
       "<ol class=list-inline><li>1</li><li>4</li><li>7</li></ol>\n"
      ],
      "text/latex": [
       "\\begin{enumerate*}\n",
       "\\item 1\n",
       "\\item 4\n",
       "\\item 7\n",
       "\\end{enumerate*}\n"
      ],
      "text/markdown": [
       "1. 1\n",
       "2. 4\n",
       "3. 7\n",
       "\n",
       "\n"
      ],
      "text/plain": [
       "[1] 1 4 7"
      ]
     },
     "metadata": {},
     "output_type": "display_data"
    }
   ],
   "source": [
    "\n",
    "# Create a 3x3 matrix\n",
    "mat <- matrix(1:9, nrow = 3, byrow = TRUE)\n",
    "\n",
    "# Subset the element in the second row and third column\n",
    "mat[2, 3]  # Output: 6\n",
    "\n",
    "# Subset the entire second row\n",
    "mat[2, ]  # Output: 4 5 6\n",
    "\n",
    "# Subset the first column\n",
    "mat[, 1]  # Output: 1 4 7\n"
   ]
  },
  {
   "cell_type": "markdown",
   "id": "2e1ff1a7-0dab-41a5-bebb-54dd0679a7c0",
   "metadata": {},
   "source": [
    "#### **Subsetting by Logical Conditions**\n",
    "You can apply logical conditions to rows or columns."
   ]
  },
  {
   "cell_type": "code",
   "execution_count": 5,
   "id": "6653bbd0-49f9-4e28-969a-b21feaabbabc",
   "metadata": {},
   "outputs": [
    {
     "data": {
      "text/html": [
       "<style>\n",
       ".list-inline {list-style: none; margin:0; padding: 0}\n",
       ".list-inline>li {display: inline-block}\n",
       ".list-inline>li:not(:last-child)::after {content: \"\\00b7\"; padding: 0 .5ex}\n",
       "</style>\n",
       "<ol class=list-inline><li>7</li><li>8</li><li>9</li></ol>\n"
      ],
      "text/latex": [
       "\\begin{enumerate*}\n",
       "\\item 7\n",
       "\\item 8\n",
       "\\item 9\n",
       "\\end{enumerate*}\n"
      ],
      "text/markdown": [
       "1. 7\n",
       "2. 8\n",
       "3. 9\n",
       "\n",
       "\n"
      ],
      "text/plain": [
       "[1] 7 8 9"
      ]
     },
     "metadata": {},
     "output_type": "display_data"
    }
   ],
   "source": [
    "\n",
    "# Subset rows where the first column is greater than 4\n",
    "mat[mat[, 1] > 4, ]  # Output: 7 8 9\n"
   ]
  },
  {
   "cell_type": "markdown",
   "id": "46d047b9-560c-40fc-9b52-4cf79ca4c05b",
   "metadata": {},
   "source": [
    "### **3. Subsetting Lists**\n",
    "\n",
    "Lists can contain different data types and structures, so you can subset elements by index or by name if the list is named.\n",
    "\n",
    "#### **Subsetting by Indexing**\n",
    "Use `[[ ]]` for accessing list elements and `[ ]` for subsetting lists."
   ]
  },
  {
   "cell_type": "code",
   "execution_count": 6,
   "id": "cf24f1e0-a70e-4ffe-a734-96766b7aab8c",
   "metadata": {},
   "outputs": [
    {
     "data": {
      "text/html": [
       "'John'"
      ],
      "text/latex": [
       "'John'"
      ],
      "text/markdown": [
       "'John'"
      ],
      "text/plain": [
       "[1] \"John\""
      ]
     },
     "metadata": {},
     "output_type": "display_data"
    },
    {
     "data": {
      "text/html": [
       "'John'"
      ],
      "text/latex": [
       "'John'"
      ],
      "text/markdown": [
       "'John'"
      ],
      "text/plain": [
       "[1] \"John\""
      ]
     },
     "metadata": {},
     "output_type": "display_data"
    },
    {
     "data": {
      "text/html": [
       "'John'"
      ],
      "text/latex": [
       "'John'"
      ],
      "text/markdown": [
       "'John'"
      ],
      "text/plain": [
       "[1] \"John\""
      ]
     },
     "metadata": {},
     "output_type": "display_data"
    },
    {
     "data": {
      "text/html": [
       "<dl>\n",
       "\t<dt>$name</dt>\n",
       "\t\t<dd>'John'</dd>\n",
       "\t<dt>$age</dt>\n",
       "\t\t<dd>25</dd>\n",
       "</dl>\n"
      ],
      "text/latex": [
       "\\begin{description}\n",
       "\\item[\\$name] 'John'\n",
       "\\item[\\$age] 25\n",
       "\\end{description}\n"
      ],
      "text/markdown": [
       "$name\n",
       ":   'John'\n",
       "$age\n",
       ":   25\n",
       "\n",
       "\n"
      ],
      "text/plain": [
       "$name\n",
       "[1] \"John\"\n",
       "\n",
       "$age\n",
       "[1] 25\n"
      ]
     },
     "metadata": {},
     "output_type": "display_data"
    }
   ],
   "source": [
    "\n",
    "# Create a list\n",
    "my_list <- list(name = \"John\", age = 25, scores = c(90, 85, 88))\n",
    "\n",
    "# Access the 'name' element using double brackets\n",
    "my_list[[1]]  # Output: \"John\"\n",
    "\n",
    "# Access by name\n",
    "my_list[[\"name\"]]  # Output: \"John\"\n",
    "my_list$name       # Output: \"John\"\n",
    "\n",
    "# Subset first two elements using single brackets (returns a list)\n",
    "my_list[1:2]  # Output: list(name = \"John\", age = 25)\n"
   ]
  },
  {
   "cell_type": "markdown",
   "id": "685ec0f4-3388-44a7-990d-13a1647d97d9",
   "metadata": {},
   "source": [
    "### **4. Subsetting Data Frames**\n",
    "\n",
    "Data frames are similar to matrices but can have different types of data in each column. You can subset by rows, columns, or both.\n",
    "\n",
    "#### **Subsetting by Indexing**\n",
    "Use square brackets `[]` for row and column subsetting."
   ]
  },
  {
   "cell_type": "code",
   "execution_count": 7,
   "id": "5a268dee-d11f-4a8c-ac6f-d6a2e5cd41e3",
   "metadata": {},
   "outputs": [
    {
     "data": {
      "text/html": [
       "25"
      ],
      "text/latex": [
       "25"
      ],
      "text/markdown": [
       "25"
      ],
      "text/plain": [
       "[1] 25"
      ]
     },
     "metadata": {},
     "output_type": "display_data"
    },
    {
     "data": {
      "text/html": [
       "<style>\n",
       ".list-inline {list-style: none; margin:0; padding: 0}\n",
       ".list-inline>li {display: inline-block}\n",
       ".list-inline>li:not(:last-child)::after {content: \"\\00b7\"; padding: 0 .5ex}\n",
       "</style>\n",
       "<ol class=list-inline><li>25</li><li>30</li><li>35</li></ol>\n"
      ],
      "text/latex": [
       "\\begin{enumerate*}\n",
       "\\item 25\n",
       "\\item 30\n",
       "\\item 35\n",
       "\\end{enumerate*}\n"
      ],
      "text/markdown": [
       "1. 25\n",
       "2. 30\n",
       "3. 35\n",
       "\n",
       "\n"
      ],
      "text/plain": [
       "[1] 25 30 35"
      ]
     },
     "metadata": {},
     "output_type": "display_data"
    },
    {
     "data": {
      "text/html": [
       "<style>\n",
       ".list-inline {list-style: none; margin:0; padding: 0}\n",
       ".list-inline>li {display: inline-block}\n",
       ".list-inline>li:not(:last-child)::after {content: \"\\00b7\"; padding: 0 .5ex}\n",
       "</style>\n",
       "<ol class=list-inline><li>'Alice'</li><li>'Bob'</li><li>'Carol'</li></ol>\n"
      ],
      "text/latex": [
       "\\begin{enumerate*}\n",
       "\\item 'Alice'\n",
       "\\item 'Bob'\n",
       "\\item 'Carol'\n",
       "\\end{enumerate*}\n"
      ],
      "text/markdown": [
       "1. 'Alice'\n",
       "2. 'Bob'\n",
       "3. 'Carol'\n",
       "\n",
       "\n"
      ],
      "text/plain": [
       "[1] \"Alice\" \"Bob\"   \"Carol\""
      ]
     },
     "metadata": {},
     "output_type": "display_data"
    }
   ],
   "source": [
    "\n",
    "# Create a data frame\n",
    "df <- data.frame(Name = c(\"Alice\", \"Bob\", \"Carol\"),\n",
    "                 Age = c(25, 30, 35),\n",
    "                 Score = c(90, 85, 88))\n",
    "\n",
    "# Subset the first row and second column\n",
    "df[1, 2]  # Output: 25\n",
    "\n",
    "# Subset the entire second column (Age)\n",
    "df[, 2]  # Output: 25 30 35\n",
    "\n",
    "# Subset by column name\n",
    "df$Name  # Output: \"Alice\" \"Bob\" \"Carol\"\n"
   ]
  },
  {
   "cell_type": "markdown",
   "id": "2243821e-e3cd-4f59-af65-f51efc75e4e9",
   "metadata": {},
   "source": [
    "#### **Subsetting by Logical Conditions**\n",
    "You can subset rows based on logical conditions."
   ]
  },
  {
   "cell_type": "code",
   "execution_count": 8,
   "id": "f976d0f6-44ca-4a56-b340-9449c5c0d106",
   "metadata": {},
   "outputs": [
    {
     "data": {
      "text/html": [
       "<table class=\"dataframe\">\n",
       "<caption>A data.frame: 2 × 3</caption>\n",
       "<thead>\n",
       "\t<tr><th></th><th scope=col>Name</th><th scope=col>Age</th><th scope=col>Score</th></tr>\n",
       "\t<tr><th></th><th scope=col>&lt;chr&gt;</th><th scope=col>&lt;dbl&gt;</th><th scope=col>&lt;dbl&gt;</th></tr>\n",
       "</thead>\n",
       "<tbody>\n",
       "\t<tr><th scope=row>2</th><td>Bob  </td><td>30</td><td>85</td></tr>\n",
       "\t<tr><th scope=row>3</th><td>Carol</td><td>35</td><td>88</td></tr>\n",
       "</tbody>\n",
       "</table>\n"
      ],
      "text/latex": [
       "A data.frame: 2 × 3\n",
       "\\begin{tabular}{r|lll}\n",
       "  & Name & Age & Score\\\\\n",
       "  & <chr> & <dbl> & <dbl>\\\\\n",
       "\\hline\n",
       "\t2 & Bob   & 30 & 85\\\\\n",
       "\t3 & Carol & 35 & 88\\\\\n",
       "\\end{tabular}\n"
      ],
      "text/markdown": [
       "\n",
       "A data.frame: 2 × 3\n",
       "\n",
       "| <!--/--> | Name &lt;chr&gt; | Age &lt;dbl&gt; | Score &lt;dbl&gt; |\n",
       "|---|---|---|---|\n",
       "| 2 | Bob   | 30 | 85 |\n",
       "| 3 | Carol | 35 | 88 |\n",
       "\n"
      ],
      "text/plain": [
       "  Name  Age Score\n",
       "2 Bob   30  85   \n",
       "3 Carol 35  88   "
      ]
     },
     "metadata": {},
     "output_type": "display_data"
    },
    {
     "data": {
      "text/html": [
       "<table class=\"dataframe\">\n",
       "<caption>A data.frame: 1 × 3</caption>\n",
       "<thead>\n",
       "\t<tr><th></th><th scope=col>Name</th><th scope=col>Age</th><th scope=col>Score</th></tr>\n",
       "\t<tr><th></th><th scope=col>&lt;chr&gt;</th><th scope=col>&lt;dbl&gt;</th><th scope=col>&lt;dbl&gt;</th></tr>\n",
       "</thead>\n",
       "<tbody>\n",
       "\t<tr><th scope=row>1</th><td>Alice</td><td>25</td><td>90</td></tr>\n",
       "</tbody>\n",
       "</table>\n"
      ],
      "text/latex": [
       "A data.frame: 1 × 3\n",
       "\\begin{tabular}{r|lll}\n",
       "  & Name & Age & Score\\\\\n",
       "  & <chr> & <dbl> & <dbl>\\\\\n",
       "\\hline\n",
       "\t1 & Alice & 25 & 90\\\\\n",
       "\\end{tabular}\n"
      ],
      "text/markdown": [
       "\n",
       "A data.frame: 1 × 3\n",
       "\n",
       "| <!--/--> | Name &lt;chr&gt; | Age &lt;dbl&gt; | Score &lt;dbl&gt; |\n",
       "|---|---|---|---|\n",
       "| 1 | Alice | 25 | 90 |\n",
       "\n"
      ],
      "text/plain": [
       "  Name  Age Score\n",
       "1 Alice 25  90   "
      ]
     },
     "metadata": {},
     "output_type": "display_data"
    }
   ],
   "source": [
    "\n",
    "# Subset rows where Age is greater than 28\n",
    "df[df$Age > 28, ]  # Output: Bob and Carol's rows\n",
    "\n",
    "# Subset rows where Name is \"Alice\"\n",
    "df[df$Name == \"Alice\", ]  # Output: Alice's row\n"
   ]
  },
  {
   "cell_type": "markdown",
   "id": "91bd6040-f4ce-418c-9d28-cd1a76d41d2a",
   "metadata": {},
   "source": [
    "### **5. Subsetting Factors**\n",
    "\n",
    "Factors are categorical data, and subsetting factors is similar to vectors.\n",
    "\n",
    "#### **Subsetting by Levels**"
   ]
  },
  {
   "cell_type": "code",
   "execution_count": 9,
   "id": "d549a728-3c25-4061-9fbc-04120c4504d8",
   "metadata": {},
   "outputs": [
    {
     "data": {
      "text/html": [
       "<style>\n",
       ".list-inline {list-style: none; margin:0; padding: 0}\n",
       ".list-inline>li {display: inline-block}\n",
       ".list-inline>li:not(:last-child)::after {content: \"\\00b7\"; padding: 0 .5ex}\n",
       "</style>\n",
       "<ol class=list-inline><li>Male</li><li>Male</li></ol>\n",
       "\n",
       "<details>\n",
       "\t<summary style=display:list-item;cursor:pointer>\n",
       "\t\t<strong>Levels</strong>:\n",
       "\t</summary>\n",
       "\t<style>\n",
       "\t.list-inline {list-style: none; margin:0; padding: 0}\n",
       "\t.list-inline>li {display: inline-block}\n",
       "\t.list-inline>li:not(:last-child)::after {content: \"\\00b7\"; padding: 0 .5ex}\n",
       "\t</style>\n",
       "\t<ol class=list-inline><li>'Female'</li><li>'Male'</li></ol>\n",
       "</details>"
      ],
      "text/latex": [
       "\\begin{enumerate*}\n",
       "\\item Male\n",
       "\\item Male\n",
       "\\end{enumerate*}\n",
       "\n",
       "\\emph{Levels}: \\begin{enumerate*}\n",
       "\\item 'Female'\n",
       "\\item 'Male'\n",
       "\\end{enumerate*}\n"
      ],
      "text/markdown": [
       "1. Male\n",
       "2. Male\n",
       "\n",
       "\n",
       "\n",
       "**Levels**: 1. 'Female'\n",
       "2. 'Male'\n",
       "\n",
       "\n"
      ],
      "text/plain": [
       "[1] Male Male\n",
       "Levels: Female Male"
      ]
     },
     "metadata": {},
     "output_type": "display_data"
    }
   ],
   "source": [
    "\n",
    "# Create a factor\n",
    "fac <- factor(c(\"Male\", \"Female\", \"Male\", \"Female\"))\n",
    "\n",
    "# Subset elements\n",
    "fac[fac == \"Male\"]  # Output: \"Male\" \"Male\"\n"
   ]
  },
  {
   "cell_type": "markdown",
   "id": "91a7a077-de51-4238-8a40-042e6a17dcb3",
   "metadata": {},
   "source": [
    "### **6. Subsetting with the `subset()` Function**\n",
    "\n",
    "The `subset()` function is an easy way to subset data frames based on logical conditions."
   ]
  },
  {
   "cell_type": "markdown",
   "id": "f55e790e-0708-4379-9768-acfe528a89ce",
   "metadata": {},
   "source": [
    "#### **Using `subset()`**"
   ]
  },
  {
   "cell_type": "code",
   "execution_count": 10,
   "id": "bebb70fa-bdd0-44ff-bdbd-a700a35899d2",
   "metadata": {},
   "outputs": [
    {
     "data": {
      "text/html": [
       "<table class=\"dataframe\">\n",
       "<caption>A data.frame: 2 × 3</caption>\n",
       "<thead>\n",
       "\t<tr><th></th><th scope=col>Name</th><th scope=col>Age</th><th scope=col>Score</th></tr>\n",
       "\t<tr><th></th><th scope=col>&lt;chr&gt;</th><th scope=col>&lt;dbl&gt;</th><th scope=col>&lt;dbl&gt;</th></tr>\n",
       "</thead>\n",
       "<tbody>\n",
       "\t<tr><th scope=row>2</th><td>Bob  </td><td>30</td><td>85</td></tr>\n",
       "\t<tr><th scope=row>3</th><td>Carol</td><td>35</td><td>88</td></tr>\n",
       "</tbody>\n",
       "</table>\n"
      ],
      "text/latex": [
       "A data.frame: 2 × 3\n",
       "\\begin{tabular}{r|lll}\n",
       "  & Name & Age & Score\\\\\n",
       "  & <chr> & <dbl> & <dbl>\\\\\n",
       "\\hline\n",
       "\t2 & Bob   & 30 & 85\\\\\n",
       "\t3 & Carol & 35 & 88\\\\\n",
       "\\end{tabular}\n"
      ],
      "text/markdown": [
       "\n",
       "A data.frame: 2 × 3\n",
       "\n",
       "| <!--/--> | Name &lt;chr&gt; | Age &lt;dbl&gt; | Score &lt;dbl&gt; |\n",
       "|---|---|---|---|\n",
       "| 2 | Bob   | 30 | 85 |\n",
       "| 3 | Carol | 35 | 88 |\n",
       "\n"
      ],
      "text/plain": [
       "  Name  Age Score\n",
       "2 Bob   30  85   \n",
       "3 Carol 35  88   "
      ]
     },
     "metadata": {},
     "output_type": "display_data"
    },
    {
     "data": {
      "text/html": [
       "<table class=\"dataframe\">\n",
       "<caption>A data.frame: 2 × 2</caption>\n",
       "<thead>\n",
       "\t<tr><th></th><th scope=col>Name</th><th scope=col>Age</th></tr>\n",
       "\t<tr><th></th><th scope=col>&lt;chr&gt;</th><th scope=col>&lt;dbl&gt;</th></tr>\n",
       "</thead>\n",
       "<tbody>\n",
       "\t<tr><th scope=row>1</th><td>Alice</td><td>25</td></tr>\n",
       "\t<tr><th scope=row>3</th><td>Carol</td><td>35</td></tr>\n",
       "</tbody>\n",
       "</table>\n"
      ],
      "text/latex": [
       "A data.frame: 2 × 2\n",
       "\\begin{tabular}{r|ll}\n",
       "  & Name & Age\\\\\n",
       "  & <chr> & <dbl>\\\\\n",
       "\\hline\n",
       "\t1 & Alice & 25\\\\\n",
       "\t3 & Carol & 35\\\\\n",
       "\\end{tabular}\n"
      ],
      "text/markdown": [
       "\n",
       "A data.frame: 2 × 2\n",
       "\n",
       "| <!--/--> | Name &lt;chr&gt; | Age &lt;dbl&gt; |\n",
       "|---|---|---|\n",
       "| 1 | Alice | 25 |\n",
       "| 3 | Carol | 35 |\n",
       "\n"
      ],
      "text/plain": [
       "  Name  Age\n",
       "1 Alice 25 \n",
       "3 Carol 35 "
      ]
     },
     "metadata": {},
     "output_type": "display_data"
    }
   ],
   "source": [
    "\n",
    "# Subset rows where Age is greater than 28\n",
    "subset(df, Age > 28)\n",
    "\n",
    "# Subset specific columns (Name and Age) based on a condition\n",
    "subset(df, Score > 85, select = c(Name, Age))\n"
   ]
  },
  {
   "cell_type": "markdown",
   "id": "7cffe8e7-83ce-4b06-8f3e-be12c685003e",
   "metadata": {},
   "source": [
    "### **Key Functions for Subsetting**\n",
    "\n",
    "- `[]` – General subsetting for vectors, matrices, lists, and data frames.\n",
    "- `[[]]` – Access individual list elements.\n",
    "- `$` – Access columns in data frames or named elements in lists.\n",
    "- `subset()` – Subsets data frames based on logical conditions and selected columns."
   ]
  },
  {
   "cell_type": "markdown",
   "id": "77d90a3f-b502-486c-8c9e-220d22c80eea",
   "metadata": {},
   "source": [
    "### **Conclusion**\n",
    "\n",
    "Subsetting data is crucial for filtering and manipulating data in R. You can subset vectors, matrices, lists, and data frames using indexing, logical conditions, or names. Mastering subsetting will help in managing and analyzing data efficiently."
   ]
  },
  {
   "cell_type": "markdown",
   "id": "7440be28-b635-4339-9d34-0f5b685da33e",
   "metadata": {},
   "source": [
    "## 2. **Handling Missing Data**\n",
    "   - Introduce missing data in R (e.g., `NA` values) and how to handle them.\n",
    "   - Functions like `is.na()`, `na.omit()`, `na.rm`."
   ]
  },
  {
   "cell_type": "markdown",
   "id": "7d803eb1-ce58-4ead-8574-b040c6608d67",
   "metadata": {},
   "source": [
    "In real-world data, missing values are common and need to be handled properly to avoid issues in data analysis. In R, missing values are represented by `NA`. It is crucial to know how to identify, handle, and treat missing data to ensure that your analysis is accurate."
   ]
  },
  {
   "cell_type": "markdown",
   "id": "b7fabef9-e6af-46d5-adef-626f86d3d5f0",
   "metadata": {},
   "source": [
    "### **1. Identifying Missing Data**\n",
    "\n",
    "To check for missing values, R provides various functions to detect `NA` values."
   ]
  },
  {
   "cell_type": "markdown",
   "id": "7edb1b84-9ed8-4a4d-8b34-2985773af97d",
   "metadata": {},
   "source": [
    "#### **Basic Functions:**\n",
    "\n",
    "- **`is.na()`**: Returns `TRUE` for missing values and `FALSE` for others."
   ]
  },
  {
   "cell_type": "code",
   "execution_count": 13,
   "id": "c434ed58-d891-4537-8962-9c18193bb3b6",
   "metadata": {},
   "outputs": [
    {
     "data": {
      "text/html": [
       "<style>\n",
       ".list-inline {list-style: none; margin:0; padding: 0}\n",
       ".list-inline>li {display: inline-block}\n",
       ".list-inline>li:not(:last-child)::after {content: \"\\00b7\"; padding: 0 .5ex}\n",
       "</style>\n",
       "<ol class=list-inline><li>FALSE</li><li>FALSE</li><li>TRUE</li><li>FALSE</li><li>FALSE</li></ol>\n"
      ],
      "text/latex": [
       "\\begin{enumerate*}\n",
       "\\item FALSE\n",
       "\\item FALSE\n",
       "\\item TRUE\n",
       "\\item FALSE\n",
       "\\item FALSE\n",
       "\\end{enumerate*}\n"
      ],
      "text/markdown": [
       "1. FALSE\n",
       "2. FALSE\n",
       "3. TRUE\n",
       "4. FALSE\n",
       "5. FALSE\n",
       "\n",
       "\n"
      ],
      "text/plain": [
       "[1] FALSE FALSE  TRUE FALSE FALSE"
      ]
     },
     "metadata": {},
     "output_type": "display_data"
    }
   ],
   "source": [
    "\n",
    "  # Create a vector with missing data\n",
    "vec <- c(1, 2, NA, 4, 5)\n",
    "\n",
    "  # Check for missing values\n",
    "is.na(vec)  # Output: FALSE FALSE TRUE FALSE FALSE\n"
   ]
  },
  {
   "cell_type": "markdown",
   "id": "dc041bfd-9fd5-4864-8a88-34ff333cf94a",
   "metadata": {},
   "source": [
    "- **`sum(is.na())`**: Count the number of missing values."
   ]
  },
  {
   "cell_type": "code",
   "execution_count": 17,
   "id": "3918da6e-bea1-4284-b2bf-e2569dbe7fa7",
   "metadata": {},
   "outputs": [
    {
     "data": {
      "text/html": [
       "1"
      ],
      "text/latex": [
       "1"
      ],
      "text/markdown": [
       "1"
      ],
      "text/plain": [
       "[1] 1"
      ]
     },
     "metadata": {},
     "output_type": "display_data"
    }
   ],
   "source": [
    "\n",
    "  # Count missing values in a vector\n",
    "  sum(is.na(vec))  # Output: 1\n"
   ]
  },
  {
   "cell_type": "markdown",
   "id": "8f281214-d897-477e-a409-864897d74030",
   "metadata": {},
   "source": [
    "#### **Check for Missing Data in Data Frames:**\n",
    "You can check for missing values in specific columns or entire data frames."
   ]
  },
  {
   "cell_type": "code",
   "execution_count": 18,
   "id": "865221b9-f699-4793-9c99-16033da081b7",
   "metadata": {},
   "outputs": [
    {
     "data": {
      "text/html": [
       "<style>\n",
       ".list-inline {list-style: none; margin:0; padding: 0}\n",
       ".list-inline>li {display: inline-block}\n",
       ".list-inline>li:not(:last-child)::after {content: \"\\00b7\"; padding: 0 .5ex}\n",
       "</style>\n",
       "<ol class=list-inline><li>FALSE</li><li>TRUE</li><li>FALSE</li><li>TRUE</li></ol>\n"
      ],
      "text/latex": [
       "\\begin{enumerate*}\n",
       "\\item FALSE\n",
       "\\item TRUE\n",
       "\\item FALSE\n",
       "\\item TRUE\n",
       "\\end{enumerate*}\n"
      ],
      "text/markdown": [
       "1. FALSE\n",
       "2. TRUE\n",
       "3. FALSE\n",
       "4. TRUE\n",
       "\n",
       "\n"
      ],
      "text/plain": [
       "[1] FALSE  TRUE FALSE  TRUE"
      ]
     },
     "metadata": {},
     "output_type": "display_data"
    },
    {
     "data": {
      "text/html": [
       "3"
      ],
      "text/latex": [
       "3"
      ],
      "text/markdown": [
       "3"
      ],
      "text/plain": [
       "[1] 3"
      ]
     },
     "metadata": {},
     "output_type": "display_data"
    }
   ],
   "source": [
    "\n",
    "# Create a data frame with missing values\n",
    "df <- data.frame(Name = c(\"Alice\", \"Bob\", \"Carol\", \"Dan\"),\n",
    "                 Age = c(25, NA, 35, NA),\n",
    "                 Score = c(90, 85, NA, 88))\n",
    "\n",
    "# Check for missing values in a specific column\n",
    "is.na(df$Age)  # Output: FALSE TRUE FALSE TRUE\n",
    "\n",
    "# Count missing values in the entire data frame\n",
    "sum(is.na(df))  # Output: 3\n"
   ]
  },
  {
   "cell_type": "markdown",
   "id": "59e3f6ea-4816-4479-aa2b-3ec01594eb59",
   "metadata": {},
   "source": [
    "### **2. Removing Missing Data**\n",
    "\n",
    "R provides functions to remove missing data from vectors, lists, matrices, or data frames. Removing `NA` values is necessary when they hinder analysis or computation."
   ]
  },
  {
   "cell_type": "markdown",
   "id": "bcc431c6-3bd8-46e7-b4d6-c9949ca30b69",
   "metadata": {},
   "source": [
    "#### **`na.omit()`**\n",
    "The `na.omit()` function removes rows with missing values from vectors, matrices, or data frames."
   ]
  },
  {
   "cell_type": "code",
   "execution_count": 19,
   "id": "231e1565-2a36-4dea-8478-9be1e4847550",
   "metadata": {},
   "outputs": [
    {
     "name": "stdout",
     "output_type": "stream",
     "text": [
      "   Name Age Score\n",
      "1 Alice  25    90\n"
     ]
    }
   ],
   "source": [
    "\n",
    "# Remove missing values from a vector\n",
    "clean_vec <- na.omit(vec)  # Output: 1 2 4 5\n",
    "\n",
    "# Remove rows with missing values from a data frame\n",
    "clean_df <- na.omit(df)\n",
    "print(clean_df)\n",
    "# Output:\n",
    "#    Name Age Score\n",
    "# 1 Alice  25    90\n"
   ]
  },
  {
   "cell_type": "markdown",
   "id": "d3d9af51-5cd4-4b65-9c0a-23e79cc05300",
   "metadata": {},
   "source": [
    "#### **`na.exclude()`**\n",
    "This works similarly to `na.omit()` but ensures the position of the removed values is noted for alignment during further computations (important in time-series analysis)."
   ]
  },
  {
   "cell_type": "code",
   "execution_count": null,
   "id": "481e7f97-9e30-4618-b199-c58f0d31e8f7",
   "metadata": {},
   "outputs": [],
   "source": [
    "\n",
    "clean_df <- na.exclude(df)\n"
   ]
  },
  {
   "cell_type": "markdown",
   "id": "c9fb5d66-dddf-4644-8fe0-92774a5c9eaf",
   "metadata": {},
   "source": [
    "#### **Removing `NA` Rows/Columns Using `complete.cases()`**\n",
    "The `complete.cases()` function returns a logical vector indicating whether rows contain missing data."
   ]
  },
  {
   "cell_type": "code",
   "execution_count": null,
   "id": "00f9f6a1-ba9b-4986-92ac-81f11d50b1e3",
   "metadata": {},
   "outputs": [],
   "source": [
    "\n",
    "# Find complete cases (rows without missing values)\n",
    "complete_rows <- complete.cases(df)\n",
    "\n",
    "# Subset only rows without missing values\n",
    "df[complete_rows, ]\n"
   ]
  },
  {
   "cell_type": "markdown",
   "id": "66ca4ff8-85b4-4d48-aab4-dbcb441c972c",
   "metadata": {},
   "source": [
    "---\n",
    "\n",
    "### **3. Replacing Missing Data**\n",
    "\n",
    "Sometimes, you may want to replace missing values with other values (e.g., mean, median, or a specific value) rather than removing them.\n",
    "\n",
    "#### **Replace `NA` with a Specific Value**"
   ]
  },
  {
   "cell_type": "code",
   "execution_count": null,
   "id": "79096038-f004-48ae-9e17-6f0a53de93f3",
   "metadata": {},
   "outputs": [],
   "source": [
    "\n",
    "# Replace all missing values in 'Age' with 0\n",
    "df$Age[is.na(df$Age)] <- 0\n"
   ]
  },
  {
   "cell_type": "markdown",
   "id": "4db42a94-9f1b-4348-b3d8-05325b57348f",
   "metadata": {},
   "source": [
    "#### **Replacing with the Mean or Median**\n",
    "It is common to replace missing values with the mean or median of the data."
   ]
  },
  {
   "cell_type": "code",
   "execution_count": null,
   "id": "5a98ad56-95d4-4bf6-9a8e-8088ed80be5e",
   "metadata": {},
   "outputs": [],
   "source": [
    "\n",
    "# Replace missing values in 'Age' with the mean of non-missing ages\n",
    "df$Age[is.na(df$Age)] <- mean(df$Age, na.rm = TRUE)\n"
   ]
  },
  {
   "cell_type": "markdown",
   "id": "72f2c7d1-9d01-4844-83ac-9030f51ead5f",
   "metadata": {},
   "source": [
    "#### **Replacing `NA` with `ifelse()`**\n",
    "The `ifelse()` function is a simple way to replace missing values."
   ]
  },
  {
   "cell_type": "code",
   "execution_count": null,
   "id": "224ae869-5441-494b-a44f-36518588c1d1",
   "metadata": {},
   "outputs": [],
   "source": [
    "\n",
    "# Replace missing values in 'Score' with 0\n",
    "df$Score <- ifelse(is.na(df$Score), 0, df$Score)\n"
   ]
  },
  {
   "cell_type": "markdown",
   "id": "62bf8835-92b2-4653-8553-d225e0953096",
   "metadata": {},
   "source": [
    "---\n",
    "\n",
    "### **4. Working with Missing Data in Specific Functions**\n",
    "\n",
    "Many R functions allow handling of missing data through parameters like `na.rm = TRUE`. This ensures that missing values are ignored during calculations.\n",
    "\n",
    "#### **Ignoring `NA` in Calculations:**"
   ]
  },
  {
   "cell_type": "code",
   "execution_count": null,
   "id": "b360a744-9ecc-4a41-9a49-d0efe89aaa7e",
   "metadata": {},
   "outputs": [],
   "source": [
    "\n",
    "# Calculate the sum of a vector, ignoring missing values\n",
    "sum(vec, na.rm = TRUE)  # Output: 12\n",
    "\n",
    "# Calculate the mean of 'Age' ignoring missing values\n",
    "mean(df$Age, na.rm = TRUE)  # Output: 25\n"
   ]
  },
  {
   "cell_type": "markdown",
   "id": "60ffe297-8f2d-4ae0-bcaf-8720d4c16a49",
   "metadata": {},
   "source": [
    "### **5. Imputing Missing Data**\n",
    "\n",
    "For more sophisticated handling of missing data, you may want to \"impute\" missing values based on various techniques, such as:\n",
    "- **Mean/Median imputation**\n",
    "- **Regression-based imputation**\n",
    "- **Using the `mice` package**: This package implements various imputation techniques.\n",
    "\n",
    "#### **Mean/Median Imputation Example:**"
   ]
  },
  {
   "cell_type": "markdown",
   "id": "733c7dce-b3f0-4259-8157-97c87e73d84c",
   "metadata": {},
   "source": [
    "```R\n",
    "# Replace missing values in 'Score' with the mean\n",
    "df$Score[is.na(df$Score)] <- mean(df$Score, na.rm = TRUE)\n",
    "```"
   ]
  },
  {
   "cell_type": "markdown",
   "id": "5c7bdbe9-dc8b-40c1-a91f-c9f8a0b09896",
   "metadata": {},
   "source": [
    "#### **Using the `mice` Package** (Multiple Imputation)"
   ]
  },
  {
   "cell_type": "markdown",
   "id": "b676156a-1589-4f3e-b2ac-dbacab810ae7",
   "metadata": {},
   "source": []
  },
  {
   "cell_type": "code",
   "execution_count": null,
   "id": "300e8ce5-96dc-4bd9-b773-f7d2ddc1375e",
   "metadata": {},
   "outputs": [],
   "source": [
    "# Install and load the mice package\n",
    "install.packages(\"mice\")\n",
    "library(mice)"
   ]
  },
  {
   "cell_type": "code",
   "execution_count": null,
   "id": "b567c78b-56c0-47fd-a267-bcb081ea00df",
   "metadata": {},
   "outputs": [],
   "source": [
    "# Perform multiple imputation on the data frame\n",
    "imputed_data <- mice(df, m = 5, method = 'pmm', maxit = 50, seed = 500)"
   ]
  },
  {
   "cell_type": "markdown",
   "id": "b0ba25ff-d203-4ba9-99a0-6b928ef81cae",
   "metadata": {},
   "source": []
  },
  {
   "cell_type": "markdown",
   "id": "dc263ee8-ac16-4e5a-806e-7e97f4a0d5d7",
   "metadata": {},
   "source": []
  },
  {
   "cell_type": "markdown",
   "id": "c0bed9f5-eff9-4cc7-9c8a-67ed7b515933",
   "metadata": {},
   "source": [
    "### **6. Visualizing Missing Data**\n",
    "\n",
    "Visualizing missing data patterns helps identify how prevalent missing data is and whether it occurs in specific variables or groups. Some useful packages for visualizing missing data are:\n",
    "- **`VIM`**: Visualizes patterns of missing data.\n",
    "- **`naniar`**: Provides tools to explore and visualize missing data.\n",
    "\n",
    "#### **Using `naniar` to Visualize Missing Data:**"
   ]
  },
  {
   "cell_type": "code",
   "execution_count": null,
   "id": "cbfc8187-ec3e-4e4e-9d13-e79a455d7322",
   "metadata": {},
   "outputs": [],
   "source": [
    "# Install and load the naniar package\n",
    "install.packages(\"naniar\")\n",
    "library(naniar)"
   ]
  },
  {
   "cell_type": "code",
   "execution_count": null,
   "id": "b03bbe21-0e64-43ec-96d9-0ad828c761c7",
   "metadata": {},
   "outputs": [],
   "source": [
    "# Visualize missing data patterns\n",
    "gg_miss_var(df)  # Shows the number of missing values per variable"
   ]
  },
  {
   "cell_type": "markdown",
   "id": "ab764226-abd4-4948-8d54-0540e9479094",
   "metadata": {},
   "source": []
  },
  {
   "cell_type": "markdown",
   "id": "3eda35a2-5171-49a0-9079-9e2ba526e71b",
   "metadata": {},
   "source": [
    "### **Conclusion**\n",
    "\n",
    "Handling missing data is crucial for accurate data analysis in R. There are several approaches to dealing with missing values, including identifying, removing, replacing, or imputing them. By understanding and addressing missing data appropriately, you can ensure the validity and reliability of your analysis."
   ]
  },
  {
   "cell_type": "markdown",
   "id": "59fb89f9-b7df-45ed-9b63-4e3dbc3981dc",
   "metadata": {},
   "source": [
    "## 3. **Data Manipulation with `dplyr`**\n",
    "   - Basic operations with `dplyr` like `select()`, `filter()`, `mutate()`, `arrange()`, and `summarize()`.\n",
    "   - Using pipes (`%>%`) to chain operations."
   ]
  },
  {
   "cell_type": "code",
   "execution_count": null,
   "id": "e25b54d1-556d-4bc5-91b1-bc2c148a51b1",
   "metadata": {},
   "outputs": [],
   "source": []
  },
  {
   "cell_type": "markdown",
   "id": "cc126f6a-6187-48ce-b771-98b4ad592c2f",
   "metadata": {},
   "source": [
    "## 4. **String Manipulation**\n",
    "   - Introduce functions like `paste()`, `substr()`, `grep()`, `gsub()`, and the `stringr` package for more advanced string handling."
   ]
  },
  {
   "cell_type": "code",
   "execution_count": null,
   "id": "fd7d46ac-a46d-4c66-9d5d-7878f34da683",
   "metadata": {},
   "outputs": [],
   "source": []
  },
  {
   "cell_type": "markdown",
   "id": "f7925eb3-2981-4535-ace9-21ff875c86de",
   "metadata": {},
   "source": [
    "## 5. **Reading and Writing Data**\n",
    "   - Reading data from CSV, Excel files, databases.\n",
    "   - Functions like `read.csv()`, `read.table()`, and `write.csv()`."
   ]
  },
  {
   "cell_type": "code",
   "execution_count": null,
   "id": "cd48e38f-08ec-4cae-8d8c-68fb4acb3ac6",
   "metadata": {},
   "outputs": [],
   "source": []
  },
  {
   "cell_type": "code",
   "execution_count": null,
   "id": "a1e6109c-73f3-4466-8988-50efeaa92951",
   "metadata": {},
   "outputs": [],
   "source": []
  },
  {
   "cell_type": "markdown",
   "id": "8dff3f9a-1ed2-422a-8846-b90194082c3e",
   "metadata": {},
   "source": [
    "## 6. **Dates and Times**\n",
    "   - Work with date and time objects using `as.Date()`, `POSIXct()`, and packages like `lubridate`."
   ]
  },
  {
   "cell_type": "code",
   "execution_count": null,
   "id": "54bc49ee-bb47-426e-ba6c-874d7597527e",
   "metadata": {},
   "outputs": [],
   "source": []
  },
  {
   "cell_type": "code",
   "execution_count": null,
   "id": "7b3613c2-43b0-4c47-bd42-1b8844c6ff30",
   "metadata": {},
   "outputs": [],
   "source": []
  },
  {
   "cell_type": "markdown",
   "id": "eb3a88b4-0787-4034-bd0f-681bba4f413a",
   "metadata": {},
   "source": [
    "## 7. **Data Visualization with `ggplot2`**\n",
    "   - Introduce the `ggplot2` package for more flexible and powerful data visualizations.\n",
    "   - Topics like scatter plots, bar charts, histograms, customizing themes."
   ]
  },
  {
   "cell_type": "code",
   "execution_count": null,
   "id": "183ab5f0-6e4f-4a27-98b2-2ba8e0977c6e",
   "metadata": {},
   "outputs": [],
   "source": []
  },
  {
   "cell_type": "code",
   "execution_count": null,
   "id": "e1d1c68c-eabc-465d-a407-2d2d892012b8",
   "metadata": {},
   "outputs": [],
   "source": []
  },
  {
   "cell_type": "markdown",
   "id": "72b6c791-5bf4-4c65-b669-cc304dcd85bb",
   "metadata": {},
   "source": [
    "## 8. **Advanced Data Structures**\n",
    "   - Go deeper into more complex data structures like S3, S4 objects, and environments."
   ]
  },
  {
   "cell_type": "code",
   "execution_count": null,
   "id": "0c1892a7-e94c-4060-a7f2-fc1bc6d4bdbd",
   "metadata": {},
   "outputs": [],
   "source": []
  },
  {
   "cell_type": "code",
   "execution_count": null,
   "id": "06ad98ca-be28-4c09-8b3a-01c4396cdb9d",
   "metadata": {},
   "outputs": [],
   "source": []
  },
  {
   "cell_type": "markdown",
   "id": "f45bdd30-bc58-4fa2-af72-bcba5a6be2cb",
   "metadata": {},
   "source": [
    "### 9. **Debugging and Error Handling**\n",
    "   - Using `tryCatch()` and `stop()` to handle errors in R.\n",
    "   - Debugging tools like `browser()`, `traceback()`, and `debug()`."
   ]
  },
  {
   "cell_type": "code",
   "execution_count": null,
   "id": "279ff63f-dc6c-48a3-814b-01375b091c9a",
   "metadata": {},
   "outputs": [],
   "source": []
  },
  {
   "cell_type": "code",
   "execution_count": null,
   "id": "cb72d21e-c001-402c-b0a1-1a81084d315d",
   "metadata": {},
   "outputs": [],
   "source": []
  },
  {
   "cell_type": "markdown",
   "id": "07b78230-5d99-4261-94ed-d5f68d41ae43",
   "metadata": {},
   "source": [
    "## 10. **Performance Optimization**\n",
    "   - Discuss memory management and performance tuning.\n",
    "   - Vectorization, using `apply()` functions, and profiling tools like `Rprof()`."
   ]
  },
  {
   "cell_type": "code",
   "execution_count": null,
   "id": "89d52353-3f5a-4156-a148-2bcc6b3b337a",
   "metadata": {},
   "outputs": [],
   "source": []
  },
  {
   "cell_type": "code",
   "execution_count": null,
   "id": "3414c0f7-acab-4a62-881c-8d0e42aec7a2",
   "metadata": {},
   "outputs": [],
   "source": []
  },
  {
   "cell_type": "markdown",
   "id": "40fdeaf1-7038-4931-8411-76d5462937d4",
   "metadata": {},
   "source": [
    "## 11. **RMarkdown and Reporting**\n",
    "   - Teach how to create reproducible reports with RMarkdown, including mixing R code with formatted text."
   ]
  },
  {
   "cell_type": "code",
   "execution_count": null,
   "id": "4ec39f8a-93c4-4ad5-93c1-e7cd39fb2f6b",
   "metadata": {},
   "outputs": [],
   "source": []
  },
  {
   "cell_type": "code",
   "execution_count": null,
   "id": "166f6aab-ad16-438b-8ccf-2832189b1e27",
   "metadata": {},
   "outputs": [],
   "source": []
  },
  {
   "cell_type": "markdown",
   "id": "a0c1b326-00f3-453c-a052-8d2d0f2a4457",
   "metadata": {},
   "source": [
    "## 12. **Introduction to Statistical Modeling**\n",
    "   - If she's interested in statistics, introduce simple linear regression, hypothesis testing, or ANOVA using R's built-in functions or `lm()`."
   ]
  },
  {
   "cell_type": "code",
   "execution_count": null,
   "id": "9b5ce226-ed3d-41b6-b1d2-715599b9fe3d",
   "metadata": {},
   "outputs": [],
   "source": []
  },
  {
   "cell_type": "code",
   "execution_count": null,
   "id": "c25e6580-80ab-4308-a0fb-f2668ef4b1c0",
   "metadata": {},
   "outputs": [],
   "source": []
  },
  {
   "cell_type": "code",
   "execution_count": null,
   "id": "d16be578-88d2-4d26-aaaa-cdee660def6a",
   "metadata": {},
   "outputs": [],
   "source": []
  },
  {
   "cell_type": "code",
   "execution_count": null,
   "id": "dc19d929-6762-4f85-9f5b-ede7bec993e9",
   "metadata": {},
   "outputs": [],
   "source": []
  }
 ],
 "metadata": {
  "kernelspec": {
   "display_name": "R",
   "language": "R",
   "name": "ir"
  },
  "language_info": {
   "codemirror_mode": "r",
   "file_extension": ".r",
   "mimetype": "text/x-r-source",
   "name": "R",
   "pygments_lexer": "r",
   "version": "4.4.1"
  }
 },
 "nbformat": 4,
 "nbformat_minor": 5
}
