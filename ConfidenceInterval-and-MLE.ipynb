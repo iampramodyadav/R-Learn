{
 "cells": [
  {
   "cell_type": "markdown",
   "id": "395ba32a-9d32-4930-93da-5c0202f34cd4",
   "metadata": {},
   "source": [
    "## Confidence Interval"
   ]
  },
  {
   "cell_type": "markdown",
   "id": "dd55bdad-35cc-4b51-9edc-09c33926259c",
   "metadata": {},
   "source": [
    "[Read:Student's t-Distribution](https://mathworld.wolfram.com/Studentst-Distribution.html)"
   ]
  },
  {
   "cell_type": "markdown",
   "id": "2fc2f1f9-1611-4fa7-ace2-7c100ece3059",
   "metadata": {},
   "source": [
    "[Read:T-Distribution](https://www.scribbr.com/statistics/t-distribution/#:~:text=Normally%2Ddistributed%20data%20form%20a,the%20population%20variance%20is%20unknown.)\n",
    "\n",
    "\n",
    "[Read:Student's t-distribution](https://en.wikipedia.org/wiki/Student%27s_t-distribution)\n",
    "\n"
   ]
  },
  {
   "cell_type": "markdown",
   "id": "d5a533a3-d56c-4147-8b1a-993853caef75",
   "metadata": {},
   "source": [
    "### Confidence Interval:\n",
    "\n",
    "A **confidence interval** (CI) is a range of values within which we expect a population parameter (such as the mean or proportion) to lie, given a specified level of confidence. In other words, if we repeatedly sample from a population and calculate a confidence interval for each sample, then a certain percentage of those intervals (e.g., 95%) will contain the true population parameter.\n",
    "\n",
    "### Key Concepts\n",
    "\n",
    "1. **Point Estimate**: The statistic calculated from a sample that serves as an estimate of the population parameter (e.g., the sample mean \\(\\bar{x}\\) is a point estimate of the population mean \\(\\mu\\)).\n",
    "\n",
    "2. **Margin of Error (ME)**: The amount that is added and subtracted from the point estimate to create the range of the confidence interval.\n",
    "\n",
    "3. **Confidence Level**: The percentage of times that a confidence interval would contain the true parameter if we repeatedly sampled from the population. Common confidence levels are 90%, 95%, and 99%.\n",
    "\n",
    "\n",
    "   $$\\text{Confidence Interval} = \\text{Point Estimate} \\pm \\text{Margin of Error}$$"
   ]
  },
  {
   "cell_type": "markdown",
   "id": "dfcfde2b-9b51-411a-94b6-694a6f2212d7",
   "metadata": {},
   "source": [
    "![](https://www.investopedia.com/thmb/4OVKTmW_jrUZQYvOdhF_ojnkDtc=/750x0/filters:no_upscale():max_bytes(150000):strip_icc():format(webp)/Confidence-Interval-088dc77f639a4f71a9f00297d0db5a10.jpg)"
   ]
  },
  {
   "cell_type": "markdown",
   "id": "94dd5933-ba00-445d-8e68-5c6cf560dd7c",
   "metadata": {},
   "source": [
    "### 1. **Normal Distribution and Confidence Intervals**\n",
    "\n",
    "A **normal distribution** is a symmetric, bell-shaped curve. In statistics, the normal distribution is used to model the distribution of many naturally occurring datasets, especially when the sample size is large. A confidence interval relies on the properties of the normal distribution (or approximations to it) to estimate where the true population parameter might lie.\n",
    "\n",
    "- The normal distribution has a **mean** (center) and **standard deviation** (spread).\n",
    "- When a variable is normally distributed, approximately:\n",
    "  - 68% of values fall within 1 standard deviation from the mean.\n",
    "  - 95% of values fall within 2 standard deviations from the mean.\n",
    "  - 99.7% of values fall within 3 standard deviations from the mean."
   ]
  },
  {
   "cell_type": "markdown",
   "id": "90c6591a-0943-40b0-b253-1f7771ae55c1",
   "metadata": {},
   "source": [
    "![](https://www.scribbr.com/wp-content/uploads/2020/08/t-distribution-vs-z-distribution.png)"
   ]
  },
  {
   "cell_type": "markdown",
   "id": "b659dbbd-57f7-4a41-846f-dda64cb19a40",
   "metadata": {},
   "source": [
    "### 2. **Z-Score and T-Score**\n",
    "\n",
    "Both **Z-scores** and **T-scores** are used in the construction of confidence intervals, but they are used under different circumstances.\n",
    "\n",
    "#### Z-Score (Z-Value)\n",
    "\n",
    "- Used when the **population standard deviation (\\(\\sigma\\)) is known** or the **sample size is large (usually \\(n > 30\\))**.\n",
    "- The Z-score represents the number of standard deviations a data point is from the mean.\n",
    "- Z-scores for common confidence levels:\n",
    "  - 90% CI: Z = 1.645\n",
    "  - 95% CI: Z = 1.96\n",
    "  - 99% CI: Z = 2.576\n",
    "\n",
    "The formula for a confidence interval with a Z-score is:\n",
    "\n",
    "\n",
    "$$CI = \\bar{x} \\pm Z \\times \\frac{\\sigma}{\\sqrt{n}}$$\n",
    "\n",
    "\n",
    "where:\n",
    "- $\\bar{x}$ = sample mean\n",
    "- $Z$ = Z-score for desired confidence level\n",
    "- $\\sigma$ = population standard deviation\n",
    "- $n$ = sample size"
   ]
  },
  {
   "cell_type": "markdown",
   "id": "67334a0d-b98d-4dce-a62e-9795d27dbaac",
   "metadata": {},
   "source": [
    "#### T-Score (T-Value)\n",
    "\n",
    "- Used when the **population standard deviation is unknown** and the **sample size is small** (usually \\(n \\leq 30\\)).\n",
    "- The T-distribution is similar to the normal distribution but has heavier tails, meaning it accounts for greater variability in small samples.\n",
    "- As sample size increases, the T-distribution approaches the normal distribution.\n",
    "- T-scores depend on both the desired confidence level and the degrees of freedom (df = \\(n - 1\\)).\n",
    "\n",
    "The formula for a confidence interval with a T-score is:\n",
    "\n",
    "\n",
    "$$CI = \\bar{x} \\pm t \\times \\frac{s}{\\sqrt{n}}$$\n",
    "\n",
    "\n",
    "where:\n",
    "- $t$ = T-score based on confidence level and degrees of freedom\n",
    "- $s$ = sample standard deviation"
   ]
  },
  {
   "cell_type": "markdown",
   "id": "d51dcfcf-fd58-490b-8009-d4e682580db4",
   "metadata": {},
   "source": [
    "### 3. **Constructing Confidence Intervals: Examples and Visualization**\n",
    "\n",
    "#### Example: Confidence Interval with Z-Score\n",
    "\n",
    "Suppose we have a large sample size, so we use a Z-score for our CI calculation:\n",
    "\n",
    "- Sample mean $\\bar{x}$ = 50\n",
    "- Population standard deviation $\\sigma$ = 10\n",
    "- Sample size $n$ = 100\n",
    "- Desired confidence level = 95% (Z = 1.96): [Refer: z table](https://z-table.com/)\n",
    "\n",
    "Using the formula:\n",
    "\n",
    "\n",
    "$$CI = 50 \\pm 1.96 \\times \\frac{10}{\\sqrt{100}}$$\n",
    "\n",
    "\n",
    "Calculating the margin of error:\n",
    "\n",
    "\n",
    "$$ME = 1.96 \\times 1 = 1.96$$\n",
    "\n",
    "\n",
    "Thus, the 95% confidence interval is:\n",
    "\n",
    "\n",
    "$$CI = (48.04, 51.96)$$\n",
    "\n",
    "\n",
    "This means we are 95% confident that the true population mean lies between 48.04 and 51.96."
   ]
  },
  {
   "cell_type": "markdown",
   "id": "e2334a4a-3758-4f51-8bc4-980e6fc7db95",
   "metadata": {},
   "source": [
    "#### Example: Confidence Interval with T-Score\n",
    "\n",
    "If we have a small sample (say $n = 25$) and do not know the population standard deviation, we use a T-score:\n",
    "\n",
    "- Sample mean $\\bar{x}$ = 50\n",
    "- Sample standard deviation $s$ = 12\n",
    "- Sample size $n$ = 25\n",
    "- Desired confidence level = 95% (df = 24, T ≈ 2.064): [Refer-T Table](https://www.tdistributiontable.com/)\n",
    "\n",
    "Using the formula:\n",
    "\n",
    "\n",
    "$$CI = 50 \\pm 2.064 \\times \\frac{12}{\\sqrt{25}}$$\n",
    "\n",
    "\n",
    "Calculating the margin of error:\n",
    "\n",
    "\n",
    "$$ME = 2.064 \\times 2.4 = 4.9536$$\n",
    "\n",
    "\n",
    "Thus, the 95% confidence interval is:\n",
    "\n",
    "\n",
    "$$CI = (45.05, 54.95)$$\n"
   ]
  },
  {
   "cell_type": "code",
   "execution_count": null,
   "id": "d000e711-b7c1-4eba-9236-77c3cde9c9e6",
   "metadata": {},
   "outputs": [],
   "source": []
  },
  {
   "cell_type": "markdown",
   "id": "ffe38dc1-b84b-4373-bee1-ef824f3cd052",
   "metadata": {},
   "source": [
    "### 4. **Visualization of Confidence Intervals**\n",
    "\n",
    "Visualizing confidence intervals on a normal curve helps demonstrate where the sample mean lies in relation to the range of potential values. Here’s a breakdown of key graphical elements:\n",
    "\n",
    "1. **Normal Curve**: A symmetric curve centered around the mean.\n",
    "2. **Confidence Interval Range**: A shaded area around the sample mean representing the CI (e.g., 95% CI).\n",
    "3. **Critical Values**: Z or T critical values indicating the bounds of the CI on either side of the mean.\n",
    "\n",
    "Using a plot, we could show:\n",
    "\n",
    "- **Shaded Area** between the CI limits.\n",
    "- **Sample Mean** as a central vertical line.\n",
    "- **Critical Values** to mark the CI boundaries.\n",
    "\n",
    "### 5. **Difference Between Z-Distribution and T-Distribution**\n",
    "\n",
    "| Characteristic           | Z-Distribution                                  | T-Distribution                               |\n",
    "|--------------------------|-------------------------------------------------|----------------------------------------------|\n",
    "| Shape                    | Symmetrical, bell-shaped                        | Symmetrical, bell-shaped with heavier tails  |\n",
    "| Use Case                 | Known population standard deviation or large sample size | Unknown population standard deviation with a small sample |\n",
    "| Distribution             | Standard normal (mean = 0, sd = 1)              | Varies based on sample size (df)             |\n",
    "| Degrees of Freedom       | Not required                                    | Required (df = \\(n - 1\\))                    |\n",
    "| Approaches Normality     | Yes                                             | Yes, as sample size increases (approaches Z) |\n",
    "\n",
    "### Summary\n",
    "\n",
    "- **Confidence Interval**: A range of values indicating where we expect a population parameter to lie, with a specified confidence level.\n",
    "- **Z-Score vs. T-Score**:\n",
    "  - Use **Z-score** for large samples or known population standard deviation.\n",
    "  - Use **T-score** for small samples and unknown population standard deviation.\n",
    "- **Visualization**: A confidence interval on a normal curve helps illustrate the probability distribution of a sample mean around a population mean.\n",
    "  \n",
    "Understanding confidence intervals and the appropriate use of Z and T values provides a foundation for interpreting data analysis results and making inferences about populations based on sample data."
   ]
  },
  {
   "cell_type": "code",
   "execution_count": null,
   "id": "93ddf5ef-1a0b-4b49-a5eb-f31e6297ffb9",
   "metadata": {},
   "outputs": [],
   "source": []
  },
  {
   "cell_type": "markdown",
   "id": "9642a90c-1b61-4297-9a06-c228d45d0b94",
   "metadata": {},
   "source": [
    "## Maximum Likelihood Estimation"
   ]
  },
  {
   "cell_type": "markdown",
   "id": "653a3d3b-5ddf-4349-98fa-427c86ba0006",
   "metadata": {},
   "source": [
    "[Read: Beginner's Guide To Maximum Likelihood Estimation](https://www.aptech.com/blog/beginners-guide-to-maximum-likelihood-estimation-in-gauss/)"
   ]
  },
  {
   "cell_type": "markdown",
   "id": "878e9a70-1cec-4986-a0e1-d0f99e5b4fea",
   "metadata": {},
   "source": [
    "**Maximum Likelihood Estimation (MLE)** is a statistical method used to estimate the parameters of a probability distribution by finding the values that maximize the likelihood of the observed data. In simpler terms, it helps identify the parameter values that make the observed data most probable."
   ]
  },
  {
   "cell_type": "markdown",
   "id": "5fb13848-71d2-4702-bcff-d18c9ded8469",
   "metadata": {},
   "source": [
    "### 1. **What is Maximum Likelihood Estimation?**\n",
    "\n",
    "- **Likelihood Function**: The likelihood of a set of parameters given the observed data. It measures how well a statistical model explains the observed data.\n",
    "- The goal of MLE is to find the parameter values that maximize this likelihood function.\n",
    "- **Log-Likelihood**: Often, the logarithm of the likelihood function is used for ease of calculation, especially with large datasets. The log function is monotonic, so maximizing the log-likelihood gives the same result as maximizing the likelihood."
   ]
  },
  {
   "cell_type": "markdown",
   "id": "1c9cad65-d913-4330-aa51-8c45a6b4c707",
   "metadata": {},
   "source": [
    "### 2. **Understanding the Likelihood Function**\n",
    "\n",
    "Suppose we have a dataset with observations \\$(x_1, x_2, ..., x_n\\$) from a probability distribution with a parameter \\($\\lambda\\$). The likelihood function \\(L(\\lambda)\\) for the data is defined as:\n",
    "\n",
    "\n",
    "$$L(\\lambda) = P(x_1, x_2, ..., x_n | \\lambda)$$\n",
    "\n",
    "\n",
    "To maximize the likelihood, we want to find the value of \\(\\lambda\\) that makes the observed data most likely. In many cases, it is more convenient to maximize the **log-likelihood** function:\n",
    "\n",
    "\n",
    "$$\\log L(\\lambda) = \\sum_{i=1}^{n} \\log P(x_i | \\lambda)$$\n"
   ]
  },
  {
   "cell_type": "markdown",
   "id": "3a5da3fc-d006-49a9-a3eb-e79b637228a3",
   "metadata": {},
   "source": [
    "### 3. **Example: Using MLE to Estimate \\(\\lambda\\)**\n",
    "\n",
    "For the assignment you are working on, we have a **viability dataset** that records the presence or absence of frogs at different sites along with their viability scores.\n",
    "\n",
    "The zoologist proposed the following model:\n",
    "\n",
    "$$P(\\text{Frogs present at site with viability score } v) = \\frac{v}{\\lambda + v}$$\n",
    "\n",
    "\n",
    "Here:\n",
    "- $v$ is the **viability score**.\n",
    "- $\\lambda$ is the **unknown parameter** we want to estimate using the **viability data**."
   ]
  },
  {
   "cell_type": "markdown",
   "id": "7b7fac13-d67c-4ea9-8c34-3f1e9a474118",
   "metadata": {},
   "source": [
    "#### 4. **Applying Maximum Likelihood Estimation to Estimate \\(\\lambda\\)**\n",
    "\n",
    "In the context of this problem:\n",
    "- Let $y_i$ be the indicator variable for the presence of frogs at site $i$ (1 if frogs are present, 0 otherwise).\n",
    "- Let $v_i$ be the viability score for site $i$.\n",
    "- The probability of observing frogs at site $i$ given its viability score is modeled as:\n",
    "\n",
    " $$ P(y_i = 1 | v_i, \\lambda) = \\frac{v_i}{\\lambda + v_i}$$\n",
    "\n",
    "- The likelihood of the observed data given \\(\\lambda\\) is:\n",
    "\n",
    "  $$L(\\lambda) = \\prod_{i=1}^{n} \\left(\\frac{v_i}{\\lambda + v_i}\\right)^{y_i} \\left(1 - \\frac{v_i}{\\lambda + v_i}\\right)^{1 - y_i}$$\n"
   ]
  },
  {
   "cell_type": "markdown",
   "id": "59393f5a-9058-46cf-b261-f3c42940bfbd",
   "metadata": {},
   "source": [
    "#### **Step 1: Construct the Log-Likelihood Function**\n",
    "\n",
    "Instead of maximizing the likelihood directly, we maximize the log-likelihood for computational simplicity:\n",
    "\n",
    "\n",
    "$$\\log L(\\lambda) = \\sum_{i=1}^{n} \\left[ y_i \\log \\left(\\frac{v_i}{\\lambda + v_i}\\right) + (1 - y_i) \\log \\left(1 - \\frac{v_i}{\\lambda + v_i}\\right) \\right]$$\n",
    "\n",
    "\n",
    "#### **Step 2: Finding the Maximum Likelihood Estimate**\n",
    "\n",
    "To find the value of \\(\\lambda\\) that maximizes the log-likelihood, we can:\n",
    "\n",
    "1. Differentiate the log-likelihood function with respect to \\($\\lambda$\\).\n",
    "2. Set the derivative equal to zero and solve for \\($\\lambda$\\).\n",
    "3. Alternatively, use numerical optimization methods (like R’s `optim()` function) to find the value of \\(\\lambda\\) that maximizes the log-likelihood."
   ]
  },
  {
   "cell_type": "markdown",
   "id": "80a5ec7b-b626-467e-9971-df16c9074e2e",
   "metadata": {},
   "source": [
    "### 5. **Implementing MLE in R for the Given Problem**\n",
    "\n",
    "Assuming we have loaded the **viability dataset** into a data frame named `viability_data`, we can use R to estimate \\(\\lambda\\) using the `optim()` function.\n",
    "\n",
    "**Sample R Code**:"
   ]
  },
  {
   "cell_type": "code",
   "execution_count": 15,
   "id": "76626a38-f3e0-4abd-9c49-838bbd85fea1",
   "metadata": {},
   "outputs": [
    {
     "name": "stdout",
     "output_type": "stream",
     "text": [
      "The maximum likelihood estimate of lambda is: 0.3619263 \n",
      "\n",
      "$par\n",
      "[1] 0.3619263\n",
      "\n",
      "$value\n",
      "[1] 39.75488\n",
      "\n",
      "$counts\n",
      "function gradient \n",
      "      28        5 \n",
      "\n",
      "$convergence\n",
      "[1] 0\n",
      "\n",
      "$message\n",
      "NULL\n",
      "\n",
      "[1] 0.3619263\n"
     ]
    }
   ],
   "source": [
    "setwd(\"C:\\\\Users\\\\admin\\\\Desktop\\\\StatProject\\\\01\")\n",
    "# Load viability data\n",
    "viability_data <- read.csv(\"Frog_Viability.csv\",\n",
    "                           header = T, \n",
    "                           sep = \",\", quote = \"\",\n",
    "                           check.names=T)\n",
    "# col_names\n",
    "colnames(viability_data) <- c('Viability', 'Present', 'Male', 'Female')\n",
    "# head(viability_data)\n",
    "\n",
    "# Function to calculate probability for a given lambda and viability score\n",
    "prob_frogs <- function(lambda, v) {\n",
    "  return(v/(lambda + v))\n",
    "}\n",
    "\n",
    "# (a) Maximum Likelihood Estimation\n",
    "# The likelihood function for a single observation\n",
    "likelihood_single <- function(lambda, v, y) {\n",
    "  p <- prob_frogs(lambda, v)\n",
    "  if(y == 1) {\n",
    "    return(p)\n",
    "  } else {\n",
    "    return(1 - p)\n",
    "  }\n",
    "}\n",
    "\n",
    "likelihood <- function(lambda, data){\n",
    "  likely_out = 1\n",
    "  for (i in 1:nrow(viability_data)){\n",
    "    likely_out = likely_out*likelihood_single(lambda, data$Viability[i], data$Present[i])\n",
    "  }\n",
    "  return(likely_out)\n",
    "}\n",
    "\n",
    "\n",
    "log_likelihood <- function(lambda, data){\n",
    "  \n",
    "  if(lambda <= 0) return(Inf)  # Ensure lambda > 0\n",
    "  \n",
    "  likely_out = 0\n",
    "  for (i in 1:nrow(viability_data)){\n",
    "    likely_out = likely_out+log(likelihood_single(lambda, data$Viability[i], data$Present[i]))\n",
    "  }\n",
    "  return(likely_out)\n",
    "}\n",
    "\n",
    "neg_log_likelihood <- function(lambda, data){\n",
    "  \n",
    "  if(lambda <= 0) return(Inf)  # Ensure lambda > 0\n",
    "  \n",
    "  likely_out = 0\n",
    "  for (i in 1:nrow(viability_data)){\n",
    "    likely_out = likely_out+log(likelihood_single(lambda, data$Viability[i], data$Present[i]))\n",
    "  }\n",
    "  return(-likely_out)\n",
    "}\n",
    "\n",
    "# Find MLE using optimization\n",
    "mle_result <- optim(par = 1, # Starting value\n",
    "                    fn = neg_log_likelihood,\n",
    "                    data = viability_data,\n",
    "                    method = \"BFGS\")\n",
    "cat(\"The maximum likelihood estimate of lambda is:\", lambda_hat, \"\\n\\n\")\n",
    "lambda_hat <- mle_result$par\n",
    "print(mle_result)\n",
    "print(lambda_hat)\n",
    "# Print the MLE of lambda\n",
    "mle_lambda <- lambda_hat\n"
   ]
  },
  {
   "cell_type": "code",
   "execution_count": 16,
   "id": "9528b5be-eee6-482c-92eb-0445ace9982b",
   "metadata": {},
   "outputs": [
    {
     "data": {
      "text/html": [
       "0.362"
      ],
      "text/latex": [
       "0.362"
      ],
      "text/markdown": [
       "0.362"
      ],
      "text/plain": [
       "[1] 0.362"
      ]
     },
     "metadata": {},
     "output_type": "display_data"
    }
   ],
   "source": [
    "lamda_val = seq(0.1, 1, 0.001)\n",
    "out_val= lapply(lamda_val, likelihood, data= viability_data) \n",
    "lamda_val[which.max(out_val)]"
   ]
  },
  {
   "cell_type": "code",
   "execution_count": 17,
   "id": "ca722d9a-5475-4960-9c92-cab3fcae4e15",
   "metadata": {},
   "outputs": [
    {
     "data": {
      "image/png": "[encoded data removed]",
      "text/plain": [
       "plot without title"
      ]
     },
     "metadata": {
      "image/png": {
       "height": 420,
       "width": 420
      }
     },
     "output_type": "display_data"
    }
   ],
   "source": [
    "par(bg = \"#f7f7f7\")\n",
    "plot(lamda_val, out_val )"
   ]
  },
  {
   "cell_type": "code",
   "execution_count": 18,
   "id": "2cb3fc15-c960-49f2-997c-6ce4a77740ac",
   "metadata": {},
   "outputs": [
    {
     "data": {
      "image/png": "[encoded data removed]",
      "text/plain": [
       "plot without title"
      ]
     },
     "metadata": {
      "image/png": {
       "height": 420,
       "width": 420
      }
     },
     "output_type": "display_data"
    }
   ],
   "source": [
    "out_log_val= lapply(lamda_val, log_likelihood, data = viability_data) \n",
    "par(bg = \"#f7f7f7\")\n",
    "plot(lamda_val, out_log_val )"
   ]
  },
  {
   "cell_type": "code",
   "execution_count": 14,
   "id": "5ae58355-eeff-4790-9b1a-84bc0aba94c2",
   "metadata": {},
   "outputs": [
    {
     "data": {
      "image/png": "[encoded data removed]",
      "text/plain": [
       "plot without title"
      ]
     },
     "metadata": {
      "image/png": {
       "height": 420,
       "width": 420
      }
     },
     "output_type": "display_data"
    }
   ],
   "source": [
    "out_log_val= lapply(lamda_val, neg_log_likelihood, data = viability_data) \n",
    "par(bg = \"#f7f7f7\")\n",
    "plot(lamda_val, out_log_val )"
   ]
  },
  {
   "cell_type": "markdown",
   "id": "8da5a3a7-d162-4a09-b0fa-8475e66f80e5",
   "metadata": {},
   "source": [
    "#### **Explanation of the Code**:\n",
    "1. **Loading the dataset**: Read the CSV file containing viability scores and presence data.\n",
    "2. **Defining the log-likelihood function**: The function `log_likelihood` computes the log-likelihood based on the proposed model.\n",
    "3. **Optimization**: The `optim()` function is used to find the value of \\($\\lambda$\\) that maximizes the log-likelihood.\n",
    "4. **Output**: The estimated value of \\($\\lambda$\\)."
   ]
  },
  {
   "cell_type": "markdown",
   "id": "ae781c47-6af6-438b-a010-b853372d9b9c",
   "metadata": {},
   "source": [
    "### 7. **Visualizing the MLE Fit**\n",
    "\n",
    "We can visualize how well our MLE model fits the data using plots. For example, plotting the observed presence probabilities against the predicted probabilities using the estimated \\(\\lambda\\):"
   ]
  },
  {
   "cell_type": "code",
   "execution_count": null,
   "id": "4f5bc5f7-76ae-4df7-9fff-863b9dd78ae8",
   "metadata": {},
   "outputs": [],
   "source": []
  },
  {
   "cell_type": "code",
   "execution_count": 10,
   "id": "23f940b9-d25e-4851-8a59-476152b7642d",
   "metadata": {},
   "outputs": [
    {
     "data": {
      "image/png": "[encoded data removed]",
      "text/plain": [
       "Plot with title \"Observed vs Predicted Probabilities\""
      ]
     },
     "metadata": {
      "image/png": {
       "height": 420,
       "width": 420
      }
     },
     "output_type": "display_data"
    }
   ],
   "source": [
    "viability_scores <- viability_data$Viability\n",
    "presence <- viability_data$Present\n",
    "# Predict probabilities using the estimated lambda\n",
    "predicted_probabilities <- viability_scores / (mle_lambda + viability_scores)\n",
    "\n",
    "\n",
    "par(bg = \"#f7f7f7\")\n",
    "# Plot observed vs predicted probabilities\n",
    "plot(viability_scores, presence, main = \"Observed vs Predicted Probabilities\",\n",
    "     xlab = \"Viability Score\", ylab = \"Presence (1 = Frogs present, 0 = Absent)\")\n",
    "points(viability_scores, predicted_probabilities, col = \"red\", pch = 16)\n",
    "legend(\"topright\", legend = c(\"Observed\", \"Predicted\"), col = c(\"black\", \"red\"), pch = c(1, 16))\n"
   ]
  },
  {
   "cell_type": "markdown",
   "id": "667d44ca-e07b-4e3d-a2f7-b6bd1c7138bb",
   "metadata": {},
   "source": []
  },
  {
   "cell_type": "code",
   "execution_count": null,
   "id": "f0848cd4-325a-4720-8443-848fb384456d",
   "metadata": {},
   "outputs": [],
   "source": []
  }
 ],
 "metadata": {
  "kernelspec": {
   "display_name": "R",
   "language": "R",
   "name": "ir"
  },
  "language_info": {
   "codemirror_mode": "r",
   "file_extension": ".r",
   "mimetype": "text/x-r-source",
   "name": "R",
   "pygments_lexer": "r",
   "version": "4.4.1"
  }
 },
 "nbformat": 4,
 "nbformat_minor": 5
}
