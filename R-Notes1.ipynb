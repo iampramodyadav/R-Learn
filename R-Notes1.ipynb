{
 "cells": [
  {
   "cell_type": "markdown",
   "id": "09829c18-9074-48b7-ac22-01065a023ea5",
   "metadata": {},
   "source": [
    "# R"
   ]
  },
  {
   "cell_type": "markdown",
   "id": "d3d82059-7202-4754-97b3-09f1bf196489",
   "metadata": {},
   "source": [
    "## General terminology"
   ]
  },
  {
   "cell_type": "markdown",
   "id": "65e84b11-b5ff-471b-86f0-3a84950dd679",
   "metadata": {},
   "source": [
    "### 1. Programming Language\n",
    "A **programming language** is a formal language used to write instructions that a computer can execute. These instructions perform specific tasks or solve problems. Examples of programming languages include Python, R, MATLAB, Java, C++, etc.\n",
    "\n",
    "---\n",
    "\n",
    "### 2. Interpreter\n",
    "An **interpreter** is a program that executes code line by line. It reads the source code, converts it into machine-readable instructions, and executes it on the spot. This allows you to run and test code quickly, but execution can be slower compared to compiled code.\n",
    "\n",
    "- **Example:** Python, R, and MATLAB use interpreters.\n",
    "- **Advantage:** Immediate execution and testing.\n",
    "- **Disadvantage:** Slower execution for large programs compared to compiled languages.\n",
    "\n",
    "---\n",
    "\n",
    "### 3. Compiler\n",
    "A **compiler** translates the entire source code of a program into machine code (binary code) in one go before execution. The machine code is saved as an executable file that can run directly on a computer.\n",
    "\n",
    "- **Example:** C, C++, and Java use compilers.\n",
    "- **Advantage:** Faster execution after compilation.\n",
    "- **Disadvantage:** Errors are found only after the entire code is compiled, and debugging can be harder.\n",
    "\n",
    "---\n",
    "\n",
    "### 4. High-Level Programming Language\n",
    "A **high-level language** is a programming language that is easy for humans to read and write. It uses natural language elements, which makes it more abstract from machine-level details.\n",
    "\n",
    "- **Examples:** Python, R, MATLAB, Java.\n",
    "- **Features:** Easier to use, focuses on problem-solving rather than hardware specifics.\n",
    "- **Advantage:** Higher productivity and easier to debug and maintain.\n",
    "- **Disadvantage:** Slower than low-level languages since code needs to be translated into machine code.\n",
    "\n",
    "---\n",
    "\n",
    "### 5. Low-Level Programming Language\n",
    "A **low-level language** is closer to machine code and deals with hardware-specific operations. It provides less abstraction and is more difficult to write and maintain but offers more control over the hardware.\n",
    "\n",
    "- **Examples:** Assembly language, machine code.\n",
    "- **Features:** More efficient and faster as it directly interacts with hardware.\n",
    "- **Advantage:** Speed and control over the system.\n",
    "- **Disadvantage:** Hard to write and debug.\n",
    "\n",
    "---\n",
    "\n",
    "### 6. Syntax\n",
    "**Syntax** refers to the rules that define the correct structure of commands in a programming language. Each programming language has its own syntax, which you need to follow when writing code.\n",
    "\n",
    "- **Example:** In Python, print statements are written as `print(\"Hello World\")`, whereas in C, it would be `printf(\"Hello World\");`.\n",
    "- **Importance:** Correct syntax is crucial to ensure the code runs without errors.\n",
    "\n",
    "---\n",
    "\n",
    "### 7. Variable\n",
    "A **variable** is a storage location in memory with a name and a value. It is used to store data that can be manipulated and retrieved during program execution.\n",
    "\n",
    "- **Example:** In Python, `x = 10` creates a variable `x` that stores the value `10`.\n",
    "- **Types:** Variables can hold different types of data such as numbers (integers, floats), strings, or lists.\n",
    "\n",
    "---\n",
    "\n",
    "### 8. Data Types\n",
    "A **data type** defines the type of data that a variable can store. Common data types include:\n",
    "\n",
    "- **Integer:** Whole numbers (e.g., 5, -10).\n",
    "- **Float:** Numbers with decimals (e.g., 3.14, -2.7).\n",
    "- **String:** Text data (e.g., \"Hello World\").\n",
    "- **Boolean:** True or False values.\n",
    "  \n",
    "Knowing the data type helps in choosing the right operations to apply to a variable.\n",
    "\n",
    "---\n",
    "\n",
    "### 9. Function\n",
    "A **function** is a block of code that performs a specific task. Functions take inputs (called arguments), process them, and return an output.\n",
    "\n",
    "- **Example:** In R, `mean()` is a function that calculates the average of numbers.\n",
    "- **Purpose:** It helps in organizing code, reusing it, and improving readability.\n",
    "\n",
    "---\n",
    "\n",
    "### 10. Control Structures\n",
    "**Control structures** determine the flow of execution in a program based on certain conditions or loops. Common control structures are:\n",
    "\n",
    "- **If-Else Statements:** Execute code based on conditions.\n",
    "  - Example: `if (x > 0) { print(\"Positive\") } else { print(\"Negative\") }`\n",
    "  \n",
    "- **Loops:** Execute a block of code repeatedly.\n",
    "  - **For Loop:** Repeats code for a set number of times.\n",
    "  - **While Loop:** Repeats code while a condition is true.\n",
    "\n",
    "---\n",
    "\n",
    "### 11. Algorithm\n",
    "An **algorithm** is a step-by-step procedure for solving a problem or performing a task. It defines the logical sequence of actions that must be followed to achieve a specific goal.\n",
    "\n",
    "- **Example:** A sorting algorithm arranges data in a particular order (like ascending or descending).\n",
    "\n",
    "---\n",
    "\n",
    "### 12. Debugging\n",
    "**Debugging** is the process of finding and fixing errors (bugs) in the program. It involves running the program, identifying where it behaves unexpectedly, and correcting the underlying issues.\n",
    "\n",
    "- **Tools:** Many development environments provide debugging tools to help you step through code, set breakpoints, and inspect variable values.\n",
    "\n",
    "---\n",
    "\n",
    "### 13. IDE (Integrated Development Environment)\n",
    "An **IDE** is software that provides tools to write, test, and debug code efficiently. It often includes a code editor, debugger, and other features that make coding easier.\n",
    "\n",
    "- **Examples:** RStudio (for R), MATLAB IDE, PyCharm (for Python).\n",
    "\n",
    "---\n",
    "\n",
    "### 14. Library/Package\n",
    "A **library** or **package** is a collection of pre-written code that provides specific functionality, such as mathematical operations, data visualization, or data manipulation. Using libraries helps save time and effort by reusing existing solutions.\n",
    "\n",
    "- **Example:** In R, `ggplot2` is a package for data visualization, and in Python, `numpy` is used for numerical computations.\n",
    "\n",
    "---\n",
    "\n",
    "### 15. Object-Oriented Programming (OOP)\n",
    "**Object-Oriented Programming** is a programming paradigm where code is organized into objects that represent real-world entities. These objects can contain both data (attributes) and functions (methods) that act on the data.\n",
    "\n",
    "- **Examples:** Classes and objects are key concepts in OOP.\n",
    "- **Advantages:** OOP makes code more modular, reusable, and easier to manage in large projects.\n",
    "\n",
    "---\n",
    "\n",
    "### 16. API (Application Programming Interface)\n",
    "An **API** is a set of functions and protocols that allow different software applications to communicate with each other. APIs define how requests and responses should be structured.\n",
    "\n",
    "- **Example:** A weather API might allow you to retrieve the current temperature for a location by making an HTTP request.\n",
    "\n",
    "---"
   ]
  },
  {
   "cell_type": "markdown",
   "id": "09647905-b9da-461a-8c8c-23e219471160",
   "metadata": {},
   "source": [
    "\n",
    "### 17. Console\n",
    "The **console** (or command line interface) is a tool for interacting with the computer by typing commands. In programming, it is often used to run scripts, display outputs, and manage files.\n",
    "\n",
    "- **Example:** The Python shell (when you run Python in terminal) or R console in RStudio.\n",
    "\n",
    "---\n",
    "\n",
    "### 18. Terminal\n",
    "The **terminal** is a command-line interface that allows you to execute commands directly on your operating system. It provides access to the underlying file system and other utilities via text-based commands.\n",
    "\n",
    "- **Example:** Bash terminal on Linux/Mac or Command Prompt on Windows.\n",
    "\n",
    "---\n",
    "\n",
    "### 19. REPL (Read-Eval-Print Loop)\n",
    "A **REPL** is an interactive environment used to execute code line by line and immediately see the results. Many interpreted languages (like Python, R, and JavaScript) use REPL.\n",
    "\n",
    "- **Example:** Python's interactive shell (`>>>`), where you can type commands and see results instantly.\n",
    "\n",
    "---\n",
    "\n",
    "### 20. Shell\n",
    "A **shell** is a user interface that allows access to the operating system’s services. It can be a command-line shell (like Bash or Command Prompt) or a graphical shell (like Windows Explorer).\n",
    "\n",
    "- **Example:** Bash shell in Linux, or PowerShell in Windows.\n",
    "\n",
    "---\n",
    "\n",
    "### 21. Script\n",
    "A **script** is a set of instructions written in a programming language, often interpreted, that performs a specific task. Scripts are commonly used for automation and small tasks.\n",
    "\n",
    "- **Example:** Python scripts (`.py` files) or shell scripts (`.sh` files).\n",
    "\n",
    "---\n",
    "\n",
    "### 22. Class\n",
    "A **class** is a blueprint for creating objects in object-oriented programming. It defines the properties (attributes) and behaviors (methods) that the objects created from the class will have.\n",
    "\n",
    "- **Example:** A `Car` class might have attributes like `color` and `model`, and methods like `drive()` or `stop()`.\n",
    "\n",
    "---\n",
    "\n",
    "### 23. Object\n",
    "An **object** is an instance of a class. It represents a real-world entity with attributes and methods.\n",
    "\n",
    "- **Example:** If `Car` is a class, then `myCar = Car()` creates an object `myCar` that is an instance of the `Car` class.\n",
    "\n",
    "---\n",
    "\n",
    "### 24. Module\n",
    "A **module** is a file containing a set of functions, classes, or variables that you can import into other programs or scripts.\n",
    "\n",
    "- **Example:** In Python, you can create a module by saving a `.py` file and importing it into other scripts using `import module_name`.\n",
    "\n",
    "---\n",
    "\n",
    "### 25. Framework\n",
    "A **framework** is a collection of libraries, tools, and best practices designed to simplify software development. It provides a predefined structure for developers to build applications faster.\n",
    "\n",
    "- **Examples:** Django (for Python web development), React (for JavaScript).\n",
    "\n",
    "---\n",
    "\n",
    "### 26. Version Control\n",
    "**Version control** is a system that tracks changes to your code, allowing you to revert to previous versions and collaborate with others. Git is the most popular version control system.\n",
    "\n",
    "- **Example:** GitHub is a platform for hosting Git repositories and collaborating on projects.\n",
    "\n",
    "---\n",
    "\n",
    "### 27. Repository\n",
    "A **repository** is a storage location for your project files, along with their version history, typically managed by a version control system like Git.\n",
    "\n",
    "- **Example:** A GitHub repository stores code, documentation, and the version history of a project.\n",
    "\n",
    "---\n",
    "\n",
    "\n",
    "### 28. Command-Line Argument\n",
    "A **command-line argument** is an input passed to a script or program via the command line when it is executed.\n",
    "\n",
    "- **Example:** In Python, `python script.py arg1 arg2` passes `arg1` and `arg2` as arguments to `script.py`.\n",
    "\n",
    "---\n",
    "\n",
    "**Conclusion:**\n",
    "Understanding these fundamental programming terms will give you a strong foundation as you learn to code. Each term represents a building block that you'll frequently encounter when writing and executing programs in any language."
   ]
  },
  {
   "cell_type": "markdown",
   "id": "63adb2ae-7932-4470-8dcf-7ec2f54bdac4",
   "metadata": {},
   "source": [
    "## Setting Up the R Environment"
   ]
  },
  {
   "cell_type": "markdown",
   "id": "46ad87eb-897f-47f6-9ff9-bf05e6b47a38",
   "metadata": {},
   "source": [
    "[swirl](https://swirlstats.com/students.html)"
   ]
  },
  {
   "cell_type": "markdown",
   "id": "8f205d6f-8f60-4f1c-8048-de87a7b0eb94",
   "metadata": {},
   "source": [
    "- **Installation:** Install R from CRAN and RStudio IDE from RStudio.\n",
    "- **RStudio Basics:** Overview of the RStudio interface (Console, Script Editor, Environment, and Plots pane).\n",
    "- **Package Management:** How to install, load, and update packages using `install.packages()` and `library()` functions."
   ]
  },
  {
   "cell_type": "markdown",
   "id": "f8237037-da10-48f5-956c-5a79f7718368",
   "metadata": {},
   "source": [
    "## Introduction to Programming Concepts"
   ]
  },
  {
   "cell_type": "markdown",
   "id": "e86f8ac7-36ee-4b40-8328-f7d3ccca84a1",
   "metadata": {},
   "source": [
    "- **Variables and Data Types:** Explain what variables are and the different data types (numeric, integer, character, logical, etc.)."
   ]
  },
  {
   "cell_type": "code",
   "execution_count": 128,
   "id": "4185c613-330a-4181-9105-fc0da2815b69",
   "metadata": {},
   "outputs": [
    {
     "data": {
      "text/html": [
       "'hello world'"
      ],
      "text/latex": [
       "'hello world'"
      ],
      "text/markdown": [
       "'hello world'"
      ],
      "text/plain": [
       "[1] \"hello world\""
      ]
     },
     "metadata": {},
     "output_type": "display_data"
    }
   ],
   "source": [
    "\"hello world\""
   ]
  },
  {
   "cell_type": "code",
   "execution_count": 129,
   "id": "58a26c42-a001-4df5-9bd5-dccac27fe12a",
   "metadata": {},
   "outputs": [
    {
     "name": "stdout",
     "output_type": "stream",
     "text": [
      "[1] \"hello world!\"\n"
     ]
    }
   ],
   "source": [
    "print(\"hello world!\")"
   ]
  },
  {
   "cell_type": "markdown",
   "id": "aa8e2b07-757a-4939-a842-702216cd6844",
   "metadata": {},
   "source": [
    "## Variables and Data Types in R\n",
    "\n",
    "When learning R programming, two key concepts are **variables** and **data types**. Here’s a breakdown of both:\n",
    "\n",
    "---\n",
    "\n",
    "### 1. Variables in R\n",
    "\n",
    "A **variable** is a storage location in memory, identified by a name, that holds a value. In R, variables are used to store data that can be used and manipulated later in the program.\n",
    "\n",
    "#### Creating Variables\n",
    "In R, you can assign a value to a variable using the assignment operator `<-` (or sometimes `=`). Here’s an example:"
   ]
  },
  {
   "cell_type": "markdown",
   "id": "920791b1-2ec1-4360-9fd1-f2cc5740ea41",
   "metadata": {},
   "source": [
    "#### Assigning values to variables"
   ]
  },
  {
   "cell_type": "code",
   "execution_count": 130,
   "id": "68c38b5c-15b6-4181-a659-df32ca601481",
   "metadata": {},
   "outputs": [],
   "source": [
    "x <- 10       # Numeric variable"
   ]
  },
  {
   "cell_type": "code",
   "execution_count": 131,
   "id": "a7731395-b3e0-4a5c-a97a-0ee5868c935b",
   "metadata": {},
   "outputs": [],
   "source": [
    "y <- \"Hello\"  # Character (string) variable"
   ]
  },
  {
   "cell_type": "code",
   "execution_count": 132,
   "id": "8721ce2c-f028-4765-be04-fa6c780f7fba",
   "metadata": {},
   "outputs": [],
   "source": [
    "z <- TRUE     # Logical (boolean) variable"
   ]
  },
  {
   "cell_type": "markdown",
   "id": "3b650184-9b54-4aa0-a416-c8f3742b3bbd",
   "metadata": {},
   "source": [
    "- **x** stores a numeric value `10`.\n",
    "- **y** stores a string `\"Hello\"`.\n",
    "- **z** stores a logical value `TRUE`."
   ]
  },
  {
   "cell_type": "markdown",
   "id": "54ce5eb6-3267-4e7b-94a1-8c1d558093e1",
   "metadata": {},
   "source": [
    "#### Variable Naming Rules\n",
    "- A variable name can contain letters, numbers, underscores (`_`), and periods (`.`).\n",
    "- Variable names **cannot start with a number**.\n",
    "- R is **case-sensitive**, meaning `Var1` and `var1` are two different variables.\n",
    "\n",
    "#### Example of Valid and Invalid Variable Names:"
   ]
  },
  {
   "cell_type": "code",
   "execution_count": 133,
   "id": "1b86e3a7-936c-4642-80e3-fa315d741789",
   "metadata": {},
   "outputs": [],
   "source": [
    "valid_name <- 100"
   ]
  },
  {
   "cell_type": "code",
   "execution_count": 134,
   "id": "94cbf4bb-dbea-42f7-b5c9-e4a69b05ea86",
   "metadata": {},
   "outputs": [
    {
     "ename": "ERROR",
     "evalue": "Error in invalid - name <- 200: object 'invalid' not found\n",
     "output_type": "error",
     "traceback": [
      "Error in invalid - name <- 200: object 'invalid' not found\nTraceback:\n"
     ]
    }
   ],
   "source": [
    "invalid-name <- 200   # Error: Hyphens are not allowed in variable names"
   ]
  },
  {
   "cell_type": "code",
   "execution_count": 135,
   "id": "fb7c6ebd-2924-4520-8eb3-0f0b2838c46e",
   "metadata": {},
   "outputs": [
    {
     "ename": "ERROR",
     "evalue": "Error in parse(text = input): <text>:1:2: unexpected symbol\n1: 1variable\n     ^\n",
     "output_type": "error",
     "traceback": [
      "Error in parse(text = input): <text>:1:2: unexpected symbol\n1: 1variable\n     ^\nTraceback:\n"
     ]
    }
   ],
   "source": [
    "1variable <- 300      # Error: Cannot start a variable name with a number"
   ]
  },
  {
   "cell_type": "markdown",
   "id": "0527bf79-35fc-43cc-aa94-132ba579fa8f",
   "metadata": {},
   "source": [
    "### 2. Data Types in R\n",
    "\n",
    "A **data type** refers to the type of value that a variable can store. R supports various data types, and understanding them is essential to writing efficient R programs."
   ]
  },
  {
   "cell_type": "markdown",
   "id": "82ddd727-825a-43f8-8e0c-205ade7b2589",
   "metadata": {},
   "source": [
    "#### Primary Data Types in R:"
   ]
  },
  {
   "cell_type": "markdown",
   "id": "661b5e5f-5a54-439f-ac63-9c53490e1c4d",
   "metadata": {},
   "source": [
    "#### 1. **Integer**:\n",
    "   - Represents whole numbers. Use the `L` suffix to define integers explicitly.\n",
    "   - Example:"
   ]
  },
  {
   "cell_type": "code",
   "execution_count": 192,
   "id": "29ca1ccd-0c4c-43f7-99d7-3170b18e57cd",
   "metadata": {
    "jp-MarkdownHeadingCollapsed": true
   },
   "outputs": [
    {
     "data": {
      "text/html": [
       "42"
      ],
      "text/latex": [
       "42"
      ],
      "text/markdown": [
       "42"
      ],
      "text/plain": [
       "[1] 42"
      ]
     },
     "metadata": {},
     "output_type": "display_data"
    },
    {
     "data": {
      "text/html": [
       "'integer'"
      ],
      "text/latex": [
       "'integer'"
      ],
      "text/markdown": [
       "'integer'"
      ],
      "text/plain": [
       "[1] \"integer\""
      ]
     },
     "metadata": {},
     "output_type": "display_data"
    },
    {
     "data": {
      "text/html": [
       "'integer'"
      ],
      "text/latex": [
       "'integer'"
      ],
      "text/markdown": [
       "'integer'"
      ],
      "text/plain": [
       "[1] \"integer\""
      ]
     },
     "metadata": {},
     "output_type": "display_data"
    }
   ],
   "source": [
    "int <- 42L  # Integer\n",
    "int\n",
    "typeof(int)\n",
    "class(int)"
   ]
  },
  {
   "cell_type": "code",
   "execution_count": 163,
   "id": "4ae83a82",
   "metadata": {
    "jp-MarkdownHeadingCollapsed": true
   },
   "outputs": [
    {
     "data": {
      "text/html": [
       "-2"
      ],
      "text/latex": [
       "-2"
      ],
      "text/markdown": [
       "-2"
      ],
      "text/plain": [
       "[1] -2"
      ]
     },
     "metadata": {},
     "output_type": "display_data"
    },
    {
     "data": {
      "text/html": [
       "'integer'"
      ],
      "text/latex": [
       "'integer'"
      ],
      "text/markdown": [
       "'integer'"
      ],
      "text/plain": [
       "[1] \"integer\""
      ]
     },
     "metadata": {},
     "output_type": "display_data"
    }
   ],
   "source": [
    "int <- -2L  # Integer\n",
    "int\n",
    "typeof(int)"
   ]
  },
  {
   "cell_type": "markdown",
   "id": "3e6d618e-b9bf-4ee5-9b3a-049d794d21e2",
   "metadata": {},
   "source": [
    "#### 2. **Double**: (or Numeric)\n",
    "   - Represents decimal numbers.\n",
    "   - Example:"
   ]
  },
  {
   "cell_type": "code",
   "execution_count": 193,
   "id": "497e16ab-dd7a-4c12-85cb-67782a688dea",
   "metadata": {},
   "outputs": [
    {
     "data": {
      "text/html": [
       "'double'"
      ],
      "text/latex": [
       "'double'"
      ],
      "text/markdown": [
       "'double'"
      ],
      "text/plain": [
       "[1] \"double\""
      ]
     },
     "metadata": {},
     "output_type": "display_data"
    },
    {
     "data": {
      "text/html": [
       "'numeric'"
      ],
      "text/latex": [
       "'numeric'"
      ],
      "text/markdown": [
       "'numeric'"
      ],
      "text/plain": [
       "[1] \"numeric\""
      ]
     },
     "metadata": {},
     "output_type": "display_data"
    }
   ],
   "source": [
    "decimal <- 3.14  # Numeric (floating-point)\n",
    "typeof(decimal)\n",
    "class(decimal)"
   ]
  },
  {
   "cell_type": "code",
   "execution_count": 194,
   "id": "9f0d200b-b29c-45f1-83db-5c0c8a8ec1ac",
   "metadata": {},
   "outputs": [
    {
     "data": {
      "text/html": [
       "'double'"
      ],
      "text/latex": [
       "'double'"
      ],
      "text/markdown": [
       "'double'"
      ],
      "text/plain": [
       "[1] \"double\""
      ]
     },
     "metadata": {},
     "output_type": "display_data"
    },
    {
     "data": {
      "text/html": [
       "'numeric'"
      ],
      "text/latex": [
       "'numeric'"
      ],
      "text/markdown": [
       "'numeric'"
      ],
      "text/plain": [
       "[1] \"numeric\""
      ]
     },
     "metadata": {},
     "output_type": "display_data"
    }
   ],
   "source": [
    "num <- 42        # Numeric\n",
    "typeof(num)\n",
    "class(num)"
   ]
  },
  {
   "cell_type": "markdown",
   "id": "af290a13-b68d-4e97-9f26-4e07049280d6",
   "metadata": {},
   "source": [
    "#### 3. **Character (String)**:\n",
    "   - Represents text or a sequence of characters.\n",
    "   - Example:"
   ]
  },
  {
   "cell_type": "code",
   "execution_count": 166,
   "id": "101e39ce-3991-45d8-945d-bfd6c0a2a727",
   "metadata": {
    "jp-MarkdownHeadingCollapsed": true
   },
   "outputs": [
    {
     "data": {
      "text/html": [
       "'Hello, R!'"
      ],
      "text/latex": [
       "'Hello, R!'"
      ],
      "text/markdown": [
       "'Hello, R!'"
      ],
      "text/plain": [
       "[1] \"Hello, R!\""
      ]
     },
     "metadata": {},
     "output_type": "display_data"
    }
   ],
   "source": [
    "char <- \"Hello, R!\"  # Character (string)\n",
    "char"
   ]
  },
  {
   "cell_type": "code",
   "execution_count": 167,
   "id": "f4703511-857d-4b74-8dc5-053924ac1b4f",
   "metadata": {},
   "outputs": [
    {
     "data": {
      "text/html": [
       "'character'"
      ],
      "text/latex": [
       "'character'"
      ],
      "text/markdown": [
       "'character'"
      ],
      "text/plain": [
       "[1] \"character\""
      ]
     },
     "metadata": {},
     "output_type": "display_data"
    }
   ],
   "source": [
    "typeof(char)"
   ]
  },
  {
   "cell_type": "markdown",
   "id": "7e754c72-8994-41cd-bd7e-aee6c3b291fe",
   "metadata": {},
   "source": [
    "#### 4. **Logical (Boolean)**:\n",
    "   - Represents `TRUE` or `FALSE` values. (T/F)\n",
    "   - Example:"
   ]
  },
  {
   "cell_type": "code",
   "execution_count": 176,
   "id": "63f7028e-41fa-49f5-9a9e-297216dfdbc3",
   "metadata": {
    "jp-MarkdownHeadingCollapsed": true
   },
   "outputs": [
    {
     "data": {
      "text/html": [
       "TRUE"
      ],
      "text/latex": [
       "TRUE"
      ],
      "text/markdown": [
       "TRUE"
      ],
      "text/plain": [
       "[1] TRUE"
      ]
     },
     "metadata": {},
     "output_type": "display_data"
    },
    {
     "data": {
      "text/html": [
       "'logical'"
      ],
      "text/latex": [
       "'logical'"
      ],
      "text/markdown": [
       "'logical'"
      ],
      "text/plain": [
       "[1] \"logical\""
      ]
     },
     "metadata": {},
     "output_type": "display_data"
    }
   ],
   "source": [
    "is_sunny <- TRUE     # Logical\n",
    "is_sunny\n",
    "typeof(is_sunny)"
   ]
  },
  {
   "cell_type": "code",
   "execution_count": 177,
   "id": "fe906206-474b-4d2c-9df4-47dc33986dc5",
   "metadata": {},
   "outputs": [
    {
     "data": {
      "text/html": [
       "'logical'"
      ],
      "text/latex": [
       "'logical'"
      ],
      "text/markdown": [
       "'logical'"
      ],
      "text/plain": [
       "[1] \"logical\""
      ]
     },
     "metadata": {},
     "output_type": "display_data"
    }
   ],
   "source": [
    "is_raining <- FALSE  # Logical\n",
    "typeof(is_raining)"
   ]
  },
  {
   "cell_type": "code",
   "execution_count": 178,
   "id": "0b178be0",
   "metadata": {
    "jp-MarkdownHeadingCollapsed": true
   },
   "outputs": [
    {
     "data": {
      "text/html": [
       "TRUE"
      ],
      "text/latex": [
       "TRUE"
      ],
      "text/markdown": [
       "TRUE"
      ],
      "text/plain": [
       "[1] TRUE"
      ]
     },
     "metadata": {},
     "output_type": "display_data"
    },
    {
     "data": {
      "text/html": [
       "'logical'"
      ],
      "text/latex": [
       "'logical'"
      ],
      "text/markdown": [
       "'logical'"
      ],
      "text/plain": [
       "[1] \"logical\""
      ]
     },
     "metadata": {},
     "output_type": "display_data"
    }
   ],
   "source": [
    "is_sunny <- T     # Logical\n",
    "is_sunny\n",
    "typeof(is_sunny)"
   ]
  },
  {
   "cell_type": "code",
   "execution_count": 179,
   "id": "bfc409fa",
   "metadata": {},
   "outputs": [
    {
     "data": {
      "text/html": [
       "FALSE"
      ],
      "text/latex": [
       "FALSE"
      ],
      "text/markdown": [
       "FALSE"
      ],
      "text/plain": [
       "[1] FALSE"
      ]
     },
     "metadata": {},
     "output_type": "display_data"
    },
    {
     "data": {
      "text/html": [
       "'logical'"
      ],
      "text/latex": [
       "'logical'"
      ],
      "text/markdown": [
       "'logical'"
      ],
      "text/plain": [
       "[1] \"logical\""
      ]
     },
     "metadata": {},
     "output_type": "display_data"
    }
   ],
   "source": [
    "is_raining <- F  # Logical\n",
    "is_raining\n",
    "typeof(is_raining)"
   ]
  },
  {
   "cell_type": "code",
   "execution_count": null,
   "id": "bc75d31d-41b8-4684-9241-4fb10b22c5ba",
   "metadata": {},
   "outputs": [],
   "source": []
  },
  {
   "cell_type": "markdown",
   "id": "bef5c4c7-8590-4d14-be8a-1438c4aede08",
   "metadata": {
    "jp-MarkdownHeadingCollapsed": true
   },
   "source": [
    "5. **Complex**:\n",
    "   - Represents complex numbers with real and imaginary parts.\n",
    "   - Example:"
   ]
  },
  {
   "cell_type": "code",
   "execution_count": 180,
   "id": "0c36b00b-5524-43fc-bfa2-63f4044a74a2",
   "metadata": {
    "jp-MarkdownHeadingCollapsed": true
   },
   "outputs": [],
   "source": [
    "complex_num <- 4 + 2i  # Complex number (4 is real part, 2i is imaginary part)"
   ]
  },
  {
   "cell_type": "code",
   "execution_count": 181,
   "id": "6a5ced38-8892-4d0a-b7c4-60affbdc8341",
   "metadata": {},
   "outputs": [
    {
     "data": {
      "text/html": [
       "4+2i"
      ],
      "text/latex": [
       "4+2i"
      ],
      "text/markdown": [
       "4+2i"
      ],
      "text/plain": [
       "[1] 4+2i"
      ]
     },
     "metadata": {},
     "output_type": "display_data"
    }
   ],
   "source": [
    "complex_num"
   ]
  },
  {
   "cell_type": "code",
   "execution_count": 182,
   "id": "935d31db-05ad-487a-94bf-c09a8a3b897b",
   "metadata": {},
   "outputs": [
    {
     "data": {
      "text/html": [
       "'complex'"
      ],
      "text/latex": [
       "'complex'"
      ],
      "text/markdown": [
       "'complex'"
      ],
      "text/plain": [
       "[1] \"complex\""
      ]
     },
     "metadata": {},
     "output_type": "display_data"
    }
   ],
   "source": [
    "typeof(complex_num)"
   ]
  },
  {
   "cell_type": "markdown",
   "id": "7730e621-aa65-49e1-b863-74a4f1e0191f",
   "metadata": {},
   "source": [
    "#### 6. **Raw**"
   ]
  },
  {
   "cell_type": "markdown",
   "id": "379c02ef-d367-4c47-9ed1-194a76074982",
   "metadata": {},
   "source": [
    "A `raw` data type specifies values as raw bytes. You can use the following methods to convert character data types to a raw data type and vice-versa:\n",
    "\n",
    "- `charToRaw()` - converts character data to raw data\n",
    "- `rawToChar()` - converts raw data to character data"
   ]
  },
  {
   "cell_type": "code",
   "execution_count": 212,
   "id": "84001e73-63d6-498a-aaf7-88949c999a2d",
   "metadata": {},
   "outputs": [
    {
     "name": "stdout",
     "output_type": "stream",
     "text": [
      " [1] 57 65 6c 63 6f 6d 65 20 74 6f 20 50 72 6f 67 72 61 6d 69 7a\n",
      "[1] \"raw\"\n",
      "[1] \"Welcome to Programiz\"\n",
      "[1] \"character\"\n"
     ]
    }
   ],
   "source": [
    "# convert character to raw\n",
    "raw_variable <- charToRaw(\"Welcome to Programiz\")\n",
    "\n",
    "print(raw_variable)\n",
    "print(class(raw_variable))\n",
    "\n",
    "# convert raw to character\n",
    "char_variable <- rawToChar(raw_variable)\n",
    "\n",
    "print(char_variable)\n",
    "print(class(char_variable))"
   ]
  },
  {
   "cell_type": "code",
   "execution_count": 207,
   "id": "53b6101e-b1b2-4f26-8ae9-9cb6cf8e0fd4",
   "metadata": {},
   "outputs": [
    {
     "data": {
      "text/plain": [
       "[1] ff"
      ]
     },
     "metadata": {},
     "output_type": "display_data"
    },
    {
     "data": {
      "text/html": [
       "'raw'"
      ],
      "text/latex": [
       "'raw'"
      ],
      "text/markdown": [
       "'raw'"
      ],
      "text/plain": [
       "[1] \"raw\""
      ]
     },
     "metadata": {},
     "output_type": "display_data"
    },
    {
     "data": {
      "text/html": [
       "'raw'"
      ],
      "text/latex": [
       "'raw'"
      ],
      "text/markdown": [
       "'raw'"
      ],
      "text/plain": [
       "[1] \"raw\""
      ]
     },
     "metadata": {},
     "output_type": "display_data"
    }
   ],
   "source": [
    "single_raw <- as.raw(255)\n",
    "single_raw\n",
    "typeof(single_raw)\n",
    "class(single_raw)"
   ]
  },
  {
   "cell_type": "markdown",
   "id": "58cc41b3-ba47-4d1b-9ac7-580deeedcea4",
   "metadata": {},
   "source": [
    "### 3. Checking Data Types\n",
    "\n",
    "- `class()` - what kind of object is it (high-level)?\n",
    "- `typeof()` - what is the object’s data type (low-level)?\n",
    "- `length()` - how long is it? What about two dimensional objects?\n",
    "- `attributes()` - does it have any metadata?\n",
    "\n",
    "You can check the type of a variable using the `class()` or `typeof()` functions in R.\n",
    "\n",
    "- **Example**:"
   ]
  },
  {
   "cell_type": "code",
   "execution_count": 210,
   "id": "3968837f-2bea-4458-9e19-71297a12c54e",
   "metadata": {},
   "outputs": [
    {
     "data": {
      "text/html": [
       "'numeric'"
      ],
      "text/latex": [
       "'numeric'"
      ],
      "text/markdown": [
       "'numeric'"
      ],
      "text/plain": [
       "[1] \"numeric\""
      ]
     },
     "metadata": {},
     "output_type": "display_data"
    },
    {
     "data": {
      "text/html": [
       "'double'"
      ],
      "text/latex": [
       "'double'"
      ],
      "text/markdown": [
       "'double'"
      ],
      "text/plain": [
       "[1] \"double\""
      ]
     },
     "metadata": {},
     "output_type": "display_data"
    },
    {
     "data": {
      "text/html": [
       "FALSE"
      ],
      "text/latex": [
       "FALSE"
      ],
      "text/markdown": [
       "FALSE"
      ],
      "text/plain": [
       "[1] FALSE"
      ]
     },
     "metadata": {},
     "output_type": "display_data"
    },
    {
     "data": {
      "text/html": [
       "TRUE"
      ],
      "text/latex": [
       "TRUE"
      ],
      "text/markdown": [
       "TRUE"
      ],
      "text/plain": [
       "[1] TRUE"
      ]
     },
     "metadata": {},
     "output_type": "display_data"
    }
   ],
   "source": [
    "x <- 10\n",
    "class(x)    # Returns \"numeric\"\n",
    "typeof(x)   # Returns \"double\"\n",
    "\n",
    "is.integer(x)\n",
    "is.double(x)"
   ]
  },
  {
   "cell_type": "code",
   "execution_count": 211,
   "id": "7884a288",
   "metadata": {},
   "outputs": [
    {
     "data": {
      "text/html": [
       "'integer'"
      ],
      "text/latex": [
       "'integer'"
      ],
      "text/markdown": [
       "'integer'"
      ],
      "text/plain": [
       "[1] \"integer\""
      ]
     },
     "metadata": {},
     "output_type": "display_data"
    },
    {
     "data": {
      "text/html": [
       "'integer'"
      ],
      "text/latex": [
       "'integer'"
      ],
      "text/markdown": [
       "'integer'"
      ],
      "text/plain": [
       "[1] \"integer\""
      ]
     },
     "metadata": {},
     "output_type": "display_data"
    },
    {
     "data": {
      "text/html": [
       "TRUE"
      ],
      "text/latex": [
       "TRUE"
      ],
      "text/markdown": [
       "TRUE"
      ],
      "text/plain": [
       "[1] TRUE"
      ]
     },
     "metadata": {},
     "output_type": "display_data"
    },
    {
     "data": {
      "text/html": [
       "FALSE"
      ],
      "text/latex": [
       "FALSE"
      ],
      "text/markdown": [
       "FALSE"
      ],
      "text/plain": [
       "[1] FALSE"
      ]
     },
     "metadata": {},
     "output_type": "display_data"
    }
   ],
   "source": [
    "x <- 10L\n",
    "class(x)    # Returns \"integer\"\n",
    "typeof(x)   # Returns \"integer\"\n",
    "\n",
    "is.integer(x)\n",
    "is.double(x)"
   ]
  },
  {
   "cell_type": "markdown",
   "id": "db755c78-e0ff-4329-879f-f4cf99bc0de4",
   "metadata": {},
   "source": [
    "### 4. Type Conversion\n",
    "\n",
    "You can convert between data types using functions like `as.numeric()`, `as.character()`, `as.logical()`, and so on.\n",
    "\n",
    "#### Example of Type Conversion:"
   ]
  },
  {
   "cell_type": "code",
   "execution_count": null,
   "id": "e7f74fb7-df23-49f2-bfa7-6d9d75467db8",
   "metadata": {},
   "outputs": [],
   "source": []
  },
  {
   "cell_type": "markdown",
   "id": "e71c9483-7ade-4047-b74b-ea41f30a92d3",
   "metadata": {},
   "source": [
    "[Read: Conversion Functions in R](https://www.scaler.com/topics/conversion-functions-in-r/)\n",
    "\n",
    "[Source: Convert ](https://cran.r-project.org/web/packages/hablar/vignettes/convert.html)"
   ]
  },
  {
   "cell_type": "code",
   "execution_count": 201,
   "id": "5c07c748-bfde-4bdd-9be5-ffb1d039a4ec",
   "metadata": {
    "jp-MarkdownHeadingCollapsed": true
   },
   "outputs": [
    {
     "data": {
      "text/html": [
       "'numeric'"
      ],
      "text/latex": [
       "'numeric'"
      ],
      "text/markdown": [
       "'numeric'"
      ],
      "text/plain": [
       "[1] \"numeric\""
      ]
     },
     "metadata": {},
     "output_type": "display_data"
    }
   ],
   "source": [
    "num <- \"100\"         # Character variable (string)\n",
    "converted_num <- as.numeric(num)  # Convert to numeric\n",
    "class(converted_num)  # Returns \"numeric\""
   ]
  },
  {
   "cell_type": "code",
   "execution_count": 202,
   "id": "e3897ca5-c41b-4371-a72d-a11900fc97ce",
   "metadata": {},
   "outputs": [
    {
     "data": {
      "text/html": [
       "'double'"
      ],
      "text/latex": [
       "'double'"
      ],
      "text/markdown": [
       "'double'"
      ],
      "text/plain": [
       "[1] \"double\""
      ]
     },
     "metadata": {},
     "output_type": "display_data"
    }
   ],
   "source": [
    "typeof(converted_num)"
   ]
  },
  {
   "cell_type": "code",
   "execution_count": 203,
   "id": "565805e2",
   "metadata": {
    "jp-MarkdownHeadingCollapsed": true
   },
   "outputs": [
    {
     "data": {
      "text/html": [
       "'numeric'"
      ],
      "text/latex": [
       "'numeric'"
      ],
      "text/markdown": [
       "'numeric'"
      ],
      "text/plain": [
       "[1] \"numeric\""
      ]
     },
     "metadata": {},
     "output_type": "display_data"
    }
   ],
   "source": [
    "num <- \"100\"         # Character variable (string)\n",
    "converted_num <- as.numeric(num)  # Convert to numeric\n",
    "class(converted_num)  # Returns \"numeric\""
   ]
  },
  {
   "cell_type": "markdown",
   "id": "863a2c96-c59d-468f-99d7-887c7eed24fc",
   "metadata": {},
   "source": [
    "### 5. Special Data Types: NULL, NA, NaN, and Inf\n",
    "\n",
    "- **NULL**: Represents the absence of a value or an empty object."
   ]
  },
  {
   "cell_type": "code",
   "execution_count": 221,
   "id": "b977d26c-ccc1-495a-b6f4-a65ddcc7ac9e",
   "metadata": {
    "jp-MarkdownHeadingCollapsed": true
   },
   "outputs": [
    {
     "data": {
      "text/plain": [
       "NULL"
      ]
     },
     "metadata": {},
     "output_type": "display_data"
    }
   ],
   "source": [
    "x <- NULL\n",
    "x\n",
    "#class(x)\n",
    "#typeof(x)"
   ]
  },
  {
   "cell_type": "markdown",
   "id": "3234755b-6b04-47f7-97fd-6a690a17a097",
   "metadata": {
    "jp-MarkdownHeadingCollapsed": true
   },
   "source": [
    "- **NA**: Represents a missing or undefined value (Not Available)."
   ]
  },
  {
   "cell_type": "code",
   "execution_count": 220,
   "id": "9295b046-98bc-4d26-8c34-b5718fc76525",
   "metadata": {
    "jp-MarkdownHeadingCollapsed": true
   },
   "outputs": [
    {
     "data": {
      "text/html": [
       "&lt;NA&gt;"
      ],
      "text/latex": [
       "<NA>"
      ],
      "text/markdown": [
       "&lt;NA&gt;"
      ],
      "text/plain": [
       "[1] NA"
      ]
     },
     "metadata": {},
     "output_type": "display_data"
    }
   ],
   "source": [
    "x <- NA\n",
    "x\n",
    "#class(x)\n",
    "#typeof(x)"
   ]
  },
  {
   "cell_type": "markdown",
   "id": "99f5a459-6c4d-4ab6-be15-f6071b7df45f",
   "metadata": {
    "jp-MarkdownHeadingCollapsed": true
   },
   "source": [
    "- **NaN**: Stands for \"Not a Number\" and occurs in undefined mathematical operations like `0/0`."
   ]
  },
  {
   "cell_type": "code",
   "execution_count": 219,
   "id": "2fea52ea-d9d8-436a-8dc0-90b88b84788b",
   "metadata": {
    "jp-MarkdownHeadingCollapsed": true
   },
   "outputs": [
    {
     "data": {
      "text/html": [
       "NaN"
      ],
      "text/latex": [
       "NaN"
      ],
      "text/markdown": [
       "NaN"
      ],
      "text/plain": [
       "[1] NaN"
      ]
     },
     "metadata": {},
     "output_type": "display_data"
    }
   ],
   "source": [
    "x <- 0/0\n",
    "x\n",
    "#class(x)\n",
    "#typeof(x)"
   ]
  },
  {
   "cell_type": "markdown",
   "id": "090b954a-604d-4a35-97f5-4c7e5de8ef0a",
   "metadata": {
    "jp-MarkdownHeadingCollapsed": true
   },
   "source": [
    "- **Inf**: Represents infinity. For example, dividing a number by zero results in `Inf`."
   ]
  },
  {
   "cell_type": "code",
   "execution_count": 223,
   "id": "95a7bdeb-5b42-4cf2-9ad4-37d461141635",
   "metadata": {
    "jp-MarkdownHeadingCollapsed": true
   },
   "outputs": [
    {
     "data": {
      "text/html": [
       "Inf"
      ],
      "text/latex": [
       "Inf"
      ],
      "text/markdown": [
       "Inf"
      ],
      "text/plain": [
       "[1] Inf"
      ]
     },
     "metadata": {},
     "output_type": "display_data"
    }
   ],
   "source": [
    "x <- 10 / 0  # Returns Inf\n",
    "x\n",
    "#class(x)\n",
    "#typeof(x)"
   ]
  },
  {
   "cell_type": "markdown",
   "id": "4c8ae3ee-2371-4c67-a58a-1c450c02e0c2",
   "metadata": {},
   "source": [
    "### 6. Data Structures (Related to Variables and Data Types)\n",
    "\n",
    "In R, data can also be organized into various structures. These are collections of variables and their values.\n",
    "\n",
    "1. **Vector**: A sequence of data elements of the same type."
   ]
  },
  {
   "cell_type": "code",
   "execution_count": 55,
   "id": "031e9cfd-2c79-477d-820a-8799cada16f1",
   "metadata": {
    "jp-MarkdownHeadingCollapsed": true
   },
   "outputs": [
    {
     "data": {
      "text/html": [
       "<style>\n",
       ".list-inline {list-style: none; margin:0; padding: 0}\n",
       ".list-inline>li {display: inline-block}\n",
       ".list-inline>li:not(:last-child)::after {content: \"\\00b7\"; padding: 0 .5ex}\n",
       "</style>\n",
       "<ol class=list-inline><li>1</li><li>2</li><li>3</li><li>4</li></ol>\n"
      ],
      "text/latex": [
       "\\begin{enumerate*}\n",
       "\\item 1\n",
       "\\item 2\n",
       "\\item 3\n",
       "\\item 4\n",
       "\\end{enumerate*}\n"
      ],
      "text/markdown": [
       "1. 1\n",
       "2. 2\n",
       "3. 3\n",
       "4. 4\n",
       "\n",
       "\n"
      ],
      "text/plain": [
       "[1] 1 2 3 4"
      ]
     },
     "metadata": {},
     "output_type": "display_data"
    }
   ],
   "source": [
    "vec <- c(1, 2, 3, 4)  # Numeric vector\n",
    "vec"
   ]
  },
  {
   "cell_type": "markdown",
   "id": "a90fd3d0-f144-4b41-9b6f-86c676712ad6",
   "metadata": {
    "jp-MarkdownHeadingCollapsed": true
   },
   "source": [
    "2. **List**: A collection of elements of different types.\n",
    "   ```R"
   ]
  },
  {
   "cell_type": "code",
   "execution_count": 54,
   "id": "4d1889dd-eaf5-4808-a76c-102f03b9f415",
   "metadata": {
    "jp-MarkdownHeadingCollapsed": true
   },
   "outputs": [
    {
     "data": {
      "text/html": [
       "<ol>\n",
       "\t<li>1</li>\n",
       "\t<li>'Hello'</li>\n",
       "\t<li>TRUE</li>\n",
       "</ol>\n"
      ],
      "text/latex": [
       "\\begin{enumerate}\n",
       "\\item 1\n",
       "\\item 'Hello'\n",
       "\\item TRUE\n",
       "\\end{enumerate}\n"
      ],
      "text/markdown": [
       "1. 1\n",
       "2. 'Hello'\n",
       "3. TRUE\n",
       "\n",
       "\n"
      ],
      "text/plain": [
       "[[1]]\n",
       "[1] 1\n",
       "\n",
       "[[2]]\n",
       "[1] \"Hello\"\n",
       "\n",
       "[[3]]\n",
       "[1] TRUE\n"
      ]
     },
     "metadata": {},
     "output_type": "display_data"
    }
   ],
   "source": [
    "lst <- list(1, \"Hello\", TRUE)  # List with different data types\n",
    "lst"
   ]
  },
  {
   "cell_type": "markdown",
   "id": "0df1f42d-27b4-41fa-bd01-227de47b5bca",
   "metadata": {
    "jp-MarkdownHeadingCollapsed": true
   },
   "source": [
    "3. **Matrix**: A two-dimensional array of the same type."
   ]
  },
  {
   "cell_type": "code",
   "execution_count": 53,
   "id": "7dc25a6a-321b-4125-8389-3ffe679bd374",
   "metadata": {
    "jp-MarkdownHeadingCollapsed": true
   },
   "outputs": [
    {
     "data": {
      "text/html": [
       "<table class=\"dataframe\">\n",
       "<caption>A matrix: 2 × 3 of type int</caption>\n",
       "<tbody>\n",
       "\t<tr><td>1</td><td>3</td><td>5</td></tr>\n",
       "\t<tr><td>2</td><td>4</td><td>6</td></tr>\n",
       "</tbody>\n",
       "</table>\n"
      ],
      "text/latex": [
       "A matrix: 2 × 3 of type int\n",
       "\\begin{tabular}{lll}\n",
       "\t 1 & 3 & 5\\\\\n",
       "\t 2 & 4 & 6\\\\\n",
       "\\end{tabular}\n"
      ],
      "text/markdown": [
       "\n",
       "A matrix: 2 × 3 of type int\n",
       "\n",
       "| 1 | 3 | 5 |\n",
       "| 2 | 4 | 6 |\n",
       "\n"
      ],
      "text/plain": [
       "     [,1] [,2] [,3]\n",
       "[1,] 1    3    5   \n",
       "[2,] 2    4    6   "
      ]
     },
     "metadata": {},
     "output_type": "display_data"
    }
   ],
   "source": [
    "mat <- matrix(1:6, nrow = 2)  # 2x3 numeric matrix\n",
    "mat"
   ]
  },
  {
   "cell_type": "markdown",
   "id": "c02cbfa0-535c-454a-ac8a-dbcda7ff825b",
   "metadata": {
    "jp-MarkdownHeadingCollapsed": true
   },
   "source": [
    "4. **Data Frame**: A table with columns that can store different data types."
   ]
  },
  {
   "cell_type": "code",
   "execution_count": 51,
   "id": "fd895a93-ef41-471b-b6f9-212eccb5e0d7",
   "metadata": {
    "jp-MarkdownHeadingCollapsed": true
   },
   "outputs": [],
   "source": [
    "df <- data.frame(Name = c(\"John\", \"Doe\"), Age = c(25, 30))"
   ]
  },
  {
   "cell_type": "code",
   "execution_count": 52,
   "id": "9db1231d-fe5f-4feb-9ec4-41200fc09d5e",
   "metadata": {
    "jp-MarkdownHeadingCollapsed": true
   },
   "outputs": [
    {
     "data": {
      "text/html": [
       "<table class=\"dataframe\">\n",
       "<caption>A data.frame: 2 × 2</caption>\n",
       "<thead>\n",
       "\t<tr><th scope=col>Name</th><th scope=col>Age</th></tr>\n",
       "\t<tr><th scope=col>&lt;chr&gt;</th><th scope=col>&lt;dbl&gt;</th></tr>\n",
       "</thead>\n",
       "<tbody>\n",
       "\t<tr><td>John</td><td>25</td></tr>\n",
       "\t<tr><td>Doe </td><td>30</td></tr>\n",
       "</tbody>\n",
       "</table>\n"
      ],
      "text/latex": [
       "A data.frame: 2 × 2\n",
       "\\begin{tabular}{ll}\n",
       " Name & Age\\\\\n",
       " <chr> & <dbl>\\\\\n",
       "\\hline\n",
       "\t John & 25\\\\\n",
       "\t Doe  & 30\\\\\n",
       "\\end{tabular}\n"
      ],
      "text/markdown": [
       "\n",
       "A data.frame: 2 × 2\n",
       "\n",
       "| Name &lt;chr&gt; | Age &lt;dbl&gt; |\n",
       "|---|---|\n",
       "| John | 25 |\n",
       "| Doe  | 30 |\n",
       "\n"
      ],
      "text/plain": [
       "  Name Age\n",
       "1 John 25 \n",
       "2 Doe  30 "
      ]
     },
     "metadata": {},
     "output_type": "display_data"
    }
   ],
   "source": [
    "df"
   ]
  },
  {
   "cell_type": "markdown",
   "id": "15a2f299-a0fb-4939-bcd5-9c7256b096a7",
   "metadata": {},
   "source": [
    "5. **Data Frame**: Used to represent categorical data with a fixed set of values (called levels).\n"
   ]
  },
  {
   "cell_type": "code",
   "execution_count": 227,
   "id": "1a1c3a35-ed7d-4a17-9c9e-26d49593a9bf",
   "metadata": {},
   "outputs": [
    {
     "data": {
      "text/html": [
       "<style>\n",
       ".list-inline {list-style: none; margin:0; padding: 0}\n",
       ".list-inline>li {display: inline-block}\n",
       ".list-inline>li:not(:last-child)::after {content: \"\\00b7\"; padding: 0 .5ex}\n",
       "</style>\n",
       "<ol class=list-inline><li>low</li><li>medium</li><li>high</li></ol>\n",
       "\n",
       "<details>\n",
       "\t<summary style=display:list-item;cursor:pointer>\n",
       "\t\t<strong>Levels</strong>:\n",
       "\t</summary>\n",
       "\t<style>\n",
       "\t.list-inline {list-style: none; margin:0; padding: 0}\n",
       "\t.list-inline>li {display: inline-block}\n",
       "\t.list-inline>li:not(:last-child)::after {content: \"\\00b7\"; padding: 0 .5ex}\n",
       "\t</style>\n",
       "\t<ol class=list-inline><li>'high'</li><li>'low'</li><li>'medium'</li></ol>\n",
       "</details>"
      ],
      "text/latex": [
       "\\begin{enumerate*}\n",
       "\\item low\n",
       "\\item medium\n",
       "\\item high\n",
       "\\end{enumerate*}\n",
       "\n",
       "\\emph{Levels}: \\begin{enumerate*}\n",
       "\\item 'high'\n",
       "\\item 'low'\n",
       "\\item 'medium'\n",
       "\\end{enumerate*}\n"
      ],
      "text/markdown": [
       "1. low\n",
       "2. medium\n",
       "3. high\n",
       "\n",
       "\n",
       "\n",
       "**Levels**: 1. 'high'\n",
       "2. 'low'\n",
       "3. 'medium'\n",
       "\n",
       "\n"
      ],
      "text/plain": [
       "[1] low    medium high  \n",
       "Levels: high low medium"
      ]
     },
     "metadata": {},
     "output_type": "display_data"
    }
   ],
   "source": [
    "factor_data <- factor(c(\"low\", \"medium\", \"high\"))\n",
    "factor_data"
   ]
  },
  {
   "cell_type": "markdown",
   "id": "c32581de-fc16-40cd-a376-9a2563c85820",
   "metadata": {},
   "source": [
    "### **Conclusion:**\n",
    "\n",
    "- **Variables** are containers that store data, and in R, you assign values to variables using `<-`.\n",
    "- **Data types** define the kind of values a variable can store, such as numeric, character, or logical.\n",
    "- Understanding data types helps you manage and manipulate data correctly in your R programs. You can also check and convert between data types as needed.\n",
    "\n",
    "Understanding these concepts is crucial for writing efficient and error-free R programs."
   ]
  },
  {
   "cell_type": "markdown",
   "id": "d6d016a4-1cce-42d1-ac92-43d4ca9b367b",
   "metadata": {},
   "source": [
    "## Operators:\n",
    "\n",
    "Arithmetic, relational, and logical operators."
   ]
  },
  {
   "cell_type": "markdown",
   "id": "bd47f806-98ce-4c17-967e-8fb3407a6b1d",
   "metadata": {},
   "source": [
    "### Operators in R\n",
    "\n",
    "Operators in R are symbols or combinations of symbols that perform operations on variables and values. R provides a variety of operators to carry out arithmetic, relational, logical, assignment, and other types of operations. Here’s an overview of the main types of operators in R:"
   ]
  },
  {
   "cell_type": "markdown",
   "id": "41b27666-0cdd-4096-a215-29477dce3da1",
   "metadata": {},
   "source": [
    "### **1. Arithmetic Operators**\n",
    "\n",
    "Arithmetic operators perform mathematical calculations.\n",
    "\n",
    "| Operator | Description           | Example         |\n",
    "|----------|-----------------------|-----------------|\n",
    "| `+`      | Addition              | `5 + 2` = 7     |\n",
    "| `-`      | Subtraction           | `5 - 2` = 3     |\n",
    "| `*`      | Multiplication        | `5 * 2` = 10    |\n",
    "| `/`      | Division              | `5 / 2` = 2.5   |\n",
    "| `^` or `**` | Exponentiation    | `5 ^ 2` = 25    |\n",
    "| `%%`     | Modulus (remainder)   | `5 %% 2` = 1    |\n",
    "| `%/%`    | Integer Division      | `5 %/% 2` = 2   |"
   ]
  },
  {
   "cell_type": "markdown",
   "id": "9c573a49-a6fa-4cc7-995d-6790b2f1a3df",
   "metadata": {},
   "source": [
    "#### **Example:**"
   ]
  },
  {
   "cell_type": "code",
   "execution_count": 229,
   "id": "743fce7c-a485-4f20-a5fe-f059ffb2ee2b",
   "metadata": {},
   "outputs": [
    {
     "name": "stdout",
     "output_type": "stream",
     "text": [
      "[1]   13.000000    7.000000   30.000000    3.333333 1000.000000    1.000000\n",
      "[7]    3.000000\n"
     ]
    }
   ],
   "source": [
    "\n",
    "x <- 10\n",
    "y <- 3\n",
    "\n",
    "sum <- x + y      # Addition\n",
    "diff <- x - y     # Subtraction\n",
    "prod <- x * y     # Multiplication\n",
    "quotient <- x / y # Division\n",
    "power <- x ^ y    # Exponentiation\n",
    "remainder <- x %% y # Modulus\n",
    "int_div <- x %/% y # Integer Division\n",
    "\n",
    "print(c(sum, diff, prod, quotient, power, remainder, int_div))\n"
   ]
  },
  {
   "cell_type": "markdown",
   "id": "3f6cf6ba-7f9b-4bab-93b0-c6d88b187a80",
   "metadata": {},
   "source": [
    "### **2. Relational (Comparison) Operators**\n",
    "\n",
    "Relational operators compare two values and return a logical value (`TRUE` or `FALSE`).\n",
    "\n",
    "| Operator | Description             | Example         |\n",
    "|----------|-------------------------|-----------------|\n",
    "| `==`     | Equal to                | `5 == 2` = FALSE|\n",
    "| `!=`     | Not equal to            | `5 != 2` = TRUE |\n",
    "| `>`      | Greater than            | `5 > 2` = TRUE  |\n",
    "| `<`      | Less than               | `5 < 2` = FALSE |\n",
    "| `>=`     | Greater than or equal to| `5 >= 2` = TRUE |\n",
    "| `<=`     | Less than or equal to   | `5 <= 2` = FALSE|"
   ]
  },
  {
   "cell_type": "markdown",
   "id": "63fa7a1b-2c20-4e00-812f-553c392ba765",
   "metadata": {},
   "source": [
    "#### **Example:**"
   ]
  },
  {
   "cell_type": "code",
   "execution_count": 75,
   "id": "ba90e053-23b2-493b-94a1-ffb47c5e2643",
   "metadata": {},
   "outputs": [
    {
     "name": "stdout",
     "output_type": "stream",
     "text": [
      "[1] FALSE\n",
      "[1] TRUE\n",
      "[1] TRUE\n",
      "[1] FALSE\n",
      "[1] TRUE\n",
      "[1] FALSE\n"
     ]
    }
   ],
   "source": [
    "\n",
    "x <- 5\n",
    "y <- 2\n",
    "\n",
    "print(x == y)   # Returns FALSE\n",
    "print(x != y)   # Returns TRUE\n",
    "print(x > y)    # Returns TRUE\n",
    "print(x < y)    # Returns FALSE\n",
    "print(x >= y)   # Returns TRUE\n",
    "print(x <= y)   # Returns FALSE\n"
   ]
  },
  {
   "cell_type": "markdown",
   "id": "3eb48a65-cc62-4e5f-b88e-3040ab2c1796",
   "metadata": {},
   "source": [
    "### **3. Logical Operators**\n",
    "\n",
    "Logical operators are used to combine multiple conditions and return a logical result (`TRUE` or `FALSE`)."
   ]
  },
  {
   "cell_type": "markdown",
   "id": "dd188f7b-b31e-4fc8-9d9e-fa387e5c2d6d",
   "metadata": {},
   "source": [
    "| Operator | Description        | Example         |\n",
    "|----------|--------------------|-----------------|\n",
    "| `&`      | Logical AND (element-wise) | `TRUE & FALSE` = FALSE |\n",
    "| `&&`     | Logical AND (first element) | `TRUE && FALSE` = FALSE |\n",
    "| `\\|`      | Logical OR (element-wise)  | `TRUE \\| FALSE` = TRUE  |\n",
    "| `\\|\\|`     | Logical OR (first element) | `TRUE \\|\\| FALSE` = TRUE |\n",
    "| `!`      | Logical NOT         | `!TRUE` = FALSE |"
   ]
  },
  {
   "cell_type": "markdown",
   "id": "4f2a030a-e2e5-4e5b-852e-d4ad55b5c44c",
   "metadata": {},
   "source": [
    "| Operator | Description | Example with Explanation |\n",
    "|----------|-------------|-------------------------|\n",
    "| `&` | Element-wise AND: Compares each corresponding element | `c(TRUE, FALSE) & c(TRUE, TRUE)` → `c(TRUE, FALSE)` |\n",
    "| `&&` | Strict AND: Only works with single logical values | `TRUE && FALSE` → `FALSE` |\n",
    "| `\\|` | Element-wise OR: Compares each corresponding element | `c(TRUE, FALSE) \\| c(FALSE, FALSE)` → `c(TRUE, FALSE)` |\n",
    "| `\\|\\|` | Strict OR: Only works with single logical values | `TRUE \\|\\| FALSE` → `TRUE` |\n",
    "| `!` | Logical NOT: Inverts logical values | `!c(TRUE, FALSE)` → `c(FALSE, TRUE)` |"
   ]
  },
  {
   "cell_type": "markdown",
   "id": "e9280bdc-9d88-4f07-aa39-62b7849a90b2",
   "metadata": {},
   "source": [
    "#### Key Points:\n",
    "\n",
    "1. **Vectorized vs Single Value Operations**\n",
    "   - `&` and `|`: Work element-wise on vectors\n",
    "   - `&&` and `||`: Only evaluate the first element of vectors\n",
    "\n",
    "2. **Short-circuit Evaluation**\n",
    "   - `&&` and `||` use short-circuit evaluation\n",
    "   - Stop as soon as result is determined"
   ]
  },
  {
   "cell_type": "code",
   "execution_count": 8,
   "id": "0f598d96-ac1d-41f5-8c87-25bda029eefa",
   "metadata": {},
   "outputs": [
    {
     "name": "stdout",
     "output_type": "stream",
     "text": [
      "[1] \"Safely handled\"\n"
     ]
    }
   ],
   "source": [
    "\n",
    "   # Short-circuit example\n",
    "   x <- NULL\n",
    "   if(is.null(x) || x > 0) {\n",
    "       print(\"Safely handled\")\n",
    "   }\n"
   ]
  },
  {
   "cell_type": "markdown",
   "id": "a5386c29-05db-4f76-89e7-d8298d1314fe",
   "metadata": {},
   "source": [
    "3. **Common Use Cases**\n",
    "   - Use `&` and `|` for vectorized operations and data manipulation\n",
    "   - Use `&&` and `||` in if statements and control flow\n",
    "\n",
    "4. **Best Practices**\n",
    "   - Always use `&&` and `||` in if statements\n",
    "   - Use `&` and `|` when working with vectors\n",
    "   - Be careful with `NA` values - they propagate through logical operations"
   ]
  },
  {
   "cell_type": "markdown",
   "id": "30d1fc00-7578-40c8-9de0-8ba05082497f",
   "metadata": {},
   "source": [
    "#### **Example:**"
   ]
  },
  {
   "cell_type": "code",
   "execution_count": 9,
   "id": "6dcbd367-03fe-4c9d-8948-6026698214cc",
   "metadata": {},
   "outputs": [
    {
     "data": {
      "text/html": [
       "<style>\n",
       ".list-inline {list-style: none; margin:0; padding: 0}\n",
       ".list-inline>li {display: inline-block}\n",
       ".list-inline>li:not(:last-child)::after {content: \"\\00b7\"; padding: 0 .5ex}\n",
       "</style>\n",
       "<ol class=list-inline><li>TRUE</li><li>FALSE</li><li>FALSE</li></ol>\n"
      ],
      "text/latex": [
       "\\begin{enumerate*}\n",
       "\\item TRUE\n",
       "\\item FALSE\n",
       "\\item FALSE\n",
       "\\end{enumerate*}\n"
      ],
      "text/markdown": [
       "1. TRUE\n",
       "2. FALSE\n",
       "3. FALSE\n",
       "\n",
       "\n"
      ],
      "text/plain": [
       "[1]  TRUE FALSE FALSE"
      ]
     },
     "metadata": {},
     "output_type": "display_data"
    }
   ],
   "source": [
    "# Example of element-wise AND\n",
    "x <- c(TRUE, FALSE, TRUE)\n",
    "y <- c(TRUE, TRUE, FALSE)\n",
    "x & y  # Returns: c(TRUE, FALSE, FALSE)"
   ]
  },
  {
   "cell_type": "code",
   "execution_count": 10,
   "id": "a0ddbe04-b7e8-40bd-beb1-9fb1b3c64768",
   "metadata": {},
   "outputs": [
    {
     "ename": "ERROR",
     "evalue": "Error in x && y: 'length = 3' in coercion to 'logical(1)'\n",
     "output_type": "error",
     "traceback": [
      "Error in x && y: 'length = 3' in coercion to 'logical(1)'\nTraceback:\n"
     ]
    }
   ],
   "source": [
    "# Example of single element AND\n",
    "x <- c(TRUE, FALSE, TRUE)\n",
    "y <- c(TRUE, TRUE, FALSE)\n",
    "x && y  # Returns: TRUE (only looks at x[1] and y[1])"
   ]
  },
  {
   "cell_type": "markdown",
   "id": "e265d462-63f3-4c6c-a0c2-ea98c785314b",
   "metadata": {},
   "source": [
    "The error `Error in x && y: 'length = 3' in coercion to 'logical(1)'` occurs because:\n",
    "- `&&` and `||` are strict operators that only work with single logical values\n",
    "- They cannot directly operate on vectors\n",
    "\n",
    "Here's the correct usage:"
   ]
  },
  {
   "cell_type": "code",
   "execution_count": 12,
   "id": "80d47e54-d4ba-4ea7-a068-d8379f31fc46",
   "metadata": {},
   "outputs": [
    {
     "data": {
      "text/html": [
       "<style>\n",
       ".list-inline {list-style: none; margin:0; padding: 0}\n",
       ".list-inline>li {display: inline-block}\n",
       ".list-inline>li:not(:last-child)::after {content: \"\\00b7\"; padding: 0 .5ex}\n",
       "</style>\n",
       "<ol class=list-inline><li>TRUE</li><li>FALSE</li><li>FALSE</li></ol>\n"
      ],
      "text/latex": [
       "\\begin{enumerate*}\n",
       "\\item TRUE\n",
       "\\item FALSE\n",
       "\\item FALSE\n",
       "\\end{enumerate*}\n"
      ],
      "text/markdown": [
       "1. TRUE\n",
       "2. FALSE\n",
       "3. FALSE\n",
       "\n",
       "\n"
      ],
      "text/plain": [
       "[1]  TRUE FALSE FALSE"
      ]
     },
     "metadata": {},
     "output_type": "display_data"
    }
   ],
   "source": [
    "# CORRECT: Element-wise operators with vectors\n",
    "x <- c(TRUE, FALSE, TRUE)\n",
    "y <- c(TRUE, TRUE, FALSE)\n",
    "x & y  # Works fine: c(TRUE, FALSE, FALSE)"
   ]
  },
  {
   "cell_type": "code",
   "execution_count": 13,
   "id": "e14b434a-bd45-4398-bd11-c908bab4a3c8",
   "metadata": {},
   "outputs": [
    {
     "data": {
      "text/html": [
       "FALSE"
      ],
      "text/latex": [
       "FALSE"
      ],
      "text/markdown": [
       "FALSE"
      ],
      "text/plain": [
       "[1] FALSE"
      ]
     },
     "metadata": {},
     "output_type": "display_data"
    }
   ],
   "source": [
    "# CORRECT: Strict operators with single values\n",
    "single_x <- TRUE\n",
    "single_y <- FALSE\n",
    "single_x && single_y  # Works fine: FALSE"
   ]
  },
  {
   "cell_type": "code",
   "execution_count": 14,
   "id": "ab50d284-9743-4682-bb4b-f15a128f2fcd",
   "metadata": {},
   "outputs": [
    {
     "ename": "ERROR",
     "evalue": "Error in x && y: 'length = 3' in coercion to 'logical(1)'\n",
     "output_type": "error",
     "traceback": [
      "Error in x && y: 'length = 3' in coercion to 'logical(1)'\nTraceback:\n"
     ]
    }
   ],
   "source": [
    "# INCORRECT: Will cause error\n",
    "x <- c(TRUE, FALSE, TRUE)\n",
    "y <- c(TRUE, TRUE, FALSE)\n",
    "x && y  # Error: Cannot use && with vectors"
   ]
  },
  {
   "cell_type": "markdown",
   "id": "ec73e4f1-5f54-4654-a932-87e71391680c",
   "metadata": {},
   "source": [
    " **Common Use Cases:**\n",
    "\n",
    "1. **Use `&` and `|` when:**"
   ]
  },
  {
   "cell_type": "markdown",
   "id": "1ae41e5c-5205-4f72-bcce-c41c2ebd778a",
   "metadata": {},
   "source": [
    "```r\n",
    "    # Data frame filtering\n",
    "df[df$age > 25 & df$salary < 50000, ]\n",
    "```"
   ]
  },
  {
   "cell_type": "markdown",
   "id": "3875c29c-fc0b-48db-b839-83dc280b2d2c",
   "metadata": {},
   "source": [
    "2. **Use `&&` and `||` when:**"
   ]
  },
  {
   "cell_type": "markdown",
   "id": "ba402f4c-b81a-4fdc-9349-a2b724238192",
   "metadata": {},
   "source": [
    "   ```r\n",
    "   # In if statements\n",
    "   if(is.numeric(x) && x > 0) {\n",
    "     print(\"Positive number\")\n",
    "   }\n",
    "   ```"
   ]
  },
  {
   "cell_type": "code",
   "execution_count": 17,
   "id": "88331250-6c8d-4bec-bbdc-8afe7a6fcf30",
   "metadata": {},
   "outputs": [
    {
     "name": "stdout",
     "output_type": "stream",
     "text": [
      "[1] FALSE FALSE  TRUE\n",
      "[1]  TRUE FALSE  TRUE\n",
      "[1] FALSE  TRUE FALSE\n"
     ]
    }
   ],
   "source": [
    "x <- c(TRUE, FALSE, TRUE)\n",
    "y <- c(FALSE, FALSE, TRUE)\n",
    "\n",
    "print(x & y)    # Element-wise AND: Returns c(FALSE, FALSE, TRUE)\n",
    "\n",
    "print(x | y)    # Element-wise OR: Returns c(TRUE, FALSE, TRUE)\n",
    "\n",
    "print(!x)       # NOT operator: Returns c(FALSE, TRUE, FALSE)"
   ]
  },
  {
   "cell_type": "markdown",
   "id": "02a61dbb-f6d0-42cd-8780-eff2306e54c4",
   "metadata": {},
   "source": [
    "### **4. Assignment Operators**\n",
    "\n",
    "Assignment operators are used to assign values to variables.\n",
    "\n",
    "| Operator | Description            | Example           |\n",
    "|----------|------------------------|-------------------|\n",
    "| `<-`     | Leftward assignment    | `x <- 5`          |\n",
    "| `->`     | Rightward assignment   | `5 -> x`          |\n",
    "| `<<-`    | Global leftward assignment | `x <<- 5`      |\n",
    "| `->>`    | Global rightward assignment| `5 ->> x`      |\n",
    "| `=`      | Assignment (used in functions)| `x = 5`    |\n",
    "\n",
    "- **`<-`** and **`=`** are the most common assignment operators in R.\n",
    "- **`<<-`** assigns a value to a global variable from within a function."
   ]
  },
  {
   "cell_type": "markdown",
   "id": "62cb547e-a087-4496-8257-077faefc57be",
   "metadata": {},
   "source": [
    "#### **Example:**"
   ]
  },
  {
   "cell_type": "code",
   "execution_count": 80,
   "id": "b88916b9-6dcf-4065-b547-eaccf696420e",
   "metadata": {},
   "outputs": [
    {
     "name": "stdout",
     "output_type": "stream",
     "text": [
      "[1] 10\n",
      "[1] 20\n"
     ]
    }
   ],
   "source": [
    "\n",
    "x <- 10   # Leftward assignment\n",
    "20 -> y   # Rightward assignment (equivalent to y <-20)\n",
    "\n",
    "print(x)\n",
    "print(y)\n"
   ]
  },
  {
   "cell_type": "markdown",
   "id": "9a773d3d-af9f-4013-8324-a0407613ceb1",
   "metadata": {},
   "source": [
    "### **5. Miscellaneous Operators**"
   ]
  },
  {
   "cell_type": "markdown",
   "id": "c07ceacd-e0c4-487e-a181-539dd4b9595f",
   "metadata": {},
   "source": [
    "#### **a. Colon Operator (`:`)**\n",
    "The colon (`:`) is used to create a sequence of numbers."
   ]
  },
  {
   "cell_type": "code",
   "execution_count": 81,
   "id": "65332458-4498-4d7d-8da7-9a794a6cfb1a",
   "metadata": {},
   "outputs": [
    {
     "name": "stdout",
     "output_type": "stream",
     "text": [
      "[1] 1 2 3 4 5\n"
     ]
    }
   ],
   "source": [
    "\n",
    "x <- 1:5  # Creates a sequence from 1 to 5\n",
    "print(x)  # Prints c(1, 2, 3, 4, 5)\n"
   ]
  },
  {
   "cell_type": "markdown",
   "id": "3168f505-cc51-46b6-a8dd-de1f9da1c208",
   "metadata": {},
   "source": [
    "#### **b. Sequence Generation (`seq()`)**\n",
    "The `seq()` function is used to generate a sequence with specific increments."
   ]
  },
  {
   "cell_type": "code",
   "execution_count": 82,
   "id": "8b4f453f-56a6-4b6d-a9ea-d664d0868f5a",
   "metadata": {},
   "outputs": [
    {
     "name": "stdout",
     "output_type": "stream",
     "text": [
      "[1] 1 3 5 7 9\n"
     ]
    }
   ],
   "source": [
    "\n",
    "x <- seq(1, 10, by=2)  # Creates a sequence from 1 to 10 with a step of 2\n",
    "print(x)  # Prints c(1, 3, 5, 7, 9)\n"
   ]
  },
  {
   "cell_type": "markdown",
   "id": "cb32b959-b9d8-4ae7-8685-da98a4c10f73",
   "metadata": {},
   "source": [
    "#### **c. Element Selection (`[]`, `[[]]`)**\n",
    "Used to select elements from a vector, matrix, or list."
   ]
  },
  {
   "cell_type": "code",
   "execution_count": 83,
   "id": "a628aa8b-ebfc-4ce9-95ce-f6b64ca51b2e",
   "metadata": {},
   "outputs": [
    {
     "name": "stdout",
     "output_type": "stream",
     "text": [
      "[1] 20\n"
     ]
    }
   ],
   "source": [
    "\n",
    "vec <- c(10, 20, 30, 40)\n",
    "print(vec[2])   # Access the second element (prints 20)\n"
   ]
  },
  {
   "cell_type": "markdown",
   "id": "d1712066-0034-4185-9f62-c14b7fe2d877",
   "metadata": {},
   "source": [
    "#### **d. List Access (`$`)**\n",
    "The `$` operator is used to access elements by name in a list or data frame."
   ]
  },
  {
   "cell_type": "code",
   "execution_count": 84,
   "id": "720075ab-c85f-4353-83ef-e3b53de2864a",
   "metadata": {},
   "outputs": [
    {
     "name": "stdout",
     "output_type": "stream",
     "text": [
      "[1] 1\n"
     ]
    }
   ],
   "source": [
    "\n",
    "data <- list(a = 1, b = 2)\n",
    "print(data$a)  # Access the element named 'a' (prints 1)\n"
   ]
  },
  {
   "cell_type": "markdown",
   "id": "c205702f-1a86-419f-bc10-c67cf82809b8",
   "metadata": {},
   "source": [
    "### **6. Special Operators**\n",
    "\n",
    "R provides a few operators that are specific to certain tasks."
   ]
  },
  {
   "cell_type": "markdown",
   "id": "e6e3f7c2-afbd-408b-b32e-0ff77186527a",
   "metadata": {},
   "source": [
    "#### **a. Matrix Multiplication (`%*%`)**\n",
    "Used for matrix multiplication."
   ]
  },
  {
   "cell_type": "code",
   "execution_count": 85,
   "id": "3f225b9d-dfd6-46cb-be63-a82b1d176f46",
   "metadata": {},
   "outputs": [
    {
     "name": "stdout",
     "output_type": "stream",
     "text": [
      "     [,1] [,2]\n",
      "[1,]   23   31\n",
      "[2,]   34   46\n"
     ]
    }
   ],
   "source": [
    "\n",
    "mat1 <- matrix(1:4, nrow=2)\n",
    "mat2 <- matrix(5:8, nrow=2)\n",
    "result <- mat1 %*% mat2\n",
    "print(result)  # Matrix multiplication\n"
   ]
  },
  {
   "cell_type": "markdown",
   "id": "badfc253-4dae-461d-92a7-b5203623aa5c",
   "metadata": {},
   "source": [
    "#### **b. Modulus and Integer Division (`%%` and `%/%`)**\n",
    "These operators are used for division-related operations:\n",
    "\n",
    "- **`%%`** gives the remainder.\n",
    "- **`%/%`** gives the integer part of division."
   ]
  },
  {
   "cell_type": "code",
   "execution_count": 86,
   "id": "f60d687a-d548-4069-a772-6f7d02db50c3",
   "metadata": {},
   "outputs": [
    {
     "name": "stdout",
     "output_type": "stream",
     "text": [
      "[1] 1\n",
      "[1] 3\n"
     ]
    }
   ],
   "source": [
    "\n",
    "x <- 10\n",
    "y <- 3\n",
    "\n",
    "print(x %% y)  # Returns 1 (remainder)\n",
    "print(x %/% y) # Returns 3 (integer division)\n"
   ]
  },
  {
   "cell_type": "markdown",
   "id": "594ece69-fb26-47db-8f66-962db45d2472",
   "metadata": {},
   "source": [
    "#### **c. In Operator (`%in%`)**\n",
    "Used to check whether an element exists in a vector or list."
   ]
  },
  {
   "cell_type": "code",
   "execution_count": 87,
   "id": "3bcbdd06-01c9-4286-945b-98bc72eea0f6",
   "metadata": {},
   "outputs": [
    {
     "name": "stdout",
     "output_type": "stream",
     "text": [
      "[1] TRUE\n"
     ]
    }
   ],
   "source": [
    "\n",
    "x <- 3\n",
    "y <- c(1, 2, 3, 4, 5)\n",
    "\n",
    "print(x %in% y)  # Returns TRUE (3 is in the vector y)\n"
   ]
  },
  {
   "cell_type": "markdown",
   "id": "b3855d09-feec-44b6-8dea-3f346379a1ba",
   "metadata": {},
   "source": [
    "### **7. Summary of Operators**\n",
    "\n",
    "1. **Arithmetic Operators**: Perform basic math operations (`+`, `-`, `*`, `/`, etc.).\n",
    "2. **Relational Operators**: Compare values (`==`, `!=`, `>`, `<`, etc.).\n",
    "3. **Logical Operators**: Combine conditions (`&`, `|`, `!`, etc.).\n",
    "4. **Assignment Operators**: Assign values to variables (`<-`, `=`, etc.).\n",
    "5. **Miscellaneous Operators**: Sequence creation (`:`), element selection (`[]`), list access (`$`), etc.\n",
    "6. **Special Operators**: Matrix multiplication (`%*%`), modulus (`%%`), and membership test (`%in%`)."
   ]
  },
  {
   "cell_type": "markdown",
   "id": "4e125231-c198-468e-b5d7-51c6f7221f5a",
   "metadata": {},
   "source": [
    "### **Conclusion:**\n",
    "\n",
    "Understanding these operators is crucial for performing calculations, comparisons, and data manipulations in R. Mastering how to use them efficiently will help you write more robust and flexible R programs."
   ]
  },
  {
   "cell_type": "code",
   "execution_count": null,
   "id": "fbacdfb3-9633-4b4a-9b76-300a48f16c36",
   "metadata": {},
   "outputs": [],
   "source": []
  },
  {
   "cell_type": "markdown",
   "id": "d327b12a-4963-4b57-b105-690ab7f5c6b1",
   "metadata": {},
   "source": [
    "## Control Structures:\n",
    "\n",
    "- if statements, for loops, while loops."
   ]
  },
  {
   "cell_type": "markdown",
   "id": "dbd92678-7d76-4eef-8d0c-0428474f074d",
   "metadata": {},
   "source": [
    "Control structures in R are used to control the flow of execution in a program. They help in making decisions, repeating tasks, or breaking out of certain operations. The most common control structures in R include **conditional statements** and **loops**."
   ]
  },
  {
   "cell_type": "markdown",
   "id": "b31657a6-8a82-4891-aef2-bec9f8ec4cc5",
   "metadata": {},
   "source": [
    "### **1. Conditional Statements (if, else if, else)**\n",
    "\n",
    "[Read](https://www.datamentor.io/r-programming/if-else-statement)\n",
    "\n",
    "Conditional statements allow the program to execute different pieces of code based on certain conditions.\n",
    "\n",
    "#### **if Statement**\n",
    "The `if` statement checks whether a condition is `TRUE`. If it is, the code inside the block is executed."
   ]
  },
  {
   "cell_type": "markdown",
   "id": "952d629b-93ac-412e-91ac-5fed2741aef3",
   "metadata": {},
   "source": [
    "![](https://www.datamentor.io/sites/tutorial2program/files/r-if-statement.jpg)"
   ]
  },
  {
   "cell_type": "code",
   "execution_count": 65,
   "id": "2f3757d3-9d3c-4896-ad98-d23272169379",
   "metadata": {},
   "outputs": [
    {
     "name": "stdout",
     "output_type": "stream",
     "text": [
      "[1] \"x is greater than 3\"\n"
     ]
    }
   ],
   "source": [
    "\n",
    "x <- 5\n",
    "\n",
    "if (x > 3) {\n",
    "  print(\"x is greater than 3\")\n",
    "}\n"
   ]
  },
  {
   "cell_type": "markdown",
   "id": "b6708cf4-d326-48c3-8ad0-0931ae46d482",
   "metadata": {},
   "source": [
    "#### **if-else Statement**\n",
    "The `else` block is executed when the condition in the `if` statement is `FALSE`."
   ]
  },
  {
   "cell_type": "markdown",
   "id": "cbec7bc5-bd84-4de2-8b4c-216c70aa0dd8",
   "metadata": {},
   "source": [
    "![](https://www.datamentor.io/sites/tutorial2program/files/r-if-else-statement.jpg)"
   ]
  },
  {
   "cell_type": "code",
   "execution_count": 64,
   "id": "7c1832e0-2c87-42a1-a0b4-28bc8420ca46",
   "metadata": {},
   "outputs": [
    {
     "name": "stdout",
     "output_type": "stream",
     "text": [
      "[1] \"x is less than or equal to 3\"\n"
     ]
    }
   ],
   "source": [
    "\n",
    "x <- 2\n",
    "\n",
    "if (x > 3) {\n",
    "  print(\"x is greater than 3\")\n",
    "} else {\n",
    "  print(\"x is less than or equal to 3\")\n",
    "}\n"
   ]
  },
  {
   "cell_type": "markdown",
   "id": "e608aeb3-5b56-456f-ae22-9480951cc6a1",
   "metadata": {},
   "source": [
    "#### **else if Statement**\n",
    "The `else if` statement allows you to check multiple conditions sequentially. If none of the conditions are `TRUE`, the `else` block (if provided) is executed."
   ]
  },
  {
   "cell_type": "code",
   "execution_count": null,
   "id": "e9fa1119-4ff9-4d0d-84b8-92353b28ee8e",
   "metadata": {},
   "outputs": [],
   "source": []
  },
  {
   "cell_type": "code",
   "execution_count": 63,
   "id": "efdd759b-357e-484e-beb4-85cc3e663793",
   "metadata": {},
   "outputs": [
    {
     "name": "stdout",
     "output_type": "stream",
     "text": [
      "[1] \"x is greater than 3 but less than or equal to 10\"\n"
     ]
    }
   ],
   "source": [
    "\n",
    "x <- 5\n",
    "\n",
    "if (x > 10) {\n",
    "  print(\"x is greater than 10\")\n",
    "} else if (x > 3) {\n",
    "  print(\"x is greater than 3 but less than or equal to 10\")\n",
    "} else {\n",
    "  print(\"x is less than or equal to 3\")\n",
    "}\n"
   ]
  },
  {
   "cell_type": "markdown",
   "id": "8a4b7e57-8677-435b-a7ad-bf8f25cb4c6c",
   "metadata": {},
   "source": [
    "\n",
    "\n",
    "### **2. Loops**\n",
    "\n",
    "Loops are used to repeat a block of code multiple times. There are several types of loops in R:\n",
    "\n",
    "#### **for Loop**\n",
    "The `for` loop repeats a block of code a specified number of times, iterating over elements in a sequence or vector."
   ]
  },
  {
   "cell_type": "markdown",
   "id": "9cc2b4da-f26e-417f-9b8d-abe5096a1f9b",
   "metadata": {},
   "source": [
    "![](https://www.datamentor.io/sites/tutorial2program/files/r-for-loop.jpg)"
   ]
  },
  {
   "cell_type": "code",
   "execution_count": 66,
   "id": "26c25960-5341-41cc-94cc-870e897c8208",
   "metadata": {},
   "outputs": [
    {
     "name": "stdout",
     "output_type": "stream",
     "text": [
      "[1] 1\n",
      "[1] 2\n",
      "[1] 3\n",
      "[1] 4\n",
      "[1] 5\n"
     ]
    }
   ],
   "source": [
    "\n",
    "# Example: Print numbers 1 to 5\n",
    "for (i in 1:5) {\n",
    "  print(i)\n",
    "}\n"
   ]
  },
  {
   "cell_type": "markdown",
   "id": "2d090ea0-2b4a-43ac-8040-2dbc7affa84d",
   "metadata": {},
   "source": [
    "In this example, the loop iterates over the numbers 1 to 5, printing each one.\n",
    "\n",
    "#### **while Loop**\n",
    "The `while` loop repeats a block of code as long as a specified condition is `TRUE`."
   ]
  },
  {
   "cell_type": "markdown",
   "id": "86f33232-43d4-437c-a70b-3f73f368d683",
   "metadata": {},
   "source": [
    "![](https://www.datamentor.io/sites/tutorial2program/files/r-while-loop.jpg)"
   ]
  },
  {
   "cell_type": "code",
   "execution_count": null,
   "id": "e42612d6-a483-410a-9f85-4339ed5a6ab9",
   "metadata": {},
   "outputs": [],
   "source": []
  },
  {
   "cell_type": "code",
   "execution_count": 67,
   "id": "9da35299-f367-4c90-9083-87f4107fc2c6",
   "metadata": {},
   "outputs": [
    {
     "name": "stdout",
     "output_type": "stream",
     "text": [
      "[1] 1\n",
      "[1] 2\n",
      "[1] 3\n",
      "[1] 4\n",
      "[1] 5\n"
     ]
    }
   ],
   "source": [
    "\n",
    "# Example: Print numbers from 1 to 5 using a while loop\n",
    "x <- 1\n",
    "\n",
    "while (x <= 5) {\n",
    "  print(x)\n",
    "  x <- x + 1\n",
    "}\n"
   ]
  },
  {
   "cell_type": "markdown",
   "id": "aaea8ada-8d7e-40b1-8851-3e97ffdeb4f7",
   "metadata": {},
   "source": [
    "In this example, the loop keeps running as long as `x` is less than or equal to 5. The value of `x` is incremented after each iteration.\n",
    "\n",
    "#### **repeat Loop**\n",
    "The `repeat` loop repeats a block of code indefinitely until a `break` statement is encountered."
   ]
  },
  {
   "cell_type": "markdown",
   "id": "b534eb58-fc31-47dc-90cc-ca1aadf9621f",
   "metadata": {},
   "source": [
    "![](https://www.datamentor.io/sites/tutorial2program/files/r-repeat-loop.jpg)"
   ]
  },
  {
   "cell_type": "code",
   "execution_count": 68,
   "id": "072e6b13-3f48-4326-92ce-4b25d0496714",
   "metadata": {},
   "outputs": [
    {
     "name": "stdout",
     "output_type": "stream",
     "text": [
      "[1] 1\n",
      "[1] 2\n",
      "[1] 3\n",
      "[1] 4\n",
      "[1] 5\n"
     ]
    }
   ],
   "source": [
    "\n",
    "# Example: Print numbers from 1 to 5 using a repeat loop\n",
    "x <- 1\n",
    "\n",
    "repeat {\n",
    "  print(x)\n",
    "  x <- x + 1\n",
    "  \n",
    "  if (x > 5) {\n",
    "    break  # Exit the loop when x becomes greater than 5\n",
    "  }\n",
    "}\n"
   ]
  },
  {
   "cell_type": "code",
   "execution_count": null,
   "id": "0a580832-879a-4508-869d-464acc4f046f",
   "metadata": {},
   "outputs": [],
   "source": []
  },
  {
   "cell_type": "markdown",
   "id": "974737d6-a774-4e12-a41d-a431c7d96547",
   "metadata": {},
   "source": [
    "In this example, the loop continues until `x` is greater than 5, at which point the `break` statement is used to exit the loop."
   ]
  },
  {
   "cell_type": "markdown",
   "id": "c23212ca-e1a3-4b68-9bed-544aa7c99c8e",
   "metadata": {},
   "source": [
    "key differences between repeat and while loops in R:\n",
    "\n",
    "1. Execution Order:\n",
    "- while loop: Checks the condition FIRST, then executes code if true\n",
    "```r"
   ]
  },
  {
   "cell_type": "code",
   "execution_count": 3,
   "id": "5553a4a8-4973-4f43-8b48-dad8ad36a6cd",
   "metadata": {},
   "outputs": [
    {
     "name": "stdout",
     "output_type": "stream",
     "text": [
      "[1] 1\n",
      "[1] 2\n",
      "[1] 3\n",
      "[1] 4\n"
     ]
    }
   ],
   "source": [
    "# while loop example\n",
    "x <- 1\n",
    "while(x < 5) {\n",
    "    print(x)\n",
    "    x <- x + 1\n",
    "}"
   ]
  },
  {
   "cell_type": "markdown",
   "id": "85d0cf12-fdf2-4e53-94a9-480f24f75e34",
   "metadata": {},
   "source": [
    "\n",
    "- repeat loop: Executes code FIRST, then checks condition to break\n"
   ]
  },
  {
   "cell_type": "code",
   "execution_count": 4,
   "id": "c4658783-dc7f-4142-8e91-8a23239e4760",
   "metadata": {},
   "outputs": [
    {
     "name": "stdout",
     "output_type": "stream",
     "text": [
      "[1] 1\n",
      "[1] 2\n",
      "[1] 3\n",
      "[1] 4\n"
     ]
    }
   ],
   "source": [
    "# repeat loop example  \n",
    "x <- 1\n",
    "repeat {\n",
    "    print(x)\n",
    "    x <- x + 1\n",
    "    if(x >= 5) break\n",
    "}"
   ]
  },
  {
   "cell_type": "markdown",
   "id": "4f10c1b5-2e44-4a91-8981-5d37fcacb1a5",
   "metadata": {},
   "source": [
    "2. Exit Condition:\n",
    "- while loop: Uses a condition in the loop header\n",
    "- repeat loop: Must explicitly use `break` statement inside the loop\n",
    "\n",
    "3. Guarantee of Execution:\n",
    "- while loop: May never execute if condition is false initially\n",
    "- repeat loop: Always executes at least once (similar to do-while in other languages)\n",
    "\n",
    "4. Common Use Cases:\n",
    "- while loop: Better when you know the condition beforehand\n",
    "- repeat loop: Better when you need to execute code at least once or when exit conditions are complex\n",
    "\n",
    "Would you like me to elaborate on any of these differences or provide more examples?"
   ]
  },
  {
   "cell_type": "markdown",
   "id": "bab7ffe5-39dd-40ae-98f7-516bfa84b3d7",
   "metadata": {},
   "source": [
    "### **3. Loop Control (break, next)**\n",
    "\n",
    "Loop control statements allow you to change the normal flow of loops.\n",
    "\n",
    "#### **break**\n",
    "The `break` statement is used to exit a loop prematurely when a specific condition is met."
   ]
  },
  {
   "cell_type": "markdown",
   "id": "4a7ffce8-7850-43b4-bb59-ff001bd94ad0",
   "metadata": {},
   "source": [
    "![](https://www.datamentor.io/sites/tutorial2program/files/r-break-flowchart.jpg)"
   ]
  },
  {
   "cell_type": "code",
   "execution_count": 69,
   "id": "09ebb973-d8f2-4ba9-8f3d-4dc336f03845",
   "metadata": {},
   "outputs": [
    {
     "name": "stdout",
     "output_type": "stream",
     "text": [
      "[1] 1\n",
      "[1] 2\n"
     ]
    }
   ],
   "source": [
    "\n",
    "# Example: Exit the loop when i equals 3\n",
    "for (i in 1:5) {\n",
    "  if (i == 3) {\n",
    "    break  # Exit the loop when i is 3\n",
    "  }\n",
    "  print(i)\n",
    "}\n"
   ]
  },
  {
   "cell_type": "markdown",
   "id": "7685de4a-4122-4488-93cd-a6fc11ef3a39",
   "metadata": {},
   "source": [
    "In this example, the loop stops when `i` equals 3, so only the numbers 1 and 2 are printed."
   ]
  },
  {
   "cell_type": "markdown",
   "id": "d94aec9f-5d50-40ee-b21a-2d668b38ba4b",
   "metadata": {},
   "source": [
    "#### **next**\n",
    "The `next` statement is used to skip the current iteration of a loop and move on to the next one."
   ]
  },
  {
   "cell_type": "markdown",
   "id": "4ddfc1d6-e5fd-45fc-957b-56197b65223d",
   "metadata": {},
   "source": [
    "![](https://www.datamentor.io/sites/tutorial2program/files/r-next-flowchart.png)"
   ]
  },
  {
   "cell_type": "code",
   "execution_count": 2,
   "id": "fef06cf5-5b26-47bb-80a1-3acc65022757",
   "metadata": {},
   "outputs": [
    {
     "name": "stdout",
     "output_type": "stream",
     "text": [
      "[1] 1\n",
      "[1] 2\n",
      "[1] 4\n",
      "[1] 5\n"
     ]
    }
   ],
   "source": [
    "\n",
    "# Example: Skip the number 3\n",
    "for (i in 1:5) {\n",
    "  if (i == 3) {\n",
    "    next  # Skip the current iteration when i is 3\n",
    "  }\n",
    "  print(i)\n",
    "}\n"
   ]
  },
  {
   "cell_type": "markdown",
   "id": "fbb6c500-03a0-48e1-8680-0e3abf2a0270",
   "metadata": {},
   "source": [
    "In this example, the loop skips the iteration where `i` equals 3, so 1, 2, 4, and 5 are printed, but not 3."
   ]
  },
  {
   "cell_type": "markdown",
   "id": "636d7277-753d-474c-81d8-8690aa858701",
   "metadata": {},
   "source": [
    "### **4. Logical Operators**\n",
    "\n",
    "Logical operators are used within control structures to create complex conditions.\n",
    "\n",
    "- **& (AND)**: Both conditions must be `TRUE`.\n",
    "- **| (OR)**: At least one of the conditions must be `TRUE`.\n",
    "- **! (NOT)**: Negates a condition (turns `TRUE` into `FALSE`, and vice versa)."
   ]
  },
  {
   "cell_type": "markdown",
   "id": "b32b0339-53a5-4d24-8d22-df4dd7dd5bca",
   "metadata": {},
   "source": [
    "#### **Example with Logical Operators:**"
   ]
  },
  {
   "cell_type": "code",
   "execution_count": 72,
   "id": "b9ef9a1d-c3d7-4b30-86dc-1e7bf174a3bc",
   "metadata": {},
   "outputs": [
    {
     "name": "stdout",
     "output_type": "stream",
     "text": [
      "[1] \"x is between 3 and 10\"\n"
     ]
    }
   ],
   "source": [
    "\n",
    "x <- 7\n",
    "\n",
    "if (x > 3 & x < 10) {\n",
    "  print(\"x is between 3 and 10\")\n",
    "}\n"
   ]
  },
  {
   "cell_type": "markdown",
   "id": "7a9bb5d8-2e87-4ef8-9086-3ed16a8fa09a",
   "metadata": {},
   "source": [
    "In this example, the condition is `TRUE` because `x` is greater than 3 and less than 10.\n",
    "\n",
    "\n",
    "\n",
    "### **5. Vectorized ifelse() Function**\n",
    "\n",
    "R also provides the `ifelse()` function, which allows you to apply conditional logic over vectors. This is useful when you want to apply conditions element-wise."
   ]
  },
  {
   "cell_type": "code",
   "execution_count": 73,
   "id": "a7986e63-9206-49e3-a881-5c87b10c9d55",
   "metadata": {},
   "outputs": [
    {
     "name": "stdout",
     "output_type": "stream",
     "text": [
      "[1] \"Odd\"  \"Even\" \"Odd\"  \"Even\" \"Odd\" \n"
     ]
    }
   ],
   "source": [
    "\n",
    "# Example: Check whether each number in a vector is even or odd\n",
    "numbers <- 1:5\n",
    "result <- ifelse(numbers %% 2 == 0, \"Even\", \"Odd\")\n",
    "print(result)\n"
   ]
  },
  {
   "cell_type": "markdown",
   "id": "fd2100c1-8bb3-4a96-b796-d92f79cfd254",
   "metadata": {},
   "source": [
    "In this example, the `ifelse()` function checks whether each element of `numbers` is even or odd. If the number is divisible by 2 (`numbers %% 2 == 0`), it returns `\"Even\"`, otherwise `\"Odd\"`."
   ]
  },
  {
   "cell_type": "markdown",
   "id": "e1d58f1c-07cb-4b3a-b251-fe68bba10605",
   "metadata": {},
   "source": [
    "### **Conclusion:**\n",
    "\n",
    "- **Conditional statements** (`if`, `else if`, `else`) allow for decision-making in your code.\n",
    "- **Loops** (`for`, `while`, `repeat`) enable you to execute a block of code multiple times.\n",
    "- **Loop control statements** (`break`, `next`) allow you to control the flow of loops, letting you exit or skip iterations.\n",
    "- R also provides the vectorized `ifelse()` function for efficient element-wise condition checking.\n",
    "\n",
    "Understanding and using these control structures will enable you to build dynamic and flexible programs in R."
   ]
  },
  {
   "cell_type": "markdown",
   "id": "bea624ae-14f2-48dc-9ea7-4a83e84a2d38",
   "metadata": {},
   "source": [
    "### Printing Values in R\n",
    "\n",
    "#### Basic Print Functions"
   ]
  },
  {
   "cell_type": "markdown",
   "id": "60a81a96-8b25-476d-a95d-fa356bd7c4e4",
   "metadata": {},
   "source": [
    "| Function | Description | Example |\n",
    "|----------|-------------|---------|\n",
    "| `print()` | Basic printing function | `print(\"Hello\")` → `[1] \"Hello\"` |\n",
    "| `cat()` | Concatenates and prints | `cat(\"Hello\", \"World\")` → `Hello World` |\n",
    "| `message()` | Displays messages | `message(\"Note:\")` → `Note:` |\n",
    "| `sprintf()` | Formatted string printing | `sprintf(\"Value: %d\", 42)` → `\"Value: 42\"` |"
   ]
  },
  {
   "cell_type": "markdown",
   "id": "052a4014-a39b-4bff-8fd2-fc5f2f00cc00",
   "metadata": {},
   "source": [
    "#### Key Differences\n",
    "\n",
    "1. **print() Function**"
   ]
  },
  {
   "cell_type": "code",
   "execution_count": 19,
   "id": "7fe98184-875f-4699-877d-0003b350967b",
   "metadata": {},
   "outputs": [
    {
     "name": "stdout",
     "output_type": "stream",
     "text": [
      "[1] 1 2 3\n"
     ]
    }
   ],
   "source": [
    "   # Prints with index\n",
    "   x <- c(1, 2, 3)\n",
    "   print(x)     # [1] 1 2 3\n",
    "   "
   ]
  },
  {
   "cell_type": "code",
   "execution_count": 20,
   "id": "d30f7783-1aef-4772-ae10-4ebb9b6527e0",
   "metadata": {},
   "outputs": [
    {
     "name": "stdout",
     "output_type": "stream",
     "text": [
      "[1] \"Hello\"\n"
     ]
    }
   ],
   "source": [
    "   # Prints each element on new line with quote marks for strings\n",
    "   print(\"Hello\")  # [1] \"Hello\""
   ]
  },
  {
   "cell_type": "markdown",
   "id": "20a50414-f6f0-41dc-8fc4-c8c474bf51fc",
   "metadata": {},
   "source": [
    "2. **cat() Function**"
   ]
  },
  {
   "cell_type": "code",
   "execution_count": 21,
   "id": "2ce55fb4-f026-49b7-b73f-e9797f508103",
   "metadata": {},
   "outputs": [
    {
     "name": "stdout",
     "output_type": "stream",
     "text": [
      "Hello World"
     ]
    }
   ],
   "source": [
    "   # Concatenates without index\n",
    "   cat(\"Hello\", \"World\")  # Hello World\n",
    "   "
   ]
  },
  {
   "cell_type": "code",
   "execution_count": 22,
   "id": "17d575c1-df0e-4bc6-9981-6da847c23c17",
   "metadata": {},
   "outputs": [
    {
     "name": "stdout",
     "output_type": "stream",
     "text": [
      "Line 1\n",
      "Line 2"
     ]
    }
   ],
   "source": [
    "   # Supports escape characters\n",
    "   cat(\"Line 1\\nLine 2\")  # Line 1\n",
    "                          # Line 2"
   ]
  },
  {
   "cell_type": "markdown",
   "id": "789348b7-9508-4c2b-ac45-28e410a94054",
   "metadata": {},
   "source": [
    "3. **message() Function**"
   ]
  },
  {
   "cell_type": "code",
   "execution_count": 23,
   "id": "9c326ad8-398c-4e0a-ac96-3ccb2e693537",
   "metadata": {},
   "outputs": [
    {
     "name": "stderr",
     "output_type": "stream",
     "text": [
      "Processing data...\n",
      "\n"
     ]
    }
   ],
   "source": [
    "\n",
    "   # Used for diagnostic messages\n",
    "   message(\"Processing data...\")  # Processing data...\n"
   ]
  },
  {
   "cell_type": "markdown",
   "id": "f2d65078-e878-4af2-89b2-d455b5ae008e",
   "metadata": {},
   "source": [
    "4. **sprintf() Function**"
   ]
  },
  {
   "cell_type": "code",
   "execution_count": 24,
   "id": "00d3027c-7212-4cb2-8d0c-77b47dd208e4",
   "metadata": {},
   "outputs": [
    {
     "data": {
      "text/html": [
       "'Name: John, Age: 25'"
      ],
      "text/latex": [
       "'Name: John, Age: 25'"
      ],
      "text/markdown": [
       "'Name: John, Age: 25'"
      ],
      "text/plain": [
       "[1] \"Name: John, Age: 25\""
      ]
     },
     "metadata": {},
     "output_type": "display_data"
    }
   ],
   "source": [
    "\n",
    "   # Formatted printing\n",
    "   name <- \"John\"\n",
    "   age <- 25\n",
    "   sprintf(\"Name: %s, Age: %d\", name, age)  # \"Name: John, Age: 25\"\n"
   ]
  },
  {
   "cell_type": "markdown",
   "id": "a45cc749-d5d9-4289-a852-11e14292ce55",
   "metadata": {},
   "source": [
    "#### Format Specifiers for sprintf()\n",
    "\n",
    "| Specifier | Description | Example |\n",
    "|-----------|-------------|---------|\n",
    "| `%s` | String | `sprintf(\"%s\", \"text\")` |\n",
    "| `%d` | Integer | `sprintf(\"%d\", 42)` |\n",
    "| `%f` | Float | `sprintf(\"%.2f\", 3.14159)` |\n",
    "| `%e` | Scientific | `sprintf(\"%e\", 1000000)` |\n",
    "\n",
    "#### Best Practices\n",
    "\n",
    "1. **Choose the Right Function:**\n",
    "   - Use `print()` for general output\n",
    "   - Use `cat()` for concatenated, formatted output\n",
    "   - Use `message()` for diagnostic messages\n",
    "   - Use `sprintf()` for complex string formatting\n",
    "\n",
    "2. **Formatting Numbers:**"
   ]
  },
  {
   "cell_type": "code",
   "execution_count": 25,
   "id": "03dfb70b-6222-44b3-ad08-5b17284c0d84",
   "metadata": {},
   "outputs": [
    {
     "data": {
      "text/html": [
       "'3.14'"
      ],
      "text/latex": [
       "'3.14'"
      ],
      "text/markdown": [
       "'3.14'"
      ],
      "text/plain": [
       "[1] \"3.14\""
      ]
     },
     "metadata": {},
     "output_type": "display_data"
    }
   ],
   "source": [
    "\n",
    "   # Round to 2 decimal places\n",
    "   num <- 3.14159\n",
    "   sprintf(\"%.2f\", num)  # \"3.14\"\n"
   ]
  },
  {
   "cell_type": "markdown",
   "id": "258aa139-eabf-4853-a824-c74b1423f6db",
   "metadata": {},
   "source": [
    "3. **Multiple Values:**"
   ]
  },
  {
   "cell_type": "code",
   "execution_count": 26,
   "id": "f2a66968-a412-4eff-9e27-d3675cad9ab7",
   "metadata": {},
   "outputs": [
    {
     "name": "stdout",
     "output_type": "stream",
     "text": [
      "Values: 1 2 3 \n"
     ]
    },
    {
     "data": {
      "text/html": [
       "'X: 10, Y: 20'"
      ],
      "text/latex": [
       "'X: 10, Y: 20'"
      ],
      "text/markdown": [
       "'X: 10, Y: 20'"
      ],
      "text/plain": [
       "[1] \"X: 10, Y: 20\""
      ]
     },
     "metadata": {},
     "output_type": "display_data"
    }
   ],
   "source": [
    "\n",
    "   # Using cat()\n",
    "   x <- 1:3\n",
    "   cat(\"Values:\", x, \"\\n\")  # Values: 1 2 3\n",
    "   \n",
    "   # Using sprintf()\n",
    "   sprintf(\"X: %d, Y: %d\", 10, 20)  # \"X: 10, Y: 20\"\n",
    "   "
   ]
  },
  {
   "cell_type": "markdown",
   "id": "9ceb96cb-1c66-47f0-b692-c258286dccef",
   "metadata": {},
   "source": [
    "4. **Suppressing Output:**"
   ]
  },
  {
   "cell_type": "code",
   "execution_count": 27,
   "id": "d91b7fee-c47d-403c-a810-976e71e1eb42",
   "metadata": {},
   "outputs": [
    {
     "name": "stdout",
     "output_type": "stream",
     "text": [
      "[1] \"Hidden\"\n"
     ]
    }
   ],
   "source": [
    "\n",
    "   # Using invisible()\n",
    "   invisible(print(\"Hidden\"))  # Nothing displayed\n",
    "   "
   ]
  },
  {
   "cell_type": "markdown",
   "id": "cee09f3c-7108-4564-89dd-2c8951b0b3a3",
   "metadata": {},
   "source": [
    "Would you like me to elaborate on any of these printing methods?"
   ]
  },
  {
   "cell_type": "markdown",
   "id": "3bc7c2c2-3f88-4776-bf0b-548cfbc3afde",
   "metadata": {},
   "source": [
    "## Functions\n",
    "\n",
    "What functions are, how to define and call them."
   ]
  },
  {
   "cell_type": "markdown",
   "id": "98a9439c-a733-434e-b902-8de81c7aa1d1",
   "metadata": {},
   "source": [
    "Functions are a fundamental concept in R, allowing you to group blocks of code into reusable components. They make your code modular, easier to debug, and more readable. A function takes inputs (called arguments), processes them, and returns an output (result). R also comes with many **built-in functions**, but you can create **user-defined functions** as well."
   ]
  },
  {
   "cell_type": "markdown",
   "id": "edc44543-b30f-4297-ab70-8c3f0f9b842e",
   "metadata": {},
   "source": [
    "### **1. What are Functions?**\n",
    "\n",
    "A function is a set of statements organized together to perform a specific task. Functions in R can:\n",
    "- Take inputs (called parameters or arguments).\n",
    "- Perform some operations using these inputs.\n",
    "- Return one or more outputs.\n",
    "\n",
    "#### **Built-in Functions Example:**"
   ]
  },
  {
   "cell_type": "code",
   "execution_count": 28,
   "id": "cf5fe905-795f-4eb6-b0aa-323c5f3838d0",
   "metadata": {},
   "outputs": [
    {
     "name": "stdout",
     "output_type": "stream",
     "text": [
      "[1] 4\n"
     ]
    }
   ],
   "source": [
    "\n",
    "# Example: sqrt() is a built-in function to calculate square root\n",
    "result <- sqrt(16)\n",
    "print(result)  # Output: 4\n"
   ]
  },
  {
   "cell_type": "markdown",
   "id": "ea973fba-10db-47d0-99d0-410e78ad22d9",
   "metadata": {},
   "source": [
    "In this example, `sqrt()` is a built-in function that takes one input (16) and returns its square root."
   ]
  },
  {
   "cell_type": "code",
   "execution_count": 1,
   "id": "2bcf07f9-5325-41b3-b4c6-1b627f9aceb2",
   "metadata": {},
   "outputs": [
    {
     "data": {
      "text/html": [
       "-0.251494165446204"
      ],
      "text/latex": [
       "-0.251494165446204"
      ],
      "text/markdown": [
       "-0.251494165446204"
      ],
      "text/plain": [
       "[1] -0.2514942"
      ]
     },
     "metadata": {},
     "output_type": "display_data"
    }
   ],
   "source": [
    "rnorm(1)"
   ]
  },
  {
   "cell_type": "code",
   "execution_count": 2,
   "id": "cfcdcae9-c16b-4c96-a098-eebf81cd5235",
   "metadata": {},
   "outputs": [
    {
     "data": {
      "text/html": [
       "<style>\n",
       ".list-inline {list-style: none; margin:0; padding: 0}\n",
       ".list-inline>li {display: inline-block}\n",
       ".list-inline>li:not(:last-child)::after {content: \"\\00b7\"; padding: 0 .5ex}\n",
       "</style>\n",
       "<ol class=list-inline><li>-0.466932613709445</li><li>0.813891327224931</li></ol>\n"
      ],
      "text/latex": [
       "\\begin{enumerate*}\n",
       "\\item -0.466932613709445\n",
       "\\item 0.813891327224931\n",
       "\\end{enumerate*}\n"
      ],
      "text/markdown": [
       "1. -0.466932613709445\n",
       "2. 0.813891327224931\n",
       "\n",
       "\n"
      ],
      "text/plain": [
       "[1] -0.4669326  0.8138913"
      ]
     },
     "metadata": {},
     "output_type": "display_data"
    }
   ],
   "source": [
    "rnorm(2)"
   ]
  },
  {
   "cell_type": "markdown",
   "id": "ad9ad8c8-47b2-467d-93bc-3003f3df3fbf",
   "metadata": {},
   "source": [
    "### **2. Defining a Function in R**\n",
    "\n",
    "To define a function in R, use the `function()` keyword. A function has the following components:\n",
    "- **Function Name**: A name to call the function.\n",
    "- **Arguments/Parameters**: Inputs the function will use.\n",
    "- **Body**: The block of code that performs the task.\n",
    "- **Return Value**: The output returned by the function.\n",
    "\n",
    "#### **Syntax:**"
   ]
  },
  {
   "cell_type": "code",
   "execution_count": 90,
   "id": "e5136d0e-cd70-4bd0-bdf3-115b7ca2f5f4",
   "metadata": {},
   "outputs": [],
   "source": [
    "\n",
    "function_name <- function(arg1, arg2, ...) {\n",
    "  # Code to execute\n",
    "  return(value)  # Optional, if not provided, the last evaluated expression is returned\n",
    "}\n"
   ]
  },
  {
   "cell_type": "markdown",
   "id": "96c4ff44-d7a0-4827-816a-2c8a8de0ce98",
   "metadata": {},
   "source": [
    "#### **Example: Simple Function**"
   ]
  },
  {
   "cell_type": "code",
   "execution_count": 91,
   "id": "9821d585-4301-4678-9824-5c16f3d2d959",
   "metadata": {},
   "outputs": [
    {
     "name": "stdout",
     "output_type": "stream",
     "text": [
      "[1] 8\n"
     ]
    }
   ],
   "source": [
    "\n",
    "# Define a function to add two numbers\n",
    "add_numbers <- function(a, b) {\n",
    "  sum <- a + b\n",
    "  return(sum)  # Return the sum\n",
    "}\n",
    "\n",
    "# Call the function\n",
    "result <- add_numbers(5, 3)\n",
    "print(result)  # Output: 8\n"
   ]
  },
  {
   "cell_type": "markdown",
   "id": "bd15da81-3dbd-4c0e-8549-d5abd9461d44",
   "metadata": {},
   "source": [
    "In this example, the function `add_numbers()` takes two inputs (`a` and `b`), adds them, and returns the result."
   ]
  },
  {
   "cell_type": "markdown",
   "id": "6cc51fe8-df98-4f5b-ae5f-efc9e26fde0c",
   "metadata": {},
   "source": [
    "### **3. Calling a Function**\n",
    "\n",
    "Once a function is defined, you can call it by using its name followed by parentheses containing the arguments.\n",
    "\n",
    "#### **Example:**"
   ]
  },
  {
   "cell_type": "code",
   "execution_count": 92,
   "id": "3516a17d-06db-45d7-a79d-ad8c22b92299",
   "metadata": {},
   "outputs": [
    {
     "name": "stdout",
     "output_type": "stream",
     "text": [
      "[1] 30\n"
     ]
    }
   ],
   "source": [
    "\n",
    "# Function call with arguments\n",
    "result <- add_numbers(10, 20)\n",
    "print(result)  # Output: 30\n"
   ]
  },
  {
   "cell_type": "markdown",
   "id": "46c05ece-8ea5-464a-95fd-7f333d810881",
   "metadata": {},
   "source": [
    "You can pass arguments directly when calling the function."
   ]
  },
  {
   "cell_type": "markdown",
   "id": "b97308f3-4bae-46dd-a1d2-486f23b18a61",
   "metadata": {},
   "source": [
    "### **4. Function Arguments**\n",
    "\n",
    "Functions in R can have several types of arguments:\n",
    "- **Positional Arguments**: Arguments are matched to function parameters by their position.\n",
    "- **Named Arguments**: Arguments can be passed using names, in any order.\n",
    "- **Default Arguments**: You can provide default values for arguments, which will be used if no value is supplied during the function call.\n",
    "\n",
    "#### **Example with Named and Default Arguments:**"
   ]
  },
  {
   "cell_type": "code",
   "execution_count": 93,
   "id": "f7e5d84e-f132-4377-938b-c3b04c46425b",
   "metadata": {},
   "outputs": [
    {
     "name": "stdout",
     "output_type": "stream",
     "text": [
      "[1] \"Hi Simran\"\n",
      "[1] \"Hello Simran\"\n"
     ]
    }
   ],
   "source": [
    "\n",
    "# Define a function with a default argument\n",
    "greet <- function(name, greeting = \"Hello\") {\n",
    "  paste(greeting, name)\n",
    "}\n",
    "\n",
    "# Call the function with both arguments\n",
    "print(greet(\"Simran\", \"Hi\"))  # Output: \"Hi Simran\"\n",
    "\n",
    "# Call the function using default value for greeting\n",
    "print(greet(\"Simran\"))  # Output: \"Hello Simran\"\n"
   ]
  },
  {
   "cell_type": "markdown",
   "id": "e226fff8-373c-40bf-af78-33c2e5c9b50c",
   "metadata": {},
   "source": [
    "### **5. Returning Values from Functions**\n",
    "\n",
    "A function can return a value using the `return()` statement, but if you don’t use `return()`, R will automatically return the value of the last evaluated expression.\n",
    "\n",
    "#### **Example:**"
   ]
  },
  {
   "cell_type": "code",
   "execution_count": 94,
   "id": "9d35c465-cccc-49bc-940c-bcf15fde833b",
   "metadata": {},
   "outputs": [
    {
     "name": "stdout",
     "output_type": "stream",
     "text": [
      "[1] 20\n"
     ]
    }
   ],
   "source": [
    "\n",
    "# Function without explicit return statement\n",
    "multiply <- function(a, b) {\n",
    "  a * b  # The last evaluated expression is returned\n",
    "}\n",
    "\n",
    "# Call the function\n",
    "result <- multiply(4, 5)\n",
    "print(result)  # Output: 20\n"
   ]
  },
  {
   "cell_type": "markdown",
   "id": "4946f406-e03b-43a0-b32e-77a44960c6b9",
   "metadata": {},
   "source": [
    "In this case, R automatically returns the result of `a * b` because it’s the last expression in the function."
   ]
  },
  {
   "cell_type": "markdown",
   "id": "14cdd0c7-3075-4300-aa0a-823414f3619a",
   "metadata": {},
   "source": [
    "### **6. Nested Functions**\n",
    "\n",
    "You can define functions within other functions. The inner function is only accessible within the outer function.\n",
    "\n",
    "#### **Example:**"
   ]
  },
  {
   "cell_type": "code",
   "execution_count": 95,
   "id": "06e8369c-6519-4977-a2bb-3b18c28888b0",
   "metadata": {},
   "outputs": [
    {
     "name": "stdout",
     "output_type": "stream",
     "text": [
      "[1] 21\n"
     ]
    }
   ],
   "source": [
    "\n",
    "# Define a function with a nested function\n",
    "outer_function <- function(x) {\n",
    "  inner_function <- function(y) {\n",
    "    return(y + 2)\n",
    "  }\n",
    "  \n",
    "  return(inner_function(x) * 3)\n",
    "}\n",
    "\n",
    "# Call the outer function\n",
    "result <- outer_function(5)\n",
    "print(result)  # Output: 21 (5 + 2 = 7; 7 * 3 = 21)\n"
   ]
  },
  {
   "cell_type": "markdown",
   "id": "70e091a6-3644-400a-972e-3bc238a9494c",
   "metadata": {},
   "source": [
    "### **7. Anonymous Functions**\n",
    "\n",
    "In R, you can create anonymous functions, i.e., functions without a name, especially useful for short tasks like passing functions as arguments to other functions.\n",
    "\n",
    "#### **Example:**"
   ]
  },
  {
   "cell_type": "code",
   "execution_count": 96,
   "id": "b1b2b9d6-c549-40ab-906c-482239fae612",
   "metadata": {},
   "outputs": [
    {
     "name": "stdout",
     "output_type": "stream",
     "text": [
      "[1]  1  4  9 16 25\n"
     ]
    }
   ],
   "source": [
    "\n",
    "# Define an anonymous function inside sapply\n",
    "result <- sapply(1:5, function(x) x^2)  # Squaring numbers from 1 to 5\n",
    "print(result)  # Output: 1 4 9 16 25\n"
   ]
  },
  {
   "cell_type": "markdown",
   "id": "b2142dd5-31b6-4136-8a9b-d52586a2952a",
   "metadata": {},
   "source": [
    "Here, the anonymous function squares each element in the sequence `1:5`."
   ]
  },
  {
   "cell_type": "markdown",
   "id": "5256d19b-27ed-4795-99df-8c6af6a89f05",
   "metadata": {},
   "source": [
    "### **8. Lazy Evaluation**\n",
    "\n",
    "R uses **lazy evaluation** for function arguments, meaning arguments are only evaluated when they are actually used inside the function.\n",
    "\n",
    "#### **Example:**"
   ]
  },
  {
   "cell_type": "code",
   "execution_count": 97,
   "id": "812ffea9-0f32-49cb-a9e0-a1fd9d14061f",
   "metadata": {},
   "outputs": [
    {
     "name": "stdout",
     "output_type": "stream",
     "text": [
      "[1] 10\n"
     ]
    }
   ],
   "source": [
    "\n",
    "lazy_function <- function(a, b) {\n",
    "  print(a)\n",
    "  # b is never used, so it won't be evaluated\n",
    "}\n",
    "\n",
    "lazy_function(10, stop(\"This will not be evaluated\"))  # Output: 10\n"
   ]
  },
  {
   "cell_type": "markdown",
   "id": "fb5044a9-3006-4aa2-bcce-9154baf6f35d",
   "metadata": {},
   "source": [
    "In this example, since `b` is not used inside the function, the error from `stop()` is never triggered."
   ]
  },
  {
   "cell_type": "markdown",
   "id": "b3157230-f10a-4bd0-8a11-a95cf4a3cd96",
   "metadata": {},
   "source": [
    "### **9. Variable Scope in Functions**\n",
    "\n",
    "In R, the scope of a variable refers to the regions of a program where the variable can be accessed. There are two types:\n",
    "- **Local Scope**: Variables declared inside a function are local to that function and cannot be accessed outside it.\n",
    "- **Global Scope**: Variables declared outside any function are global and can be accessed from anywhere in the program.\n",
    "\n",
    "#### **Example:**"
   ]
  },
  {
   "cell_type": "code",
   "execution_count": 98,
   "id": "85b5081f-8b74-43f9-95b2-fb8275a76bc9",
   "metadata": {},
   "outputs": [
    {
     "name": "stdout",
     "output_type": "stream",
     "text": [
      "[1] 5\n",
      "[1] 10\n"
     ]
    }
   ],
   "source": [
    "x <- 10  # Global variable\n",
    "\n",
    "my_function <- function() {\n",
    "  y <- 5  # Local variable\n",
    "  print(y)\n",
    "}\n",
    "\n",
    "my_function()  # Output: 5\n",
    "print(x)  # Output: 10\n",
    "# print(y)  # Error: object 'y' not found (because y is local to my_function)"
   ]
  },
  {
   "cell_type": "markdown",
   "id": "a8be9487-69b8-4547-9966-e4afd893e364",
   "metadata": {},
   "source": []
  },
  {
   "cell_type": "markdown",
   "id": "25ce8d69-76aa-4438-9eed-ea6121402e84",
   "metadata": {},
   "source": [
    "### **10. Common Built-in Functions**\n",
    "\n",
    "R comes with many useful built-in functions. Some commonly used ones include:\n",
    "\n",
    "- **`sum()`**: Adds all elements in a vector.\n",
    "- **`mean()`**: Computes the average of a numeric vector.\n",
    "- **`length()`**: Returns the number of elements in a vector.\n",
    "- **`max()` / `min()`**: Returns the maximum or minimum value in a vector.\n",
    "- **`sqrt()`**: Computes the square root of a number.\n",
    "- **`paste()`**: Concatenates strings."
   ]
  },
  {
   "cell_type": "markdown",
   "id": "64b4052c-d5b0-4ccb-bf40-00cc343d59b7",
   "metadata": {},
   "source": [
    "### **11. Function Documentation**\n",
    "\n",
    "It is a good practice to add comments or documentation inside your functions to explain what they do, what inputs they expect, and what outputs they produce. This makes it easier for others (and yourself) to understand the code later."
   ]
  },
  {
   "cell_type": "code",
   "execution_count": 100,
   "id": "6d1c4241-6c19-4eba-b65e-cf20512fb3cd",
   "metadata": {},
   "outputs": [],
   "source": [
    "\n",
    "# Function to calculate the area of a rectangle\n",
    "# Args:\n",
    "#   length: The length of the rectangle.\n",
    "#   width: The width of the rectangle.\n",
    "# Returns:\n",
    "#   The area of the rectangle.\n",
    "calculate_area <- function(length, width) {\n",
    "  area <- length * width\n",
    "  return(area)\n",
    "}\n"
   ]
  },
  {
   "cell_type": "markdown",
   "id": "c576b087-771b-4dc9-8549-770e3e2e6a1a",
   "metadata": {},
   "source": [
    "### **Conclusion:**\n",
    "\n",
    "- Functions in R are essential tools for making your code reusable, modular, and easier to manage.\n",
    "- You can define functions using the `function()` keyword, and they can take arguments, return values, and perform complex tasks.\n",
    "- Functions can have default arguments, return values explicitly or implicitly, and even be anonymous or nested.\n",
    "- Understanding functions in R will allow you to write cleaner, more efficient code, making it easier to handle complex tasks."
   ]
  },
  {
   "cell_type": "markdown",
   "id": "ddff6114-9917-4d43-82a9-dbe70e85e272",
   "metadata": {},
   "source": [
    "## Built-in functions in base R"
   ]
  },
  {
   "cell_type": "markdown",
   "id": "2065819f-bc34-4ab4-a34f-81e0a555d0fa",
   "metadata": {},
   "source": [
    "R has a vast number of built-in functions, and they are organized into different packages that come pre-installed with R. Here’s a categorized summary of some of the most commonly used built-in functions in base R:\n",
    "\n",
    "### **1. Basic Data Handling Functions**\n",
    "- **`c()`**: Combine values into a vector or list.\n",
    "- **`length()`**: Get the length of a vector or list.\n",
    "- **`sum()`, `mean()`, `median()`, `sd()`, `var()`**: Basic statistical functions.\n",
    "- **`min()`, `max()`, `range()`**: Find minimum, maximum, and range of values.\n",
    "- **`sort()`, `order()`, `rank()`**: Sorting and ranking functions.\n",
    "\n",
    "### **2. Type Conversion Functions**\n",
    "- **`as.numeric()`, `as.character()`, `as.factor()`, `as.Date()`, `as.matrix()`, `as.data.frame()`**: Convert objects to different types.\n",
    "\n",
    "### **3. Logical Functions**\n",
    "- **`is.na()`, `anyNA()`**: Check for missing values.\n",
    "- **`is.numeric()`, `is.character()`, `is.logical()`, `is.data.frame()`, etc.**: Test for specific data types.\n",
    "- **`any()`, `all()`**: Check if any or all values meet a condition.\n",
    "- **`which()`**: Identify indices that meet a condition.\n",
    "\n",
    "### **4. Mathematical Functions**\n",
    "- **`abs()`, `sqrt()`, `log()`, `exp()`, `round()`, `ceiling()`, `floor()`, `sin()`, `cos()`, `tan()`**: Mathematical and trigonometric operations.\n",
    "\n",
    "### **5. Statistical Functions**\n",
    "- **`mean()`, `median()`, `sd()`, `var()`, `cov()`, `cor()`, `quantile()`**: Summary statistics.\n",
    "- **`summary()`**: Provides a summary of an object, including min, median, mean, max, etc.\n",
    "- **`table()`, `prop.table()`**: Create frequency and proportion tables.\n",
    "\n",
    "### **6. Random Number Generation and Probability Functions**\n",
    "- **`sample()`**: Generate random samples.\n",
    "- **`rnorm()`, `runif()`, `rbinom()`, `rpois()`, etc.**: Generate random numbers from specific distributions.\n",
    "- **`dnorm()`, `dunif()`, `dbinom()`, `dpois()`, etc.**: Density functions.\n",
    "- **`pnorm()`, `punif()`, `pbinom()`, `ppois()`, etc.**: Cumulative distribution functions.\n",
    "\n",
    "### **7. Data Manipulation Functions**\n",
    "- **`subset()`**: Subset data frames or matrices based on conditions.\n",
    "- **`merge()`**: Merge two data frames.\n",
    "- **`rbind()`, `cbind()`**: Row-bind and column-bind data frames or matrices.\n",
    "- **`apply()`, `lapply()`, `sapply()`, `tapply()`, `mapply()`**: Apply functions over elements or dimensions.\n",
    "- **`aggregate()`**: Aggregate data based on a grouping factor.\n",
    "\n",
    "### **8. String Handling Functions**\n",
    "- **`nchar()`**: Count the number of characters.\n",
    "- **`toupper()`, `tolower()`**: Convert text to upper or lower case.\n",
    "- **`paste()`, `paste0()`**: Concatenate strings.\n",
    "- **`grep()`, `grepl()`, `gsub()`**: Search and replace patterns in strings.\n",
    "\n",
    "### **9. Date and Time Functions**\n",
    "- **`Sys.Date()`, `Sys.time()`**: Get the current date or time.\n",
    "- **`as.Date()`, `as.POSIXct()`, `as.POSIXlt()`**: Convert to date or time formats.\n",
    "- **`format()`**: Format dates and times.\n",
    "- **`difftime()`**: Calculate time difference.\n",
    "\n",
    "### **10. Plotting and Graphics Functions**\n",
    "- **`plot()`, `hist()`, `boxplot()`, `barplot()`, `pie()`, `pairs()`**: Basic plotting functions.\n",
    "- **`lines()`, `points()`, `text()`, `legend()`**: Add elements to existing plots.\n",
    "- **`abline()`, `curve()`**: Add lines and curves to plots.\n",
    "- **`par()`**: Set or query graphical parameters.\n",
    "\n",
    "### **11. Control Flow Functions**\n",
    "- **`if()`, `else`, `ifelse()`**: Conditional statements.\n",
    "- **`for()`, `while()`, `repeat()`**: Looping structures.\n",
    "- **`break`, `next`**: Control statements to exit or skip iterations in loops.\n",
    "\n",
    "### **12. Environment and Workspace Functions**\n",
    "- **`ls()`, `rm()`, `exists()`**: List, remove, or check objects in the environment.\n",
    "- **`getwd()`, `setwd()`**: Get or set the working directory.\n",
    "- **`save()`, `load()`**: Save or load R objects.\n",
    "- **`library()`, `require()`**: Load packages.\n",
    "\n",
    "### **13. File I/O Functions**\n",
    "- **`read.csv()`, `read.table()`, `readLines()`, `scan()`**: Read data from files.\n",
    "- **`write.csv()`, `write.table()`, `writeLines()`**: Write data to files.\n",
    "\n",
    "### **14. Function Definition and Debugging Functions**\n",
    "- **`function()`**: Define a function.\n",
    "- **`formals()`, `body()`, `environment()`**: Get or set parts of a function.\n",
    "- **`traceback()`, `debug()`, `browser()`, `tryCatch()`**: Debugging tools.\n",
    "\n",
    "### **15. Utility Functions**\n",
    "- **`print()`, `cat()`**: Print objects to the console.\n",
    "- **`str()`**: Display the internal structure of an R object.\n",
    "- **`typeof()`, `class()`**: Get the type or class of an object.\n",
    "- **`rep()`, `seq()`**: Repeat or generate sequences.\n",
    "\n"
   ]
  },
  {
   "cell_type": "markdown",
   "id": "69ae6fc9-59fd-45bd-9c8b-798820d994bf",
   "metadata": {},
   "source": [
    "### **16. Statistical Modeling and Regression Functions**\n",
    "- **`lm()`**: Linear modeling for regression analysis.\n",
    "- **`glm()`**: Generalized linear models, including logistic regression.\n",
    "- **`nls()`**: Nonlinear least squares fitting.\n",
    "- **`predict()`**: Predict values based on a model.\n",
    "- **`aov()`, `anova()`**: Analysis of variance for comparing models.\n",
    "- **`step()`**: Stepwise model selection.\n",
    "- **`summary()`**: Summarize model results.\n",
    "\n",
    "### **17. Hypothesis Testing Functions**\n",
    "- **`t.test()`**: Perform a t-test.\n",
    "- **`chisq.test()`**: Chi-squared test for independence.\n",
    "- **`cor.test()`**: Test for correlation between variables.\n",
    "- **`wilcox.test()`**: Wilcoxon rank-sum test.\n",
    "- **`kruskal.test()`**: Kruskal-Wallis rank-sum test.\n",
    "- **`fisher.test()`**: Fisher’s exact test for count data.\n",
    "\n",
    "### **18. Advanced Matrix and Array Manipulation**\n",
    "- **`matrix()`**: Create a matrix.\n",
    "- **`array()`**: Create an array with more than two dimensions.\n",
    "- **`apply()`, `sweep()`, `outer()`**: Apply functions over margins of arrays.\n",
    "- **`diag()`, `t()`, `rowSums()`, `colSums()`, `rowMeans()`, `colMeans()`**: Matrix-specific functions.\n",
    "\n",
    "### **19. Reshaping and Data Transformation**\n",
    "- **`reshape()`, `reshape2::melt()`, `reshape2::cast()`**: Reshape data frames (from wide to long format and vice versa).\n",
    "- **`cut()`**: Convert numeric data into categorical (factor) data.\n",
    "- **`stack()`, `unstack()`**: Stack or unstack data frames for reshaping.\n",
    "- **`split()`**: Split a data frame or vector by a factor.\n",
    "\n",
    "### **20. Time Series and Date Analysis**\n",
    "- **`ts()`**: Create a time series object.\n",
    "- **`acf()`, `pacf()`**: Autocorrelation and partial autocorrelation functions.\n",
    "- **`decompose()`**: Decompose a time series into seasonal, trend, and remainder components.\n",
    "- **`stl()`**: Seasonal decomposition of time series by Loess smoothing.\n",
    "- **`diff()`**: Calculate lagged differences for time series.\n",
    "\n",
    "### **21. Optimization and Numerical Methods**\n",
    "- **`optim()`**: General-purpose optimization function.\n",
    "- **`nlm()`**: Nonlinear minimization.\n",
    "- **`constrOptim()`**: Optimization with constraints.\n",
    "- **`uniroot()`**: Find roots of continuous functions.\n",
    "- **`integrate()`**: Numerical integration of functions.\n",
    "\n",
    "### **22. Special Mathematical Functions**\n",
    "- **`choose()`, `factorial()`, `gamma()`, `lgamma()`**: Combinatorial and gamma functions.\n",
    "- **`round()`, `signif()`, `floor()`, `ceiling()`**: Rounding and approximation.\n",
    "- **`Re()`, `Im()`**: Real and imaginary parts of complex numbers.\n",
    "- **`Mod()`, `Arg()`**: Modulus and argument of complex numbers.\n",
    "\n",
    "### **23. Set Operations**\n",
    "- **`union()`, `intersect()`, `setdiff()`**: Set operations on vectors.\n",
    "- **`unique()`, `duplicated()`**: Find unique or duplicated values.\n",
    "- **`match()`, `%in%`**: Matching and logical operations on vectors.\n",
    "\n",
    "### **24. Package Management and Utilities**\n",
    "- **`install.packages()`**: Install a new package.\n",
    "- **`library()`**: Load a package.\n",
    "- **`require()`**: Conditionally load a package.\n",
    "- **`update.packages()`**: Update installed packages.\n",
    "- **`find.package()`**: Find paths of installed packages.\n",
    "\n",
    "### **25. Memory and System Functions**\n",
    "- **`gc()`**: Trigger garbage collection to free up memory.\n",
    "- **`memory.size()`, `memory.limit()`**: Memory management on Windows.\n",
    "- **`system()`**, **`system2()`**: Call external OS commands.\n",
    "- **`Sys.info()`, `Sys.time()`, `Sys.sleep()`**: Get system info, time, or sleep function.\n",
    "\n",
    "### **26. Utility Functions for Programming**\n",
    "- **`identical()`, `all.equal()`**: Compare objects for equality.\n",
    "- **`eval()`**: Evaluate an expression.\n",
    "- **`substitute()`, `quote()`, `expression()`**: Expression handling functions.\n",
    "- **`with()`, `within()`**: Evaluate code within a data context.\n",
    "\n",
    "---\n",
    "\n",
    "### **Specialized Packages with Additional Functions**\n",
    "\n",
    "Apart from these base functions, R has specialized packages that provide even more functions tailored to specific needs. Some popular packages include:\n",
    "\n",
    "- **`dplyr`**: Provides functions for data manipulation (e.g., `filter()`, `select()`, `mutate()`, `summarize()`).\n",
    "- **`tidyr`**: Data tidying tools (e.g., `gather()`, `spread()`, `pivot_longer()`, `pivot_wider()`).\n",
    "- **`ggplot2`**: Advanced data visualization functions (e.g., `ggplot()`, `geom_point()`, `geom_bar()`).\n",
    "- **`stringr`**: String manipulation functions (e.g., `str_detect()`, `str_replace()`, `str_split()`).\n",
    "- **`lubridate`**: Date and time manipulation (e.g., `ymd()`, `hms()`, `interval()`).\n",
    "- **`caret`**: Functions for machine learning (e.g., `train()`, `predict()`, `confusionMatrix()`).\n",
    "\n",
    "---\n",
    "\n",
    "\n",
    "\n",
    "This list covers some of the core built-in functions in R, though there are many more specific functions in R’s standard and contributed packages. You can access the full list by typing `help.start()` in the R console, and for a quick reference, type `help()` followed by the function name (e.g., `help(mean)`) to get detailed documentation on any function.\n",
    "\n",
    "Each of these categories or packages enables further possibilities, and for a full listing, it can be helpful to explore R's built-in help functions such as:\n",
    "\n",
    "```r\n",
    "help.start()  # Opens the full R documentation in a web browser.\n",
    "help(package = \"base\")  # Lists all functions in the base package.\n",
    "``` \n",
    "\n",
    "In combination, these functions cover almost all data manipulation, analysis, and visualization needs in R."
   ]
  },
  {
   "cell_type": "markdown",
   "id": "07d5855b-42b1-40e6-82ab-252fcccf991e",
   "metadata": {},
   "source": [
    "## Data Structures\n",
    "\n",
    "Vectors, lists, matrices, data frames, and factors."
   ]
  },
  {
   "cell_type": "markdown",
   "id": "f252503a-773e-4ef3-a7ad-999cabf389c1",
   "metadata": {},
   "source": [
    "### Data Structures in R\n",
    "\n",
    "R provides various data structures that allow you to organize and manipulate data efficiently. Each data structure is suited for specific tasks, making it crucial to choose the right one based on your needs. The most common data structures in R are:\n",
    "- **Vectors**\n",
    "- **Lists**\n",
    "- **Matrices**\n",
    "- **Data Frames**\n",
    "- **Factors**\n",
    "  \n",
    "These structures vary in terms of dimension, type of data they can store, and how they are used."
   ]
  },
  {
   "cell_type": "markdown",
   "id": "78aede49-ec6c-4276-bc80-28fa94f98803",
   "metadata": {},
   "source": [
    "### **1. Vectors**\n",
    "\n",
    "A **vector** is the simplest and most basic data structure in R. It is a one-dimensional array that holds elements of the same type, such as numeric, character, logical, or integer.\n",
    "\n",
    "#### **Types of Vectors:**\n",
    "- **Numeric Vector**: Stores numbers (e.g., 1.5, 2.3, -5).\n",
    "- **Integer Vector**: Stores integer values (e.g., 1, 2, -10).\n",
    "- **Character Vector**: Stores text (e.g., \"apple\", \"banana\").\n",
    "- **Logical Vector**: Stores boolean values (`TRUE`, `FALSE`).\n"
   ]
  },
  {
   "cell_type": "markdown",
   "id": "c6db4a26-efa9-4a63-864f-9992dddf2bf9",
   "metadata": {},
   "source": [
    "- **Vector Arithmetic**: Vectors support element-wise operations."
   ]
  },
  {
   "cell_type": "code",
   "execution_count": 5,
   "id": "8dfcc34b-e187-4c0b-b6f7-3ad6f55b0111",
   "metadata": {},
   "outputs": [],
   "source": [
    "vec1 <- c(1, 2, 3)\n",
    "vec2 <- c(4, 5, 6)\n",
    "result <- vec1 + vec2  # Element-wise addition: c(5, 7, 9)"
   ]
  },
  {
   "cell_type": "markdown",
   "id": "26bd0091-1cd0-4961-9d98-4311b1e1bfa4",
   "metadata": {},
   "source": [
    "**1. What is a Vector?**\n",
    "A vector in R is a one-dimensional data structure that contains elements of the same type (numeric, character, logical, etc.). Vectors can have any length, including zero (an empty vector).\n",
    "\n",
    "- **Homogeneous Structure**: All elements within a vector must be of the same type. If you try to mix types, R will coerce them to the most flexible type.\n",
    "- **Types of Vectors**: Numeric, character, logical, integer, and complex.\n",
    "\n",
    "---\n",
    "\n",
    "**2. Creating Vectors**\n",
    "You can create vectors in R using a variety of methods.\n",
    "\n",
    "- **Using `c()` (Combine)**:"
   ]
  },
  {
   "cell_type": "code",
   "execution_count": 19,
   "id": "075f7139-02a3-44e5-917a-1628060ae999",
   "metadata": {},
   "outputs": [],
   "source": [
    "\n",
    "numeric_vector <- c(1, 2, 3, 4, 5)      # Numeric vector\n",
    "character_vector <- c(\"a\", \"b\", \"c\")    # Character vector\n",
    "logical_vector <- c(TRUE, FALSE, TRUE)  # Logical vector\n",
    "  "
   ]
  },
  {
   "cell_type": "markdown",
   "id": "259908b0-daa7-4ffa-8d06-171a9100fcfe",
   "metadata": {},
   "source": [
    "  \n",
    "- **Using `:` for Sequences**:"
   ]
  },
  {
   "cell_type": "code",
   "execution_count": 20,
   "id": "e4feab72-9269-417c-9693-1257b55538c1",
   "metadata": {},
   "outputs": [
    {
     "data": {
      "text/html": [
       "<style>\n",
       ".list-inline {list-style: none; margin:0; padding: 0}\n",
       ".list-inline>li {display: inline-block}\n",
       ".list-inline>li:not(:last-child)::after {content: \"\\00b7\"; padding: 0 .5ex}\n",
       "</style>\n",
       "<ol class=list-inline><li>1</li><li>2</li><li>3</li><li>4</li><li>5</li><li>6</li><li>7</li><li>8</li><li>9</li><li>10</li></ol>\n"
      ],
      "text/latex": [
       "\\begin{enumerate*}\n",
       "\\item 1\n",
       "\\item 2\n",
       "\\item 3\n",
       "\\item 4\n",
       "\\item 5\n",
       "\\item 6\n",
       "\\item 7\n",
       "\\item 8\n",
       "\\item 9\n",
       "\\item 10\n",
       "\\end{enumerate*}\n"
      ],
      "text/markdown": [
       "1. 1\n",
       "2. 2\n",
       "3. 3\n",
       "4. 4\n",
       "5. 5\n",
       "6. 6\n",
       "7. 7\n",
       "8. 8\n",
       "9. 9\n",
       "10. 10\n",
       "\n",
       "\n"
      ],
      "text/plain": [
       " [1]  1  2  3  4  5  6  7  8  9 10"
      ]
     },
     "metadata": {},
     "output_type": "display_data"
    }
   ],
   "source": [
    "\n",
    "seq_vector <- 1:10  # Creates a sequence from 1 to 10\n",
    "seq_vector"
   ]
  },
  {
   "cell_type": "markdown",
   "id": "5609db0c-c5ff-4c4f-aaab-c319fda38593",
   "metadata": {},
   "source": [
    "- **Using `seq()`**:"
   ]
  },
  {
   "cell_type": "code",
   "execution_count": 22,
   "id": "f0e4ac8b-2b11-48e7-9a74-b37900136d4a",
   "metadata": {},
   "outputs": [
    {
     "data": {
      "text/html": [
       "<style>\n",
       ".list-inline {list-style: none; margin:0; padding: 0}\n",
       ".list-inline>li {display: inline-block}\n",
       ".list-inline>li:not(:last-child)::after {content: \"\\00b7\"; padding: 0 .5ex}\n",
       "</style>\n",
       "<ol class=list-inline><li>1</li><li>3</li><li>5</li><li>7</li><li>9</li></ol>\n"
      ],
      "text/latex": [
       "\\begin{enumerate*}\n",
       "\\item 1\n",
       "\\item 3\n",
       "\\item 5\n",
       "\\item 7\n",
       "\\item 9\n",
       "\\end{enumerate*}\n"
      ],
      "text/markdown": [
       "1. 1\n",
       "2. 3\n",
       "3. 5\n",
       "4. 7\n",
       "5. 9\n",
       "\n",
       "\n"
      ],
      "text/plain": [
       "[1] 1 3 5 7 9"
      ]
     },
     "metadata": {},
     "output_type": "display_data"
    }
   ],
   "source": [
    "\n",
    "seq_vector <- seq(from = 1, to = 10, by = 2)  # Creates a sequence from 1 to 10 with step 2\n",
    "seq_vector"
   ]
  },
  {
   "cell_type": "markdown",
   "id": "64544bb8-d998-4978-b538-8d54033050be",
   "metadata": {},
   "source": [
    "- **Using `rep()` (Repeat)**:"
   ]
  },
  {
   "cell_type": "code",
   "execution_count": 23,
   "id": "1a6fb81d-59b3-4e3f-8c87-3ef10116509c",
   "metadata": {},
   "outputs": [
    {
     "data": {
      "text/html": [
       "<style>\n",
       ".list-inline {list-style: none; margin:0; padding: 0}\n",
       ".list-inline>li {display: inline-block}\n",
       ".list-inline>li:not(:last-child)::after {content: \"\\00b7\"; padding: 0 .5ex}\n",
       "</style>\n",
       "<ol class=list-inline><li>5</li><li>5</li><li>5</li></ol>\n"
      ],
      "text/latex": [
       "\\begin{enumerate*}\n",
       "\\item 5\n",
       "\\item 5\n",
       "\\item 5\n",
       "\\end{enumerate*}\n"
      ],
      "text/markdown": [
       "1. 5\n",
       "2. 5\n",
       "3. 5\n",
       "\n",
       "\n"
      ],
      "text/plain": [
       "[1] 5 5 5"
      ]
     },
     "metadata": {},
     "output_type": "display_data"
    },
    {
     "data": {
      "text/html": [
       "<style>\n",
       ".list-inline {list-style: none; margin:0; padding: 0}\n",
       ".list-inline>li {display: inline-block}\n",
       ".list-inline>li:not(:last-child)::after {content: \"\\00b7\"; padding: 0 .5ex}\n",
       "</style>\n",
       "<ol class=list-inline><li>1</li><li>1</li><li>2</li><li>2</li><li>3</li><li>3</li></ol>\n"
      ],
      "text/latex": [
       "\\begin{enumerate*}\n",
       "\\item 1\n",
       "\\item 1\n",
       "\\item 2\n",
       "\\item 2\n",
       "\\item 3\n",
       "\\item 3\n",
       "\\end{enumerate*}\n"
      ],
      "text/markdown": [
       "1. 1\n",
       "2. 1\n",
       "3. 2\n",
       "4. 2\n",
       "5. 3\n",
       "6. 3\n",
       "\n",
       "\n"
      ],
      "text/plain": [
       "[1] 1 1 2 2 3 3"
      ]
     },
     "metadata": {},
     "output_type": "display_data"
    }
   ],
   "source": [
    "\n",
    "rep_vector <- rep(5, times = 3)    # Repeats the number 5 three times: 5 5 5\n",
    "rep_vector2 <- rep(1:3, each = 2)  # Repeats each element twice: 1 1 2 2 3 3\n",
    "rep_vector\n",
    "rep_vector2"
   ]
  },
  {
   "cell_type": "markdown",
   "id": "88999edd-673d-4353-b041-40e1195850b5",
   "metadata": {},
   "source": [
    "---\n",
    "\n",
    "**3. Vector Types and Coercion**\n",
    "Vectors can only contain elements of the same type. If you attempt to combine different types, R will coerce elements to the most flexible type following this hierarchy:\n",
    "\n",
    "**Logical < Integer < Numeric < Complex < Character**\n",
    "\n",
    "- **Example of Coercion**:"
   ]
  },
  {
   "cell_type": "code",
   "execution_count": 25,
   "id": "1f69fad5-ad70-4d3e-8c0c-c774dd1d2198",
   "metadata": {},
   "outputs": [
    {
     "data": {
      "text/html": [
       "<style>\n",
       ".list-inline {list-style: none; margin:0; padding: 0}\n",
       ".list-inline>li {display: inline-block}\n",
       ".list-inline>li:not(:last-child)::after {content: \"\\00b7\"; padding: 0 .5ex}\n",
       "</style>\n",
       "<ol class=list-inline><li>'1'</li><li>'two'</li><li>'TRUE'</li></ol>\n"
      ],
      "text/latex": [
       "\\begin{enumerate*}\n",
       "\\item '1'\n",
       "\\item 'two'\n",
       "\\item 'TRUE'\n",
       "\\end{enumerate*}\n"
      ],
      "text/markdown": [
       "1. '1'\n",
       "2. 'two'\n",
       "3. 'TRUE'\n",
       "\n",
       "\n"
      ],
      "text/plain": [
       "[1] \"1\"    \"two\"  \"TRUE\""
      ]
     },
     "metadata": {},
     "output_type": "display_data"
    }
   ],
   "source": [
    "\n",
    "mixed_vector <- c(1, \"two\", TRUE)  # R coerces all elements to character: \"1\" \"two\" \"TRUE\"\n",
    "mixed_vector"
   ]
  },
  {
   "cell_type": "markdown",
   "id": "df3471b0-b837-4155-8ea3-9b82ab1ff22d",
   "metadata": {},
   "source": [
    "**4. Vector Operations**\n",
    "\n",
    "- **Arithmetic Operations**:\n",
    "  Arithmetic operations on vectors are element-wise:"
   ]
  },
  {
   "cell_type": "code",
   "execution_count": 37,
   "id": "576ebebb-8392-4fa4-a4c1-8af424a84483",
   "metadata": {},
   "outputs": [
    {
     "data": {
      "text/html": [
       "<style>\n",
       ".list-inline {list-style: none; margin:0; padding: 0}\n",
       ".list-inline>li {display: inline-block}\n",
       ".list-inline>li:not(:last-child)::after {content: \"\\00b7\"; padding: 0 .5ex}\n",
       "</style>\n",
       "<ol class=list-inline><li>5</li><li>7</li><li>9</li></ol>\n"
      ],
      "text/latex": [
       "\\begin{enumerate*}\n",
       "\\item 5\n",
       "\\item 7\n",
       "\\item 9\n",
       "\\end{enumerate*}\n"
      ],
      "text/markdown": [
       "1. 5\n",
       "2. 7\n",
       "3. 9\n",
       "\n",
       "\n"
      ],
      "text/plain": [
       "[1] 5 7 9"
      ]
     },
     "metadata": {},
     "output_type": "display_data"
    },
    {
     "data": {
      "text/html": [
       "<style>\n",
       ".list-inline {list-style: none; margin:0; padding: 0}\n",
       ".list-inline>li {display: inline-block}\n",
       ".list-inline>li:not(:last-child)::after {content: \"\\00b7\"; padding: 0 .5ex}\n",
       "</style>\n",
       "<ol class=list-inline><li>4</li><li>10</li><li>18</li></ol>\n"
      ],
      "text/latex": [
       "\\begin{enumerate*}\n",
       "\\item 4\n",
       "\\item 10\n",
       "\\item 18\n",
       "\\end{enumerate*}\n"
      ],
      "text/markdown": [
       "1. 4\n",
       "2. 10\n",
       "3. 18\n",
       "\n",
       "\n"
      ],
      "text/plain": [
       "[1]  4 10 18"
      ]
     },
     "metadata": {},
     "output_type": "display_data"
    }
   ],
   "source": [
    "\n",
    "x <- c(1, 2, 3)\n",
    "y <- c(4, 5, 6)\n",
    "x + y  # Result: 5 7 9\n",
    "x * y  # Result: 4 10 18\n"
   ]
  },
  {
   "cell_type": "markdown",
   "id": "715e4a44-d5bc-4f42-b801-8aa5bc9bc71b",
   "metadata": {},
   "source": [
    "- **Logical Comparisons**:\n",
    "  Logical operations are also element-wise:"
   ]
  },
  {
   "cell_type": "code",
   "execution_count": 38,
   "id": "e0d3b40c-66f4-4f11-9615-d7c06c6a142e",
   "metadata": {},
   "outputs": [
    {
     "data": {
      "text/html": [
       "<style>\n",
       ".list-inline {list-style: none; margin:0; padding: 0}\n",
       ".list-inline>li {display: inline-block}\n",
       ".list-inline>li:not(:last-child)::after {content: \"\\00b7\"; padding: 0 .5ex}\n",
       "</style>\n",
       "<ol class=list-inline><li>FALSE</li><li>TRUE</li><li>TRUE</li></ol>\n"
      ],
      "text/latex": [
       "\\begin{enumerate*}\n",
       "\\item FALSE\n",
       "\\item TRUE\n",
       "\\item TRUE\n",
       "\\end{enumerate*}\n"
      ],
      "text/markdown": [
       "1. FALSE\n",
       "2. TRUE\n",
       "3. TRUE\n",
       "\n",
       "\n"
      ],
      "text/plain": [
       "[1] FALSE  TRUE  TRUE"
      ]
     },
     "metadata": {},
     "output_type": "display_data"
    }
   ],
   "source": [
    "\n",
    "x <- c(10, 20, 30)\n",
    "x > 15  # Result: FALSE TRUE TRUE\n"
   ]
  },
  {
   "cell_type": "markdown",
   "id": "9b8dcc77-2c81-40b4-8891-688ee218444e",
   "metadata": {},
   "source": [
    "- **Vectorized Functions**:\n",
    "  Many functions are vectorized, meaning they can operate on each element of the vector simultaneously."
   ]
  },
  {
   "cell_type": "code",
   "execution_count": 39,
   "id": "64094ab2-2e41-46c9-b432-86382116d48a",
   "metadata": {},
   "outputs": [
    {
     "data": {
      "text/html": [
       "<style>\n",
       ".list-inline {list-style: none; margin:0; padding: 0}\n",
       ".list-inline>li {display: inline-block}\n",
       ".list-inline>li:not(:last-child)::after {content: \"\\00b7\"; padding: 0 .5ex}\n",
       "</style>\n",
       "<ol class=list-inline><li>2</li><li>3</li><li>4</li></ol>\n"
      ],
      "text/latex": [
       "\\begin{enumerate*}\n",
       "\\item 2\n",
       "\\item 3\n",
       "\\item 4\n",
       "\\end{enumerate*}\n"
      ],
      "text/markdown": [
       "1. 2\n",
       "2. 3\n",
       "3. 4\n",
       "\n",
       "\n"
      ],
      "text/plain": [
       "[1] 2 3 4"
      ]
     },
     "metadata": {},
     "output_type": "display_data"
    }
   ],
   "source": [
    "\n",
    "sqrt(c(4, 9, 16))  # Result: 2 3 4\n"
   ]
  },
  {
   "cell_type": "markdown",
   "id": "688ba422-bd16-464f-a6ae-c157bd9ba284",
   "metadata": {},
   "source": [
    "- **Recycling Rule**:\n",
    "  If vectors of different lengths are used in an operation, R will “recycle” the shorter vector to match the length of the longer one."
   ]
  },
  {
   "cell_type": "code",
   "execution_count": 40,
   "id": "07985b27-fd45-4ae1-a3cc-6d5eb130c33e",
   "metadata": {},
   "outputs": [
    {
     "name": "stderr",
     "output_type": "stream",
     "text": [
      "Warning message in x + y:\n",
      "\"longer object length is not a multiple of shorter object length\"\n"
     ]
    },
    {
     "data": {
      "text/html": [
       "<style>\n",
       ".list-inline {list-style: none; margin:0; padding: 0}\n",
       ".list-inline>li {display: inline-block}\n",
       ".list-inline>li:not(:last-child)::after {content: \"\\00b7\"; padding: 0 .5ex}\n",
       "</style>\n",
       "<ol class=list-inline><li>5</li><li>7</li><li>7</li></ol>\n"
      ],
      "text/latex": [
       "\\begin{enumerate*}\n",
       "\\item 5\n",
       "\\item 7\n",
       "\\item 7\n",
       "\\end{enumerate*}\n"
      ],
      "text/markdown": [
       "1. 5\n",
       "2. 7\n",
       "3. 7\n",
       "\n",
       "\n"
      ],
      "text/plain": [
       "[1] 5 7 7"
      ]
     },
     "metadata": {},
     "output_type": "display_data"
    }
   ],
   "source": [
    "\n",
    "x <- c(1, 2, 3)\n",
    "y <- c(4, 5)\n",
    "x + y  # Result: 5 7 7 (since y becomes 4 5 4)\n"
   ]
  },
  {
   "cell_type": "markdown",
   "id": "0e7037e3-408e-4783-a264-078c5f3b6184",
   "metadata": {},
   "source": [
    "---\n",
    "\n",
    "**5. Accessing Vector Elements (Indexing)**\n",
    "You can access and manipulate elements in a vector using indexing.\n",
    "\n",
    "- **Single Element Access**:"
   ]
  },
  {
   "cell_type": "code",
   "execution_count": 58,
   "id": "182ec6c8-ca14-46e0-94be-ddcebf2cb5f3",
   "metadata": {},
   "outputs": [
    {
     "data": {
      "text/html": [
       "20"
      ],
      "text/latex": [
       "20"
      ],
      "text/markdown": [
       "20"
      ],
      "text/plain": [
       "[1] 20"
      ]
     },
     "metadata": {},
     "output_type": "display_data"
    }
   ],
   "source": [
    "\n",
    "x <- c(10, 20, 30, 40)\n",
    "x[2]  # Accesses the second element: 20\n"
   ]
  },
  {
   "cell_type": "markdown",
   "id": "dc6faccd-f64b-4e51-b010-4bf37c26e6ab",
   "metadata": {},
   "source": [
    "- **Multiple Elements Access**:"
   ]
  },
  {
   "cell_type": "code",
   "execution_count": 59,
   "id": "9a69eed4-ab51-42c3-a6be-6270ac62c9b3",
   "metadata": {},
   "outputs": [
    {
     "data": {
      "text/html": [
       "<style>\n",
       ".list-inline {list-style: none; margin:0; padding: 0}\n",
       ".list-inline>li {display: inline-block}\n",
       ".list-inline>li:not(:last-child)::after {content: \"\\00b7\"; padding: 0 .5ex}\n",
       "</style>\n",
       "<ol class=list-inline><li>10</li><li>30</li></ol>\n"
      ],
      "text/latex": [
       "\\begin{enumerate*}\n",
       "\\item 10\n",
       "\\item 30\n",
       "\\end{enumerate*}\n"
      ],
      "text/markdown": [
       "1. 10\n",
       "2. 30\n",
       "\n",
       "\n"
      ],
      "text/plain": [
       "[1] 10 30"
      ]
     },
     "metadata": {},
     "output_type": "display_data"
    }
   ],
   "source": [
    "x[c(1, 3)]  # Accesses the first and third elements: 10 30"
   ]
  },
  {
   "cell_type": "markdown",
   "id": "2d2d98ad-e1cd-4f4a-8083-02e5c9f7ad69",
   "metadata": {},
   "source": [
    "- **Negative Indexing**:"
   ]
  },
  {
   "cell_type": "code",
   "execution_count": 60,
   "id": "5bbdb735-34fa-4fc7-a4fb-adfebb958c47",
   "metadata": {},
   "outputs": [
    {
     "data": {
      "text/html": [
       "<style>\n",
       ".list-inline {list-style: none; margin:0; padding: 0}\n",
       ".list-inline>li {display: inline-block}\n",
       ".list-inline>li:not(:last-child)::after {content: \"\\00b7\"; padding: 0 .5ex}\n",
       "</style>\n",
       "<ol class=list-inline><li>10</li><li>30</li><li>40</li></ol>\n"
      ],
      "text/latex": [
       "\\begin{enumerate*}\n",
       "\\item 10\n",
       "\\item 30\n",
       "\\item 40\n",
       "\\end{enumerate*}\n"
      ],
      "text/markdown": [
       "1. 10\n",
       "2. 30\n",
       "3. 40\n",
       "\n",
       "\n"
      ],
      "text/plain": [
       "[1] 10 30 40"
      ]
     },
     "metadata": {},
     "output_type": "display_data"
    }
   ],
   "source": [
    "\n",
    "x[-2]  # Excludes the second element: 10 30 40\n"
   ]
  },
  {
   "cell_type": "markdown",
   "id": "dc94d110-4bf7-45ca-96a5-492979d15a21",
   "metadata": {},
   "source": [
    "- **Logical Indexing**:"
   ]
  },
  {
   "cell_type": "code",
   "execution_count": 61,
   "id": "a07d3b60-cc95-4a49-8b62-52b1099861c3",
   "metadata": {},
   "outputs": [
    {
     "data": {
      "text/html": [
       "<style>\n",
       ".list-inline {list-style: none; margin:0; padding: 0}\n",
       ".list-inline>li {display: inline-block}\n",
       ".list-inline>li:not(:last-child)::after {content: \"\\00b7\"; padding: 0 .5ex}\n",
       "</style>\n",
       "<ol class=list-inline><li>30</li><li>40</li></ol>\n"
      ],
      "text/latex": [
       "\\begin{enumerate*}\n",
       "\\item 30\n",
       "\\item 40\n",
       "\\end{enumerate*}\n"
      ],
      "text/markdown": [
       "1. 30\n",
       "2. 40\n",
       "\n",
       "\n"
      ],
      "text/plain": [
       "[1] 30 40"
      ]
     },
     "metadata": {},
     "output_type": "display_data"
    }
   ],
   "source": [
    "\n",
    "x[x > 20]  # Selects elements greater than 20: 30 40\n"
   ]
  },
  {
   "cell_type": "markdown",
   "id": "3ec25470-e51a-4431-8a9c-aaabcdddd2b7",
   "metadata": {},
   "source": [
    "- **Named Indexing**:"
   ]
  },
  {
   "cell_type": "code",
   "execution_count": 62,
   "id": "96aaae5f-74b5-4056-bd7a-ba4782d3cf8c",
   "metadata": {},
   "outputs": [
    {
     "data": {
      "text/html": [
       "<strong>b:</strong> 2"
      ],
      "text/latex": [
       "\\textbf{b:} 2"
      ],
      "text/markdown": [
       "**b:** 2"
      ],
      "text/plain": [
       "b \n",
       "2 "
      ]
     },
     "metadata": {},
     "output_type": "display_data"
    }
   ],
   "source": [
    "\n",
    "named_vector <- c(a = 1, b = 2, c = 3)\n",
    "named_vector[\"b\"]  # Accesses element with name \"b\": 2\n"
   ]
  },
  {
   "cell_type": "markdown",
   "id": "81db23ea-bec5-435c-aea0-0e75893dbafc",
   "metadata": {},
   "source": [
    "---\n",
    "\n",
    "**6. Common Vector Functions**\n",
    "\n",
    "- **Length of a Vector**:"
   ]
  },
  {
   "cell_type": "code",
   "execution_count": 63,
   "id": "bc65e5ad-f9a5-44b2-9be1-2bfe6971168b",
   "metadata": {},
   "outputs": [
    {
     "data": {
      "text/html": [
       "4"
      ],
      "text/latex": [
       "4"
      ],
      "text/markdown": [
       "4"
      ],
      "text/plain": [
       "[1] 4"
      ]
     },
     "metadata": {},
     "output_type": "display_data"
    }
   ],
   "source": [
    "\n",
    "length(x)  # Returns the number of elements in x\n"
   ]
  },
  {
   "cell_type": "markdown",
   "id": "acb7031c-b954-4236-8bf4-c89a3d7d92e7",
   "metadata": {},
   "source": [
    "- **Summing and Statistical Functions**:"
   ]
  },
  {
   "cell_type": "code",
   "execution_count": 64,
   "id": "1446a1bb-6a2f-46cb-8983-da939b4ed038",
   "metadata": {},
   "outputs": [
    {
     "data": {
      "text/html": [
       "<style>\n",
       ".list-inline {list-style: none; margin:0; padding: 0}\n",
       ".list-inline>li {display: inline-block}\n",
       ".list-inline>li:not(:last-child)::after {content: \"\\00b7\"; padding: 0 .5ex}\n",
       "</style>\n",
       "<ol class=list-inline><li>10</li><li>20</li><li>30</li><li>40</li></ol>\n"
      ],
      "text/latex": [
       "\\begin{enumerate*}\n",
       "\\item 10\n",
       "\\item 20\n",
       "\\item 30\n",
       "\\item 40\n",
       "\\end{enumerate*}\n"
      ],
      "text/markdown": [
       "1. 10\n",
       "2. 20\n",
       "3. 30\n",
       "4. 40\n",
       "\n",
       "\n"
      ],
      "text/plain": [
       "[1] 10 20 30 40"
      ]
     },
     "metadata": {},
     "output_type": "display_data"
    },
    {
     "data": {
      "text/html": [
       "100"
      ],
      "text/latex": [
       "100"
      ],
      "text/markdown": [
       "100"
      ],
      "text/plain": [
       "[1] 100"
      ]
     },
     "metadata": {},
     "output_type": "display_data"
    },
    {
     "data": {
      "text/html": [
       "25"
      ],
      "text/latex": [
       "25"
      ],
      "text/markdown": [
       "25"
      ],
      "text/plain": [
       "[1] 25"
      ]
     },
     "metadata": {},
     "output_type": "display_data"
    },
    {
     "data": {
      "text/html": [
       "10"
      ],
      "text/latex": [
       "10"
      ],
      "text/markdown": [
       "10"
      ],
      "text/plain": [
       "[1] 10"
      ]
     },
     "metadata": {},
     "output_type": "display_data"
    },
    {
     "data": {
      "text/html": [
       "40"
      ],
      "text/latex": [
       "40"
      ],
      "text/markdown": [
       "40"
      ],
      "text/plain": [
       "[1] 40"
      ]
     },
     "metadata": {},
     "output_type": "display_data"
    }
   ],
   "source": [
    "x\n",
    "sum(x) \n",
    "mean(x)\n",
    "min(x)\n",
    "max(x)"
   ]
  },
  {
   "cell_type": "markdown",
   "id": "e87de1a7-1c95-4946-8584-ae8d833f16c6",
   "metadata": {},
   "source": [
    "- **Sorting and Ordering**:"
   ]
  },
  {
   "cell_type": "code",
   "execution_count": 65,
   "id": "541283ea-bf4f-44be-a74d-50cbf841f729",
   "metadata": {},
   "outputs": [
    {
     "data": {
      "text/html": [
       "<style>\n",
       ".list-inline {list-style: none; margin:0; padding: 0}\n",
       ".list-inline>li {display: inline-block}\n",
       ".list-inline>li:not(:last-child)::after {content: \"\\00b7\"; padding: 0 .5ex}\n",
       "</style>\n",
       "<ol class=list-inline><li>10</li><li>20</li><li>30</li><li>40</li></ol>\n"
      ],
      "text/latex": [
       "\\begin{enumerate*}\n",
       "\\item 10\n",
       "\\item 20\n",
       "\\item 30\n",
       "\\item 40\n",
       "\\end{enumerate*}\n"
      ],
      "text/markdown": [
       "1. 10\n",
       "2. 20\n",
       "3. 30\n",
       "4. 40\n",
       "\n",
       "\n"
      ],
      "text/plain": [
       "[1] 10 20 30 40"
      ]
     },
     "metadata": {},
     "output_type": "display_data"
    },
    {
     "data": {
      "text/html": [
       "<style>\n",
       ".list-inline {list-style: none; margin:0; padding: 0}\n",
       ".list-inline>li {display: inline-block}\n",
       ".list-inline>li:not(:last-child)::after {content: \"\\00b7\"; padding: 0 .5ex}\n",
       "</style>\n",
       "<ol class=list-inline><li>1</li><li>2</li><li>3</li><li>4</li></ol>\n"
      ],
      "text/latex": [
       "\\begin{enumerate*}\n",
       "\\item 1\n",
       "\\item 2\n",
       "\\item 3\n",
       "\\item 4\n",
       "\\end{enumerate*}\n"
      ],
      "text/markdown": [
       "1. 1\n",
       "2. 2\n",
       "3. 3\n",
       "4. 4\n",
       "\n",
       "\n"
      ],
      "text/plain": [
       "[1] 1 2 3 4"
      ]
     },
     "metadata": {},
     "output_type": "display_data"
    }
   ],
   "source": [
    "\n",
    "sort(x)      # Sorts the vector in ascending order\n",
    "order(x)     # Returns indices that sort the vector\n"
   ]
  },
  {
   "cell_type": "markdown",
   "id": "f4f6f7c3-1586-4a6b-8c2c-392583f1abd1",
   "metadata": {},
   "source": [
    "- **Set Operations**:"
   ]
  },
  {
   "cell_type": "code",
   "execution_count": 66,
   "id": "f268317d-8924-49ea-8e20-e10a4815c1f6",
   "metadata": {},
   "outputs": [
    {
     "data": {
      "text/html": [
       "<style>\n",
       ".list-inline {list-style: none; margin:0; padding: 0}\n",
       ".list-inline>li {display: inline-block}\n",
       ".list-inline>li:not(:last-child)::after {content: \"\\00b7\"; padding: 0 .5ex}\n",
       "</style>\n",
       "<ol class=list-inline><li>10</li><li>20</li><li>30</li><li>40</li><li>4</li><li>5</li></ol>\n"
      ],
      "text/latex": [
       "\\begin{enumerate*}\n",
       "\\item 10\n",
       "\\item 20\n",
       "\\item 30\n",
       "\\item 40\n",
       "\\item 4\n",
       "\\item 5\n",
       "\\end{enumerate*}\n"
      ],
      "text/markdown": [
       "1. 10\n",
       "2. 20\n",
       "3. 30\n",
       "4. 40\n",
       "5. 4\n",
       "6. 5\n",
       "\n",
       "\n"
      ],
      "text/plain": [
       "[1] 10 20 30 40  4  5"
      ]
     },
     "metadata": {},
     "output_type": "display_data"
    },
    {
     "data": {
      "text/html": [],
      "text/latex": [],
      "text/markdown": [],
      "text/plain": [
       "numeric(0)"
      ]
     },
     "metadata": {},
     "output_type": "display_data"
    },
    {
     "data": {
      "text/html": [
       "<style>\n",
       ".list-inline {list-style: none; margin:0; padding: 0}\n",
       ".list-inline>li {display: inline-block}\n",
       ".list-inline>li:not(:last-child)::after {content: \"\\00b7\"; padding: 0 .5ex}\n",
       "</style>\n",
       "<ol class=list-inline><li>10</li><li>20</li><li>30</li><li>40</li></ol>\n"
      ],
      "text/latex": [
       "\\begin{enumerate*}\n",
       "\\item 10\n",
       "\\item 20\n",
       "\\item 30\n",
       "\\item 40\n",
       "\\end{enumerate*}\n"
      ],
      "text/markdown": [
       "1. 10\n",
       "2. 20\n",
       "3. 30\n",
       "4. 40\n",
       "\n",
       "\n"
      ],
      "text/plain": [
       "[1] 10 20 30 40"
      ]
     },
     "metadata": {},
     "output_type": "display_data"
    }
   ],
   "source": [
    "\n",
    "union(x, y)       # Union of x and y\n",
    "intersect(x, y)   # Intersection of x and y\n",
    "setdiff(x, y)     # Elements in x but not in y\n"
   ]
  },
  {
   "cell_type": "markdown",
   "id": "2b0bc7cb-cb41-4e15-89ba-27b7af04baf4",
   "metadata": {},
   "source": [
    "---\n",
    "\n",
    "**7. Modifying Vectors**\n",
    "\n",
    "- **Replacing Elements**:"
   ]
  },
  {
   "cell_type": "code",
   "execution_count": 67,
   "id": "35894eca-49a0-408f-af19-f737c7a361ea",
   "metadata": {},
   "outputs": [
    {
     "data": {
      "text/html": [
       "<style>\n",
       ".list-inline {list-style: none; margin:0; padding: 0}\n",
       ".list-inline>li {display: inline-block}\n",
       ".list-inline>li:not(:last-child)::after {content: \"\\00b7\"; padding: 0 .5ex}\n",
       "</style>\n",
       "<ol class=list-inline><li>10</li><li>20</li><li>30</li><li>40</li></ol>\n"
      ],
      "text/latex": [
       "\\begin{enumerate*}\n",
       "\\item 10\n",
       "\\item 20\n",
       "\\item 30\n",
       "\\item 40\n",
       "\\end{enumerate*}\n"
      ],
      "text/markdown": [
       "1. 10\n",
       "2. 20\n",
       "3. 30\n",
       "4. 40\n",
       "\n",
       "\n"
      ],
      "text/plain": [
       "[1] 10 20 30 40"
      ]
     },
     "metadata": {},
     "output_type": "display_data"
    },
    {
     "data": {
      "text/html": [
       "<style>\n",
       ".list-inline {list-style: none; margin:0; padding: 0}\n",
       ".list-inline>li {display: inline-block}\n",
       ".list-inline>li:not(:last-child)::after {content: \"\\00b7\"; padding: 0 .5ex}\n",
       "</style>\n",
       "<ol class=list-inline><li>10</li><li>100</li><li>30</li><li>40</li></ol>\n"
      ],
      "text/latex": [
       "\\begin{enumerate*}\n",
       "\\item 10\n",
       "\\item 100\n",
       "\\item 30\n",
       "\\item 40\n",
       "\\end{enumerate*}\n"
      ],
      "text/markdown": [
       "1. 10\n",
       "2. 100\n",
       "3. 30\n",
       "4. 40\n",
       "\n",
       "\n"
      ],
      "text/plain": [
       "[1]  10 100  30  40"
      ]
     },
     "metadata": {},
     "output_type": "display_data"
    }
   ],
   "source": [
    "x\n",
    "x[2] <- 100  # Replaces the second element with 100\n",
    "x"
   ]
  },
  {
   "cell_type": "markdown",
   "id": "39420f78-a2a6-4df1-80c2-2fd9a94579c3",
   "metadata": {},
   "source": [
    "- **Appending Elements**:"
   ]
  },
  {
   "cell_type": "code",
   "execution_count": 68,
   "id": "d678be14-3175-4295-93a3-1b50398176b4",
   "metadata": {},
   "outputs": [
    {
     "data": {
      "text/html": [
       "<style>\n",
       ".list-inline {list-style: none; margin:0; padding: 0}\n",
       ".list-inline>li {display: inline-block}\n",
       ".list-inline>li:not(:last-child)::after {content: \"\\00b7\"; padding: 0 .5ex}\n",
       "</style>\n",
       "<ol class=list-inline><li>10</li><li>100</li><li>30</li><li>40</li></ol>\n"
      ],
      "text/latex": [
       "\\begin{enumerate*}\n",
       "\\item 10\n",
       "\\item 100\n",
       "\\item 30\n",
       "\\item 40\n",
       "\\end{enumerate*}\n"
      ],
      "text/markdown": [
       "1. 10\n",
       "2. 100\n",
       "3. 30\n",
       "4. 40\n",
       "\n",
       "\n"
      ],
      "text/plain": [
       "[1]  10 100  30  40"
      ]
     },
     "metadata": {},
     "output_type": "display_data"
    },
    {
     "data": {
      "text/html": [
       "<style>\n",
       ".list-inline {list-style: none; margin:0; padding: 0}\n",
       ".list-inline>li {display: inline-block}\n",
       ".list-inline>li:not(:last-child)::after {content: \"\\00b7\"; padding: 0 .5ex}\n",
       "</style>\n",
       "<ol class=list-inline><li>10</li><li>100</li><li>30</li><li>40</li><li>200</li></ol>\n"
      ],
      "text/latex": [
       "\\begin{enumerate*}\n",
       "\\item 10\n",
       "\\item 100\n",
       "\\item 30\n",
       "\\item 40\n",
       "\\item 200\n",
       "\\end{enumerate*}\n"
      ],
      "text/markdown": [
       "1. 10\n",
       "2. 100\n",
       "3. 30\n",
       "4. 40\n",
       "5. 200\n",
       "\n",
       "\n"
      ],
      "text/plain": [
       "[1]  10 100  30  40 200"
      ]
     },
     "metadata": {},
     "output_type": "display_data"
    }
   ],
   "source": [
    "x\n",
    "x <- c(x, 200)  # Adds 200 at the end of the vector\n",
    "x"
   ]
  },
  {
   "cell_type": "markdown",
   "id": "b3544ab1-a725-4a9a-bf52-0b2c8fc0a8c9",
   "metadata": {},
   "source": [
    "- **Removing Elements**:"
   ]
  },
  {
   "cell_type": "code",
   "execution_count": 69,
   "id": "6d4ac092-3999-44cd-a7d2-242334c64106",
   "metadata": {},
   "outputs": [
    {
     "data": {
      "text/html": [
       "<style>\n",
       ".list-inline {list-style: none; margin:0; padding: 0}\n",
       ".list-inline>li {display: inline-block}\n",
       ".list-inline>li:not(:last-child)::after {content: \"\\00b7\"; padding: 0 .5ex}\n",
       "</style>\n",
       "<ol class=list-inline><li>10</li><li>100</li><li>30</li><li>40</li><li>200</li></ol>\n"
      ],
      "text/latex": [
       "\\begin{enumerate*}\n",
       "\\item 10\n",
       "\\item 100\n",
       "\\item 30\n",
       "\\item 40\n",
       "\\item 200\n",
       "\\end{enumerate*}\n"
      ],
      "text/markdown": [
       "1. 10\n",
       "2. 100\n",
       "3. 30\n",
       "4. 40\n",
       "5. 200\n",
       "\n",
       "\n"
      ],
      "text/plain": [
       "[1]  10 100  30  40 200"
      ]
     },
     "metadata": {},
     "output_type": "display_data"
    },
    {
     "data": {
      "text/html": [
       "<style>\n",
       ".list-inline {list-style: none; margin:0; padding: 0}\n",
       ".list-inline>li {display: inline-block}\n",
       ".list-inline>li:not(:last-child)::after {content: \"\\00b7\"; padding: 0 .5ex}\n",
       "</style>\n",
       "<ol class=list-inline><li>10</li><li>30</li><li>40</li><li>200</li></ol>\n"
      ],
      "text/latex": [
       "\\begin{enumerate*}\n",
       "\\item 10\n",
       "\\item 30\n",
       "\\item 40\n",
       "\\item 200\n",
       "\\end{enumerate*}\n"
      ],
      "text/markdown": [
       "1. 10\n",
       "2. 30\n",
       "3. 40\n",
       "4. 200\n",
       "\n",
       "\n"
      ],
      "text/plain": [
       "[1]  10  30  40 200"
      ]
     },
     "metadata": {},
     "output_type": "display_data"
    }
   ],
   "source": [
    "x\n",
    "x <- x[-2]  # Removes the second element from the vector\n",
    "x"
   ]
  },
  {
   "cell_type": "markdown",
   "id": "78473a71-3278-4905-a97c-c1d3a92d11d7",
   "metadata": {},
   "source": [
    "---\n",
    "\n",
    "**8. Handling Missing Values**\n",
    "\n",
    "- **Introducing Missing Values**:"
   ]
  },
  {
   "cell_type": "code",
   "execution_count": 71,
   "id": "5c86cb11-6d51-47df-87b6-9b4bc9900637",
   "metadata": {},
   "outputs": [
    {
     "data": {
      "text/html": [
       "<style>\n",
       ".list-inline {list-style: none; margin:0; padding: 0}\n",
       ".list-inline>li {display: inline-block}\n",
       ".list-inline>li:not(:last-child)::after {content: \"\\00b7\"; padding: 0 .5ex}\n",
       "</style>\n",
       "<ol class=list-inline><li>1</li><li>2</li><li>&lt;NA&gt;</li><li>4</li></ol>\n"
      ],
      "text/latex": [
       "\\begin{enumerate*}\n",
       "\\item 1\n",
       "\\item 2\n",
       "\\item <NA>\n",
       "\\item 4\n",
       "\\end{enumerate*}\n"
      ],
      "text/markdown": [
       "1. 1\n",
       "2. 2\n",
       "3. &lt;NA&gt;\n",
       "4. 4\n",
       "\n",
       "\n"
      ],
      "text/plain": [
       "[1]  1  2 NA  4"
      ]
     },
     "metadata": {},
     "output_type": "display_data"
    }
   ],
   "source": [
    "\n",
    "x <- c(1, 2, NA, 4)\n",
    "x"
   ]
  },
  {
   "cell_type": "markdown",
   "id": "b2163f7d-0d8d-4a76-9ae6-c9df5b47ab19",
   "metadata": {},
   "source": [
    "- **Checking for Missing Values**:"
   ]
  },
  {
   "cell_type": "code",
   "execution_count": 72,
   "id": "226d185f-d724-439e-9744-b6d155d15bd3",
   "metadata": {},
   "outputs": [
    {
     "data": {
      "text/html": [
       "<style>\n",
       ".list-inline {list-style: none; margin:0; padding: 0}\n",
       ".list-inline>li {display: inline-block}\n",
       ".list-inline>li:not(:last-child)::after {content: \"\\00b7\"; padding: 0 .5ex}\n",
       "</style>\n",
       "<ol class=list-inline><li>FALSE</li><li>FALSE</li><li>TRUE</li><li>FALSE</li></ol>\n"
      ],
      "text/latex": [
       "\\begin{enumerate*}\n",
       "\\item FALSE\n",
       "\\item FALSE\n",
       "\\item TRUE\n",
       "\\item FALSE\n",
       "\\end{enumerate*}\n"
      ],
      "text/markdown": [
       "1. FALSE\n",
       "2. FALSE\n",
       "3. TRUE\n",
       "4. FALSE\n",
       "\n",
       "\n"
      ],
      "text/plain": [
       "[1] FALSE FALSE  TRUE FALSE"
      ]
     },
     "metadata": {},
     "output_type": "display_data"
    }
   ],
   "source": [
    "\n",
    "is.na(x)  # Returns TRUE for elements that are NA\n"
   ]
  },
  {
   "cell_type": "markdown",
   "id": "f479cb3b-d1e6-48a6-836d-7e96763ec05f",
   "metadata": {},
   "source": [
    "- **Removing Missing Values**:"
   ]
  },
  {
   "cell_type": "code",
   "execution_count": 73,
   "id": "f97cb335-34b9-47b3-ac42-e732bb508aeb",
   "metadata": {},
   "outputs": [
    {
     "data": {
      "text/html": [
       "<style>\n",
       ".list-inline {list-style: none; margin:0; padding: 0}\n",
       ".list-inline>li {display: inline-block}\n",
       ".list-inline>li:not(:last-child)::after {content: \"\\00b7\"; padding: 0 .5ex}\n",
       "</style>\n",
       "<ol class=list-inline><li>1</li><li>2</li><li>&lt;NA&gt;</li><li>4</li></ol>\n"
      ],
      "text/latex": [
       "\\begin{enumerate*}\n",
       "\\item 1\n",
       "\\item 2\n",
       "\\item <NA>\n",
       "\\item 4\n",
       "\\end{enumerate*}\n"
      ],
      "text/markdown": [
       "1. 1\n",
       "2. 2\n",
       "3. &lt;NA&gt;\n",
       "4. 4\n",
       "\n",
       "\n"
      ],
      "text/plain": [
       "[1]  1  2 NA  4"
      ]
     },
     "metadata": {},
     "output_type": "display_data"
    },
    {
     "data": {
      "text/html": [
       "<style>\n",
       ".list-inline {list-style: none; margin:0; padding: 0}\n",
       ".list-inline>li {display: inline-block}\n",
       ".list-inline>li:not(:last-child)::after {content: \"\\00b7\"; padding: 0 .5ex}\n",
       "</style>\n",
       "<ol class=list-inline><li>1</li><li>2</li><li>4</li></ol>\n"
      ],
      "text/latex": [
       "\\begin{enumerate*}\n",
       "\\item 1\n",
       "\\item 2\n",
       "\\item 4\n",
       "\\end{enumerate*}\n"
      ],
      "text/markdown": [
       "1. 1\n",
       "2. 2\n",
       "3. 4\n",
       "\n",
       "\n"
      ],
      "text/plain": [
       "[1] 1 2 4"
      ]
     },
     "metadata": {},
     "output_type": "display_data"
    }
   ],
   "source": [
    "x\n",
    "x <- x[!is.na(x)]  # Removes all NA values from the vector\n",
    "x"
   ]
  },
  {
   "cell_type": "markdown",
   "id": "7ccff814-e62f-4a69-8409-b2d7afc3c5d3",
   "metadata": {},
   "source": [
    "- **Replacing Missing Values**:"
   ]
  },
  {
   "cell_type": "code",
   "execution_count": 75,
   "id": "667c4612-c1d5-4c34-908d-56b18e936c99",
   "metadata": {},
   "outputs": [
    {
     "data": {
      "text/html": [
       "<style>\n",
       ".list-inline {list-style: none; margin:0; padding: 0}\n",
       ".list-inline>li {display: inline-block}\n",
       ".list-inline>li:not(:last-child)::after {content: \"\\00b7\"; padding: 0 .5ex}\n",
       "</style>\n",
       "<ol class=list-inline><li>1</li><li>2</li><li>0</li><li>4</li></ol>\n"
      ],
      "text/latex": [
       "\\begin{enumerate*}\n",
       "\\item 1\n",
       "\\item 2\n",
       "\\item 0\n",
       "\\item 4\n",
       "\\end{enumerate*}\n"
      ],
      "text/markdown": [
       "1. 1\n",
       "2. 2\n",
       "3. 0\n",
       "4. 4\n",
       "\n",
       "\n"
      ],
      "text/plain": [
       "[1] 1 2 0 4"
      ]
     },
     "metadata": {},
     "output_type": "display_data"
    }
   ],
   "source": [
    "x <- c(1, 2, NA, 4)\n",
    "x[is.na(x)] <- 0  # Replaces NA values with 0\n",
    "x"
   ]
  },
  {
   "cell_type": "markdown",
   "id": "4bb4c639-7e50-41ba-be63-1326b11a0360",
   "metadata": {},
   "source": [
    "---\n",
    "\n",
    "**9. Special Types of Vectors**\n",
    "\n",
    "- **Factors**: Categorical data stored as integers with associated levels."
   ]
  },
  {
   "cell_type": "code",
   "execution_count": 76,
   "id": "d52a9fb2-e2d9-4e34-9287-5ba6f9f19b83",
   "metadata": {},
   "outputs": [
    {
     "data": {
      "text/html": [
       "<style>\n",
       ".list-inline {list-style: none; margin:0; padding: 0}\n",
       ".list-inline>li {display: inline-block}\n",
       ".list-inline>li:not(:last-child)::after {content: \"\\00b7\"; padding: 0 .5ex}\n",
       "</style>\n",
       "<ol class=list-inline><li>low</li><li>medium</li><li>high</li></ol>\n",
       "\n",
       "<details>\n",
       "\t<summary style=display:list-item;cursor:pointer>\n",
       "\t\t<strong>Levels</strong>:\n",
       "\t</summary>\n",
       "\t<style>\n",
       "\t.list-inline {list-style: none; margin:0; padding: 0}\n",
       "\t.list-inline>li {display: inline-block}\n",
       "\t.list-inline>li:not(:last-child)::after {content: \"\\00b7\"; padding: 0 .5ex}\n",
       "\t</style>\n",
       "\t<ol class=list-inline><li>'high'</li><li>'low'</li><li>'medium'</li></ol>\n",
       "</details>"
      ],
      "text/latex": [
       "\\begin{enumerate*}\n",
       "\\item low\n",
       "\\item medium\n",
       "\\item high\n",
       "\\end{enumerate*}\n",
       "\n",
       "\\emph{Levels}: \\begin{enumerate*}\n",
       "\\item 'high'\n",
       "\\item 'low'\n",
       "\\item 'medium'\n",
       "\\end{enumerate*}\n"
      ],
      "text/markdown": [
       "1. low\n",
       "2. medium\n",
       "3. high\n",
       "\n",
       "\n",
       "\n",
       "**Levels**: 1. 'high'\n",
       "2. 'low'\n",
       "3. 'medium'\n",
       "\n",
       "\n"
      ],
      "text/plain": [
       "[1] low    medium high  \n",
       "Levels: high low medium"
      ]
     },
     "metadata": {},
     "output_type": "display_data"
    }
   ],
   "source": [
    "\n",
    "factor_vector <- factor(c(\"low\", \"medium\", \"high\"))\n",
    "factor_vector"
   ]
  },
  {
   "cell_type": "markdown",
   "id": "a2e32380-6d9e-43c5-ac03-50c3ab7f59c1",
   "metadata": {},
   "source": [
    "- **Lists (Special Case)**: While lists can contain different types, they can be thought of as vectors where each element is itself an R object."
   ]
  },
  {
   "cell_type": "code",
   "execution_count": 77,
   "id": "5982e614-6fa0-4be4-a439-4b03bb3088a6",
   "metadata": {},
   "outputs": [
    {
     "data": {
      "text/html": [
       "<dl>\n",
       "\t<dt>$name</dt>\n",
       "\t\t<dd>'Alice'</dd>\n",
       "\t<dt>$age</dt>\n",
       "\t\t<dd>25</dd>\n",
       "\t<dt>$scores</dt>\n",
       "\t\t<dd><style>\n",
       ".list-inline {list-style: none; margin:0; padding: 0}\n",
       ".list-inline>li {display: inline-block}\n",
       ".list-inline>li:not(:last-child)::after {content: \"\\00b7\"; padding: 0 .5ex}\n",
       "</style>\n",
       "<ol class=list-inline><li>90</li><li>85</li><li>88</li></ol>\n",
       "</dd>\n",
       "</dl>\n"
      ],
      "text/latex": [
       "\\begin{description}\n",
       "\\item[\\$name] 'Alice'\n",
       "\\item[\\$age] 25\n",
       "\\item[\\$scores] \\begin{enumerate*}\n",
       "\\item 90\n",
       "\\item 85\n",
       "\\item 88\n",
       "\\end{enumerate*}\n",
       "\n",
       "\\end{description}\n"
      ],
      "text/markdown": [
       "$name\n",
       ":   'Alice'\n",
       "$age\n",
       ":   25\n",
       "$scores\n",
       ":   1. 90\n",
       "2. 85\n",
       "3. 88\n",
       "\n",
       "\n",
       "\n",
       "\n",
       "\n"
      ],
      "text/plain": [
       "$name\n",
       "[1] \"Alice\"\n",
       "\n",
       "$age\n",
       "[1] 25\n",
       "\n",
       "$scores\n",
       "[1] 90 85 88\n"
      ]
     },
     "metadata": {},
     "output_type": "display_data"
    }
   ],
   "source": [
    "\n",
    "list_vector <- list(name = \"Alice\", age = 25, scores = c(90, 85, 88))\n",
    "list_vector"
   ]
  },
  {
   "cell_type": "markdown",
   "id": "26cd0998-9f4b-4be6-b2ae-8868d75edb91",
   "metadata": {},
   "source": [
    "---\n",
    "\n",
    "**10. Examples of Vector Use in Data Analysis**\n",
    "\n",
    "- **Data Filtering**:"
   ]
  },
  {
   "cell_type": "code",
   "execution_count": 78,
   "id": "06ea3d71-3cc6-49fc-80ce-0d378b483826",
   "metadata": {},
   "outputs": [
    {
     "data": {
      "text/html": [
       "<style>\n",
       ".list-inline {list-style: none; margin:0; padding: 0}\n",
       ".list-inline>li {display: inline-block}\n",
       ".list-inline>li:not(:last-child)::after {content: \"\\00b7\"; padding: 0 .5ex}\n",
       "</style>\n",
       "<ol class=list-inline><li>200</li><li>300</li><li>400</li></ol>\n"
      ],
      "text/latex": [
       "\\begin{enumerate*}\n",
       "\\item 200\n",
       "\\item 300\n",
       "\\item 400\n",
       "\\end{enumerate*}\n"
      ],
      "text/markdown": [
       "1. 200\n",
       "2. 300\n",
       "3. 400\n",
       "\n",
       "\n"
      ],
      "text/plain": [
       "[1] 200 300 400"
      ]
     },
     "metadata": {},
     "output_type": "display_data"
    }
   ],
   "source": [
    "\n",
    "data <- c(100, 200, 300, 400)\n",
    "data[data > 150]  # Select elements greater than 150\n",
    "  "
   ]
  },
  {
   "cell_type": "markdown",
   "id": "b8ba54d4-1fea-4863-87ae-a9edf6161754",
   "metadata": {},
   "source": [
    "- **Statistical Summaries**:"
   ]
  },
  {
   "cell_type": "code",
   "execution_count": 79,
   "id": "5adc271c-c639-4c31-a56e-31139b85464c",
   "metadata": {},
   "outputs": [
    {
     "data": {
      "text/html": [
       "10"
      ],
      "text/latex": [
       "10"
      ],
      "text/markdown": [
       "10"
      ],
      "text/plain": [
       "[1] 10"
      ]
     },
     "metadata": {},
     "output_type": "display_data"
    },
    {
     "data": {
      "text/html": [
       "10"
      ],
      "text/latex": [
       "10"
      ],
      "text/markdown": [
       "10"
      ],
      "text/plain": [
       "[1] 10"
      ]
     },
     "metadata": {},
     "output_type": "display_data"
    }
   ],
   "source": [
    "\n",
    "  values <- c(5, 10, 15)\n",
    "  mean(values)      # Calculate mean\n",
    "  median(values)    # Calculate median\n"
   ]
  },
  {
   "cell_type": "markdown",
   "id": "1c40f21f-b144-4c98-b8b9-98bef6d033fe",
   "metadata": {},
   "source": [
    "---\n",
    "\n",
    "**11. Vectorized Operations and Efficiency**\n",
    "\n",
    "R is optimized for vectorized operations, allowing it to perform calculations on entire vectors without explicit loops, which makes code concise and efficient. For example:"
   ]
  },
  {
   "cell_type": "code",
   "execution_count": 80,
   "id": "cf8adf3e-ebab-4537-8074-14a38efdbf45",
   "metadata": {},
   "outputs": [],
   "source": [
    "\n",
    "# Using vectorized operations instead of loops\n",
    "x <- 1:1000\n",
    "y <- x * 2  # Efficiently doubles each element in x\n",
    "# y"
   ]
  },
  {
   "cell_type": "markdown",
   "id": "6fb2826d-6cf5-4c8c-9904-92caabc14c93",
   "metadata": {},
   "source": [
    "Vectorized code in R is often faster and more readable than using loops for element-wise calculations.\n",
    "\n",
    "---\n",
    "\n",
    "**Summary**\n",
    "\n",
    "- **Vectors** are foundational in R and are used in almost every analysis.\n",
    "- They can hold data of one type only, with coercion occurring when mixed types are combined.\n",
    "- Indexing, subsetting, and vectorized operations are key to efficiently working with vectors.\n",
    "- **Vectorized operations** make R efficient, allowing calculations across an entire vector without needing explicit loops."
   ]
  },
  {
   "cell_type": "markdown",
   "id": "67d3c0a5-d796-4c78-b0e9-3fac1709376d",
   "metadata": {},
   "source": [
    "**Example**"
   ]
  },
  {
   "cell_type": "code",
   "execution_count": 81,
   "id": "a3fa38a1-fb68-436a-9bfe-81f066fe361c",
   "metadata": {},
   "outputs": [
    {
     "name": "stdout",
     "output_type": "stream",
     "text": [
      "Even numbers:\n",
      " 2 4 6 8 10 12 14 16 18 20 22 24 26 28 30 32 34 36 38 40 42 44 46 48 50 52 54 56 58 60 62 64 66 68 70 72 74 76 78 80 82 84 86 88 90 92 94 96 98 100 \n",
      "Odd numbers:\n",
      " 1 3 5 7 9 11 13 15 17 19 21 23 25 27 29 31 33 35 37 39 41 43 45 47 49 51 53 55 57 59 61 63 65 67 69 71 73 75 77 79 81 83 85 87 89 91 93 95 97 99 \n"
     ]
    }
   ],
   "source": [
    "# Initialize empty vectors to store even and odd numbers\n",
    "even_numbers <- c()\n",
    "odd_numbers <- c()\n",
    "\n",
    "# Loop from 1 to 100\n",
    "for (i in 1:100) {\n",
    "  # Check if the number is even\n",
    "  if (i %% 2 == 0) {\n",
    "    even_numbers <- c(even_numbers, i)  # Append to even_numbers vector\n",
    "  } else {\n",
    "    odd_numbers <- c(odd_numbers, i)    # Append to odd_numbers vector\n",
    "  }\n",
    "}\n",
    "\n",
    "# Print the results\n",
    "cat(\"Even numbers:\\n\", even_numbers, \"\\n\")\n",
    "cat(\"Odd numbers:\\n\", odd_numbers, \"\\n\")\n"
   ]
  },
  {
   "cell_type": "markdown",
   "id": "8d04f5fe-8f3b-4bb9-9ef3-ddf9bc92c56c",
   "metadata": {},
   "source": [
    "### **2. Lists**\n",
    "\n",
    "A **list** is a more flexible data structure that can contain elements of different types (e.g., numeric, character, logical, vectors, even other lists). It is a collection of objects, allowing you to mix and match data types."
   ]
  },
  {
   "cell_type": "markdown",
   "id": "3093be4e-d78c-4e82-807d-2d2592608cee",
   "metadata": {},
   "source": [
    "**1. What is a List?**\n",
    "\n",
    "- A **list** in R is a collection of elements where each element can be of a different data type (e.g., numeric, character, vector, data frame, etc.).\n",
    "- Unlike vectors, lists do not require elements to be of the same type.\n",
    "- Lists are particularly useful when handling complex datasets or objects that have multiple attributes, such as the results of statistical tests or machine learning models.\n",
    "\n",
    "\n",
    "**2. Creating a List**\n",
    "\n",
    "You can create a list using the `list()` function and include elements of any data type.\n",
    "\n",
    "**Basic List Creation**"
   ]
  },
  {
   "cell_type": "code",
   "execution_count": 95,
   "id": "cdd33580-097c-4ec5-bdad-dec9f4e00457",
   "metadata": {},
   "outputs": [
    {
     "name": "stdout",
     "output_type": "stream",
     "text": [
      "$name\n",
      "[1] \"Alice\"\n",
      "\n",
      "$age\n",
      "[1] 25\n",
      "\n",
      "$scores\n",
      "[1] 85 90 88\n",
      "\n"
     ]
    }
   ],
   "source": [
    "\n",
    "my_list <- list(name = \"Alice\", age = 25, scores = c(85, 90, 88))\n",
    "print(my_list)\n"
   ]
  },
  {
   "cell_type": "markdown",
   "id": "5c077386-a54b-457d-93e5-b4eb7ad21fcc",
   "metadata": {},
   "source": [
    "In this example:\n",
    "- `name` is a character string.\n",
    "- `age` is a numeric value.\n",
    "- `scores` is a numeric vector.\n",
    "\n",
    "#### **Unnamed Lists**\n",
    "\n",
    "Elements of a list can also be created without names:"
   ]
  },
  {
   "cell_type": "code",
   "execution_count": 96,
   "id": "0f334670-e3b8-4134-b053-c5805584fa54",
   "metadata": {},
   "outputs": [
    {
     "data": {
      "text/html": [
       "<ol>\n",
       "\t<li>'Alice'</li>\n",
       "\t<li>25</li>\n",
       "\t<li><style>\n",
       ".list-inline {list-style: none; margin:0; padding: 0}\n",
       ".list-inline>li {display: inline-block}\n",
       ".list-inline>li:not(:last-child)::after {content: \"\\00b7\"; padding: 0 .5ex}\n",
       "</style>\n",
       "<ol class=list-inline><li>85</li><li>90</li><li>88</li></ol>\n",
       "</li>\n",
       "</ol>\n"
      ],
      "text/latex": [
       "\\begin{enumerate}\n",
       "\\item 'Alice'\n",
       "\\item 25\n",
       "\\item \\begin{enumerate*}\n",
       "\\item 85\n",
       "\\item 90\n",
       "\\item 88\n",
       "\\end{enumerate*}\n",
       "\n",
       "\\end{enumerate}\n"
      ],
      "text/markdown": [
       "1. 'Alice'\n",
       "2. 25\n",
       "3. 1. 85\n",
       "2. 90\n",
       "3. 88\n",
       "\n",
       "\n",
       "\n",
       "\n",
       "\n"
      ],
      "text/plain": [
       "[[1]]\n",
       "[1] \"Alice\"\n",
       "\n",
       "[[2]]\n",
       "[1] 25\n",
       "\n",
       "[[3]]\n",
       "[1] 85 90 88\n"
      ]
     },
     "metadata": {},
     "output_type": "display_data"
    }
   ],
   "source": [
    "\n",
    "unnamed_list <- list(\"Alice\", 25, c(85, 90, 88))\n",
    "unnamed_list\n"
   ]
  },
  {
   "cell_type": "markdown",
   "id": "beaacaec-6427-4f4e-9aea-8f5c330feab1",
   "metadata": {},
   "source": [
    "**3. Accessing List Elements**\n",
    "\n",
    "Elements in a list can be accessed in different ways:\n",
    "\n",
    "**Using Dollar Sign (`$`) Notation**\n",
    "\n",
    "- When list elements are named, use `$` followed by the element name:"
   ]
  },
  {
   "cell_type": "code",
   "execution_count": 97,
   "id": "e385cf56-eb21-498c-acc3-50278474de85",
   "metadata": {},
   "outputs": [
    {
     "data": {
      "text/html": [
       "'Alice'"
      ],
      "text/latex": [
       "'Alice'"
      ],
      "text/markdown": [
       "'Alice'"
      ],
      "text/plain": [
       "[1] \"Alice\""
      ]
     },
     "metadata": {},
     "output_type": "display_data"
    },
    {
     "data": {
      "text/html": [
       "<style>\n",
       ".list-inline {list-style: none; margin:0; padding: 0}\n",
       ".list-inline>li {display: inline-block}\n",
       ".list-inline>li:not(:last-child)::after {content: \"\\00b7\"; padding: 0 .5ex}\n",
       "</style>\n",
       "<ol class=list-inline><li>85</li><li>90</li><li>88</li></ol>\n"
      ],
      "text/latex": [
       "\\begin{enumerate*}\n",
       "\\item 85\n",
       "\\item 90\n",
       "\\item 88\n",
       "\\end{enumerate*}\n"
      ],
      "text/markdown": [
       "1. 85\n",
       "2. 90\n",
       "3. 88\n",
       "\n",
       "\n"
      ],
      "text/plain": [
       "[1] 85 90 88"
      ]
     },
     "metadata": {},
     "output_type": "display_data"
    }
   ],
   "source": [
    " \n",
    "my_list$name    # Accesses \"Alice\"\n",
    "my_list$scores  # Accesses the vector c(85, 90, 88)\n"
   ]
  },
  {
   "cell_type": "markdown",
   "id": "69b43552-42d1-435c-8806-a3bee88db800",
   "metadata": {},
   "source": [
    "**Using Double Square Brackets (`[[ ]]`)**\n",
    "\n",
    "- `[[ ]]` is used for accessing individual elements in the list, particularly when elements are unnamed or to return the element itself, not as a sub-list."
   ]
  },
  {
   "cell_type": "code",
   "execution_count": 98,
   "id": "114b299e-ba1b-4d3a-aae2-4b3d0b7f4835",
   "metadata": {},
   "outputs": [
    {
     "data": {
      "text/html": [
       "'Alice'"
      ],
      "text/latex": [
       "'Alice'"
      ],
      "text/markdown": [
       "'Alice'"
      ],
      "text/plain": [
       "[1] \"Alice\""
      ]
     },
     "metadata": {},
     "output_type": "display_data"
    },
    {
     "data": {
      "text/html": [
       "<style>\n",
       ".list-inline {list-style: none; margin:0; padding: 0}\n",
       ".list-inline>li {display: inline-block}\n",
       ".list-inline>li:not(:last-child)::after {content: \"\\00b7\"; padding: 0 .5ex}\n",
       "</style>\n",
       "<ol class=list-inline><li>85</li><li>90</li><li>88</li></ol>\n"
      ],
      "text/latex": [
       "\\begin{enumerate*}\n",
       "\\item 85\n",
       "\\item 90\n",
       "\\item 88\n",
       "\\end{enumerate*}\n"
      ],
      "text/markdown": [
       "1. 85\n",
       "2. 90\n",
       "3. 88\n",
       "\n",
       "\n"
      ],
      "text/plain": [
       "[1] 85 90 88"
      ]
     },
     "metadata": {},
     "output_type": "display_data"
    }
   ],
   "source": [
    "\n",
    "my_list[[1]]     # Accesses \"Alice\"\n",
    "my_list[[3]]     # Accesses c(85, 90, 88)\n"
   ]
  },
  {
   "cell_type": "markdown",
   "id": "56dab736-9116-4041-ad00-07f5d4a1f74a",
   "metadata": {},
   "source": [
    "#### **Using Single Square Brackets (`[ ]`)**\n",
    "\n",
    "- Single square brackets `[]` return a sub-list rather than the element itself."
   ]
  },
  {
   "cell_type": "code",
   "execution_count": 99,
   "id": "19efe86d-418d-4918-8c00-295a936aed85",
   "metadata": {},
   "outputs": [
    {
     "data": {
      "text/html": [
       "<strong>$name</strong> = 'Alice'"
      ],
      "text/latex": [
       "\\textbf{\\$name} = 'Alice'"
      ],
      "text/markdown": [
       "**$name** = 'Alice'"
      ],
      "text/plain": [
       "$name\n",
       "[1] \"Alice\"\n"
      ]
     },
     "metadata": {},
     "output_type": "display_data"
    }
   ],
   "source": [
    "\n",
    "my_list[1]       # Returns a list with one element: \"Alice\"\n"
   ]
  },
  {
   "cell_type": "markdown",
   "id": "7f3e8efb-07ad-40fb-aafd-c401d3404320",
   "metadata": {},
   "source": [
    "#### **Accessing List Elements by Name in Brackets**\n",
    "\n",
    "- Named elements can also be accessed by names within square brackets:"
   ]
  },
  {
   "cell_type": "code",
   "execution_count": 100,
   "id": "9175dcc7-0ea9-4017-8661-7a4fc5eaf985",
   "metadata": {},
   "outputs": [
    {
     "data": {
      "text/html": [
       "25"
      ],
      "text/latex": [
       "25"
      ],
      "text/markdown": [
       "25"
      ],
      "text/plain": [
       "[1] 25"
      ]
     },
     "metadata": {},
     "output_type": "display_data"
    }
   ],
   "source": [
    "\n",
    "my_list[[\"age\"]]  # Accesses 25\n"
   ]
  },
  {
   "cell_type": "markdown",
   "id": "4d357400-14b1-4764-85f6-2618f42a558f",
   "metadata": {},
   "source": [
    "---\n",
    "\n",
    "### **4. Modifying List Elements**\n",
    "\n",
    "List elements can be modified by directly assigning new values to specific elements."
   ]
  },
  {
   "cell_type": "code",
   "execution_count": 101,
   "id": "59d50c0d-f7a8-4954-b3e8-5a2497a46786",
   "metadata": {},
   "outputs": [
    {
     "data": {
      "text/html": [
       "<dl>\n",
       "\t<dt>$name</dt>\n",
       "\t\t<dd>'Alice'</dd>\n",
       "\t<dt>$age</dt>\n",
       "\t\t<dd>25</dd>\n",
       "\t<dt>$scores</dt>\n",
       "\t\t<dd><style>\n",
       ".list-inline {list-style: none; margin:0; padding: 0}\n",
       ".list-inline>li {display: inline-block}\n",
       ".list-inline>li:not(:last-child)::after {content: \"\\00b7\"; padding: 0 .5ex}\n",
       "</style>\n",
       "<ol class=list-inline><li>85</li><li>90</li><li>88</li></ol>\n",
       "</dd>\n",
       "</dl>\n"
      ],
      "text/latex": [
       "\\begin{description}\n",
       "\\item[\\$name] 'Alice'\n",
       "\\item[\\$age] 25\n",
       "\\item[\\$scores] \\begin{enumerate*}\n",
       "\\item 85\n",
       "\\item 90\n",
       "\\item 88\n",
       "\\end{enumerate*}\n",
       "\n",
       "\\end{description}\n"
      ],
      "text/markdown": [
       "$name\n",
       ":   'Alice'\n",
       "$age\n",
       ":   25\n",
       "$scores\n",
       ":   1. 85\n",
       "2. 90\n",
       "3. 88\n",
       "\n",
       "\n",
       "\n",
       "\n",
       "\n"
      ],
      "text/plain": [
       "$name\n",
       "[1] \"Alice\"\n",
       "\n",
       "$age\n",
       "[1] 25\n",
       "\n",
       "$scores\n",
       "[1] 85 90 88\n"
      ]
     },
     "metadata": {},
     "output_type": "display_data"
    },
    {
     "data": {
      "text/html": [
       "<dl>\n",
       "\t<dt>$name</dt>\n",
       "\t\t<dd>'Bob'</dd>\n",
       "\t<dt>$age</dt>\n",
       "\t\t<dd>26</dd>\n",
       "\t<dt>$scores</dt>\n",
       "\t\t<dd><style>\n",
       ".list-inline {list-style: none; margin:0; padding: 0}\n",
       ".list-inline>li {display: inline-block}\n",
       ".list-inline>li:not(:last-child)::after {content: \"\\00b7\"; padding: 0 .5ex}\n",
       "</style>\n",
       "<ol class=list-inline><li>85</li><li>90</li><li>88</li></ol>\n",
       "</dd>\n",
       "</dl>\n"
      ],
      "text/latex": [
       "\\begin{description}\n",
       "\\item[\\$name] 'Bob'\n",
       "\\item[\\$age] 26\n",
       "\\item[\\$scores] \\begin{enumerate*}\n",
       "\\item 85\n",
       "\\item 90\n",
       "\\item 88\n",
       "\\end{enumerate*}\n",
       "\n",
       "\\end{description}\n"
      ],
      "text/markdown": [
       "$name\n",
       ":   'Bob'\n",
       "$age\n",
       ":   26\n",
       "$scores\n",
       ":   1. 85\n",
       "2. 90\n",
       "3. 88\n",
       "\n",
       "\n",
       "\n",
       "\n",
       "\n"
      ],
      "text/plain": [
       "$name\n",
       "[1] \"Bob\"\n",
       "\n",
       "$age\n",
       "[1] 26\n",
       "\n",
       "$scores\n",
       "[1] 85 90 88\n"
      ]
     },
     "metadata": {},
     "output_type": "display_data"
    },
    {
     "data": {
      "text/html": [
       "<dl>\n",
       "\t<dt>$name</dt>\n",
       "\t\t<dd>'Bob'</dd>\n",
       "\t<dt>$age</dt>\n",
       "\t\t<dd>26</dd>\n",
       "\t<dt>$scores</dt>\n",
       "\t\t<dd><style>\n",
       ".list-inline {list-style: none; margin:0; padding: 0}\n",
       ".list-inline>li {display: inline-block}\n",
       ".list-inline>li:not(:last-child)::after {content: \"\\00b7\"; padding: 0 .5ex}\n",
       "</style>\n",
       "<ol class=list-inline><li>85</li><li>90</li><li>88</li></ol>\n",
       "</dd>\n",
       "\t<dt>$gender</dt>\n",
       "\t\t<dd>'Female'</dd>\n",
       "</dl>\n"
      ],
      "text/latex": [
       "\\begin{description}\n",
       "\\item[\\$name] 'Bob'\n",
       "\\item[\\$age] 26\n",
       "\\item[\\$scores] \\begin{enumerate*}\n",
       "\\item 85\n",
       "\\item 90\n",
       "\\item 88\n",
       "\\end{enumerate*}\n",
       "\n",
       "\\item[\\$gender] 'Female'\n",
       "\\end{description}\n"
      ],
      "text/markdown": [
       "$name\n",
       ":   'Bob'\n",
       "$age\n",
       ":   26\n",
       "$scores\n",
       ":   1. 85\n",
       "2. 90\n",
       "3. 88\n",
       "\n",
       "\n",
       "\n",
       "$gender\n",
       ":   'Female'\n",
       "\n",
       "\n"
      ],
      "text/plain": [
       "$name\n",
       "[1] \"Bob\"\n",
       "\n",
       "$age\n",
       "[1] 26\n",
       "\n",
       "$scores\n",
       "[1] 85 90 88\n",
       "\n",
       "$gender\n",
       "[1] \"Female\"\n"
      ]
     },
     "metadata": {},
     "output_type": "display_data"
    },
    {
     "data": {
      "text/html": [
       "<dl>\n",
       "\t<dt>$name</dt>\n",
       "\t\t<dd>'Bob'</dd>\n",
       "\t<dt>$scores</dt>\n",
       "\t\t<dd><style>\n",
       ".list-inline {list-style: none; margin:0; padding: 0}\n",
       ".list-inline>li {display: inline-block}\n",
       ".list-inline>li:not(:last-child)::after {content: \"\\00b7\"; padding: 0 .5ex}\n",
       "</style>\n",
       "<ol class=list-inline><li>85</li><li>90</li><li>88</li></ol>\n",
       "</dd>\n",
       "\t<dt>$gender</dt>\n",
       "\t\t<dd>'Female'</dd>\n",
       "</dl>\n"
      ],
      "text/latex": [
       "\\begin{description}\n",
       "\\item[\\$name] 'Bob'\n",
       "\\item[\\$scores] \\begin{enumerate*}\n",
       "\\item 85\n",
       "\\item 90\n",
       "\\item 88\n",
       "\\end{enumerate*}\n",
       "\n",
       "\\item[\\$gender] 'Female'\n",
       "\\end{description}\n"
      ],
      "text/markdown": [
       "$name\n",
       ":   'Bob'\n",
       "$scores\n",
       ":   1. 85\n",
       "2. 90\n",
       "3. 88\n",
       "\n",
       "\n",
       "\n",
       "$gender\n",
       ":   'Female'\n",
       "\n",
       "\n"
      ],
      "text/plain": [
       "$name\n",
       "[1] \"Bob\"\n",
       "\n",
       "$scores\n",
       "[1] 85 90 88\n",
       "\n",
       "$gender\n",
       "[1] \"Female\"\n"
      ]
     },
     "metadata": {},
     "output_type": "display_data"
    }
   ],
   "source": [
    "my_list\n",
    "# Modify existing element\n",
    "my_list$age <- 26\n",
    "my_list[[\"name\"]] <- \"Bob\"\n",
    "my_list\n",
    "# Add a new element\n",
    "my_list$gender <- \"Female\"\n",
    "my_list\n",
    "# Remove an element\n",
    "my_list$age <- NULL  # Removes \"age\" element from the list\n",
    "my_list"
   ]
  },
  {
   "cell_type": "markdown",
   "id": "e9cb4e91-81b3-400a-b058-dcacd5bff799",
   "metadata": {},
   "source": [
    "---\n",
    "\n",
    "### **5. List Operations**\n",
    "\n",
    "#### **Combining Lists**\n",
    "\n",
    "Use `c()` to combine multiple lists into a single list:"
   ]
  },
  {
   "cell_type": "code",
   "execution_count": 102,
   "id": "856ecd4f-df74-4b13-84d9-ae387d23ec6c",
   "metadata": {},
   "outputs": [
    {
     "data": {
      "text/html": [
       "<dl>\n",
       "\t<dt>$a</dt>\n",
       "\t\t<dd>1</dd>\n",
       "\t<dt>$b</dt>\n",
       "\t\t<dd>2</dd>\n",
       "</dl>\n"
      ],
      "text/latex": [
       "\\begin{description}\n",
       "\\item[\\$a] 1\n",
       "\\item[\\$b] 2\n",
       "\\end{description}\n"
      ],
      "text/markdown": [
       "$a\n",
       ":   1\n",
       "$b\n",
       ":   2\n",
       "\n",
       "\n"
      ],
      "text/plain": [
       "$a\n",
       "[1] 1\n",
       "\n",
       "$b\n",
       "[1] 2\n"
      ]
     },
     "metadata": {},
     "output_type": "display_data"
    },
    {
     "data": {
      "text/html": [
       "<dl>\n",
       "\t<dt>$c</dt>\n",
       "\t\t<dd>3</dd>\n",
       "\t<dt>$d</dt>\n",
       "\t\t<dd>4</dd>\n",
       "</dl>\n"
      ],
      "text/latex": [
       "\\begin{description}\n",
       "\\item[\\$c] 3\n",
       "\\item[\\$d] 4\n",
       "\\end{description}\n"
      ],
      "text/markdown": [
       "$c\n",
       ":   3\n",
       "$d\n",
       ":   4\n",
       "\n",
       "\n"
      ],
      "text/plain": [
       "$c\n",
       "[1] 3\n",
       "\n",
       "$d\n",
       "[1] 4\n"
      ]
     },
     "metadata": {},
     "output_type": "display_data"
    },
    {
     "data": {
      "text/html": [
       "<dl>\n",
       "\t<dt>$a</dt>\n",
       "\t\t<dd>1</dd>\n",
       "\t<dt>$b</dt>\n",
       "\t\t<dd>2</dd>\n",
       "\t<dt>$c</dt>\n",
       "\t\t<dd>3</dd>\n",
       "\t<dt>$d</dt>\n",
       "\t\t<dd>4</dd>\n",
       "</dl>\n"
      ],
      "text/latex": [
       "\\begin{description}\n",
       "\\item[\\$a] 1\n",
       "\\item[\\$b] 2\n",
       "\\item[\\$c] 3\n",
       "\\item[\\$d] 4\n",
       "\\end{description}\n"
      ],
      "text/markdown": [
       "$a\n",
       ":   1\n",
       "$b\n",
       ":   2\n",
       "$c\n",
       ":   3\n",
       "$d\n",
       ":   4\n",
       "\n",
       "\n"
      ],
      "text/plain": [
       "$a\n",
       "[1] 1\n",
       "\n",
       "$b\n",
       "[1] 2\n",
       "\n",
       "$c\n",
       "[1] 3\n",
       "\n",
       "$d\n",
       "[1] 4\n"
      ]
     },
     "metadata": {},
     "output_type": "display_data"
    }
   ],
   "source": [
    "list1 <- list(a = 1, b = 2)\n",
    "list2 <- list(c = 3, d = 4)\n",
    "list1\n",
    "list2\n",
    "combined_list <- c(list1, list2)\n",
    "\n",
    "combined_list"
   ]
  },
  {
   "cell_type": "markdown",
   "id": "cbe7c6ee-75a0-4058-b9f5-467d838cc983",
   "metadata": {},
   "source": [
    "#### **Applying Functions to Lists**\n",
    "\n",
    "`lapply()` and `sapply()` are used to apply functions to each element of a list.\n",
    "\n",
    "- **`lapply()`**: Returns a list of the same length as the input."
   ]
  },
  {
   "cell_type": "code",
   "execution_count": 103,
   "id": "23af6430-21c1-4a34-8837-3f392ca045f5",
   "metadata": {},
   "outputs": [
    {
     "data": {
      "text/html": [
       "<dl>\n",
       "\t<dt>$a</dt>\n",
       "\t\t<dd>3</dd>\n",
       "\t<dt>$b</dt>\n",
       "\t\t<dd>8</dd>\n",
       "</dl>\n"
      ],
      "text/latex": [
       "\\begin{description}\n",
       "\\item[\\$a] 3\n",
       "\\item[\\$b] 8\n",
       "\\end{description}\n"
      ],
      "text/markdown": [
       "$a\n",
       ":   3\n",
       "$b\n",
       ":   8\n",
       "\n",
       "\n"
      ],
      "text/plain": [
       "$a\n",
       "[1] 3\n",
       "\n",
       "$b\n",
       "[1] 8\n"
      ]
     },
     "metadata": {},
     "output_type": "display_data"
    }
   ],
   "source": [
    "\n",
    "num_list <- list(a = 1:5, b = 6:10)\n",
    "lapply(num_list, mean)  # Calculates the mean of each element (sub-list)\n"
   ]
  },
  {
   "cell_type": "markdown",
   "id": "99e2cd6c-0a7f-429e-945e-35ccb8deb4e2",
   "metadata": {},
   "source": [
    "- **`sapply()`**: Returns a simplified vector or matrix if possible."
   ]
  },
  {
   "cell_type": "code",
   "execution_count": 104,
   "id": "1d9275ed-f207-4232-9892-d26158ee52b5",
   "metadata": {},
   "outputs": [
    {
     "data": {
      "text/html": [
       "<style>\n",
       ".dl-inline {width: auto; margin:0; padding: 0}\n",
       ".dl-inline>dt, .dl-inline>dd {float: none; width: auto; display: inline-block}\n",
       ".dl-inline>dt::after {content: \":\\0020\"; padding-right: .5ex}\n",
       ".dl-inline>dt:not(:first-of-type) {padding-left: .5ex}\n",
       "</style><dl class=dl-inline><dt>a</dt><dd>3</dd><dt>b</dt><dd>8</dd></dl>\n"
      ],
      "text/latex": [
       "\\begin{description*}\n",
       "\\item[a] 3\n",
       "\\item[b] 8\n",
       "\\end{description*}\n"
      ],
      "text/markdown": [
       "a\n",
       ":   3b\n",
       ":   8\n",
       "\n"
      ],
      "text/plain": [
       "a b \n",
       "3 8 "
      ]
     },
     "metadata": {},
     "output_type": "display_data"
    }
   ],
   "source": [
    "\n",
    "sapply(num_list, mean)\n"
   ]
  },
  {
   "cell_type": "markdown",
   "id": "6c31be47-40e0-4f4b-a1d6-892c62406bd4",
   "metadata": {},
   "source": [
    "#### **Converting Lists to Other Data Structures**\n",
    "\n",
    "- **To Vector**: If all elements are of the same type, use `unlist()`:"
   ]
  },
  {
   "cell_type": "code",
   "execution_count": 106,
   "id": "e36c275c-da20-49ab-9091-bd8dffbc3db9",
   "metadata": {},
   "outputs": [
    {
     "data": {
      "text/html": [
       "<ol>\n",
       "\t<li>1</li>\n",
       "\t<li>2</li>\n",
       "\t<li>3</li>\n",
       "\t<li>4</li>\n",
       "</ol>\n"
      ],
      "text/latex": [
       "\\begin{enumerate}\n",
       "\\item 1\n",
       "\\item 2\n",
       "\\item 3\n",
       "\\item 4\n",
       "\\end{enumerate}\n"
      ],
      "text/markdown": [
       "1. 1\n",
       "2. 2\n",
       "3. 3\n",
       "4. 4\n",
       "\n",
       "\n"
      ],
      "text/plain": [
       "[[1]]\n",
       "[1] 1\n",
       "\n",
       "[[2]]\n",
       "[1] 2\n",
       "\n",
       "[[3]]\n",
       "[1] 3\n",
       "\n",
       "[[4]]\n",
       "[1] 4\n"
      ]
     },
     "metadata": {},
     "output_type": "display_data"
    },
    {
     "data": {
      "text/html": [
       "<style>\n",
       ".list-inline {list-style: none; margin:0; padding: 0}\n",
       ".list-inline>li {display: inline-block}\n",
       ".list-inline>li:not(:last-child)::after {content: \"\\00b7\"; padding: 0 .5ex}\n",
       "</style>\n",
       "<ol class=list-inline><li>1</li><li>2</li><li>3</li><li>4</li></ol>\n"
      ],
      "text/latex": [
       "\\begin{enumerate*}\n",
       "\\item 1\n",
       "\\item 2\n",
       "\\item 3\n",
       "\\item 4\n",
       "\\end{enumerate*}\n"
      ],
      "text/markdown": [
       "1. 1\n",
       "2. 2\n",
       "3. 3\n",
       "4. 4\n",
       "\n",
       "\n"
      ],
      "text/plain": [
       "[1] 1 2 3 4"
      ]
     },
     "metadata": {},
     "output_type": "display_data"
    }
   ],
   "source": [
    "\n",
    "simple_list <- list(1, 2, 3, 4)\n",
    "simple_list\n",
    "vector <- unlist(simple_list)  # Converts to vector: 1 2 3 4\n",
    "vector"
   ]
  },
  {
   "cell_type": "markdown",
   "id": "4bc51729-fc06-4e08-b12b-86b2922851c8",
   "metadata": {},
   "source": [
    "- **To Data Frame**: If list elements have compatible structures, use `as.data.frame()`:"
   ]
  },
  {
   "cell_type": "code",
   "execution_count": 107,
   "id": "26239375-02cd-4410-a2cd-bfab5688953b",
   "metadata": {},
   "outputs": [
    {
     "data": {
      "text/html": [
       "<table class=\"dataframe\">\n",
       "<caption>A data.frame: 3 × 3</caption>\n",
       "<thead>\n",
       "\t<tr><th scope=col>name</th><th scope=col>scores</th><th scope=col>gender</th></tr>\n",
       "\t<tr><th scope=col>&lt;chr&gt;</th><th scope=col>&lt;dbl&gt;</th><th scope=col>&lt;chr&gt;</th></tr>\n",
       "</thead>\n",
       "<tbody>\n",
       "\t<tr><td>Bob</td><td>85</td><td>Female</td></tr>\n",
       "\t<tr><td>Bob</td><td>90</td><td>Female</td></tr>\n",
       "\t<tr><td>Bob</td><td>88</td><td>Female</td></tr>\n",
       "</tbody>\n",
       "</table>\n"
      ],
      "text/latex": [
       "A data.frame: 3 × 3\n",
       "\\begin{tabular}{lll}\n",
       " name & scores & gender\\\\\n",
       " <chr> & <dbl> & <chr>\\\\\n",
       "\\hline\n",
       "\t Bob & 85 & Female\\\\\n",
       "\t Bob & 90 & Female\\\\\n",
       "\t Bob & 88 & Female\\\\\n",
       "\\end{tabular}\n"
      ],
      "text/markdown": [
       "\n",
       "A data.frame: 3 × 3\n",
       "\n",
       "| name &lt;chr&gt; | scores &lt;dbl&gt; | gender &lt;chr&gt; |\n",
       "|---|---|---|\n",
       "| Bob | 85 | Female |\n",
       "| Bob | 90 | Female |\n",
       "| Bob | 88 | Female |\n",
       "\n"
      ],
      "text/plain": [
       "  name scores gender\n",
       "1 Bob  85     Female\n",
       "2 Bob  90     Female\n",
       "3 Bob  88     Female"
      ]
     },
     "metadata": {},
     "output_type": "display_data"
    }
   ],
   "source": [
    "\n",
    "df <- as.data.frame(my_list)\n",
    "df"
   ]
  },
  {
   "cell_type": "markdown",
   "id": "6908c09e-b305-4c1c-b7b1-aff3f76bdcc7",
   "metadata": {},
   "source": [
    "---\n",
    "\n",
    "### **6. Nested Lists**\n",
    "\n",
    "A list can contain other lists as elements, creating nested lists."
   ]
  },
  {
   "cell_type": "code",
   "execution_count": 109,
   "id": "9d49de09-16ff-4723-8659-4c1a5d9d64c2",
   "metadata": {},
   "outputs": [
    {
     "data": {
      "text/html": [
       "<dl>\n",
       "\t<dt>$name</dt>\n",
       "\t\t<dd>'Alice'</dd>\n",
       "\t<dt>$age</dt>\n",
       "\t\t<dd>25</dd>\n",
       "\t<dt>$scores</dt>\n",
       "\t\t<dd><dl>\n",
       "\t<dt>$math</dt>\n",
       "\t\t<dd>90</dd>\n",
       "\t<dt>$science</dt>\n",
       "\t\t<dd>95</dd>\n",
       "</dl>\n",
       "</dd>\n",
       "</dl>\n"
      ],
      "text/latex": [
       "\\begin{description}\n",
       "\\item[\\$name] 'Alice'\n",
       "\\item[\\$age] 25\n",
       "\\item[\\$scores] \\begin{description}\n",
       "\\item[\\$math] 90\n",
       "\\item[\\$science] 95\n",
       "\\end{description}\n",
       "\n",
       "\\end{description}\n"
      ],
      "text/markdown": [
       "$name\n",
       ":   'Alice'\n",
       "$age\n",
       ":   25\n",
       "$scores\n",
       ":   $math\n",
       ":   90\n",
       "$science\n",
       ":   95\n",
       "\n",
       "\n",
       "\n",
       "\n",
       "\n"
      ],
      "text/plain": [
       "$name\n",
       "[1] \"Alice\"\n",
       "\n",
       "$age\n",
       "[1] 25\n",
       "\n",
       "$scores\n",
       "$scores$math\n",
       "[1] 90\n",
       "\n",
       "$scores$science\n",
       "[1] 95\n",
       "\n"
      ]
     },
     "metadata": {},
     "output_type": "display_data"
    }
   ],
   "source": [
    "\n",
    "nested_list <- list(\n",
    "  name = \"Alice\",\n",
    "  age = 25,\n",
    "  scores = list(math = 90, science = 95)\n",
    ")\n",
    "nested_list"
   ]
  },
  {
   "cell_type": "markdown",
   "id": "7aeeda41-26ae-4d10-b1d2-2ee3f6ff149f",
   "metadata": {},
   "source": [
    "- Accessing elements in nested lists requires multiple indexing levels:"
   ]
  },
  {
   "cell_type": "code",
   "execution_count": 110,
   "id": "30dffc2b-ddb8-4e93-b451-75241cb85398",
   "metadata": {},
   "outputs": [
    {
     "data": {
      "text/html": [
       "90"
      ],
      "text/latex": [
       "90"
      ],
      "text/markdown": [
       "90"
      ],
      "text/plain": [
       "[1] 90"
      ]
     },
     "metadata": {},
     "output_type": "display_data"
    },
    {
     "data": {
      "text/html": [
       "95"
      ],
      "text/latex": [
       "95"
      ],
      "text/markdown": [
       "95"
      ],
      "text/plain": [
       "[1] 95"
      ]
     },
     "metadata": {},
     "output_type": "display_data"
    }
   ],
   "source": [
    "\n",
    "  nested_list$scores$math     # Accesses 90\n",
    "  nested_list[[\"scores\"]][[\"science\"]]  # Accesses 95\n"
   ]
  },
  {
   "cell_type": "markdown",
   "id": "d5359d4f-4369-4ee4-938f-95efd70d2bf4",
   "metadata": {},
   "source": [
    "### **7. Common List Functions**\n",
    "\n",
    "| Function       | Description                                               | Example                                                   |\n",
    "|----------------|-----------------------------------------------------------|-----------------------------------------------------------|\n",
    "| `length()`     | Returns the number of elements in a list                  | `length(my_list)`                                         |\n",
    "| `names()`      | Returns or sets the names of list elements                | `names(my_list)`                                          |\n",
    "| `unlist()`     | Flattens a list to a vector                               | `unlist(my_list)`                                         |\n",
    "| `lapply()`     | Applies a function to each element of a list, returns list| `lapply(num_list, mean)`                                  |\n",
    "| `sapply()`     | Applies a function to each element, returns simplified output| `sapply(num_list, mean)`                             |\n",
    "| `is.list()`    | Checks if an object is a list                             | `is.list(my_list)`                                        |\n",
    "| `as.list()`    | Converts another object (e.g., vector) to a list          | `as.list(c(1, 2, 3))`                                     |\n",
    "| `str()`        | Displays the structure of a list                          | `str(nested_list)`                                        |"
   ]
  },
  {
   "cell_type": "markdown",
   "id": "d8c6cd1a-e693-402f-a895-a12b06193637",
   "metadata": {},
   "source": [
    "### **8. Examples of List Usage**\n",
    "\n",
    "#### **Storing and Accessing Statistical Results**\n",
    "\n",
    "Lists are often used to store results from statistical functions that return multiple outputs."
   ]
  },
  {
   "cell_type": "code",
   "execution_count": 112,
   "id": "d7888ec3-beed-4196-abb0-c2bceff3abae",
   "metadata": {},
   "outputs": [
    {
     "name": "stdout",
     "output_type": "stream",
     "text": [
      "\n",
      "Call:\n",
      "lm(formula = mpg ~ hp, data = mtcars)\n",
      "\n",
      "Residuals:\n",
      "    Min      1Q  Median      3Q     Max \n",
      "-5.7121 -2.1122 -0.8854  1.5819  8.2360 \n",
      "\n",
      "Coefficients:\n",
      "            Estimate Std. Error t value Pr(>|t|)    \n",
      "(Intercept) 30.09886    1.63392  18.421  < 2e-16 ***\n",
      "hp          -0.06823    0.01012  -6.742 1.79e-07 ***\n",
      "---\n",
      "Signif. codes:  0 '***' 0.001 '**' 0.01 '*' 0.05 '.' 0.1 ' ' 1\n",
      "\n",
      "Residual standard error: 3.863 on 30 degrees of freedom\n",
      "Multiple R-squared:  0.6024,\tAdjusted R-squared:  0.5892 \n",
      "F-statistic: 45.46 on 1 and 30 DF,  p-value: 1.788e-07\n",
      "\n"
     ]
    },
    {
     "data": {
      "text/html": [
       "<table class=\"dataframe\">\n",
       "<caption>A matrix: 2 × 4 of type dbl</caption>\n",
       "<thead>\n",
       "\t<tr><th></th><th scope=col>Estimate</th><th scope=col>Std. Error</th><th scope=col>t value</th><th scope=col>Pr(&gt;|t|)</th></tr>\n",
       "</thead>\n",
       "<tbody>\n",
       "\t<tr><th scope=row>(Intercept)</th><td>30.09886054</td><td>1.6339210</td><td>18.421246</td><td>6.642736e-18</td></tr>\n",
       "\t<tr><th scope=row>hp</th><td>-0.06822828</td><td>0.0101193</td><td>-6.742389</td><td>1.787835e-07</td></tr>\n",
       "</tbody>\n",
       "</table>\n"
      ],
      "text/latex": [
       "A matrix: 2 × 4 of type dbl\n",
       "\\begin{tabular}{r|llll}\n",
       "  & Estimate & Std. Error & t value & Pr(>\\textbar{}t\\textbar{})\\\\\n",
       "\\hline\n",
       "\t(Intercept) & 30.09886054 & 1.6339210 & 18.421246 & 6.642736e-18\\\\\n",
       "\thp & -0.06822828 & 0.0101193 & -6.742389 & 1.787835e-07\\\\\n",
       "\\end{tabular}\n"
      ],
      "text/markdown": [
       "\n",
       "A matrix: 2 × 4 of type dbl\n",
       "\n",
       "| <!--/--> | Estimate | Std. Error | t value | Pr(&gt;|t|) |\n",
       "|---|---|---|---|---|\n",
       "| (Intercept) | 30.09886054 | 1.6339210 | 18.421246 | 6.642736e-18 |\n",
       "| hp | -0.06822828 | 0.0101193 | -6.742389 | 1.787835e-07 |\n",
       "\n"
      ],
      "text/plain": [
       "            Estimate    Std. Error t value   Pr(>|t|)    \n",
       "(Intercept) 30.09886054 1.6339210  18.421246 6.642736e-18\n",
       "hp          -0.06822828 0.0101193  -6.742389 1.787835e-07"
      ]
     },
     "metadata": {},
     "output_type": "display_data"
    }
   ],
   "source": [
    "\n",
    "model <- lm(mpg ~ hp, data = mtcars)\n",
    "\n",
    "summary_list <- summary(model)\n",
    "\n",
    "print(summary_list)\n",
    "\n",
    "summary_list$coefficients  # Access coefficients\n"
   ]
  },
  {
   "cell_type": "markdown",
   "id": "a00d848b-84f8-4c00-b385-fc76162fcbdf",
   "metadata": {},
   "source": [
    "#### **Using Lists in Data Analysis Pipelines**\n",
    "\n",
    "Lists can hold multiple datasets or intermediate results in a data analysis workflow."
   ]
  },
  {
   "cell_type": "code",
   "execution_count": 114,
   "id": "c4aec587-be05-47fa-bf06-7ac2eddcab12",
   "metadata": {},
   "outputs": [
    {
     "name": "stdout",
     "output_type": "stream",
     "text": [
      "'data.frame':\t32 obs. of  11 variables:\n",
      " $ mpg : num  21 21 22.8 21.4 18.7 18.1 14.3 24.4 22.8 19.2 ...\n",
      " $ cyl : num  6 6 4 6 8 6 8 4 4 6 ...\n",
      " $ disp: num  160 160 108 258 360 ...\n",
      " $ hp  : num  110 110 93 110 175 105 245 62 95 123 ...\n",
      " $ drat: num  3.9 3.9 3.85 3.08 3.15 2.76 3.21 3.69 3.92 3.92 ...\n",
      " $ wt  : num  2.62 2.88 2.32 3.21 3.44 ...\n",
      " $ qsec: num  16.5 17 18.6 19.4 17 ...\n",
      " $ vs  : num  0 0 1 1 0 1 0 1 1 1 ...\n",
      " $ am  : num  1 1 1 0 0 0 0 0 0 0 ...\n",
      " $ gear: num  4 4 4 3 3 3 3 4 4 4 ...\n",
      " $ carb: num  4 4 1 1 2 1 4 2 2 4 ...\n"
     ]
    },
    {
     "data": {
      "text/plain": [
       "$summary\n",
       "      mpg             cyl             disp             hp       \n",
       " Min.   :10.40   Min.   :4.000   Min.   : 71.1   Min.   : 52.0  \n",
       " 1st Qu.:15.43   1st Qu.:4.000   1st Qu.:120.8   1st Qu.: 96.5  \n",
       " Median :19.20   Median :6.000   Median :196.3   Median :123.0  \n",
       " Mean   :20.09   Mean   :6.188   Mean   :230.7   Mean   :146.7  \n",
       " 3rd Qu.:22.80   3rd Qu.:8.000   3rd Qu.:326.0   3rd Qu.:180.0  \n",
       " Max.   :33.90   Max.   :8.000   Max.   :472.0   Max.   :335.0  \n",
       "      drat             wt             qsec             vs        \n",
       " Min.   :2.760   Min.   :1.513   Min.   :14.50   Min.   :0.0000  \n",
       " 1st Qu.:3.080   1st Qu.:2.581   1st Qu.:16.89   1st Qu.:0.0000  \n",
       " Median :3.695   Median :3.325   Median :17.71   Median :0.0000  \n",
       " Mean   :3.597   Mean   :3.217   Mean   :17.85   Mean   :0.4375  \n",
       " 3rd Qu.:3.920   3rd Qu.:3.610   3rd Qu.:18.90   3rd Qu.:1.0000  \n",
       " Max.   :4.930   Max.   :5.424   Max.   :22.90   Max.   :1.0000  \n",
       "       am              gear            carb      \n",
       " Min.   :0.0000   Min.   :3.000   Min.   :1.000  \n",
       " 1st Qu.:0.0000   1st Qu.:3.000   1st Qu.:2.000  \n",
       " Median :0.0000   Median :4.000   Median :2.000  \n",
       " Mean   :0.4062   Mean   :3.688   Mean   :2.812  \n",
       " 3rd Qu.:1.0000   3rd Qu.:4.000   3rd Qu.:4.000  \n",
       " Max.   :1.0000   Max.   :5.000   Max.   :8.000  \n",
       "\n",
       "$structure\n",
       "NULL\n",
       "\n",
       "$correlation\n",
       "[1] -0.7761684\n"
      ]
     },
     "metadata": {},
     "output_type": "display_data"
    }
   ],
   "source": [
    "\n",
    "analysis_results <- list(\n",
    "  summary = summary(mtcars),\n",
    "  structure = str(mtcars),\n",
    "  correlation = cor(mtcars$mpg, mtcars$hp)\n",
    ")\n",
    "\n",
    "analysis_results\n"
   ]
  },
  {
   "cell_type": "markdown",
   "id": "f477bf34-1f2c-48eb-aaac-d894b741edca",
   "metadata": {},
   "source": [
    "### **9. Best Practices with Lists**\n",
    "\n",
    "- **Naming Elements**: When creating lists, it’s helpful to name elements, making it easier to understand and access list contents.\n",
    "- **Consistency**: If possible, keep similar types or structures in a list to simplify processing.\n",
    "- **Nested Lists**: Nested lists are powerful but can become complex. Try to use clear naming and consistent structure when nesting lists."
   ]
  },
  {
   "cell_type": "markdown",
   "id": "0d9ac4f2-fbbc-4850-8e70-9eafb740d55b",
   "metadata": {},
   "source": [
    "#### **Lists vs. Vectors:**\n",
    "- **Homogeneity**: Vectors can only hold elements of the same type, while lists can store different types of objects.\n",
    "- **Length**: Lists can contain elements of varying lengths, while vectors must have elements of the same length."
   ]
  },
  {
   "cell_type": "markdown",
   "id": "b992719c-7c58-467e-b8df-a6e8e8a24bbf",
   "metadata": {},
   "source": [
    "### **10. Summary**\n",
    "\n",
    "- Lists in R are flexible containers that can store heterogeneous data types, including other lists.\n",
    "- Lists are commonly used for storing complex outputs, handling nested data, and managing multi-object data.\n",
    "- Access elements using `$`, `[[ ]]`, and `[ ]` indexing based on your needs.\n",
    "- R provides useful functions like `lapply()`, `sapply()`, and `unlist()` for manipulating lists efficiently.\n",
    "\n",
    "Understanding lists is essential for effective R programming, particularly in scenarios involving complex data or objects, making lists one of the most versatile and essential data structures in R."
   ]
  },
  {
   "cell_type": "code",
   "execution_count": null,
   "id": "1c3d5fab-a902-41c0-b214-e059e271a3e5",
   "metadata": {},
   "outputs": [],
   "source": []
  },
  {
   "cell_type": "markdown",
   "id": "24238762-8a31-46d5-9676-14e2aee5d439",
   "metadata": {},
   "source": [
    "### **3. Matrices**\n",
    "\n",
    "A **matrix** is a two-dimensional array that contains elements of the same type (numeric, logical, or character). Matrices are essentially vectors arranged in rows and columns."
   ]
  },
  {
   "cell_type": "markdown",
   "id": "456c0fe4-3f1a-43f4-b4fa-04f67ea0826c",
   "metadata": {},
   "source": [
    "#### **Creating a Matrix:**"
   ]
  },
  {
   "cell_type": "markdown",
   "id": "2b5e8805-060d-4b2f-ad10-3f3675ea25be",
   "metadata": {},
   "source": [
    "Matrices in R are two-dimensional, homogeneous data structures used for storing data in rows and columns. Unlike lists or data frames, all elements in a matrix must be of the same data type, making them suitable for numerical computations, linear algebra operations, and organizing tabular data in a mathematical format."
   ]
  },
  {
   "cell_type": "markdown",
   "id": "c4a1ed9a-e9e6-4a00-9a6d-d3c9baae62c4",
   "metadata": {},
   "source": [
    "**1. What is a Matrix?**\n",
    "\n",
    "- A **matrix** in R is a collection of elements arranged in a rectangular layout with rows and columns.\n",
    "- All elements in a matrix must be of the same data type, typically numeric or character.\n",
    "- Matrices are commonly used for mathematical operations, statistics, and machine learning models due to their structure and efficient computation."
   ]
  },
  {
   "cell_type": "markdown",
   "id": "27b49190-995c-44f9-80e8-a7342a17beed",
   "metadata": {},
   "source": [
    "#### **2. Creating Matrices**\n",
    "\n",
    "Matrices can be created using the `matrix()` function, combining vectors, or reshaping arrays.\n",
    "\n",
    "**Using `matrix()` Function**\n",
    "\n",
    "The most common way to create a matrix is with the `matrix()` function, where you specify the elements, number of rows, and number of columns."
   ]
  },
  {
   "cell_type": "code",
   "execution_count": 139,
   "id": "de168a52-3ff7-4855-8a0c-74aa77fe238c",
   "metadata": {},
   "outputs": [
    {
     "data": {
      "text/html": [
       "<table class=\"dataframe\">\n",
       "<caption>A matrix: 3 × 3 of type int</caption>\n",
       "<tbody>\n",
       "\t<tr><td>1</td><td>4</td><td>7</td></tr>\n",
       "\t<tr><td>2</td><td>5</td><td>8</td></tr>\n",
       "\t<tr><td>3</td><td>6</td><td>9</td></tr>\n",
       "</tbody>\n",
       "</table>\n"
      ],
      "text/latex": [
       "A matrix: 3 × 3 of type int\n",
       "\\begin{tabular}{lll}\n",
       "\t 1 & 4 & 7\\\\\n",
       "\t 2 & 5 & 8\\\\\n",
       "\t 3 & 6 & 9\\\\\n",
       "\\end{tabular}\n"
      ],
      "text/markdown": [
       "\n",
       "A matrix: 3 × 3 of type int\n",
       "\n",
       "| 1 | 4 | 7 |\n",
       "| 2 | 5 | 8 |\n",
       "| 3 | 6 | 9 |\n",
       "\n"
      ],
      "text/plain": [
       "     [,1] [,2] [,3]\n",
       "[1,] 1    4    7   \n",
       "[2,] 2    5    8   \n",
       "[3,] 3    6    9   "
      ]
     },
     "metadata": {},
     "output_type": "display_data"
    }
   ],
   "source": [
    "\n",
    "# Create a 3x3 numeric matrix\n",
    "m <- matrix(1:9, nrow = 3, ncol = 3)\n",
    "\n",
    "m"
   ]
  },
  {
   "cell_type": "markdown",
   "id": "b873a0a1-9027-4c1c-9387-1bd73a0a87b7",
   "metadata": {},
   "source": [
    "**Setting Data by Rows or Columns**\n",
    "\n",
    "By default, the `matrix()` function fills data column-wise. Use the `byrow = TRUE` argument to fill data row-wise."
   ]
  },
  {
   "cell_type": "code",
   "execution_count": 126,
   "id": "297593f3-0792-48ce-928f-005615d1dff8",
   "metadata": {},
   "outputs": [
    {
     "data": {
      "text/html": [
       "<table class=\"dataframe\">\n",
       "<caption>A matrix: 3 × 3 of type int</caption>\n",
       "<tbody>\n",
       "\t<tr><td>1</td><td>2</td><td>3</td></tr>\n",
       "\t<tr><td>4</td><td>5</td><td>6</td></tr>\n",
       "\t<tr><td>7</td><td>8</td><td>9</td></tr>\n",
       "</tbody>\n",
       "</table>\n"
      ],
      "text/latex": [
       "A matrix: 3 × 3 of type int\n",
       "\\begin{tabular}{lll}\n",
       "\t 1 & 2 & 3\\\\\n",
       "\t 4 & 5 & 6\\\\\n",
       "\t 7 & 8 & 9\\\\\n",
       "\\end{tabular}\n"
      ],
      "text/markdown": [
       "\n",
       "A matrix: 3 × 3 of type int\n",
       "\n",
       "| 1 | 2 | 3 |\n",
       "| 4 | 5 | 6 |\n",
       "| 7 | 8 | 9 |\n",
       "\n"
      ],
      "text/plain": [
       "     [,1] [,2] [,3]\n",
       "[1,] 1    2    3   \n",
       "[2,] 4    5    6   \n",
       "[3,] 7    8    9   "
      ]
     },
     "metadata": {},
     "output_type": "display_data"
    }
   ],
   "source": [
    "\n",
    "# Fill matrix by rows\n",
    "m_byrow <- matrix(1:9, nrow = 3, ncol = 3, byrow = TRUE)\n",
    "m_byrow\n"
   ]
  },
  {
   "cell_type": "markdown",
   "id": "01f4caa4-1d60-4edd-94d2-dbbe7927ce69",
   "metadata": {},
   "source": [
    "**Creating a Matrix from Vectors**\n",
    "\n",
    "You can combine vectors to form a matrix using `cbind()` (column-bind) or `rbind()` (row-bind) functions."
   ]
  },
  {
   "cell_type": "code",
   "execution_count": 127,
   "id": "79a20efb-e8d9-4065-a8f9-2611ca04db89",
   "metadata": {},
   "outputs": [],
   "source": [
    "# Create vectors\n",
    "v1 <- c(1, 2, 3)\n",
    "v2 <- c(4, 5, 6)"
   ]
  },
  {
   "cell_type": "code",
   "execution_count": 128,
   "id": "fe059959-0345-40aa-9757-b4ee36508eb1",
   "metadata": {},
   "outputs": [
    {
     "data": {
      "text/html": [
       "<table class=\"dataframe\">\n",
       "<caption>A matrix: 3 × 2 of type dbl</caption>\n",
       "<thead>\n",
       "\t<tr><th scope=col>v1</th><th scope=col>v2</th></tr>\n",
       "</thead>\n",
       "<tbody>\n",
       "\t<tr><td>1</td><td>4</td></tr>\n",
       "\t<tr><td>2</td><td>5</td></tr>\n",
       "\t<tr><td>3</td><td>6</td></tr>\n",
       "</tbody>\n",
       "</table>\n"
      ],
      "text/latex": [
       "A matrix: 3 × 2 of type dbl\n",
       "\\begin{tabular}{ll}\n",
       " v1 & v2\\\\\n",
       "\\hline\n",
       "\t 1 & 4\\\\\n",
       "\t 2 & 5\\\\\n",
       "\t 3 & 6\\\\\n",
       "\\end{tabular}\n"
      ],
      "text/markdown": [
       "\n",
       "A matrix: 3 × 2 of type dbl\n",
       "\n",
       "| v1 | v2 |\n",
       "|---|---|\n",
       "| 1 | 4 |\n",
       "| 2 | 5 |\n",
       "| 3 | 6 |\n",
       "\n"
      ],
      "text/plain": [
       "     v1 v2\n",
       "[1,] 1  4 \n",
       "[2,] 2  5 \n",
       "[3,] 3  6 "
      ]
     },
     "metadata": {},
     "output_type": "display_data"
    }
   ],
   "source": [
    "# Combine vectors into a matrix\n",
    "m_cbind <- cbind(v1, v2)  # Column bind\n",
    "m_cbind"
   ]
  },
  {
   "cell_type": "code",
   "execution_count": 129,
   "id": "72a1a61e-4832-4404-bb57-0ef94f55a6aa",
   "metadata": {},
   "outputs": [
    {
     "data": {
      "text/html": [
       "<table class=\"dataframe\">\n",
       "<caption>A matrix: 2 × 3 of type dbl</caption>\n",
       "<tbody>\n",
       "\t<tr><th scope=row>v1</th><td>1</td><td>2</td><td>3</td></tr>\n",
       "\t<tr><th scope=row>v2</th><td>4</td><td>5</td><td>6</td></tr>\n",
       "</tbody>\n",
       "</table>\n"
      ],
      "text/latex": [
       "A matrix: 2 × 3 of type dbl\n",
       "\\begin{tabular}{r|lll}\n",
       "\tv1 & 1 & 2 & 3\\\\\n",
       "\tv2 & 4 & 5 & 6\\\\\n",
       "\\end{tabular}\n"
      ],
      "text/markdown": [
       "\n",
       "A matrix: 2 × 3 of type dbl\n",
       "\n",
       "| v1 | 1 | 2 | 3 |\n",
       "| v2 | 4 | 5 | 6 |\n",
       "\n"
      ],
      "text/plain": [
       "   [,1] [,2] [,3]\n",
       "v1 1    2    3   \n",
       "v2 4    5    6   "
      ]
     },
     "metadata": {},
     "output_type": "display_data"
    }
   ],
   "source": [
    "m_rbind <- rbind(v1, v2)  # Row bind\n",
    "m_rbind"
   ]
  },
  {
   "cell_type": "markdown",
   "id": "510926b3-ee6c-4f0c-9121-736f158b3a58",
   "metadata": {},
   "source": [
    "**3. Dimensions of a Matrix**\n",
    "\n",
    "- The `dim()` function returns the dimensions of a matrix as a vector, showing the number of rows and columns."
   ]
  },
  {
   "cell_type": "code",
   "execution_count": 130,
   "id": "b636b195-c3b3-4847-9e4d-5f7e3c7190d2",
   "metadata": {},
   "outputs": [
    {
     "data": {
      "text/html": [
       "<style>\n",
       ".list-inline {list-style: none; margin:0; padding: 0}\n",
       ".list-inline>li {display: inline-block}\n",
       ".list-inline>li:not(:last-child)::after {content: \"\\00b7\"; padding: 0 .5ex}\n",
       "</style>\n",
       "<ol class=list-inline><li>3</li><li>3</li></ol>\n"
      ],
      "text/latex": [
       "\\begin{enumerate*}\n",
       "\\item 3\n",
       "\\item 3\n",
       "\\end{enumerate*}\n"
      ],
      "text/markdown": [
       "1. 3\n",
       "2. 3\n",
       "\n",
       "\n"
      ],
      "text/plain": [
       "[1] 3 3"
      ]
     },
     "metadata": {},
     "output_type": "display_data"
    }
   ],
   "source": [
    "\n",
    "dim(m)  # Returns c(3, 3)\n"
   ]
  },
  {
   "cell_type": "markdown",
   "id": "439a7c4a-4498-47f5-8340-51bb802743e1",
   "metadata": {},
   "source": [
    "- Other useful functions for examining dimensions:\n",
    "  - `nrow(m)`: Returns the number of rows.\n",
    "  - `ncol(m)`: Returns the number of columns.\n",
    "  - `length(m)`: Returns the total number of elements in the matrix."
   ]
  },
  {
   "cell_type": "markdown",
   "id": "8c3a3e0b-9646-4d33-b5ce-c2843c9af52d",
   "metadata": {},
   "source": [
    "**4. Accessing Matrix Elements**\n",
    "\n",
    "Matrix elements can be accessed by specifying the row and column indices in square brackets `[,]`."
   ]
  },
  {
   "cell_type": "code",
   "execution_count": 131,
   "id": "fe35de60-eb42-452c-902a-90c0ca07734d",
   "metadata": {},
   "outputs": [
    {
     "data": {
      "text/html": [
       "8"
      ],
      "text/latex": [
       "8"
      ],
      "text/markdown": [
       "8"
      ],
      "text/plain": [
       "[1] 8"
      ]
     },
     "metadata": {},
     "output_type": "display_data"
    },
    {
     "data": {
      "text/html": [
       "<style>\n",
       ".list-inline {list-style: none; margin:0; padding: 0}\n",
       ".list-inline>li {display: inline-block}\n",
       ".list-inline>li:not(:last-child)::after {content: \"\\00b7\"; padding: 0 .5ex}\n",
       "</style>\n",
       "<ol class=list-inline><li>2</li><li>5</li><li>8</li></ol>\n"
      ],
      "text/latex": [
       "\\begin{enumerate*}\n",
       "\\item 2\n",
       "\\item 5\n",
       "\\item 8\n",
       "\\end{enumerate*}\n"
      ],
      "text/markdown": [
       "1. 2\n",
       "2. 5\n",
       "3. 8\n",
       "\n",
       "\n"
      ],
      "text/plain": [
       "[1] 2 5 8"
      ]
     },
     "metadata": {},
     "output_type": "display_data"
    },
    {
     "data": {
      "text/html": [
       "<style>\n",
       ".list-inline {list-style: none; margin:0; padding: 0}\n",
       ".list-inline>li {display: inline-block}\n",
       ".list-inline>li:not(:last-child)::after {content: \"\\00b7\"; padding: 0 .5ex}\n",
       "</style>\n",
       "<ol class=list-inline><li>7</li><li>8</li><li>9</li></ol>\n"
      ],
      "text/latex": [
       "\\begin{enumerate*}\n",
       "\\item 7\n",
       "\\item 8\n",
       "\\item 9\n",
       "\\end{enumerate*}\n"
      ],
      "text/markdown": [
       "1. 7\n",
       "2. 8\n",
       "3. 9\n",
       "\n",
       "\n"
      ],
      "text/plain": [
       "[1] 7 8 9"
      ]
     },
     "metadata": {},
     "output_type": "display_data"
    }
   ],
   "source": [
    "\n",
    "# Access element at row 2, column 3\n",
    "m[2, 3]\n",
    "\n",
    "# Access entire row or column\n",
    "m[2, ]   # Entire second row\n",
    "m[, 3]   # Entire third column\n"
   ]
  },
  {
   "cell_type": "markdown",
   "id": "87147a03-d3f6-43cb-89f0-7ef284eb3b83",
   "metadata": {},
   "source": [
    "**Using Logical and Named Indexing**\n",
    "\n",
    "- **Logical Indexing**: You can access elements based on conditions."
   ]
  },
  {
   "cell_type": "code",
   "execution_count": 132,
   "id": "060d1947-c7e1-46fc-ad70-7aa28a56d971",
   "metadata": {},
   "outputs": [
    {
     "data": {
      "text/html": [
       "<style>\n",
       ".list-inline {list-style: none; margin:0; padding: 0}\n",
       ".list-inline>li {display: inline-block}\n",
       ".list-inline>li:not(:last-child)::after {content: \"\\00b7\"; padding: 0 .5ex}\n",
       "</style>\n",
       "<ol class=list-inline><li>6</li><li>7</li><li>8</li><li>9</li></ol>\n"
      ],
      "text/latex": [
       "\\begin{enumerate*}\n",
       "\\item 6\n",
       "\\item 7\n",
       "\\item 8\n",
       "\\item 9\n",
       "\\end{enumerate*}\n"
      ],
      "text/markdown": [
       "1. 6\n",
       "2. 7\n",
       "3. 8\n",
       "4. 9\n",
       "\n",
       "\n"
      ],
      "text/plain": [
       "[1] 6 7 8 9"
      ]
     },
     "metadata": {},
     "output_type": "display_data"
    }
   ],
   "source": [
    "\n",
    "m[m > 5]  # Access elements greater than 5\n"
   ]
  },
  {
   "cell_type": "markdown",
   "id": "93b3ec67-b228-48f7-b34e-0c8c31240862",
   "metadata": {},
   "source": [
    "- **Named Rows and Columns**: You can set row and column names to make accessing elements easier."
   ]
  },
  {
   "cell_type": "code",
   "execution_count": 140,
   "id": "fc6f3f93-c5ae-4c2c-a9ba-262debdbaaa5",
   "metadata": {},
   "outputs": [
    {
     "data": {
      "text/html": [
       "<table class=\"dataframe\">\n",
       "<caption>A matrix: 3 × 3 of type int</caption>\n",
       "<tbody>\n",
       "\t<tr><td>1</td><td>4</td><td>7</td></tr>\n",
       "\t<tr><td>2</td><td>5</td><td>8</td></tr>\n",
       "\t<tr><td>3</td><td>6</td><td>9</td></tr>\n",
       "</tbody>\n",
       "</table>\n"
      ],
      "text/latex": [
       "A matrix: 3 × 3 of type int\n",
       "\\begin{tabular}{lll}\n",
       "\t 1 & 4 & 7\\\\\n",
       "\t 2 & 5 & 8\\\\\n",
       "\t 3 & 6 & 9\\\\\n",
       "\\end{tabular}\n"
      ],
      "text/markdown": [
       "\n",
       "A matrix: 3 × 3 of type int\n",
       "\n",
       "| 1 | 4 | 7 |\n",
       "| 2 | 5 | 8 |\n",
       "| 3 | 6 | 9 |\n",
       "\n"
      ],
      "text/plain": [
       "     [,1] [,2] [,3]\n",
       "[1,] 1    4    7   \n",
       "[2,] 2    5    8   \n",
       "[3,] 3    6    9   "
      ]
     },
     "metadata": {},
     "output_type": "display_data"
    }
   ],
   "source": [
    "m <- matrix(1:9, nrow = 3, ncol = 3)\n",
    "m"
   ]
  },
  {
   "cell_type": "code",
   "execution_count": 141,
   "id": "9ce98b13-24fb-45f3-b7bd-6df83e17a72c",
   "metadata": {},
   "outputs": [
    {
     "data": {
      "text/html": [
       "4"
      ],
      "text/latex": [
       "4"
      ],
      "text/markdown": [
       "4"
      ],
      "text/plain": [
       "[1] 4"
      ]
     },
     "metadata": {},
     "output_type": "display_data"
    }
   ],
   "source": [
    "rownames(m) <- c(\"A\", \"B\", \"C\")\n",
    "colnames(m) <- c(\"X\", \"Y\", \"Z\")\n",
    "\n",
    "m[\"A\", \"Y\"]"
   ]
  },
  {
   "cell_type": "markdown",
   "id": "cbf3067b-64bf-438e-aef8-a406baf0d685",
   "metadata": {},
   "source": [
    "**5. Modifying Matrix Elements**\n",
    "\n",
    "You can modify elements in a matrix by assigning new values to specific indices."
   ]
  },
  {
   "cell_type": "code",
   "execution_count": 142,
   "id": "e7cd9bd3-6c22-4bdf-9a65-6e34245089bf",
   "metadata": {},
   "outputs": [
    {
     "data": {
      "text/html": [
       "<table class=\"dataframe\">\n",
       "<caption>A matrix: 3 × 3 of type int</caption>\n",
       "<thead>\n",
       "\t<tr><th></th><th scope=col>X</th><th scope=col>Y</th><th scope=col>Z</th></tr>\n",
       "</thead>\n",
       "<tbody>\n",
       "\t<tr><th scope=row>A</th><td>1</td><td>4</td><td>7</td></tr>\n",
       "\t<tr><th scope=row>B</th><td>2</td><td>5</td><td>8</td></tr>\n",
       "\t<tr><th scope=row>C</th><td>3</td><td>6</td><td>9</td></tr>\n",
       "</tbody>\n",
       "</table>\n"
      ],
      "text/latex": [
       "A matrix: 3 × 3 of type int\n",
       "\\begin{tabular}{r|lll}\n",
       "  & X & Y & Z\\\\\n",
       "\\hline\n",
       "\tA & 1 & 4 & 7\\\\\n",
       "\tB & 2 & 5 & 8\\\\\n",
       "\tC & 3 & 6 & 9\\\\\n",
       "\\end{tabular}\n"
      ],
      "text/markdown": [
       "\n",
       "A matrix: 3 × 3 of type int\n",
       "\n",
       "| <!--/--> | X | Y | Z |\n",
       "|---|---|---|---|\n",
       "| A | 1 | 4 | 7 |\n",
       "| B | 2 | 5 | 8 |\n",
       "| C | 3 | 6 | 9 |\n",
       "\n"
      ],
      "text/plain": [
       "  X Y Z\n",
       "A 1 4 7\n",
       "B 2 5 8\n",
       "C 3 6 9"
      ]
     },
     "metadata": {},
     "output_type": "display_data"
    },
    {
     "data": {
      "text/html": [
       "<table class=\"dataframe\">\n",
       "<caption>A matrix: 3 × 3 of type dbl</caption>\n",
       "<thead>\n",
       "\t<tr><th></th><th scope=col>X</th><th scope=col>Y</th><th scope=col>Z</th></tr>\n",
       "</thead>\n",
       "<tbody>\n",
       "\t<tr><th scope=row>A</th><td>10</td><td>4</td><td>7</td></tr>\n",
       "\t<tr><th scope=row>B</th><td> 2</td><td>5</td><td>8</td></tr>\n",
       "\t<tr><th scope=row>C</th><td> 3</td><td>6</td><td>9</td></tr>\n",
       "</tbody>\n",
       "</table>\n"
      ],
      "text/latex": [
       "A matrix: 3 × 3 of type dbl\n",
       "\\begin{tabular}{r|lll}\n",
       "  & X & Y & Z\\\\\n",
       "\\hline\n",
       "\tA & 10 & 4 & 7\\\\\n",
       "\tB &  2 & 5 & 8\\\\\n",
       "\tC &  3 & 6 & 9\\\\\n",
       "\\end{tabular}\n"
      ],
      "text/markdown": [
       "\n",
       "A matrix: 3 × 3 of type dbl\n",
       "\n",
       "| <!--/--> | X | Y | Z |\n",
       "|---|---|---|---|\n",
       "| A | 10 | 4 | 7 |\n",
       "| B |  2 | 5 | 8 |\n",
       "| C |  3 | 6 | 9 |\n",
       "\n"
      ],
      "text/plain": [
       "  X  Y Z\n",
       "A 10 4 7\n",
       "B  2 5 8\n",
       "C  3 6 9"
      ]
     },
     "metadata": {},
     "output_type": "display_data"
    }
   ],
   "source": [
    "m\n",
    "# Modify element at row 1, column 1\n",
    "m[1, 1] <- 10\n",
    "m"
   ]
  },
  {
   "cell_type": "code",
   "execution_count": 143,
   "id": "b207ca58-879d-4c85-8a1c-0696a3575263",
   "metadata": {},
   "outputs": [
    {
     "data": {
      "text/html": [
       "<table class=\"dataframe\">\n",
       "<caption>A matrix: 3 × 3 of type dbl</caption>\n",
       "<thead>\n",
       "\t<tr><th></th><th scope=col>X</th><th scope=col>Y</th><th scope=col>Z</th></tr>\n",
       "</thead>\n",
       "<tbody>\n",
       "\t<tr><th scope=row>A</th><td>10</td><td>4</td><td>7</td></tr>\n",
       "\t<tr><th scope=row>B</th><td> 2</td><td>5</td><td>8</td></tr>\n",
       "\t<tr><th scope=row>C</th><td> 3</td><td>6</td><td>9</td></tr>\n",
       "</tbody>\n",
       "</table>\n"
      ],
      "text/latex": [
       "A matrix: 3 × 3 of type dbl\n",
       "\\begin{tabular}{r|lll}\n",
       "  & X & Y & Z\\\\\n",
       "\\hline\n",
       "\tA & 10 & 4 & 7\\\\\n",
       "\tB &  2 & 5 & 8\\\\\n",
       "\tC &  3 & 6 & 9\\\\\n",
       "\\end{tabular}\n"
      ],
      "text/markdown": [
       "\n",
       "A matrix: 3 × 3 of type dbl\n",
       "\n",
       "| <!--/--> | X | Y | Z |\n",
       "|---|---|---|---|\n",
       "| A | 10 | 4 | 7 |\n",
       "| B |  2 | 5 | 8 |\n",
       "| C |  3 | 6 | 9 |\n",
       "\n"
      ],
      "text/plain": [
       "  X  Y Z\n",
       "A 10 4 7\n",
       "B  2 5 8\n",
       "C  3 6 9"
      ]
     },
     "metadata": {},
     "output_type": "display_data"
    },
    {
     "data": {
      "text/html": [
       "<table class=\"dataframe\">\n",
       "<caption>A matrix: 3 × 3 of type dbl</caption>\n",
       "<thead>\n",
       "\t<tr><th></th><th scope=col>X</th><th scope=col>Y</th><th scope=col>Z</th></tr>\n",
       "</thead>\n",
       "<tbody>\n",
       "\t<tr><th scope=row>A</th><td>10</td><td>20</td><td>30</td></tr>\n",
       "\t<tr><th scope=row>B</th><td> 2</td><td> 5</td><td> 8</td></tr>\n",
       "\t<tr><th scope=row>C</th><td> 3</td><td> 6</td><td> 9</td></tr>\n",
       "</tbody>\n",
       "</table>\n"
      ],
      "text/latex": [
       "A matrix: 3 × 3 of type dbl\n",
       "\\begin{tabular}{r|lll}\n",
       "  & X & Y & Z\\\\\n",
       "\\hline\n",
       "\tA & 10 & 20 & 30\\\\\n",
       "\tB &  2 &  5 &  8\\\\\n",
       "\tC &  3 &  6 &  9\\\\\n",
       "\\end{tabular}\n"
      ],
      "text/markdown": [
       "\n",
       "A matrix: 3 × 3 of type dbl\n",
       "\n",
       "| <!--/--> | X | Y | Z |\n",
       "|---|---|---|---|\n",
       "| A | 10 | 20 | 30 |\n",
       "| B |  2 |  5 |  8 |\n",
       "| C |  3 |  6 |  9 |\n",
       "\n"
      ],
      "text/plain": [
       "  X  Y  Z \n",
       "A 10 20 30\n",
       "B  2  5  8\n",
       "C  3  6  9"
      ]
     },
     "metadata": {},
     "output_type": "display_data"
    }
   ],
   "source": [
    "# Modify an entire row or column\n",
    "m\n",
    "m[1, ] <- c(10, 20, 30)  # Set first row to new values\n",
    "m"
   ]
  },
  {
   "cell_type": "markdown",
   "id": "b5a349a8-0390-43c3-9337-08bcd1b331ad",
   "metadata": {},
   "source": [
    "**6. Matrix Operations**\n",
    "\n",
    "R provides a variety of operations specifically for matrices, including basic arithmetic and advanced mathematical functions.\n",
    "\n",
    "**Arithmetic Operations**\n",
    "\n",
    "Matrix arithmetic operations are performed element-wise:"
   ]
  },
  {
   "cell_type": "code",
   "execution_count": 145,
   "id": "9dd5fcce-dcda-4c46-bf2b-051c1a7711e9",
   "metadata": {},
   "outputs": [
    {
     "data": {
      "text/html": [
       "<table class=\"dataframe\">\n",
       "<caption>A matrix: 2 × 2 of type int</caption>\n",
       "<tbody>\n",
       "\t<tr><td>1</td><td>3</td></tr>\n",
       "\t<tr><td>2</td><td>4</td></tr>\n",
       "</tbody>\n",
       "</table>\n"
      ],
      "text/latex": [
       "A matrix: 2 × 2 of type int\n",
       "\\begin{tabular}{ll}\n",
       "\t 1 & 3\\\\\n",
       "\t 2 & 4\\\\\n",
       "\\end{tabular}\n"
      ],
      "text/markdown": [
       "\n",
       "A matrix: 2 × 2 of type int\n",
       "\n",
       "| 1 | 3 |\n",
       "| 2 | 4 |\n",
       "\n"
      ],
      "text/plain": [
       "     [,1] [,2]\n",
       "[1,] 1    3   \n",
       "[2,] 2    4   "
      ]
     },
     "metadata": {},
     "output_type": "display_data"
    },
    {
     "data": {
      "text/html": [
       "<table class=\"dataframe\">\n",
       "<caption>A matrix: 2 × 2 of type int</caption>\n",
       "<tbody>\n",
       "\t<tr><td>5</td><td>7</td></tr>\n",
       "\t<tr><td>6</td><td>8</td></tr>\n",
       "</tbody>\n",
       "</table>\n"
      ],
      "text/latex": [
       "A matrix: 2 × 2 of type int\n",
       "\\begin{tabular}{ll}\n",
       "\t 5 & 7\\\\\n",
       "\t 6 & 8\\\\\n",
       "\\end{tabular}\n"
      ],
      "text/markdown": [
       "\n",
       "A matrix: 2 × 2 of type int\n",
       "\n",
       "| 5 | 7 |\n",
       "| 6 | 8 |\n",
       "\n"
      ],
      "text/plain": [
       "     [,1] [,2]\n",
       "[1,] 5    7   \n",
       "[2,] 6    8   "
      ]
     },
     "metadata": {},
     "output_type": "display_data"
    }
   ],
   "source": [
    "m1 <- matrix(1:4, nrow = 2)\n",
    "m2 <- matrix(5:8, nrow = 2)\n",
    "m1\n",
    "m2"
   ]
  },
  {
   "cell_type": "code",
   "execution_count": 146,
   "id": "cd9acf9d-d074-4dab-94ff-cd8d37ce98a5",
   "metadata": {},
   "outputs": [
    {
     "data": {
      "text/html": [
       "<table class=\"dataframe\">\n",
       "<caption>A matrix: 2 × 2 of type int</caption>\n",
       "<tbody>\n",
       "\t<tr><td>6</td><td>10</td></tr>\n",
       "\t<tr><td>8</td><td>12</td></tr>\n",
       "</tbody>\n",
       "</table>\n"
      ],
      "text/latex": [
       "A matrix: 2 × 2 of type int\n",
       "\\begin{tabular}{ll}\n",
       "\t 6 & 10\\\\\n",
       "\t 8 & 12\\\\\n",
       "\\end{tabular}\n"
      ],
      "text/markdown": [
       "\n",
       "A matrix: 2 × 2 of type int\n",
       "\n",
       "| 6 | 10 |\n",
       "| 8 | 12 |\n",
       "\n"
      ],
      "text/plain": [
       "     [,1] [,2]\n",
       "[1,] 6    10  \n",
       "[2,] 8    12  "
      ]
     },
     "metadata": {},
     "output_type": "display_data"
    }
   ],
   "source": [
    "# Element-wise addition, subtraction, multiplication, division\n",
    "m_add <- m1 + m2\n",
    "m_add"
   ]
  },
  {
   "cell_type": "code",
   "execution_count": 147,
   "id": "0de65193-0e21-4c08-9ae9-5b1accf693b3",
   "metadata": {},
   "outputs": [
    {
     "data": {
      "text/html": [
       "<table class=\"dataframe\">\n",
       "<caption>A matrix: 2 × 2 of type int</caption>\n",
       "<tbody>\n",
       "\t<tr><td>-4</td><td>-4</td></tr>\n",
       "\t<tr><td>-4</td><td>-4</td></tr>\n",
       "</tbody>\n",
       "</table>\n"
      ],
      "text/latex": [
       "A matrix: 2 × 2 of type int\n",
       "\\begin{tabular}{ll}\n",
       "\t -4 & -4\\\\\n",
       "\t -4 & -4\\\\\n",
       "\\end{tabular}\n"
      ],
      "text/markdown": [
       "\n",
       "A matrix: 2 × 2 of type int\n",
       "\n",
       "| -4 | -4 |\n",
       "| -4 | -4 |\n",
       "\n"
      ],
      "text/plain": [
       "     [,1] [,2]\n",
       "[1,] -4   -4  \n",
       "[2,] -4   -4  "
      ]
     },
     "metadata": {},
     "output_type": "display_data"
    }
   ],
   "source": [
    "m_subtract <- m1 - m2\n",
    "m_subtract"
   ]
  },
  {
   "cell_type": "code",
   "execution_count": 148,
   "id": "5d3691cd-e5b0-4552-8f2d-9c5724f647c6",
   "metadata": {},
   "outputs": [
    {
     "data": {
      "text/html": [
       "<table class=\"dataframe\">\n",
       "<caption>A matrix: 2 × 2 of type int</caption>\n",
       "<tbody>\n",
       "\t<tr><td> 5</td><td>21</td></tr>\n",
       "\t<tr><td>12</td><td>32</td></tr>\n",
       "</tbody>\n",
       "</table>\n"
      ],
      "text/latex": [
       "A matrix: 2 × 2 of type int\n",
       "\\begin{tabular}{ll}\n",
       "\t  5 & 21\\\\\n",
       "\t 12 & 32\\\\\n",
       "\\end{tabular}\n"
      ],
      "text/markdown": [
       "\n",
       "A matrix: 2 × 2 of type int\n",
       "\n",
       "|  5 | 21 |\n",
       "| 12 | 32 |\n",
       "\n"
      ],
      "text/plain": [
       "     [,1] [,2]\n",
       "[1,]  5   21  \n",
       "[2,] 12   32  "
      ]
     },
     "metadata": {},
     "output_type": "display_data"
    }
   ],
   "source": [
    "m_multiply <- m1 * m2\n",
    "m_multiply"
   ]
  },
  {
   "cell_type": "code",
   "execution_count": 149,
   "id": "dba8f813-437c-4bc8-80b2-1a6cae65db2b",
   "metadata": {},
   "outputs": [
    {
     "data": {
      "text/html": [
       "<table class=\"dataframe\">\n",
       "<caption>A matrix: 2 × 2 of type dbl</caption>\n",
       "<tbody>\n",
       "\t<tr><td>0.2000000</td><td>0.4285714</td></tr>\n",
       "\t<tr><td>0.3333333</td><td>0.5000000</td></tr>\n",
       "</tbody>\n",
       "</table>\n"
      ],
      "text/latex": [
       "A matrix: 2 × 2 of type dbl\n",
       "\\begin{tabular}{ll}\n",
       "\t 0.2000000 & 0.4285714\\\\\n",
       "\t 0.3333333 & 0.5000000\\\\\n",
       "\\end{tabular}\n"
      ],
      "text/markdown": [
       "\n",
       "A matrix: 2 × 2 of type dbl\n",
       "\n",
       "| 0.2000000 | 0.4285714 |\n",
       "| 0.3333333 | 0.5000000 |\n",
       "\n"
      ],
      "text/plain": [
       "     [,1]      [,2]     \n",
       "[1,] 0.2000000 0.4285714\n",
       "[2,] 0.3333333 0.5000000"
      ]
     },
     "metadata": {},
     "output_type": "display_data"
    }
   ],
   "source": [
    "m_divide <- m1 / m2\n",
    "m_divide"
   ]
  },
  {
   "cell_type": "markdown",
   "id": "d3ae4c59-8f6b-4d6e-a575-694c5a05183d",
   "metadata": {},
   "source": [
    "**Matrix Multiplication**\n",
    "\n",
    "Use `%*%` for matrix multiplication (dot product) instead of `*`."
   ]
  },
  {
   "cell_type": "code",
   "execution_count": 150,
   "id": "306cc521-3a89-47ab-b6d2-a161f00ec1c4",
   "metadata": {},
   "outputs": [
    {
     "data": {
      "text/html": [
       "<table class=\"dataframe\">\n",
       "<caption>A matrix: 2 × 2 of type dbl</caption>\n",
       "<tbody>\n",
       "\t<tr><td>23</td><td>31</td></tr>\n",
       "\t<tr><td>34</td><td>46</td></tr>\n",
       "</tbody>\n",
       "</table>\n"
      ],
      "text/latex": [
       "A matrix: 2 × 2 of type dbl\n",
       "\\begin{tabular}{ll}\n",
       "\t 23 & 31\\\\\n",
       "\t 34 & 46\\\\\n",
       "\\end{tabular}\n"
      ],
      "text/markdown": [
       "\n",
       "A matrix: 2 × 2 of type dbl\n",
       "\n",
       "| 23 | 31 |\n",
       "| 34 | 46 |\n",
       "\n"
      ],
      "text/plain": [
       "     [,1] [,2]\n",
       "[1,] 23   31  \n",
       "[2,] 34   46  "
      ]
     },
     "metadata": {},
     "output_type": "display_data"
    }
   ],
   "source": [
    "\n",
    "# Matrix multiplication\n",
    "m_mult <- m1 %*% m2  # Only works if matrices are conformable (e.g., 2x3 %*% 3x2)\n",
    "m_mult"
   ]
  },
  {
   "cell_type": "markdown",
   "id": "17000126-929b-4ee6-bd00-4070bfada054",
   "metadata": {},
   "source": [
    "**Transpose of a Matrix**\n",
    "\n",
    "Transpose flips the rows and columns. Use the `t()` function."
   ]
  },
  {
   "cell_type": "code",
   "execution_count": 152,
   "id": "590b5b55-e7e2-4017-8c71-c1b1ae844fcb",
   "metadata": {},
   "outputs": [
    {
     "data": {
      "text/html": [
       "<table class=\"dataframe\">\n",
       "<caption>A matrix: 3 × 3 of type dbl</caption>\n",
       "<thead>\n",
       "\t<tr><th></th><th scope=col>A</th><th scope=col>B</th><th scope=col>C</th></tr>\n",
       "</thead>\n",
       "<tbody>\n",
       "\t<tr><th scope=row>X</th><td>10</td><td>2</td><td>3</td></tr>\n",
       "\t<tr><th scope=row>Y</th><td>20</td><td>5</td><td>6</td></tr>\n",
       "\t<tr><th scope=row>Z</th><td>30</td><td>8</td><td>9</td></tr>\n",
       "</tbody>\n",
       "</table>\n"
      ],
      "text/latex": [
       "A matrix: 3 × 3 of type dbl\n",
       "\\begin{tabular}{r|lll}\n",
       "  & A & B & C\\\\\n",
       "\\hline\n",
       "\tX & 10 & 2 & 3\\\\\n",
       "\tY & 20 & 5 & 6\\\\\n",
       "\tZ & 30 & 8 & 9\\\\\n",
       "\\end{tabular}\n"
      ],
      "text/markdown": [
       "\n",
       "A matrix: 3 × 3 of type dbl\n",
       "\n",
       "| <!--/--> | A | B | C |\n",
       "|---|---|---|---|\n",
       "| X | 10 | 2 | 3 |\n",
       "| Y | 20 | 5 | 6 |\n",
       "| Z | 30 | 8 | 9 |\n",
       "\n"
      ],
      "text/plain": [
       "  A  B C\n",
       "X 10 2 3\n",
       "Y 20 5 6\n",
       "Z 30 8 9"
      ]
     },
     "metadata": {},
     "output_type": "display_data"
    }
   ],
   "source": [
    "\n",
    "m_transpose <- t(m)\n",
    "m_transpose"
   ]
  },
  {
   "cell_type": "markdown",
   "id": "37ac9928-67d6-4cd6-9b9c-aa1740cf5a79",
   "metadata": {},
   "source": [
    "**Matrix Inversion**\n",
    "\n",
    "The inverse of a matrix is calculated using `solve()`."
   ]
  },
  {
   "cell_type": "code",
   "execution_count": 153,
   "id": "cda44f1e-5a61-4873-a416-eb5f9322ec8d",
   "metadata": {},
   "outputs": [
    {
     "ename": "ERROR",
     "evalue": "Error in solve.default(m): Lapack routine dgesv: system is exactly singular: U[3,3] = 0\n",
     "output_type": "error",
     "traceback": [
      "Error in solve.default(m): Lapack routine dgesv: system is exactly singular: U[3,3] = 0\nTraceback:\n",
      "1. solve.default(m)",
      "2. .handleSimpleError(function (cnd) \n . {\n .     watcher$capture_plot_and_output()\n .     cnd <- sanitize_call(cnd)\n .     watcher$push(cnd)\n .     switch(on_error, continue = invokeRestart(\"eval_continue\"), \n .         stop = invokeRestart(\"eval_stop\"), error = invokeRestart(\"eval_error\", \n .             cnd))\n . }, \"Lapack routine dgesv: system is exactly singular: U[3,3] = 0\", \n .     base::quote(solve.default(m)))"
     ]
    }
   ],
   "source": [
    "\n",
    "m_inverse <- solve(m)  # Only square matrices with a non-zero determinant\n"
   ]
  },
  {
   "cell_type": "markdown",
   "id": "041e15db-0ffd-48d9-a921-b4326877cffb",
   "metadata": {},
   "source": [
    "**7. Matrix Functions**\n",
    "\n",
    "R provides many built-in functions to perform calculations on matrices.\n",
    "\n",
    "| Function       | Description                                               | Example                        |\n",
    "|----------------|-----------------------------------------------------------|--------------------------------|\n",
    "| `rowSums()`    | Calculates the sum of each row                            | `rowSums(m)`                   |\n",
    "| `colSums()`    | Calculates the sum of each column                         | `colSums(m)`                   |\n",
    "| `rowMeans()`   | Calculates the mean of each row                           | `rowMeans(m)`                  |\n",
    "| `colMeans()`   | Calculates the mean of each column                        | `colMeans(m)`                  |\n",
    "| `diag()`       | Extracts or sets the diagonal elements                    | `diag(m)`                      |\n",
    "| `det()`        | Calculates the determinant of a square matrix             | `det(m)`                       |\n",
    "| `apply()`      | Applies a function to rows or columns of a matrix         | `apply(m, 1, sum)`             |\n",
    "| `eigen()`      | Calculates eigenvalues and eigenvectors                   | `eigen(m)`                     |\n",
    "| `svd()`        | Singular Value Decomposition                              | `svd(m)`                       |"
   ]
  },
  {
   "cell_type": "markdown",
   "id": "e92bdad5-cbd3-4930-a962-71e255ea3b07",
   "metadata": {},
   "source": [
    "**8. Using `apply()` with Matrices**\n",
    "\n",
    "`apply()` is a powerful function for applying operations to rows or columns of a matrix.\n",
    "\n",
    "- The syntax for `apply()` is: `apply(matrix, margin, function)`.\n",
    "  - `margin = 1`: Apply the function to rows.\n",
    "  - `margin = 2`: Apply the function to columns."
   ]
  },
  {
   "cell_type": "code",
   "execution_count": 154,
   "id": "7adb3d29-3e8d-4fb9-9202-1832500b727c",
   "metadata": {},
   "outputs": [
    {
     "data": {
      "text/html": [
       "<style>\n",
       ".dl-inline {width: auto; margin:0; padding: 0}\n",
       ".dl-inline>dt, .dl-inline>dd {float: none; width: auto; display: inline-block}\n",
       ".dl-inline>dt::after {content: \":\\0020\"; padding-right: .5ex}\n",
       ".dl-inline>dt:not(:first-of-type) {padding-left: .5ex}\n",
       "</style><dl class=dl-inline><dt>A</dt><dd>60</dd><dt>B</dt><dd>15</dd><dt>C</dt><dd>18</dd></dl>\n"
      ],
      "text/latex": [
       "\\begin{description*}\n",
       "\\item[A] 60\n",
       "\\item[B] 15\n",
       "\\item[C] 18\n",
       "\\end{description*}\n"
      ],
      "text/markdown": [
       "A\n",
       ":   60B\n",
       ":   15C\n",
       ":   18\n",
       "\n"
      ],
      "text/plain": [
       " A  B  C \n",
       "60 15 18 "
      ]
     },
     "metadata": {},
     "output_type": "display_data"
    },
    {
     "data": {
      "text/html": [
       "<style>\n",
       ".dl-inline {width: auto; margin:0; padding: 0}\n",
       ".dl-inline>dt, .dl-inline>dd {float: none; width: auto; display: inline-block}\n",
       ".dl-inline>dt::after {content: \":\\0020\"; padding-right: .5ex}\n",
       ".dl-inline>dt:not(:first-of-type) {padding-left: .5ex}\n",
       "</style><dl class=dl-inline><dt>X</dt><dd>5</dd><dt>Y</dt><dd>10.3333333333333</dd><dt>Z</dt><dd>15.6666666666667</dd></dl>\n"
      ],
      "text/latex": [
       "\\begin{description*}\n",
       "\\item[X] 5\n",
       "\\item[Y] 10.3333333333333\n",
       "\\item[Z] 15.6666666666667\n",
       "\\end{description*}\n"
      ],
      "text/markdown": [
       "X\n",
       ":   5Y\n",
       ":   10.3333333333333Z\n",
       ":   15.6666666666667\n",
       "\n"
      ],
      "text/plain": [
       "       X        Y        Z \n",
       " 5.00000 10.33333 15.66667 "
      ]
     },
     "metadata": {},
     "output_type": "display_data"
    }
   ],
   "source": [
    "\n",
    "# Sum of each row\n",
    "apply(m, 1, sum)\n",
    "\n",
    "# Mean of each column\n",
    "apply(m, 2, mean)\n"
   ]
  },
  {
   "cell_type": "markdown",
   "id": "ae9ecb19-b3ef-45fc-a7cf-5010121e280a",
   "metadata": {},
   "source": [
    "**9. Combining Matrices**\n",
    "\n",
    "Use `rbind()` to add rows and `cbind()` to add columns to matrices."
   ]
  },
  {
   "cell_type": "code",
   "execution_count": 156,
   "id": "5446b343-18ac-4320-8574-09923ad4f66f",
   "metadata": {},
   "outputs": [
    {
     "name": "stderr",
     "output_type": "stream",
     "text": [
      "Warning message in rbind(m, c(10, 11, 12)):\n",
      "\"number of columns of result is not a multiple of vector length (arg 2)\"\n"
     ]
    },
    {
     "data": {
      "text/html": [
       "<table class=\"dataframe\">\n",
       "<caption>A matrix: 5 × 4 of type dbl</caption>\n",
       "<thead>\n",
       "\t<tr><th></th><th scope=col>X</th><th scope=col>Y</th><th scope=col>Z</th><th scope=col></th></tr>\n",
       "</thead>\n",
       "<tbody>\n",
       "\t<tr><th scope=row>A</th><td>10</td><td>20</td><td>30</td><td>13</td></tr>\n",
       "\t<tr><th scope=row>B</th><td> 2</td><td> 5</td><td> 8</td><td>14</td></tr>\n",
       "\t<tr><th scope=row>C</th><td> 3</td><td> 6</td><td> 9</td><td>15</td></tr>\n",
       "\t<tr><th scope=row></th><td>10</td><td>11</td><td>12</td><td>16</td></tr>\n",
       "\t<tr><th scope=row></th><td>10</td><td>11</td><td>12</td><td>10</td></tr>\n",
       "</tbody>\n",
       "</table>\n"
      ],
      "text/latex": [
       "A matrix: 5 × 4 of type dbl\n",
       "\\begin{tabular}{r|llll}\n",
       "  & X & Y & Z & \\\\\n",
       "\\hline\n",
       "\tA & 10 & 20 & 30 & 13\\\\\n",
       "\tB &  2 &  5 &  8 & 14\\\\\n",
       "\tC &  3 &  6 &  9 & 15\\\\\n",
       "\t & 10 & 11 & 12 & 16\\\\\n",
       "\t & 10 & 11 & 12 & 10\\\\\n",
       "\\end{tabular}\n"
      ],
      "text/markdown": [
       "\n",
       "A matrix: 5 × 4 of type dbl\n",
       "\n",
       "| <!--/--> | X | Y | Z | <!----> |\n",
       "|---|---|---|---|---|\n",
       "| A | 10 | 20 | 30 | 13 |\n",
       "| B |  2 |  5 |  8 | 14 |\n",
       "| C |  3 |  6 |  9 | 15 |\n",
       "| <!----> | 10 | 11 | 12 | 16 |\n",
       "| <!----> | 10 | 11 | 12 | 10 |\n",
       "\n"
      ],
      "text/plain": [
       "  X  Y  Z    \n",
       "A 10 20 30 13\n",
       "B  2  5  8 14\n",
       "C  3  6  9 15\n",
       "  10 11 12 16\n",
       "  10 11 12 10"
      ]
     },
     "metadata": {},
     "output_type": "display_data"
    },
    {
     "name": "stderr",
     "output_type": "stream",
     "text": [
      "Warning message in cbind(m, c(13, 14, 15, 16)):\n",
      "\"number of rows of result is not a multiple of vector length (arg 2)\"\n"
     ]
    },
    {
     "data": {
      "text/html": [
       "<table class=\"dataframe\">\n",
       "<caption>A matrix: 5 × 5 of type dbl</caption>\n",
       "<thead>\n",
       "\t<tr><th></th><th scope=col>X</th><th scope=col>Y</th><th scope=col>Z</th><th scope=col></th><th scope=col></th></tr>\n",
       "</thead>\n",
       "<tbody>\n",
       "\t<tr><th scope=row>A</th><td>10</td><td>20</td><td>30</td><td>13</td><td>13</td></tr>\n",
       "\t<tr><th scope=row>B</th><td> 2</td><td> 5</td><td> 8</td><td>14</td><td>14</td></tr>\n",
       "\t<tr><th scope=row>C</th><td> 3</td><td> 6</td><td> 9</td><td>15</td><td>15</td></tr>\n",
       "\t<tr><th scope=row></th><td>10</td><td>11</td><td>12</td><td>16</td><td>16</td></tr>\n",
       "\t<tr><th scope=row></th><td>10</td><td>11</td><td>12</td><td>10</td><td>13</td></tr>\n",
       "</tbody>\n",
       "</table>\n"
      ],
      "text/latex": [
       "A matrix: 5 × 5 of type dbl\n",
       "\\begin{tabular}{r|lllll}\n",
       "  & X & Y & Z &  & \\\\\n",
       "\\hline\n",
       "\tA & 10 & 20 & 30 & 13 & 13\\\\\n",
       "\tB &  2 &  5 &  8 & 14 & 14\\\\\n",
       "\tC &  3 &  6 &  9 & 15 & 15\\\\\n",
       "\t & 10 & 11 & 12 & 16 & 16\\\\\n",
       "\t & 10 & 11 & 12 & 10 & 13\\\\\n",
       "\\end{tabular}\n"
      ],
      "text/markdown": [
       "\n",
       "A matrix: 5 × 5 of type dbl\n",
       "\n",
       "| <!--/--> | X | Y | Z | <!----> | <!----> |\n",
       "|---|---|---|---|---|---|\n",
       "| A | 10 | 20 | 30 | 13 | 13 |\n",
       "| B |  2 |  5 |  8 | 14 | 14 |\n",
       "| C |  3 |  6 |  9 | 15 | 15 |\n",
       "| <!----> | 10 | 11 | 12 | 16 | 16 |\n",
       "| <!----> | 10 | 11 | 12 | 10 | 13 |\n",
       "\n"
      ],
      "text/plain": [
       "  X  Y  Z       \n",
       "A 10 20 30 13 13\n",
       "B  2  5  8 14 14\n",
       "C  3  6  9 15 15\n",
       "  10 11 12 16 16\n",
       "  10 11 12 10 13"
      ]
     },
     "metadata": {},
     "output_type": "display_data"
    }
   ],
   "source": [
    "\n",
    "# Adding a row\n",
    "m <- rbind(m, c(10, 11, 12))\n",
    "m\n",
    "# Adding a column\n",
    "m <- cbind(m, c(13, 14, 15, 16))\n",
    "m"
   ]
  },
  {
   "cell_type": "markdown",
   "id": "afc15618-696b-4042-89ad-241b845f2dcc",
   "metadata": {},
   "source": [
    "**10. Converting Other Data Types to Matrices**\n",
    "\n",
    "You can convert vectors, lists, and data frames to matrices using `as.matrix()`."
   ]
  },
  {
   "cell_type": "code",
   "execution_count": 158,
   "id": "94c83b2c-bb34-4f56-b366-6f702d4cb727",
   "metadata": {},
   "outputs": [
    {
     "data": {
      "text/html": [
       "<style>\n",
       ".list-inline {list-style: none; margin:0; padding: 0}\n",
       ".list-inline>li {display: inline-block}\n",
       ".list-inline>li:not(:last-child)::after {content: \"\\00b7\"; padding: 0 .5ex}\n",
       "</style>\n",
       "<ol class=list-inline><li>1</li><li>2</li><li>3</li><li>4</li><li>5</li><li>6</li><li>7</li><li>8</li><li>9</li></ol>\n"
      ],
      "text/latex": [
       "\\begin{enumerate*}\n",
       "\\item 1\n",
       "\\item 2\n",
       "\\item 3\n",
       "\\item 4\n",
       "\\item 5\n",
       "\\item 6\n",
       "\\item 7\n",
       "\\item 8\n",
       "\\item 9\n",
       "\\end{enumerate*}\n"
      ],
      "text/markdown": [
       "1. 1\n",
       "2. 2\n",
       "3. 3\n",
       "4. 4\n",
       "5. 5\n",
       "6. 6\n",
       "7. 7\n",
       "8. 8\n",
       "9. 9\n",
       "\n",
       "\n"
      ],
      "text/plain": [
       "[1] 1 2 3 4 5 6 7 8 9"
      ]
     },
     "metadata": {},
     "output_type": "display_data"
    }
   ],
   "source": [
    "# Convert a vector to a matrix\n",
    "v <- 1:9\n",
    "v"
   ]
  },
  {
   "cell_type": "code",
   "execution_count": 159,
   "id": "9b80b0f5-e9ce-4521-abcc-ed0aa57d040b",
   "metadata": {},
   "outputs": [
    {
     "data": {
      "text/html": [
       "<table class=\"dataframe\">\n",
       "<caption>A matrix: 3 × 3 of type int</caption>\n",
       "<tbody>\n",
       "\t<tr><td>1</td><td>4</td><td>7</td></tr>\n",
       "\t<tr><td>2</td><td>5</td><td>8</td></tr>\n",
       "\t<tr><td>3</td><td>6</td><td>9</td></tr>\n",
       "</tbody>\n",
       "</table>\n"
      ],
      "text/latex": [
       "A matrix: 3 × 3 of type int\n",
       "\\begin{tabular}{lll}\n",
       "\t 1 & 4 & 7\\\\\n",
       "\t 2 & 5 & 8\\\\\n",
       "\t 3 & 6 & 9\\\\\n",
       "\\end{tabular}\n"
      ],
      "text/markdown": [
       "\n",
       "A matrix: 3 × 3 of type int\n",
       "\n",
       "| 1 | 4 | 7 |\n",
       "| 2 | 5 | 8 |\n",
       "| 3 | 6 | 9 |\n",
       "\n"
      ],
      "text/plain": [
       "     [,1] [,2] [,3]\n",
       "[1,] 1    4    7   \n",
       "[2,] 2    5    8   \n",
       "[3,] 3    6    9   "
      ]
     },
     "metadata": {},
     "output_type": "display_data"
    }
   ],
   "source": [
    "matrix_v <- matrix(v, nrow = 3, ncol = 3)\n",
    "matrix_v"
   ]
  },
  {
   "cell_type": "code",
   "execution_count": 160,
   "id": "291fc41b-ab9a-40bc-ac7c-7a376be8a996",
   "metadata": {},
   "outputs": [
    {
     "data": {
      "text/html": [
       "<table class=\"dataframe\">\n",
       "<caption>A data.frame: 3 × 2</caption>\n",
       "<thead>\n",
       "\t<tr><th scope=col>a</th><th scope=col>b</th></tr>\n",
       "\t<tr><th scope=col>&lt;int&gt;</th><th scope=col>&lt;int&gt;</th></tr>\n",
       "</thead>\n",
       "<tbody>\n",
       "\t<tr><td>1</td><td>4</td></tr>\n",
       "\t<tr><td>2</td><td>5</td></tr>\n",
       "\t<tr><td>3</td><td>6</td></tr>\n",
       "</tbody>\n",
       "</table>\n"
      ],
      "text/latex": [
       "A data.frame: 3 × 2\n",
       "\\begin{tabular}{ll}\n",
       " a & b\\\\\n",
       " <int> & <int>\\\\\n",
       "\\hline\n",
       "\t 1 & 4\\\\\n",
       "\t 2 & 5\\\\\n",
       "\t 3 & 6\\\\\n",
       "\\end{tabular}\n"
      ],
      "text/markdown": [
       "\n",
       "A data.frame: 3 × 2\n",
       "\n",
       "| a &lt;int&gt; | b &lt;int&gt; |\n",
       "|---|---|\n",
       "| 1 | 4 |\n",
       "| 2 | 5 |\n",
       "| 3 | 6 |\n",
       "\n"
      ],
      "text/plain": [
       "  a b\n",
       "1 1 4\n",
       "2 2 5\n",
       "3 3 6"
      ]
     },
     "metadata": {},
     "output_type": "display_data"
    }
   ],
   "source": [
    "# Convert a data frame to a matrix\n",
    "df <- data.frame(a = 1:3, b = 4:6)\n",
    "df"
   ]
  },
  {
   "cell_type": "code",
   "execution_count": 161,
   "id": "d93d0d45-1a92-4f55-a1b9-50b1a7bb6de8",
   "metadata": {},
   "outputs": [
    {
     "data": {
      "text/html": [
       "<table class=\"dataframe\">\n",
       "<caption>A matrix: 3 × 2 of type int</caption>\n",
       "<thead>\n",
       "\t<tr><th scope=col>a</th><th scope=col>b</th></tr>\n",
       "</thead>\n",
       "<tbody>\n",
       "\t<tr><td>1</td><td>4</td></tr>\n",
       "\t<tr><td>2</td><td>5</td></tr>\n",
       "\t<tr><td>3</td><td>6</td></tr>\n",
       "</tbody>\n",
       "</table>\n"
      ],
      "text/latex": [
       "A matrix: 3 × 2 of type int\n",
       "\\begin{tabular}{ll}\n",
       " a & b\\\\\n",
       "\\hline\n",
       "\t 1 & 4\\\\\n",
       "\t 2 & 5\\\\\n",
       "\t 3 & 6\\\\\n",
       "\\end{tabular}\n"
      ],
      "text/markdown": [
       "\n",
       "A matrix: 3 × 2 of type int\n",
       "\n",
       "| a | b |\n",
       "|---|---|\n",
       "| 1 | 4 |\n",
       "| 2 | 5 |\n",
       "| 3 | 6 |\n",
       "\n"
      ],
      "text/plain": [
       "     a b\n",
       "[1,] 1 4\n",
       "[2,] 2 5\n",
       "[3,] 3 6"
      ]
     },
     "metadata": {},
     "output_type": "display_data"
    }
   ],
   "source": [
    "matrix_df <- as.matrix(df)\n",
    "matrix_df"
   ]
  },
  {
   "cell_type": "markdown",
   "id": "07fcb040-d09c-4314-b7f7-079534403861",
   "metadata": {},
   "source": [
    "**11. Special Matrices**\n",
    "\n",
    "- **Identity Matrix**: A square matrix with `1`s on the diagonal and `0`s elsewhere. Use `diag()` to create an identity matrix."
   ]
  },
  {
   "cell_type": "code",
   "execution_count": 162,
   "id": "a8e3ca11-9c1b-456f-83f6-4b36d73d3370",
   "metadata": {},
   "outputs": [
    {
     "data": {
      "text/html": [
       "<table class=\"dataframe\">\n",
       "<caption>A matrix: 3 × 3 of type dbl</caption>\n",
       "<tbody>\n",
       "\t<tr><td>1</td><td>0</td><td>0</td></tr>\n",
       "\t<tr><td>0</td><td>1</td><td>0</td></tr>\n",
       "\t<tr><td>0</td><td>0</td><td>1</td></tr>\n",
       "</tbody>\n",
       "</table>\n"
      ],
      "text/latex": [
       "A matrix: 3 × 3 of type dbl\n",
       "\\begin{tabular}{lll}\n",
       "\t 1 & 0 & 0\\\\\n",
       "\t 0 & 1 & 0\\\\\n",
       "\t 0 & 0 & 1\\\\\n",
       "\\end{tabular}\n"
      ],
      "text/markdown": [
       "\n",
       "A matrix: 3 × 3 of type dbl\n",
       "\n",
       "| 1 | 0 | 0 |\n",
       "| 0 | 1 | 0 |\n",
       "| 0 | 0 | 1 |\n",
       "\n"
      ],
      "text/plain": [
       "     [,1] [,2] [,3]\n",
       "[1,] 1    0    0   \n",
       "[2,] 0    1    0   \n",
       "[3,] 0    0    1   "
      ]
     },
     "metadata": {},
     "output_type": "display_data"
    }
   ],
   "source": [
    "\n",
    "identity_matrix <- diag(3)  # Creates a 3x3 identity matrix\n",
    "identity_matrix"
   ]
  },
  {
   "cell_type": "markdown",
   "id": "80b733fa-04b9-4968-a84f-b3ebf8845d9d",
   "metadata": {},
   "source": [
    "- **Diagonal Matrix**: Create a matrix with specified values on the diagonal using `diag()`."
   ]
  },
  {
   "cell_type": "code",
   "execution_count": 163,
   "id": "68f33447-8111-4c7a-9e38-ce33fdf7d039",
   "metadata": {},
   "outputs": [
    {
     "data": {
      "text/html": [
       "<table class=\"dataframe\">\n",
       "<caption>A matrix: 3 × 3 of type dbl</caption>\n",
       "<tbody>\n",
       "\t<tr><td>2</td><td>0</td><td>0</td></tr>\n",
       "\t<tr><td>0</td><td>4</td><td>0</td></tr>\n",
       "\t<tr><td>0</td><td>0</td><td>6</td></tr>\n",
       "</tbody>\n",
       "</table>\n"
      ],
      "text/latex": [
       "A matrix: 3 × 3 of type dbl\n",
       "\\begin{tabular}{lll}\n",
       "\t 2 & 0 & 0\\\\\n",
       "\t 0 & 4 & 0\\\\\n",
       "\t 0 & 0 & 6\\\\\n",
       "\\end{tabular}\n"
      ],
      "text/markdown": [
       "\n",
       "A matrix: 3 × 3 of type dbl\n",
       "\n",
       "| 2 | 0 | 0 |\n",
       "| 0 | 4 | 0 |\n",
       "| 0 | 0 | 6 |\n",
       "\n"
      ],
      "text/plain": [
       "     [,1] [,2] [,3]\n",
       "[1,] 2    0    0   \n",
       "[2,] 0    4    0   \n",
       "[3,] 0    0    6   "
      ]
     },
     "metadata": {},
     "output_type": "display_data"
    }
   ],
   "source": [
    "diag_matrix <- diag(c(2, 4, 6))  # Diagonal elements are 2, 4, and 6\n",
    "diag_matrix"
   ]
  },
  {
   "cell_type": "markdown",
   "id": "a8a74ac7-f1e7-4970-a9ce-cb49605a5f69",
   "metadata": {},
   "source": [
    "\n",
    "**12. Summary of Matrices in R**\n",
    "\n",
    "- **Creation**: Use `matrix()`, `cbind()`, and `rbind()` functions.\n",
    "- **Access and Modify**: Use `[row, column]` notation, logical conditions, or names.\n",
    "- **Operations**: Supports arithmetic, transpose (`t()`), inverse (`solve()`), and matrix multiplication (`%*%`).\n",
    "- **Functions**: Use built-in functions like `rowSums()`, `colSums()`, and `apply()` to operate on matrices efficiently.\n",
    "- **Conversions**: Use `as.matrix()` to convert data frames or other types to matrices.\n",
    "- **Special Matrices**: Use `diag()` to create identity or diagonal matrices.\n",
    "\n",
    "Matrices are integral for performing calculations across rows and columns, simplifying mathematical operations, and handling structured numeric data in R. They’re especially valuable in fields like statistics, data analysis, and machine learning, where matrix operations are frequently required."
   ]
  },
  {
   "cell_type": "code",
   "execution_count": 108,
   "id": "98a544a0-6f60-41eb-bf25-1c2fe068208a",
   "metadata": {},
   "outputs": [],
   "source": [
    "\n",
    "# Create a 3x3 numeric matrix\n",
    "matrix_1 <- matrix(1:9, nrow = 3, ncol = 3)\n",
    "\n",
    "# Create a matrix by combining vectors by row\n",
    "matrix_2 <- rbind(c(1, 2, 3), c(4, 5, 6), c(7, 8, 9))\n",
    "\n",
    "# Create a matrix by combining vectors by column\n",
    "matrix_3 <- cbind(c(1, 4, 7), c(2, 5, 8), c(3, 6, 9))\n"
   ]
  },
  {
   "cell_type": "code",
   "execution_count": 109,
   "id": "44917bd8-6870-4da8-bf44-c32037d5014b",
   "metadata": {},
   "outputs": [],
   "source": [
    "\n",
    "mat1 <- matrix(1:4, nrow = 2)\n",
    "mat2 <- matrix(5:8, nrow = 2)\n",
    "\n",
    "result_add <- mat1 + mat2  # Element-wise addition\n",
    "result_mult <- mat1 %*% mat2  # Matrix multiplication\n"
   ]
  },
  {
   "cell_type": "markdown",
   "id": "e041ceff-4f4d-44d1-942c-38745d2f69dc",
   "metadata": {},
   "source": [
    "### **4. Data Frames**"
   ]
  },
  {
   "cell_type": "markdown",
   "id": "f145deb6-5d7c-4845-826c-2d1254586428",
   "metadata": {},
   "source": [
    "Data frames in R are versatile data structures that are essential for data analysis and manipulation. They are two-dimensional, tabular structures where each column represents a variable, and each row represents an observation. Data frames allow different data types for each column, making them suitable for representing real-world data.\n",
    "\n",
    "\n",
    "\n",
    "#### **1. What is a Data Frame?**\n",
    "\n",
    "- A **data frame** is a collection of variables (columns) that can hold different types of data, such as numeric, character, factor, or logical.\n",
    "- Each column in a data frame represents a variable, while each row represents an observation or a record.\n",
    "- Data frames are similar to tables in a database or Excel spreadsheets, which makes them especially useful for data analysis.\n",
    "\n",
    "\n",
    "\n",
    "#### **2. Creating Data Frames**\n",
    "\n",
    "Data frames can be created using the `data.frame()` function, by importing data from external files, or by converting other data structures like lists or matrices.\n",
    "\n",
    "**Using `data.frame()` Function**\n",
    "\n",
    "The `data.frame()` function is the simplest way to create a data frame in R."
   ]
  },
  {
   "cell_type": "code",
   "execution_count": 168,
   "id": "b8456c5a-55ef-43af-9418-f0f8568476f3",
   "metadata": {},
   "outputs": [
    {
     "data": {
      "text/html": [
       "<table class=\"dataframe\">\n",
       "<caption>A data.frame: 3 × 4</caption>\n",
       "<thead>\n",
       "\t<tr><th scope=col>Name</th><th scope=col>Age</th><th scope=col>Gender</th><th scope=col>Salary</th></tr>\n",
       "\t<tr><th scope=col>&lt;chr&gt;</th><th scope=col>&lt;dbl&gt;</th><th scope=col>&lt;chr&gt;</th><th scope=col>&lt;dbl&gt;</th></tr>\n",
       "</thead>\n",
       "<tbody>\n",
       "\t<tr><td>Alice  </td><td>25</td><td>F</td><td>50000</td></tr>\n",
       "\t<tr><td>Bob    </td><td>30</td><td>M</td><td>55000</td></tr>\n",
       "\t<tr><td>Charlie</td><td>35</td><td>M</td><td>60000</td></tr>\n",
       "</tbody>\n",
       "</table>\n"
      ],
      "text/latex": [
       "A data.frame: 3 × 4\n",
       "\\begin{tabular}{llll}\n",
       " Name & Age & Gender & Salary\\\\\n",
       " <chr> & <dbl> & <chr> & <dbl>\\\\\n",
       "\\hline\n",
       "\t Alice   & 25 & F & 50000\\\\\n",
       "\t Bob     & 30 & M & 55000\\\\\n",
       "\t Charlie & 35 & M & 60000\\\\\n",
       "\\end{tabular}\n"
      ],
      "text/markdown": [
       "\n",
       "A data.frame: 3 × 4\n",
       "\n",
       "| Name &lt;chr&gt; | Age &lt;dbl&gt; | Gender &lt;chr&gt; | Salary &lt;dbl&gt; |\n",
       "|---|---|---|---|\n",
       "| Alice   | 25 | F | 50000 |\n",
       "| Bob     | 30 | M | 55000 |\n",
       "| Charlie | 35 | M | 60000 |\n",
       "\n"
      ],
      "text/plain": [
       "  Name    Age Gender Salary\n",
       "1 Alice   25  F      50000 \n",
       "2 Bob     30  M      55000 \n",
       "3 Charlie 35  M      60000 "
      ]
     },
     "metadata": {},
     "output_type": "display_data"
    }
   ],
   "source": [
    "\n",
    "# Create a data frame manually\n",
    "df <- data.frame(\n",
    "  Name = c(\"Alice\", \"Bob\", \"Charlie\"),\n",
    "  Age = c(25, 30, 35),\n",
    "  Gender = c(\"F\", \"M\", \"M\"),\n",
    "  Salary = c(50000, 55000, 60000)\n",
    ")\n",
    "\n",
    "df"
   ]
  },
  {
   "cell_type": "markdown",
   "id": "c138377a-87a9-4927-b16b-9250ad61c55e",
   "metadata": {},
   "source": [
    "**Creating Data Frames from Vectors**\n",
    "\n",
    "You can combine individual vectors to create a data frame, ensuring they have the same length."
   ]
  },
  {
   "cell_type": "code",
   "execution_count": 177,
   "id": "b60456e1-6e4f-47e1-aa17-d36a698e9275",
   "metadata": {},
   "outputs": [
    {
     "name": "stdout",
     "output_type": "stream",
     "text": [
      "     Name Age Salary\n",
      "1   Alice  25  50000\n",
      "2     Bob  30  55000\n",
      "3 Charlie  35  60000\n"
     ]
    }
   ],
   "source": [
    "\n",
    "# Vectors\n",
    "names <- c(\"Alice\", \"Bob\", \"Charlie\")\n",
    "ages <- c(25, 30, 35)\n",
    "salaries <- c(50000, 55000, 60000)\n",
    "\n",
    "# Create data frame from vectors\n",
    "df <- data.frame(Name = names, Age = ages, Salary = salaries)\n",
    "print(df)\n"
   ]
  },
  {
   "cell_type": "markdown",
   "id": "be421243-9e1a-46b9-92cf-6746b5234a86",
   "metadata": {},
   "source": [
    "**3. Importing Data into Data Frames**\n",
    "\n",
    "Data frames are often created by importing data from external sources like CSV files, Excel sheets, or databases."
   ]
  },
  {
   "cell_type": "code",
   "execution_count": 170,
   "id": "d3b074ec-da4d-4819-86b5-5b63e68c32ae",
   "metadata": {},
   "outputs": [
    {
     "name": "stderr",
     "output_type": "stream",
     "text": [
      "Warning message in file(file, \"rt\"):\n",
      "\"cannot open file 'data.csv': No such file or directory\"\n"
     ]
    },
    {
     "ename": "ERROR",
     "evalue": "Error in file(file, \"rt\"): cannot open the connection\n",
     "output_type": "error",
     "traceback": [
      "Error in file(file, \"rt\"): cannot open the connection\nTraceback:\n",
      "1. read.table(file = file, header = header, sep = sep, quote = quote, \n .     dec = dec, fill = fill, comment.char = comment.char, ...)",
      "2. file(file, \"rt\")",
      "3. .handleSimpleError(function (cnd) \n . {\n .     watcher$capture_plot_and_output()\n .     cnd <- sanitize_call(cnd)\n .     watcher$push(cnd)\n .     switch(on_error, continue = invokeRestart(\"eval_continue\"), \n .         stop = invokeRestart(\"eval_stop\"), error = invokeRestart(\"eval_error\", \n .             cnd))\n . }, \"cannot open the connection\", base::quote(file(file, \"rt\")))"
     ]
    }
   ],
   "source": [
    "\n",
    "# Importing a CSV file\n",
    "df <- read.csv(\"data.csv\")\n",
    "\n",
    "# Importing from Excel (requires the readxl package)\n",
    "library(readxl)\n",
    "df <- read_excel(\"data.xlsx\")\n"
   ]
  },
  {
   "cell_type": "markdown",
   "id": "b139e5c8-3fc7-42f0-a508-eedbb5a400e6",
   "metadata": {},
   "source": [
    "**4. Exploring Data Frames**\n",
    "\n",
    "Once a data frame is created, it’s important to explore its structure, dimensions, and contents.\n",
    "\n",
    "**Checking the Structure**\n",
    "\n",
    "Use the `str()` function to get a quick overview of the data frame, including the types and number of elements in each column."
   ]
  },
  {
   "cell_type": "code",
   "execution_count": 185,
   "id": "5a0ef453-36a5-4fd1-b134-5cb820bb74ce",
   "metadata": {},
   "outputs": [
    {
     "name": "stdout",
     "output_type": "stream",
     "text": [
      "     Name Age Salary\n",
      "1   Alice  25  50000\n",
      "2     Bob  30  55000\n",
      "3 Charlie  35  60000\n"
     ]
    }
   ],
   "source": [
    "# Vectors\n",
    "names <- c(\"Alice\", \"Bob\", \"Charlie\")\n",
    "ages <- c(25, 30, 35)\n",
    "salaries <- c(50000, 55000, 60000)\n",
    "\n",
    "\n",
    "# Create data frame from vectors\n",
    "df <- data.frame(Name = names, Age = ages, Salary = salaries)\n",
    "print(df)"
   ]
  },
  {
   "cell_type": "code",
   "execution_count": 179,
   "id": "ee7ff955-fdf6-442c-824b-628e5de5daa9",
   "metadata": {},
   "outputs": [
    {
     "name": "stdout",
     "output_type": "stream",
     "text": [
      "'data.frame':\t3 obs. of  3 variables:\n",
      " $ Name  : chr  \"Alice\" \"Bob\" \"Charlie\"\n",
      " $ Age   : num  25 30 35\n",
      " $ Salary: num  50000 55000 60000\n"
     ]
    }
   ],
   "source": [
    "\n",
    "str(df)\n"
   ]
  },
  {
   "cell_type": "markdown",
   "id": "acf0ed36-6869-401a-aa60-4703745a7c96",
   "metadata": {},
   "source": [
    "**Viewing Data**\n",
    "\n",
    "- `head(df)`: Shows the first 6 rows of the data frame.\n",
    "- `tail(df)`: Shows the last 6 rows of the data frame."
   ]
  },
  {
   "cell_type": "code",
   "execution_count": 180,
   "id": "6dbce92f-4901-499e-ac71-3cbde6403c3e",
   "metadata": {},
   "outputs": [
    {
     "data": {
      "text/html": [
       "<table class=\"dataframe\">\n",
       "<caption>A data.frame: 3 × 3</caption>\n",
       "<thead>\n",
       "\t<tr><th></th><th scope=col>Name</th><th scope=col>Age</th><th scope=col>Salary</th></tr>\n",
       "\t<tr><th></th><th scope=col>&lt;chr&gt;</th><th scope=col>&lt;dbl&gt;</th><th scope=col>&lt;dbl&gt;</th></tr>\n",
       "</thead>\n",
       "<tbody>\n",
       "\t<tr><th scope=row>1</th><td>Alice  </td><td>25</td><td>50000</td></tr>\n",
       "\t<tr><th scope=row>2</th><td>Bob    </td><td>30</td><td>55000</td></tr>\n",
       "\t<tr><th scope=row>3</th><td>Charlie</td><td>35</td><td>60000</td></tr>\n",
       "</tbody>\n",
       "</table>\n"
      ],
      "text/latex": [
       "A data.frame: 3 × 3\n",
       "\\begin{tabular}{r|lll}\n",
       "  & Name & Age & Salary\\\\\n",
       "  & <chr> & <dbl> & <dbl>\\\\\n",
       "\\hline\n",
       "\t1 & Alice   & 25 & 50000\\\\\n",
       "\t2 & Bob     & 30 & 55000\\\\\n",
       "\t3 & Charlie & 35 & 60000\\\\\n",
       "\\end{tabular}\n"
      ],
      "text/markdown": [
       "\n",
       "A data.frame: 3 × 3\n",
       "\n",
       "| <!--/--> | Name &lt;chr&gt; | Age &lt;dbl&gt; | Salary &lt;dbl&gt; |\n",
       "|---|---|---|---|\n",
       "| 1 | Alice   | 25 | 50000 |\n",
       "| 2 | Bob     | 30 | 55000 |\n",
       "| 3 | Charlie | 35 | 60000 |\n",
       "\n"
      ],
      "text/plain": [
       "  Name    Age Salary\n",
       "1 Alice   25  50000 \n",
       "2 Bob     30  55000 \n",
       "3 Charlie 35  60000 "
      ]
     },
     "metadata": {},
     "output_type": "display_data"
    },
    {
     "data": {
      "text/html": [
       "<table class=\"dataframe\">\n",
       "<caption>A data.frame: 3 × 3</caption>\n",
       "<thead>\n",
       "\t<tr><th></th><th scope=col>Name</th><th scope=col>Age</th><th scope=col>Salary</th></tr>\n",
       "\t<tr><th></th><th scope=col>&lt;chr&gt;</th><th scope=col>&lt;dbl&gt;</th><th scope=col>&lt;dbl&gt;</th></tr>\n",
       "</thead>\n",
       "<tbody>\n",
       "\t<tr><th scope=row>1</th><td>Alice  </td><td>25</td><td>50000</td></tr>\n",
       "\t<tr><th scope=row>2</th><td>Bob    </td><td>30</td><td>55000</td></tr>\n",
       "\t<tr><th scope=row>3</th><td>Charlie</td><td>35</td><td>60000</td></tr>\n",
       "</tbody>\n",
       "</table>\n"
      ],
      "text/latex": [
       "A data.frame: 3 × 3\n",
       "\\begin{tabular}{r|lll}\n",
       "  & Name & Age & Salary\\\\\n",
       "  & <chr> & <dbl> & <dbl>\\\\\n",
       "\\hline\n",
       "\t1 & Alice   & 25 & 50000\\\\\n",
       "\t2 & Bob     & 30 & 55000\\\\\n",
       "\t3 & Charlie & 35 & 60000\\\\\n",
       "\\end{tabular}\n"
      ],
      "text/markdown": [
       "\n",
       "A data.frame: 3 × 3\n",
       "\n",
       "| <!--/--> | Name &lt;chr&gt; | Age &lt;dbl&gt; | Salary &lt;dbl&gt; |\n",
       "|---|---|---|---|\n",
       "| 1 | Alice   | 25 | 50000 |\n",
       "| 2 | Bob     | 30 | 55000 |\n",
       "| 3 | Charlie | 35 | 60000 |\n",
       "\n"
      ],
      "text/plain": [
       "  Name    Age Salary\n",
       "1 Alice   25  50000 \n",
       "2 Bob     30  55000 \n",
       "3 Charlie 35  60000 "
      ]
     },
     "metadata": {},
     "output_type": "display_data"
    }
   ],
   "source": [
    "\n",
    "head(df)  # View the top 6 rows\n",
    "tail(df)  # View the bottom 6 rows\n"
   ]
  },
  {
   "cell_type": "markdown",
   "id": "ef91a47d-914a-4b65-a179-4193957f3b6f",
   "metadata": {},
   "source": [
    "**Dimensions of the Data Frame**\n",
    "\n",
    "- `dim(df)`: Returns a vector with the number of rows and columns.\n",
    "- `nrow(df)`: Returns the number of rows.\n",
    "- `ncol(df)`: Returns the number of columns."
   ]
  },
  {
   "cell_type": "code",
   "execution_count": 181,
   "id": "4838ad84-edfa-449d-85ea-fb4a6cbef77d",
   "metadata": {},
   "outputs": [
    {
     "data": {
      "text/html": [
       "<style>\n",
       ".list-inline {list-style: none; margin:0; padding: 0}\n",
       ".list-inline>li {display: inline-block}\n",
       ".list-inline>li:not(:last-child)::after {content: \"\\00b7\"; padding: 0 .5ex}\n",
       "</style>\n",
       "<ol class=list-inline><li>3</li><li>3</li></ol>\n"
      ],
      "text/latex": [
       "\\begin{enumerate*}\n",
       "\\item 3\n",
       "\\item 3\n",
       "\\end{enumerate*}\n"
      ],
      "text/markdown": [
       "1. 3\n",
       "2. 3\n",
       "\n",
       "\n"
      ],
      "text/plain": [
       "[1] 3 3"
      ]
     },
     "metadata": {},
     "output_type": "display_data"
    },
    {
     "data": {
      "text/html": [
       "3"
      ],
      "text/latex": [
       "3"
      ],
      "text/markdown": [
       "3"
      ],
      "text/plain": [
       "[1] 3"
      ]
     },
     "metadata": {},
     "output_type": "display_data"
    },
    {
     "data": {
      "text/html": [
       "3"
      ],
      "text/latex": [
       "3"
      ],
      "text/markdown": [
       "3"
      ],
      "text/plain": [
       "[1] 3"
      ]
     },
     "metadata": {},
     "output_type": "display_data"
    }
   ],
   "source": [
    "\n",
    "dim(df)\n",
    "nrow(df)\n",
    "ncol(df)\n"
   ]
  },
  {
   "cell_type": "markdown",
   "id": "65cde8ca-7a6a-4dd7-a237-7948c3ba1462",
   "metadata": {},
   "source": [
    "**Column Names**\n",
    "\n",
    "Retrieve or set the column names with `names()`."
   ]
  },
  {
   "cell_type": "code",
   "execution_count": 182,
   "id": "ac6ba952-2c1b-4d51-8a48-3efadfc30173",
   "metadata": {},
   "outputs": [
    {
     "data": {
      "text/html": [
       "<style>\n",
       ".list-inline {list-style: none; margin:0; padding: 0}\n",
       ".list-inline>li {display: inline-block}\n",
       ".list-inline>li:not(:last-child)::after {content: \"\\00b7\"; padding: 0 .5ex}\n",
       "</style>\n",
       "<ol class=list-inline><li>'Name'</li><li>'Age'</li><li>'Salary'</li></ol>\n"
      ],
      "text/latex": [
       "\\begin{enumerate*}\n",
       "\\item 'Name'\n",
       "\\item 'Age'\n",
       "\\item 'Salary'\n",
       "\\end{enumerate*}\n"
      ],
      "text/markdown": [
       "1. 'Name'\n",
       "2. 'Age'\n",
       "3. 'Salary'\n",
       "\n",
       "\n"
      ],
      "text/plain": [
       "[1] \"Name\"   \"Age\"    \"Salary\""
      ]
     },
     "metadata": {},
     "output_type": "display_data"
    },
    {
     "data": {
      "text/html": [
       "<style>\n",
       ".list-inline {list-style: none; margin:0; padding: 0}\n",
       ".list-inline>li {display: inline-block}\n",
       ".list-inline>li:not(:last-child)::after {content: \"\\00b7\"; padding: 0 .5ex}\n",
       "</style>\n",
       "<ol class=list-inline><li>'A'</li><li>'B'</li><li>'C'</li></ol>\n"
      ],
      "text/latex": [
       "\\begin{enumerate*}\n",
       "\\item 'A'\n",
       "\\item 'B'\n",
       "\\item 'C'\n",
       "\\end{enumerate*}\n"
      ],
      "text/markdown": [
       "1. 'A'\n",
       "2. 'B'\n",
       "3. 'C'\n",
       "\n",
       "\n"
      ],
      "text/plain": [
       "[1] \"A\" \"B\" \"C\""
      ]
     },
     "metadata": {},
     "output_type": "display_data"
    }
   ],
   "source": [
    "\n",
    "names(df)            # Get column names\n",
    "names(df) <- c(\"A\", \"B\", \"C\")  # Rename columns\n",
    "names(df)"
   ]
  },
  {
   "cell_type": "markdown",
   "id": "98453b79-05a3-49ae-a3a5-ef3049789b87",
   "metadata": {},
   "source": [
    "**5. Accessing Data Frame Elements**\n",
    "\n",
    "Data frames can be accessed in various ways, including indexing by row and column or using column names.\n",
    "\n",
    "**Using `$` to Access Columns**\n",
    "\n",
    "The `$` operator is commonly used to access columns by name."
   ]
  },
  {
   "cell_type": "code",
   "execution_count": 191,
   "id": "bbefee3d-42e1-4c66-ba58-5f0be40e5522",
   "metadata": {},
   "outputs": [
    {
     "name": "stdout",
     "output_type": "stream",
     "text": [
      "     Name Age Salary\n",
      "1   Alice  25  50000\n",
      "2     Bob  30  55000\n",
      "3 Charlie  35  60000\n"
     ]
    }
   ],
   "source": [
    "# Vectors\n",
    "names <- c(\"Alice\", \"Bob\", \"Charlie\")\n",
    "ages <- c(25, 30, 35)\n",
    "salaries <- c(50000, 55000, 60000)\n",
    "\n",
    "\n",
    "# Create data frame from vectors\n",
    "df <- data.frame(Name = names, Age = ages, Salary = salaries)\n",
    "print(df)"
   ]
  },
  {
   "cell_type": "code",
   "execution_count": 192,
   "id": "b45dc374-3308-44c4-afc1-37740df34fda",
   "metadata": {},
   "outputs": [
    {
     "data": {
      "text/html": [
       "<style>\n",
       ".list-inline {list-style: none; margin:0; padding: 0}\n",
       ".list-inline>li {display: inline-block}\n",
       ".list-inline>li:not(:last-child)::after {content: \"\\00b7\"; padding: 0 .5ex}\n",
       "</style>\n",
       "<ol class=list-inline><li>'Alice'</li><li>'Bob'</li><li>'Charlie'</li></ol>\n"
      ],
      "text/latex": [
       "\\begin{enumerate*}\n",
       "\\item 'Alice'\n",
       "\\item 'Bob'\n",
       "\\item 'Charlie'\n",
       "\\end{enumerate*}\n"
      ],
      "text/markdown": [
       "1. 'Alice'\n",
       "2. 'Bob'\n",
       "3. 'Charlie'\n",
       "\n",
       "\n"
      ],
      "text/plain": [
       "[1] \"Alice\"   \"Bob\"     \"Charlie\""
      ]
     },
     "metadata": {},
     "output_type": "display_data"
    },
    {
     "data": {
      "text/html": [
       "<style>\n",
       ".list-inline {list-style: none; margin:0; padding: 0}\n",
       ".list-inline>li {display: inline-block}\n",
       ".list-inline>li:not(:last-child)::after {content: \"\\00b7\"; padding: 0 .5ex}\n",
       "</style>\n",
       "<ol class=list-inline><li>25</li><li>30</li><li>35</li></ol>\n"
      ],
      "text/latex": [
       "\\begin{enumerate*}\n",
       "\\item 25\n",
       "\\item 30\n",
       "\\item 35\n",
       "\\end{enumerate*}\n"
      ],
      "text/markdown": [
       "1. 25\n",
       "2. 30\n",
       "3. 35\n",
       "\n",
       "\n"
      ],
      "text/plain": [
       "[1] 25 30 35"
      ]
     },
     "metadata": {},
     "output_type": "display_data"
    }
   ],
   "source": [
    "\n",
    "df$Name  # Access the \"Name\" column\n",
    "df$Age   # Access the \"Age\" column\n"
   ]
  },
  {
   "cell_type": "markdown",
   "id": "75522903-4fa5-4087-9a1c-25e1c911fe32",
   "metadata": {},
   "source": [
    "**Using `[]` for Subsetting**\n",
    "\n",
    "- `df[row, column]` where `row` is the row index and `column` is the column index or name.\n",
    "- Leaving the row or column index empty selects all rows or columns."
   ]
  },
  {
   "cell_type": "code",
   "execution_count": 193,
   "id": "b45a54bb-6225-41fa-ae06-ee4d5322a1e0",
   "metadata": {},
   "outputs": [
    {
     "data": {
      "text/html": [
       "25"
      ],
      "text/latex": [
       "25"
      ],
      "text/markdown": [
       "25"
      ],
      "text/plain": [
       "[1] 25"
      ]
     },
     "metadata": {},
     "output_type": "display_data"
    },
    {
     "data": {
      "text/html": [
       "<style>\n",
       ".list-inline {list-style: none; margin:0; padding: 0}\n",
       ".list-inline>li {display: inline-block}\n",
       ".list-inline>li:not(:last-child)::after {content: \"\\00b7\"; padding: 0 .5ex}\n",
       "</style>\n",
       "<ol class=list-inline><li>50000</li><li>55000</li><li>60000</li></ol>\n"
      ],
      "text/latex": [
       "\\begin{enumerate*}\n",
       "\\item 50000\n",
       "\\item 55000\n",
       "\\item 60000\n",
       "\\end{enumerate*}\n"
      ],
      "text/markdown": [
       "1. 50000\n",
       "2. 55000\n",
       "3. 60000\n",
       "\n",
       "\n"
      ],
      "text/plain": [
       "[1] 50000 55000 60000"
      ]
     },
     "metadata": {},
     "output_type": "display_data"
    },
    {
     "data": {
      "text/html": [
       "<table class=\"dataframe\">\n",
       "<caption>A data.frame: 2 × 3</caption>\n",
       "<thead>\n",
       "\t<tr><th></th><th scope=col>Name</th><th scope=col>Age</th><th scope=col>Salary</th></tr>\n",
       "\t<tr><th></th><th scope=col>&lt;chr&gt;</th><th scope=col>&lt;dbl&gt;</th><th scope=col>&lt;dbl&gt;</th></tr>\n",
       "</thead>\n",
       "<tbody>\n",
       "\t<tr><th scope=row>1</th><td>Alice</td><td>25</td><td>50000</td></tr>\n",
       "\t<tr><th scope=row>2</th><td>Bob  </td><td>30</td><td>55000</td></tr>\n",
       "</tbody>\n",
       "</table>\n"
      ],
      "text/latex": [
       "A data.frame: 2 × 3\n",
       "\\begin{tabular}{r|lll}\n",
       "  & Name & Age & Salary\\\\\n",
       "  & <chr> & <dbl> & <dbl>\\\\\n",
       "\\hline\n",
       "\t1 & Alice & 25 & 50000\\\\\n",
       "\t2 & Bob   & 30 & 55000\\\\\n",
       "\\end{tabular}\n"
      ],
      "text/markdown": [
       "\n",
       "A data.frame: 2 × 3\n",
       "\n",
       "| <!--/--> | Name &lt;chr&gt; | Age &lt;dbl&gt; | Salary &lt;dbl&gt; |\n",
       "|---|---|---|---|\n",
       "| 1 | Alice | 25 | 50000 |\n",
       "| 2 | Bob   | 30 | 55000 |\n",
       "\n"
      ],
      "text/plain": [
       "  Name  Age Salary\n",
       "1 Alice 25  50000 \n",
       "2 Bob   30  55000 "
      ]
     },
     "metadata": {},
     "output_type": "display_data"
    },
    {
     "data": {
      "text/html": [
       "<table class=\"dataframe\">\n",
       "<caption>A data.frame: 3 × 2</caption>\n",
       "<thead>\n",
       "\t<tr><th scope=col>Name</th><th scope=col>Salary</th></tr>\n",
       "\t<tr><th scope=col>&lt;chr&gt;</th><th scope=col>&lt;dbl&gt;</th></tr>\n",
       "</thead>\n",
       "<tbody>\n",
       "\t<tr><td>Alice  </td><td>50000</td></tr>\n",
       "\t<tr><td>Bob    </td><td>55000</td></tr>\n",
       "\t<tr><td>Charlie</td><td>60000</td></tr>\n",
       "</tbody>\n",
       "</table>\n"
      ],
      "text/latex": [
       "A data.frame: 3 × 2\n",
       "\\begin{tabular}{ll}\n",
       " Name & Salary\\\\\n",
       " <chr> & <dbl>\\\\\n",
       "\\hline\n",
       "\t Alice   & 50000\\\\\n",
       "\t Bob     & 55000\\\\\n",
       "\t Charlie & 60000\\\\\n",
       "\\end{tabular}\n"
      ],
      "text/markdown": [
       "\n",
       "A data.frame: 3 × 2\n",
       "\n",
       "| Name &lt;chr&gt; | Salary &lt;dbl&gt; |\n",
       "|---|---|\n",
       "| Alice   | 50000 |\n",
       "| Bob     | 55000 |\n",
       "| Charlie | 60000 |\n",
       "\n"
      ],
      "text/plain": [
       "  Name    Salary\n",
       "1 Alice   50000 \n",
       "2 Bob     55000 \n",
       "3 Charlie 60000 "
      ]
     },
     "metadata": {},
     "output_type": "display_data"
    }
   ],
   "source": [
    "\n",
    "df[1, 2]        # Access element in the 1st row, 2nd column\n",
    "df[ , \"Salary\"] # Access the \"Salary\" column\n",
    "df[1:2, ]       # Access the first two rows\n",
    "df[ , c(\"Name\", \"Salary\")] # Access \"Name\" and \"Salary\" columns\n"
   ]
  },
  {
   "cell_type": "markdown",
   "id": "a65ae1b2-9b45-47a5-b854-31c08acd0ed5",
   "metadata": {},
   "source": [
    "**Using `subset()` Function**\n",
    "\n",
    "The `subset()` function allows for subsetting based on conditions."
   ]
  },
  {
   "cell_type": "code",
   "execution_count": 194,
   "id": "fac7f7b4-4b63-40e5-87c9-8e8c9a36b7d5",
   "metadata": {},
   "outputs": [
    {
     "data": {
      "text/html": [
       "<table class=\"dataframe\">\n",
       "<caption>A data.frame: 2 × 3</caption>\n",
       "<thead>\n",
       "\t<tr><th></th><th scope=col>Name</th><th scope=col>Age</th><th scope=col>Salary</th></tr>\n",
       "\t<tr><th></th><th scope=col>&lt;chr&gt;</th><th scope=col>&lt;dbl&gt;</th><th scope=col>&lt;dbl&gt;</th></tr>\n",
       "</thead>\n",
       "<tbody>\n",
       "\t<tr><th scope=row>2</th><td>Bob    </td><td>30</td><td>55000</td></tr>\n",
       "\t<tr><th scope=row>3</th><td>Charlie</td><td>35</td><td>60000</td></tr>\n",
       "</tbody>\n",
       "</table>\n"
      ],
      "text/latex": [
       "A data.frame: 2 × 3\n",
       "\\begin{tabular}{r|lll}\n",
       "  & Name & Age & Salary\\\\\n",
       "  & <chr> & <dbl> & <dbl>\\\\\n",
       "\\hline\n",
       "\t2 & Bob     & 30 & 55000\\\\\n",
       "\t3 & Charlie & 35 & 60000\\\\\n",
       "\\end{tabular}\n"
      ],
      "text/markdown": [
       "\n",
       "A data.frame: 2 × 3\n",
       "\n",
       "| <!--/--> | Name &lt;chr&gt; | Age &lt;dbl&gt; | Salary &lt;dbl&gt; |\n",
       "|---|---|---|---|\n",
       "| 2 | Bob     | 30 | 55000 |\n",
       "| 3 | Charlie | 35 | 60000 |\n",
       "\n"
      ],
      "text/plain": [
       "  Name    Age Salary\n",
       "2 Bob     30  55000 \n",
       "3 Charlie 35  60000 "
      ]
     },
     "metadata": {},
     "output_type": "display_data"
    },
    {
     "data": {
      "text/html": [
       "<table class=\"dataframe\">\n",
       "<caption>A data.frame: 3 × 2</caption>\n",
       "<thead>\n",
       "\t<tr><th></th><th scope=col>Name</th><th scope=col>Age</th></tr>\n",
       "\t<tr><th></th><th scope=col>&lt;chr&gt;</th><th scope=col>&lt;dbl&gt;</th></tr>\n",
       "</thead>\n",
       "<tbody>\n",
       "\t<tr><th scope=row>1</th><td>Alice  </td><td>25</td></tr>\n",
       "\t<tr><th scope=row>2</th><td>Bob    </td><td>30</td></tr>\n",
       "\t<tr><th scope=row>3</th><td>Charlie</td><td>35</td></tr>\n",
       "</tbody>\n",
       "</table>\n"
      ],
      "text/latex": [
       "A data.frame: 3 × 2\n",
       "\\begin{tabular}{r|ll}\n",
       "  & Name & Age\\\\\n",
       "  & <chr> & <dbl>\\\\\n",
       "\\hline\n",
       "\t1 & Alice   & 25\\\\\n",
       "\t2 & Bob     & 30\\\\\n",
       "\t3 & Charlie & 35\\\\\n",
       "\\end{tabular}\n"
      ],
      "text/markdown": [
       "\n",
       "A data.frame: 3 × 2\n",
       "\n",
       "| <!--/--> | Name &lt;chr&gt; | Age &lt;dbl&gt; |\n",
       "|---|---|---|\n",
       "| 1 | Alice   | 25 |\n",
       "| 2 | Bob     | 30 |\n",
       "| 3 | Charlie | 35 |\n",
       "\n"
      ],
      "text/plain": [
       "  Name    Age\n",
       "1 Alice   25 \n",
       "2 Bob     30 \n",
       "3 Charlie 35 "
      ]
     },
     "metadata": {},
     "output_type": "display_data"
    }
   ],
   "source": [
    "\n",
    "subset(df, Age > 25)             # Filter rows where Age is greater than 25\n",
    "subset(df, select = c(Name, Age)) # Select specific columns\n"
   ]
  },
  {
   "cell_type": "markdown",
   "id": "bc281af3-519d-45e4-b3bd-3a8cb45f232a",
   "metadata": {},
   "source": [
    "**6. Modifying Data Frames**\n",
    "\n",
    "**Adding Columns**\n",
    "\n",
    "You can add a new column by assigning a vector to a new column name."
   ]
  },
  {
   "cell_type": "code",
   "execution_count": 195,
   "id": "fb5ab06d-c622-448b-892d-473d124f94d8",
   "metadata": {},
   "outputs": [
    {
     "data": {
      "text/html": [
       "<table class=\"dataframe\">\n",
       "<caption>A data.frame: 3 × 4</caption>\n",
       "<thead>\n",
       "\t<tr><th scope=col>Name</th><th scope=col>Age</th><th scope=col>Salary</th><th scope=col>Department</th></tr>\n",
       "\t<tr><th scope=col>&lt;chr&gt;</th><th scope=col>&lt;dbl&gt;</th><th scope=col>&lt;dbl&gt;</th><th scope=col>&lt;chr&gt;</th></tr>\n",
       "</thead>\n",
       "<tbody>\n",
       "\t<tr><td>Alice  </td><td>25</td><td>50000</td><td>HR     </td></tr>\n",
       "\t<tr><td>Bob    </td><td>30</td><td>55000</td><td>IT     </td></tr>\n",
       "\t<tr><td>Charlie</td><td>35</td><td>60000</td><td>Finance</td></tr>\n",
       "</tbody>\n",
       "</table>\n"
      ],
      "text/latex": [
       "A data.frame: 3 × 4\n",
       "\\begin{tabular}{llll}\n",
       " Name & Age & Salary & Department\\\\\n",
       " <chr> & <dbl> & <dbl> & <chr>\\\\\n",
       "\\hline\n",
       "\t Alice   & 25 & 50000 & HR     \\\\\n",
       "\t Bob     & 30 & 55000 & IT     \\\\\n",
       "\t Charlie & 35 & 60000 & Finance\\\\\n",
       "\\end{tabular}\n"
      ],
      "text/markdown": [
       "\n",
       "A data.frame: 3 × 4\n",
       "\n",
       "| Name &lt;chr&gt; | Age &lt;dbl&gt; | Salary &lt;dbl&gt; | Department &lt;chr&gt; |\n",
       "|---|---|---|---|\n",
       "| Alice   | 25 | 50000 | HR      |\n",
       "| Bob     | 30 | 55000 | IT      |\n",
       "| Charlie | 35 | 60000 | Finance |\n",
       "\n"
      ],
      "text/plain": [
       "  Name    Age Salary Department\n",
       "1 Alice   25  50000  HR        \n",
       "2 Bob     30  55000  IT        \n",
       "3 Charlie 35  60000  Finance   "
      ]
     },
     "metadata": {},
     "output_type": "display_data"
    }
   ],
   "source": [
    "\n",
    "df$Department <- c(\"HR\", \"IT\", \"Finance\")\n",
    "df"
   ]
  },
  {
   "cell_type": "markdown",
   "id": "5cd95c0a-a3b0-4ddc-b8e5-a04bf1178b64",
   "metadata": {},
   "source": [
    "**Adding Rows**\n",
    "\n",
    "Use `rbind()` to add rows to a data frame."
   ]
  },
  {
   "cell_type": "code",
   "execution_count": 197,
   "id": "68313aba-ed4c-4638-aea7-4baf51111b66",
   "metadata": {},
   "outputs": [
    {
     "name": "stdout",
     "output_type": "stream",
     "text": [
      "     Name Age Gender Salary\n",
      "1   Alice  25      M  50000\n",
      "2     Bob  30      M  55000\n",
      "3 Charlie  35      F  60000\n"
     ]
    }
   ],
   "source": [
    "# Vectors\n",
    "names <- c(\"Alice\", \"Bob\", \"Charlie\")\n",
    "\n",
    "ages <- c(25, 30, 35)\n",
    "Gender<- c(\"M\",\"M\",\"F\")\n",
    "salaries <- c(50000, 55000, 60000)\n",
    "\n",
    "\n",
    "# Create data frame from vectors\n",
    "df <- data.frame(Name = names, Age = ages, Gender = Gender, Salary = salaries)\n",
    "print(df)"
   ]
  },
  {
   "cell_type": "code",
   "execution_count": 198,
   "id": "40143fd0-4f31-4aeb-98af-2f49bc2bf2d6",
   "metadata": {},
   "outputs": [
    {
     "data": {
      "text/html": [
       "<table class=\"dataframe\">\n",
       "<caption>A data.frame: 4 × 4</caption>\n",
       "<thead>\n",
       "\t<tr><th scope=col>Name</th><th scope=col>Age</th><th scope=col>Gender</th><th scope=col>Salary</th></tr>\n",
       "\t<tr><th scope=col>&lt;chr&gt;</th><th scope=col>&lt;dbl&gt;</th><th scope=col>&lt;chr&gt;</th><th scope=col>&lt;dbl&gt;</th></tr>\n",
       "</thead>\n",
       "<tbody>\n",
       "\t<tr><td>Alice  </td><td>25</td><td>M</td><td>50000</td></tr>\n",
       "\t<tr><td>Bob    </td><td>30</td><td>M</td><td>55000</td></tr>\n",
       "\t<tr><td>Charlie</td><td>35</td><td>F</td><td>60000</td></tr>\n",
       "\t<tr><td>David  </td><td>28</td><td>M</td><td>62000</td></tr>\n",
       "</tbody>\n",
       "</table>\n"
      ],
      "text/latex": [
       "A data.frame: 4 × 4\n",
       "\\begin{tabular}{llll}\n",
       " Name & Age & Gender & Salary\\\\\n",
       " <chr> & <dbl> & <chr> & <dbl>\\\\\n",
       "\\hline\n",
       "\t Alice   & 25 & M & 50000\\\\\n",
       "\t Bob     & 30 & M & 55000\\\\\n",
       "\t Charlie & 35 & F & 60000\\\\\n",
       "\t David   & 28 & M & 62000\\\\\n",
       "\\end{tabular}\n"
      ],
      "text/markdown": [
       "\n",
       "A data.frame: 4 × 4\n",
       "\n",
       "| Name &lt;chr&gt; | Age &lt;dbl&gt; | Gender &lt;chr&gt; | Salary &lt;dbl&gt; |\n",
       "|---|---|---|---|\n",
       "| Alice   | 25 | M | 50000 |\n",
       "| Bob     | 30 | M | 55000 |\n",
       "| Charlie | 35 | F | 60000 |\n",
       "| David   | 28 | M | 62000 |\n",
       "\n"
      ],
      "text/plain": [
       "  Name    Age Gender Salary\n",
       "1 Alice   25  M      50000 \n",
       "2 Bob     30  M      55000 \n",
       "3 Charlie 35  F      60000 \n",
       "4 David   28  M      62000 "
      ]
     },
     "metadata": {},
     "output_type": "display_data"
    }
   ],
   "source": [
    "\n",
    "new_row <- data.frame(Name = \"David\", Age = 28, Gender = \"M\", Salary = 62000)\n",
    "df <- rbind(df, new_row)\n",
    "df"
   ]
  },
  {
   "cell_type": "markdown",
   "id": "7e2102db-5ffe-40bd-a726-6fcce9e10a7a",
   "metadata": {
    "jp-MarkdownHeadingCollapsed": true
   },
   "source": [
    "**Renaming Columns**\n",
    "\n",
    "The `names()` function or `dplyr` package (if installed) can be used to rename columns."
   ]
  },
  {
   "cell_type": "code",
   "execution_count": 199,
   "id": "99de1a1e-39cb-49e2-8cab-39a152fd3d3c",
   "metadata": {
    "jp-MarkdownHeadingCollapsed": true
   },
   "outputs": [],
   "source": [
    "\n",
    "names(df)[2] <- \"Years\"  # Rename the second column to \"Years\"\n"
   ]
  },
  {
   "cell_type": "code",
   "execution_count": 200,
   "id": "ff01bad0-eb05-464b-8f00-cd899451a808",
   "metadata": {},
   "outputs": [
    {
     "data": {
      "text/html": [
       "<table class=\"dataframe\">\n",
       "<caption>A data.frame: 4 × 4</caption>\n",
       "<thead>\n",
       "\t<tr><th scope=col>Name</th><th scope=col>Years</th><th scope=col>Gender</th><th scope=col>Salary</th></tr>\n",
       "\t<tr><th scope=col>&lt;chr&gt;</th><th scope=col>&lt;dbl&gt;</th><th scope=col>&lt;chr&gt;</th><th scope=col>&lt;dbl&gt;</th></tr>\n",
       "</thead>\n",
       "<tbody>\n",
       "\t<tr><td>Alice  </td><td>25</td><td>M</td><td>50000</td></tr>\n",
       "\t<tr><td>Bob    </td><td>30</td><td>M</td><td>55000</td></tr>\n",
       "\t<tr><td>Charlie</td><td>35</td><td>F</td><td>60000</td></tr>\n",
       "\t<tr><td>David  </td><td>28</td><td>M</td><td>62000</td></tr>\n",
       "</tbody>\n",
       "</table>\n"
      ],
      "text/latex": [
       "A data.frame: 4 × 4\n",
       "\\begin{tabular}{llll}\n",
       " Name & Years & Gender & Salary\\\\\n",
       " <chr> & <dbl> & <chr> & <dbl>\\\\\n",
       "\\hline\n",
       "\t Alice   & 25 & M & 50000\\\\\n",
       "\t Bob     & 30 & M & 55000\\\\\n",
       "\t Charlie & 35 & F & 60000\\\\\n",
       "\t David   & 28 & M & 62000\\\\\n",
       "\\end{tabular}\n"
      ],
      "text/markdown": [
       "\n",
       "A data.frame: 4 × 4\n",
       "\n",
       "| Name &lt;chr&gt; | Years &lt;dbl&gt; | Gender &lt;chr&gt; | Salary &lt;dbl&gt; |\n",
       "|---|---|---|---|\n",
       "| Alice   | 25 | M | 50000 |\n",
       "| Bob     | 30 | M | 55000 |\n",
       "| Charlie | 35 | F | 60000 |\n",
       "| David   | 28 | M | 62000 |\n",
       "\n"
      ],
      "text/plain": [
       "  Name    Years Gender Salary\n",
       "1 Alice   25    M      50000 \n",
       "2 Bob     30    M      55000 \n",
       "3 Charlie 35    F      60000 \n",
       "4 David   28    M      62000 "
      ]
     },
     "metadata": {},
     "output_type": "display_data"
    }
   ],
   "source": [
    "df"
   ]
  },
  {
   "cell_type": "markdown",
   "id": "46a981fc-9896-4a78-8307-005b17294855",
   "metadata": {
    "jp-MarkdownHeadingCollapsed": true
   },
   "source": [
    "**Removing Columns or Rows**\n",
    "\n",
    "- Remove a column by setting it to `NULL`.\n",
    "- Use `subset()` or `[-row, ]` notation to remove rows."
   ]
  },
  {
   "cell_type": "code",
   "execution_count": 201,
   "id": "4de7a564-85d6-4690-bb76-49b28cc1b300",
   "metadata": {
    "jp-MarkdownHeadingCollapsed": true
   },
   "outputs": [
    {
     "data": {
      "text/html": [
       "<table class=\"dataframe\">\n",
       "<caption>A data.frame: 4 × 4</caption>\n",
       "<thead>\n",
       "\t<tr><th scope=col>Name</th><th scope=col>Years</th><th scope=col>Gender</th><th scope=col>Salary</th></tr>\n",
       "\t<tr><th scope=col>&lt;chr&gt;</th><th scope=col>&lt;dbl&gt;</th><th scope=col>&lt;chr&gt;</th><th scope=col>&lt;dbl&gt;</th></tr>\n",
       "</thead>\n",
       "<tbody>\n",
       "\t<tr><td>Alice  </td><td>25</td><td>M</td><td>50000</td></tr>\n",
       "\t<tr><td>Bob    </td><td>30</td><td>M</td><td>55000</td></tr>\n",
       "\t<tr><td>Charlie</td><td>35</td><td>F</td><td>60000</td></tr>\n",
       "\t<tr><td>David  </td><td>28</td><td>M</td><td>62000</td></tr>\n",
       "</tbody>\n",
       "</table>\n"
      ],
      "text/latex": [
       "A data.frame: 4 × 4\n",
       "\\begin{tabular}{llll}\n",
       " Name & Years & Gender & Salary\\\\\n",
       " <chr> & <dbl> & <chr> & <dbl>\\\\\n",
       "\\hline\n",
       "\t Alice   & 25 & M & 50000\\\\\n",
       "\t Bob     & 30 & M & 55000\\\\\n",
       "\t Charlie & 35 & F & 60000\\\\\n",
       "\t David   & 28 & M & 62000\\\\\n",
       "\\end{tabular}\n"
      ],
      "text/markdown": [
       "\n",
       "A data.frame: 4 × 4\n",
       "\n",
       "| Name &lt;chr&gt; | Years &lt;dbl&gt; | Gender &lt;chr&gt; | Salary &lt;dbl&gt; |\n",
       "|---|---|---|---|\n",
       "| Alice   | 25 | M | 50000 |\n",
       "| Bob     | 30 | M | 55000 |\n",
       "| Charlie | 35 | F | 60000 |\n",
       "| David   | 28 | M | 62000 |\n",
       "\n"
      ],
      "text/plain": [
       "  Name    Years Gender Salary\n",
       "1 Alice   25    M      50000 \n",
       "2 Bob     30    M      55000 \n",
       "3 Charlie 35    F      60000 \n",
       "4 David   28    M      62000 "
      ]
     },
     "metadata": {},
     "output_type": "display_data"
    },
    {
     "data": {
      "text/html": [
       "<table class=\"dataframe\">\n",
       "<caption>A data.frame: 3 × 3</caption>\n",
       "<thead>\n",
       "\t<tr><th></th><th scope=col>Name</th><th scope=col>Years</th><th scope=col>Salary</th></tr>\n",
       "\t<tr><th></th><th scope=col>&lt;chr&gt;</th><th scope=col>&lt;dbl&gt;</th><th scope=col>&lt;dbl&gt;</th></tr>\n",
       "</thead>\n",
       "<tbody>\n",
       "\t<tr><th scope=row>2</th><td>Bob    </td><td>30</td><td>55000</td></tr>\n",
       "\t<tr><th scope=row>3</th><td>Charlie</td><td>35</td><td>60000</td></tr>\n",
       "\t<tr><th scope=row>4</th><td>David  </td><td>28</td><td>62000</td></tr>\n",
       "</tbody>\n",
       "</table>\n"
      ],
      "text/latex": [
       "A data.frame: 3 × 3\n",
       "\\begin{tabular}{r|lll}\n",
       "  & Name & Years & Salary\\\\\n",
       "  & <chr> & <dbl> & <dbl>\\\\\n",
       "\\hline\n",
       "\t2 & Bob     & 30 & 55000\\\\\n",
       "\t3 & Charlie & 35 & 60000\\\\\n",
       "\t4 & David   & 28 & 62000\\\\\n",
       "\\end{tabular}\n"
      ],
      "text/markdown": [
       "\n",
       "A data.frame: 3 × 3\n",
       "\n",
       "| <!--/--> | Name &lt;chr&gt; | Years &lt;dbl&gt; | Salary &lt;dbl&gt; |\n",
       "|---|---|---|---|\n",
       "| 2 | Bob     | 30 | 55000 |\n",
       "| 3 | Charlie | 35 | 60000 |\n",
       "| 4 | David   | 28 | 62000 |\n",
       "\n"
      ],
      "text/plain": [
       "  Name    Years Salary\n",
       "2 Bob     30    55000 \n",
       "3 Charlie 35    60000 \n",
       "4 David   28    62000 "
      ]
     },
     "metadata": {},
     "output_type": "display_data"
    }
   ],
   "source": [
    "df\n",
    "df$Gender <- NULL  # Remove \"Gender\" column\n",
    "df <- df[-1, ]         # Remove the first row\n",
    "df"
   ]
  },
  {
   "cell_type": "markdown",
   "id": "00960955-ae0d-4031-821c-bd7ff10cd812",
   "metadata": {
    "jp-MarkdownHeadingCollapsed": true
   },
   "source": [
    "**7. Data Frame Operations**\n",
    "\n",
    "Data frames support various operations such as sorting, filtering, and applying functions.\n",
    "\n",
    "**Sorting**\n",
    "\n",
    "Use `order()` to sort data frames by a column."
   ]
  },
  {
   "cell_type": "code",
   "execution_count": 202,
   "id": "b476c3b4-4b38-40d0-9239-dab85d75b128",
   "metadata": {
    "jp-MarkdownHeadingCollapsed": true
   },
   "outputs": [
    {
     "data": {
      "text/html": [
       "<table class=\"dataframe\">\n",
       "<caption>A data.frame: 3 × 3</caption>\n",
       "<thead>\n",
       "\t<tr><th></th><th scope=col>Name</th><th scope=col>Years</th><th scope=col>Salary</th></tr>\n",
       "\t<tr><th></th><th scope=col>&lt;chr&gt;</th><th scope=col>&lt;dbl&gt;</th><th scope=col>&lt;dbl&gt;</th></tr>\n",
       "</thead>\n",
       "<tbody>\n",
       "\t<tr><th scope=row>2</th><td>Bob    </td><td>30</td><td>55000</td></tr>\n",
       "\t<tr><th scope=row>3</th><td>Charlie</td><td>35</td><td>60000</td></tr>\n",
       "\t<tr><th scope=row>4</th><td>David  </td><td>28</td><td>62000</td></tr>\n",
       "</tbody>\n",
       "</table>\n"
      ],
      "text/latex": [
       "A data.frame: 3 × 3\n",
       "\\begin{tabular}{r|lll}\n",
       "  & Name & Years & Salary\\\\\n",
       "  & <chr> & <dbl> & <dbl>\\\\\n",
       "\\hline\n",
       "\t2 & Bob     & 30 & 55000\\\\\n",
       "\t3 & Charlie & 35 & 60000\\\\\n",
       "\t4 & David   & 28 & 62000\\\\\n",
       "\\end{tabular}\n"
      ],
      "text/markdown": [
       "\n",
       "A data.frame: 3 × 3\n",
       "\n",
       "| <!--/--> | Name &lt;chr&gt; | Years &lt;dbl&gt; | Salary &lt;dbl&gt; |\n",
       "|---|---|---|---|\n",
       "| 2 | Bob     | 30 | 55000 |\n",
       "| 3 | Charlie | 35 | 60000 |\n",
       "| 4 | David   | 28 | 62000 |\n",
       "\n"
      ],
      "text/plain": [
       "  Name    Years Salary\n",
       "2 Bob     30    55000 \n",
       "3 Charlie 35    60000 \n",
       "4 David   28    62000 "
      ]
     },
     "metadata": {},
     "output_type": "display_data"
    }
   ],
   "source": [
    "df"
   ]
  },
  {
   "cell_type": "code",
   "execution_count": 203,
   "id": "df22f12f-6068-473a-942d-b20b2f38d6d4",
   "metadata": {
    "jp-MarkdownHeadingCollapsed": true
   },
   "outputs": [
    {
     "data": {
      "text/html": [
       "<table class=\"dataframe\">\n",
       "<caption>A data.frame: 3 × 3</caption>\n",
       "<thead>\n",
       "\t<tr><th></th><th scope=col>Name</th><th scope=col>Years</th><th scope=col>Salary</th></tr>\n",
       "\t<tr><th></th><th scope=col>&lt;chr&gt;</th><th scope=col>&lt;dbl&gt;</th><th scope=col>&lt;dbl&gt;</th></tr>\n",
       "</thead>\n",
       "<tbody>\n",
       "\t<tr><th scope=row>2</th><td>Bob    </td><td>30</td><td>55000</td></tr>\n",
       "\t<tr><th scope=row>3</th><td>Charlie</td><td>35</td><td>60000</td></tr>\n",
       "\t<tr><th scope=row>4</th><td>David  </td><td>28</td><td>62000</td></tr>\n",
       "</tbody>\n",
       "</table>\n"
      ],
      "text/latex": [
       "A data.frame: 3 × 3\n",
       "\\begin{tabular}{r|lll}\n",
       "  & Name & Years & Salary\\\\\n",
       "  & <chr> & <dbl> & <dbl>\\\\\n",
       "\\hline\n",
       "\t2 & Bob     & 30 & 55000\\\\\n",
       "\t3 & Charlie & 35 & 60000\\\\\n",
       "\t4 & David   & 28 & 62000\\\\\n",
       "\\end{tabular}\n"
      ],
      "text/markdown": [
       "\n",
       "A data.frame: 3 × 3\n",
       "\n",
       "| <!--/--> | Name &lt;chr&gt; | Years &lt;dbl&gt; | Salary &lt;dbl&gt; |\n",
       "|---|---|---|---|\n",
       "| 2 | Bob     | 30 | 55000 |\n",
       "| 3 | Charlie | 35 | 60000 |\n",
       "| 4 | David   | 28 | 62000 |\n",
       "\n"
      ],
      "text/plain": [
       "  Name    Years Salary\n",
       "2 Bob     30    55000 \n",
       "3 Charlie 35    60000 \n",
       "4 David   28    62000 "
      ]
     },
     "metadata": {},
     "output_type": "display_data"
    }
   ],
   "source": [
    "df_sorted <- df[order(df$Salary), ]  # Sort by Salary in ascending order\n",
    "df_sorted"
   ]
  },
  {
   "cell_type": "code",
   "execution_count": 204,
   "id": "98bab2e7-4981-44fc-a19e-307c2b4a15ec",
   "metadata": {
    "jp-MarkdownHeadingCollapsed": true
   },
   "outputs": [
    {
     "data": {
      "text/html": [
       "<table class=\"dataframe\">\n",
       "<caption>A data.frame: 3 × 3</caption>\n",
       "<thead>\n",
       "\t<tr><th></th><th scope=col>Name</th><th scope=col>Years</th><th scope=col>Salary</th></tr>\n",
       "\t<tr><th></th><th scope=col>&lt;chr&gt;</th><th scope=col>&lt;dbl&gt;</th><th scope=col>&lt;dbl&gt;</th></tr>\n",
       "</thead>\n",
       "<tbody>\n",
       "\t<tr><th scope=row>4</th><td>David  </td><td>28</td><td>62000</td></tr>\n",
       "\t<tr><th scope=row>3</th><td>Charlie</td><td>35</td><td>60000</td></tr>\n",
       "\t<tr><th scope=row>2</th><td>Bob    </td><td>30</td><td>55000</td></tr>\n",
       "</tbody>\n",
       "</table>\n"
      ],
      "text/latex": [
       "A data.frame: 3 × 3\n",
       "\\begin{tabular}{r|lll}\n",
       "  & Name & Years & Salary\\\\\n",
       "  & <chr> & <dbl> & <dbl>\\\\\n",
       "\\hline\n",
       "\t4 & David   & 28 & 62000\\\\\n",
       "\t3 & Charlie & 35 & 60000\\\\\n",
       "\t2 & Bob     & 30 & 55000\\\\\n",
       "\\end{tabular}\n"
      ],
      "text/markdown": [
       "\n",
       "A data.frame: 3 × 3\n",
       "\n",
       "| <!--/--> | Name &lt;chr&gt; | Years &lt;dbl&gt; | Salary &lt;dbl&gt; |\n",
       "|---|---|---|---|\n",
       "| 4 | David   | 28 | 62000 |\n",
       "| 3 | Charlie | 35 | 60000 |\n",
       "| 2 | Bob     | 30 | 55000 |\n",
       "\n"
      ],
      "text/plain": [
       "  Name    Years Salary\n",
       "4 David   28    62000 \n",
       "3 Charlie 35    60000 \n",
       "2 Bob     30    55000 "
      ]
     },
     "metadata": {},
     "output_type": "display_data"
    }
   ],
   "source": [
    "df_sorted <- df[order(-df$Salary), ] # Sort by Salary in descending order\n",
    "df_sorted"
   ]
  },
  {
   "cell_type": "markdown",
   "id": "a6899c2a-c140-41f2-baed-52befe62fae9",
   "metadata": {
    "jp-MarkdownHeadingCollapsed": true
   },
   "source": [
    "**Filtering**\n",
    "\n",
    "Use logical conditions within brackets to filter rows."
   ]
  },
  {
   "cell_type": "code",
   "execution_count": 205,
   "id": "8f2ab73a-f8c6-4295-86a0-432007fa04cc",
   "metadata": {
    "jp-MarkdownHeadingCollapsed": true
   },
   "outputs": [],
   "source": [
    "\n",
    "df_high_salary <- df[df$Salary > 55000, ]  # Filter rows where Salary > 55000\n"
   ]
  },
  {
   "cell_type": "code",
   "execution_count": 206,
   "id": "c25c3ebf-3a0e-4338-9dbb-c299cf35a5ba",
   "metadata": {},
   "outputs": [
    {
     "data": {
      "text/html": [
       "<table class=\"dataframe\">\n",
       "<caption>A data.frame: 2 × 3</caption>\n",
       "<thead>\n",
       "\t<tr><th></th><th scope=col>Name</th><th scope=col>Years</th><th scope=col>Salary</th></tr>\n",
       "\t<tr><th></th><th scope=col>&lt;chr&gt;</th><th scope=col>&lt;dbl&gt;</th><th scope=col>&lt;dbl&gt;</th></tr>\n",
       "</thead>\n",
       "<tbody>\n",
       "\t<tr><th scope=row>3</th><td>Charlie</td><td>35</td><td>60000</td></tr>\n",
       "\t<tr><th scope=row>4</th><td>David  </td><td>28</td><td>62000</td></tr>\n",
       "</tbody>\n",
       "</table>\n"
      ],
      "text/latex": [
       "A data.frame: 2 × 3\n",
       "\\begin{tabular}{r|lll}\n",
       "  & Name & Years & Salary\\\\\n",
       "  & <chr> & <dbl> & <dbl>\\\\\n",
       "\\hline\n",
       "\t3 & Charlie & 35 & 60000\\\\\n",
       "\t4 & David   & 28 & 62000\\\\\n",
       "\\end{tabular}\n"
      ],
      "text/markdown": [
       "\n",
       "A data.frame: 2 × 3\n",
       "\n",
       "| <!--/--> | Name &lt;chr&gt; | Years &lt;dbl&gt; | Salary &lt;dbl&gt; |\n",
       "|---|---|---|---|\n",
       "| 3 | Charlie | 35 | 60000 |\n",
       "| 4 | David   | 28 | 62000 |\n",
       "\n"
      ],
      "text/plain": [
       "  Name    Years Salary\n",
       "3 Charlie 35    60000 \n",
       "4 David   28    62000 "
      ]
     },
     "metadata": {},
     "output_type": "display_data"
    }
   ],
   "source": [
    "df_high_salary"
   ]
  },
  {
   "cell_type": "markdown",
   "id": "5853246f-c0ef-4998-bbe9-2e032f07af54",
   "metadata": {},
   "source": [
    "**Applying Functions with `apply()`**\n",
    "\n",
    "Use `apply()` to apply functions to rows or columns of a data frame."
   ]
  },
  {
   "cell_type": "markdown",
   "id": "29a2e9f9-9fb5-4abd-ab1a-b1511d7072a4",
   "metadata": {},
   "source": []
  },
  {
   "cell_type": "code",
   "execution_count": 207,
   "id": "641797e7-f35e-4bbd-9a0c-b7ccb9154be4",
   "metadata": {},
   "outputs": [
    {
     "data": {
      "text/html": [
       "<style>\n",
       ".dl-inline {width: auto; margin:0; padding: 0}\n",
       ".dl-inline>dt, .dl-inline>dd {float: none; width: auto; display: inline-block}\n",
       ".dl-inline>dt::after {content: \":\\0020\"; padding-right: .5ex}\n",
       ".dl-inline>dt:not(:first-of-type) {padding-left: .5ex}\n",
       "</style><dl class=dl-inline><dt>Years</dt><dd>31</dd><dt>Salary</dt><dd>59000</dd></dl>\n"
      ],
      "text/latex": [
       "\\begin{description*}\n",
       "\\item[Years] 31\n",
       "\\item[Salary] 59000\n",
       "\\end{description*}\n"
      ],
      "text/markdown": [
       "Years\n",
       ":   31Salary\n",
       ":   59000\n",
       "\n"
      ],
      "text/plain": [
       " Years Salary \n",
       "    31  59000 "
      ]
     },
     "metadata": {},
     "output_type": "display_data"
    }
   ],
   "source": [
    "\n",
    "apply(df[, 2:3], 2, mean)  # Calculate mean of Age and Salary columns\n"
   ]
  },
  {
   "cell_type": "markdown",
   "id": "b1865f74-3893-42aa-834e-2a026f25d445",
   "metadata": {},
   "source": [
    "**Using `lapply()` and `sapply()`**\n",
    "\n",
    "`lapply()` and `sapply()` apply functions to each column in a data frame."
   ]
  },
  {
   "cell_type": "code",
   "execution_count": 208,
   "id": "24716449-828f-4163-aaf2-47cdb5a4f8a4",
   "metadata": {},
   "outputs": [
    {
     "data": {
      "text/html": [
       "<dl>\n",
       "\t<dt>$Name</dt>\n",
       "\t\t<dd>'character'</dd>\n",
       "\t<dt>$Years</dt>\n",
       "\t\t<dd>'numeric'</dd>\n",
       "\t<dt>$Salary</dt>\n",
       "\t\t<dd>'numeric'</dd>\n",
       "</dl>\n"
      ],
      "text/latex": [
       "\\begin{description}\n",
       "\\item[\\$Name] 'character'\n",
       "\\item[\\$Years] 'numeric'\n",
       "\\item[\\$Salary] 'numeric'\n",
       "\\end{description}\n"
      ],
      "text/markdown": [
       "$Name\n",
       ":   'character'\n",
       "$Years\n",
       ":   'numeric'\n",
       "$Salary\n",
       ":   'numeric'\n",
       "\n",
       "\n"
      ],
      "text/plain": [
       "$Name\n",
       "[1] \"character\"\n",
       "\n",
       "$Years\n",
       "[1] \"numeric\"\n",
       "\n",
       "$Salary\n",
       "[1] \"numeric\"\n"
      ]
     },
     "metadata": {},
     "output_type": "display_data"
    },
    {
     "name": "stderr",
     "output_type": "stream",
     "text": [
      "Warning message in mean.default(X[[i]], ...):\n",
      "\"argument is not numeric or logical: returning NA\"\n"
     ]
    },
    {
     "data": {
      "text/html": [
       "<style>\n",
       ".dl-inline {width: auto; margin:0; padding: 0}\n",
       ".dl-inline>dt, .dl-inline>dd {float: none; width: auto; display: inline-block}\n",
       ".dl-inline>dt::after {content: \":\\0020\"; padding-right: .5ex}\n",
       ".dl-inline>dt:not(:first-of-type) {padding-left: .5ex}\n",
       "</style><dl class=dl-inline><dt>Name</dt><dd>&lt;NA&gt;</dd><dt>Years</dt><dd>31</dd><dt>Salary</dt><dd>59000</dd></dl>\n"
      ],
      "text/latex": [
       "\\begin{description*}\n",
       "\\item[Name] <NA>\n",
       "\\item[Years] 31\n",
       "\\item[Salary] 59000\n",
       "\\end{description*}\n"
      ],
      "text/markdown": [
       "Name\n",
       ":   &lt;NA&gt;Years\n",
       ":   31Salary\n",
       ":   59000\n",
       "\n"
      ],
      "text/plain": [
       "  Name  Years Salary \n",
       "    NA     31  59000 "
      ]
     },
     "metadata": {},
     "output_type": "display_data"
    }
   ],
   "source": [
    "\n",
    "lapply(df, class)     # Get class of each column\n",
    "sapply(df, mean, na.rm = TRUE) # Calculate mean for each numeric column\n"
   ]
  },
  {
   "cell_type": "markdown",
   "id": "02603523-b8b2-4e98-bbd8-f5b7e27853a6",
   "metadata": {},
   "source": [
    "**8. Handling Missing Data**\n",
    "\n",
    "Use functions like `is.na()`, `na.omit()`, and `na.fill()` to handle missing values."
   ]
  },
  {
   "cell_type": "code",
   "execution_count": 209,
   "id": "d072771e-e423-437e-a838-f19f6f2b40ba",
   "metadata": {},
   "outputs": [
    {
     "data": {
      "text/html": [
       "<table class=\"dataframe\">\n",
       "<caption>A matrix: 3 × 3 of type lgl</caption>\n",
       "<thead>\n",
       "\t<tr><th></th><th scope=col>Name</th><th scope=col>Years</th><th scope=col>Salary</th></tr>\n",
       "</thead>\n",
       "<tbody>\n",
       "\t<tr><th scope=row>2</th><td>FALSE</td><td>FALSE</td><td>FALSE</td></tr>\n",
       "\t<tr><th scope=row>3</th><td>FALSE</td><td>FALSE</td><td>FALSE</td></tr>\n",
       "\t<tr><th scope=row>4</th><td>FALSE</td><td>FALSE</td><td>FALSE</td></tr>\n",
       "</tbody>\n",
       "</table>\n"
      ],
      "text/latex": [
       "A matrix: 3 × 3 of type lgl\n",
       "\\begin{tabular}{r|lll}\n",
       "  & Name & Years & Salary\\\\\n",
       "\\hline\n",
       "\t2 & FALSE & FALSE & FALSE\\\\\n",
       "\t3 & FALSE & FALSE & FALSE\\\\\n",
       "\t4 & FALSE & FALSE & FALSE\\\\\n",
       "\\end{tabular}\n"
      ],
      "text/markdown": [
       "\n",
       "A matrix: 3 × 3 of type lgl\n",
       "\n",
       "| <!--/--> | Name | Years | Salary |\n",
       "|---|---|---|---|\n",
       "| 2 | FALSE | FALSE | FALSE |\n",
       "| 3 | FALSE | FALSE | FALSE |\n",
       "| 4 | FALSE | FALSE | FALSE |\n",
       "\n"
      ],
      "text/plain": [
       "  Name  Years Salary\n",
       "2 FALSE FALSE FALSE \n",
       "3 FALSE FALSE FALSE \n",
       "4 FALSE FALSE FALSE "
      ]
     },
     "metadata": {},
     "output_type": "display_data"
    }
   ],
   "source": [
    "\n",
    "# Identify missing values\n",
    "is.na(df)\n",
    "\n",
    "# Remove rows with missing values\n",
    "df_clean <- na.omit(df)\n",
    "\n",
    "# Replace missing values (requires dplyr or tidyr package)\n",
    "df[is.na(df)] <- 0\n"
   ]
  },
  {
   "cell_type": "markdown",
   "id": "b3a07f89-29df-4af1-9afd-18dc5ad0d786",
   "metadata": {},
   "source": [
    "**9. Data Frame Functions**\n",
    "\n",
    "| Function       | Description                                               | Example                        |\n",
    "|----------------|-----------------------------------------------------------|--------------------------------|\n",
    "| `str()`        | Displays structure of the data frame                      | `str(df)`                      |\n",
    "| `summary()`    | Provides summary statistics for each column               | `summary(df)`                  |\n",
    "| `nrow()`       | Returns the number of rows                                | `nrow(df)`                     |\n",
    "| `ncol()`       | Returns the number of columns                             | `ncol(df)`                     |\n",
    "| `dim()`        | Returns the dimensions of the data frame                  | `dim(df)`                      |\n",
    "| `names()`      | Gets or sets column names                                 | `names(df)`                    |\n",
    "| `head()`       | Displays the first few rows                               | `head(df)`                     |\n",
    "| `tail()`       | Displays the last few rows                                | `tail(df)`                     |\n",
    "| `rbind()`      | Adds rows to the data frame                               | `rbind(df, new_row)`           |\n",
    "| `cbind()`      | Adds columns to the data frame                            | `cbind(df, new_col)`           |"
   ]
  },
  {
   "cell_type": "markdown",
   "id": "effc8ccc-030f-471c-a6f3-62d85744f2c0",
   "metadata": {},
   "source": [
    "**10. Converting Other Data Structures to Data Frames**\n",
    "\n",
    "- **From Matrix**: Convert a matrix to a data frame using `as.data.frame()`."
   ]
  },
  {
   "cell_type": "code",
   "execution_count": 211,
   "id": "1dcd3f6e-4d3a-41f4-907d-7bfd1363a3d9",
   "metadata": {},
   "outputs": [
    {
     "data": {
      "text/html": [
       "<table class=\"dataframe\">\n",
       "<caption>A data.frame: 3 × 3</caption>\n",
       "<thead>\n",
       "\t<tr><th scope=col>V1</th><th scope=col>V2</th><th scope=col>V3</th></tr>\n",
       "\t<tr><th scope=col>&lt;int&gt;</th><th scope=col>&lt;int&gt;</th><th scope=col>&lt;int&gt;</th></tr>\n",
       "</thead>\n",
       "<tbody>\n",
       "\t<tr><td>1</td><td>4</td><td>7</td></tr>\n",
       "\t<tr><td>2</td><td>5</td><td>8</td></tr>\n",
       "\t<tr><td>3</td><td>6</td><td>9</td></tr>\n",
       "</tbody>\n",
       "</table>\n"
      ],
      "text/latex": [
       "A data.frame: 3 × 3\n",
       "\\begin{tabular}{lll}\n",
       " V1 & V2 & V3\\\\\n",
       " <int> & <int> & <int>\\\\\n",
       "\\hline\n",
       "\t 1 & 4 & 7\\\\\n",
       "\t 2 & 5 & 8\\\\\n",
       "\t 3 & 6 & 9\\\\\n",
       "\\end{tabular}\n"
      ],
      "text/markdown": [
       "\n",
       "A data.frame: 3 × 3\n",
       "\n",
       "| V1 &lt;int&gt; | V2 &lt;int&gt; | V3 &lt;int&gt; |\n",
       "|---|---|---|\n",
       "| 1 | 4 | 7 |\n",
       "| 2 | 5 | 8 |\n",
       "| 3 | 6 | 9 |\n",
       "\n"
      ],
      "text/plain": [
       "  V1 V2 V3\n",
       "1 1  4  7 \n",
       "2 2  5  8 \n",
       "3 3  6  9 "
      ]
     },
     "metadata": {},
     "output_type": "display_data"
    }
   ],
   "source": [
    "\n",
    "mat <- matrix(1:9, nrow = 3)\n",
    "df_from_mat <- as.data.frame(mat)\n",
    "df_from_mat"
   ]
  },
  {
   "cell_type": "markdown",
   "id": "6857e35f-bb10-44bb-b138-818d7fc2b68f",
   "metadata": {},
   "source": [
    "- **From Lists**: Lists can also be converted to data frames if each element has the same length."
   ]
  },
  {
   "cell_type": "code",
   "execution_count": 212,
   "id": "23ae3ba1-1fa2-4b49-b8b4-80d2679d1610",
   "metadata": {},
   "outputs": [
    {
     "data": {
      "text/html": [
       "<table class=\"dataframe\">\n",
       "<caption>A data.frame: 2 × 2</caption>\n",
       "<thead>\n",
       "\t<tr><th scope=col>Name</th><th scope=col>Age</th></tr>\n",
       "\t<tr><th scope=col>&lt;chr&gt;</th><th scope=col>&lt;dbl&gt;</th></tr>\n",
       "</thead>\n",
       "<tbody>\n",
       "\t<tr><td>Alice</td><td>25</td></tr>\n",
       "\t<tr><td>Bob  </td><td>30</td></tr>\n",
       "</tbody>\n",
       "</table>\n"
      ],
      "text/latex": [
       "A data.frame: 2 × 2\n",
       "\\begin{tabular}{ll}\n",
       " Name & Age\\\\\n",
       " <chr> & <dbl>\\\\\n",
       "\\hline\n",
       "\t Alice & 25\\\\\n",
       "\t Bob   & 30\\\\\n",
       "\\end{tabular}\n"
      ],
      "text/markdown": [
       "\n",
       "A data.frame: 2 × 2\n",
       "\n",
       "| Name &lt;chr&gt; | Age &lt;dbl&gt; |\n",
       "|---|---|\n",
       "| Alice | 25 |\n",
       "| Bob   | 30 |\n",
       "\n"
      ],
      "text/plain": [
       "  Name  Age\n",
       "1 Alice 25 \n",
       "2 Bob   30 "
      ]
     },
     "metadata": {},
     "output_type": "display_data"
    }
   ],
   "source": [
    "\n",
    "lst <- list(Name = c(\"Alice\", \"Bob\"), Age = c(25, 30))\n",
    "df_from_list <- as.data.frame(lst)\n",
    "df_from_list"
   ]
  },
  {
   "cell_type": "markdown",
   "id": "725ac707-d1b8-4f5d-a868-1cd9290bcce3",
   "metadata": {},
   "source": [
    " **11. Summary of Data Frames in R**\n",
    "\n",
    "- **Data Structure**: Data frames are two-dimensional, allowing for different data types in each column.\n",
    "- **Creation**: Use `data.frame()` function, `read.csv()`, or convert other structures.\n",
    "- **Exploration**: Functions like `str()`, `head()`, `summary()`, `nrow()`, and `ncol()` help in understanding data frames.\n",
    "- **Manipulation**: You can add, remove, rename, and sort columns or rows.\n",
    "- **Operations**: Useful functions like"
   ]
  },
  {
   "cell_type": "code",
   "execution_count": 110,
   "id": "6ed48e8a-a7cb-4867-a6a2-c2e8cb59cd4c",
   "metadata": {},
   "outputs": [
    {
     "name": "stdout",
     "output_type": "stream",
     "text": [
      "   Name Age Score\n",
      "1 Alice  25    90\n",
      "2   Bob  30    85\n",
      "3 Carol  35    88\n"
     ]
    }
   ],
   "source": [
    "\n",
    "# Create a data frame with different types of columns\n",
    "df <- data.frame(\n",
    "  Name = c(\"Alice\", \"Bob\", \"Carol\"),\n",
    "  Age = c(25, 30, 35),\n",
    "  Score = c(90, 85, 88)\n",
    ")\n",
    "print(df)\n"
   ]
  },
  {
   "cell_type": "markdown",
   "id": "fafe5154-76fd-463e-8b3c-ee79add30301",
   "metadata": {},
   "source": [
    "### **5. Factors**\n",
    "\n",
    "A **factor** is used to represent categorical data. Factors are important in statistical modeling as they define the levels of categorical variables (e.g., \"Male\", \"Female\" for gender). Factors are stored as integers with labels.\n",
    "\n",
    "#### **Creating Factors:**"
   ]
  },
  {
   "cell_type": "code",
   "execution_count": 115,
   "id": "d347e4a4-acaa-483c-ae54-822f744a2edd",
   "metadata": {},
   "outputs": [
    {
     "name": "stdout",
     "output_type": "stream",
     "text": [
      "[1] Male   Female Female Male  \n",
      "Levels: Female Male\n"
     ]
    },
    {
     "data": {
      "text/html": [
       "<style>\n",
       ".list-inline {list-style: none; margin:0; padding: 0}\n",
       ".list-inline>li {display: inline-block}\n",
       ".list-inline>li:not(:last-child)::after {content: \"\\00b7\"; padding: 0 .5ex}\n",
       "</style>\n",
       "<ol class=list-inline><li>'Female'</li><li>'Male'</li></ol>\n"
      ],
      "text/latex": [
       "\\begin{enumerate*}\n",
       "\\item 'Female'\n",
       "\\item 'Male'\n",
       "\\end{enumerate*}\n"
      ],
      "text/markdown": [
       "1. 'Female'\n",
       "2. 'Male'\n",
       "\n",
       "\n"
      ],
      "text/plain": [
       "[1] \"Female\" \"Male\"  "
      ]
     },
     "metadata": {},
     "output_type": "display_data"
    }
   ],
   "source": [
    "\n",
    "# Create a factor with levels\n",
    "gender <- factor(c(\"Male\", \"Female\", \"Female\", \"Male\"))\n",
    "print(gender)\n",
    "\n",
    "# Check the levels\n",
    "levels(gender)  # Output: \"Female\", \"Male\"\n"
   ]
  },
  {
   "cell_type": "markdown",
   "id": "ed1d700d-f8a2-4bd5-9227-e0d466fccb8d",
   "metadata": {},
   "source": [
    "#### **Ordered Factors:**\n",
    "You can create ordered factors where levels have a specific order (e.g., \"Low\", \"Medium\", \"High\")."
   ]
  },
  {
   "cell_type": "code",
   "execution_count": 116,
   "id": "deaa79d4-420b-45bd-b519-14f31a235cdf",
   "metadata": {},
   "outputs": [
    {
     "name": "stdout",
     "output_type": "stream",
     "text": [
      "[1] High School College     Graduate    College    \n",
      "Levels: High School < College < Graduate\n"
     ]
    }
   ],
   "source": [
    "\n",
    "# Create an ordered factor\n",
    "education <- factor(c(\"High School\", \"College\", \"Graduate\", \"College\"),\n",
    "                    levels = c(\"High School\", \"College\", \"Graduate\"),\n",
    "                    ordered = TRUE)\n",
    "print(education)\n"
   ]
  },
  {
   "cell_type": "markdown",
   "id": "352f2ee7-4d0c-4343-91ab-92047a19aa9d",
   "metadata": {},
   "source": [
    "#### **Factors vs. Character Vectors:**\n",
    "- Factors are stored as integers internally with corresponding levels, while character vectors store text directly.\n",
    "- Factors are more efficient for storing categorical data and are used in statistical modeling."
   ]
  },
  {
   "cell_type": "markdown",
   "id": "03403fc5-12cf-4d45-9b47-2fd8a3031d0f",
   "metadata": {},
   "source": [
    "### **6. Arrays**\n",
    "\n",
    "An **array** is similar to a matrix but can have more than two dimensions (i.e., higher-dimensional data). Each element in an array must be of the same type.\n",
    "\n",
    "#### **Creating an Array:**"
   ]
  },
  {
   "cell_type": "code",
   "execution_count": 117,
   "id": "e0d67431-25bb-46b4-b256-5a41c050679e",
   "metadata": {},
   "outputs": [
    {
     "name": "stdout",
     "output_type": "stream",
     "text": [
      ", , 1\n",
      "\n",
      "     [,1] [,2] [,3]\n",
      "[1,]    1    5    9\n",
      "[2,]    2    6   10\n",
      "[3,]    3    7   11\n",
      "[4,]    4    8   12\n",
      "\n",
      ", , 2\n",
      "\n",
      "     [,1] [,2] [,3]\n",
      "[1,]   13   17   21\n",
      "[2,]   14   18   22\n",
      "[3,]   15   19   23\n",
      "[4,]   16   20   24\n",
      "\n"
     ]
    }
   ],
   "source": [
    "\n",
    "# Create a 3-dimensional array\n",
    "arr <- array(1:24, dim = c(4, 3, 2))  # 4 rows, 3 columns, 2 matrices\n",
    "print(arr)\n"
   ]
  },
  {
   "cell_type": "markdown",
   "id": "11d56e0f-d947-4937-99b7-4b38ae26cd14",
   "metadata": {},
   "source": [
    "#### **Accessing Elements in an Array:**"
   ]
  },
  {
   "cell_type": "code",
   "execution_count": 119,
   "id": "548e757f-9e99-4859-85c1-28e5c740a904",
   "metadata": {},
   "outputs": [
    {
     "data": {
      "text/html": [
       "10"
      ],
      "text/latex": [
       "10"
      ],
      "text/markdown": [
       "10"
      ],
      "text/plain": [
       "[1] 10"
      ]
     },
     "metadata": {},
     "output_type": "display_data"
    }
   ],
   "source": [
    "\n",
    "arr[2, 3, 1]  # Access element at [row=2, column=3, matrix=1]\n"
   ]
  },
  {
   "cell_type": "markdown",
   "id": "79664053-a820-4333-aaad-e01f399410a5",
   "metadata": {},
   "source": [
    "### **7. Important Operations on Data Structures**\n",
    "\n",
    "- **Length**: `length()` returns the number of elements in a vector or list."
   ]
  },
  {
   "cell_type": "code",
   "execution_count": 121,
   "id": "af8911d6-748c-44d0-a299-330521e42ce6",
   "metadata": {},
   "outputs": [
    {
     "data": {
      "text/html": [
       "4"
      ],
      "text/latex": [
       "4"
      ],
      "text/markdown": [
       "4"
      ],
      "text/plain": [
       "[1] 4"
      ]
     },
     "metadata": {},
     "output_type": "display_data"
    }
   ],
   "source": [
    "length(c(1, 2, 3, 4))  # Output: 4"
   ]
  },
  {
   "cell_type": "markdown",
   "id": "ae859143-1625-449a-9b1f-5c8491aebad9",
   "metadata": {},
   "source": [
    "- **Dimensions**: `dim()` returns the dimensions of matrices and data frames."
   ]
  },
  {
   "cell_type": "code",
   "execution_count": 123,
   "id": "72427eeb-d243-46ef-bbc8-1577125f44e6",
   "metadata": {},
   "outputs": [
    {
     "data": {
      "text/html": [
       "<style>\n",
       ".list-inline {list-style: none; margin:0; padding: 0}\n",
       ".list-inline>li {display: inline-block}\n",
       ".list-inline>li:not(:last-child)::after {content: \"\\00b7\"; padding: 0 .5ex}\n",
       "</style>\n",
       "<ol class=list-inline><li>3</li><li>3</li></ol>\n"
      ],
      "text/latex": [
       "\\begin{enumerate*}\n",
       "\\item 3\n",
       "\\item 3\n",
       "\\end{enumerate*}\n"
      ],
      "text/markdown": [
       "1. 3\n",
       "2. 3\n",
       "\n",
       "\n"
      ],
      "text/plain": [
       "[1] 3 3"
      ]
     },
     "metadata": {},
     "output_type": "display_data"
    }
   ],
   "source": [
    "dim(matrix(1:9, nrow=3))  # Output: 3 3 (rows and columns)"
   ]
  },
  {
   "cell_type": "markdown",
   "id": "da0585e3-2e67-41eb-8fe4-1d04e402c4a6",
   "metadata": {},
   "source": [
    "- **Structure**: `str()` gives a summary of the structure of any R object."
   ]
  },
  {
   "cell_type": "code",
   "execution_count": 124,
   "id": "cebe5d0f-0d49-4a34-be40-caab1a72096f",
   "metadata": {},
   "outputs": [
    {
     "name": "stdout",
     "output_type": "stream",
     "text": [
      "'data.frame':\t3 obs. of  3 variables:\n",
      " $ Name: chr  \"Alice\" \"Bob\" \"Carol\"\n",
      " $ Age : num  25 30 35\n",
      " $ City: chr  \"New York\" \"London\" \"Paris\"\n"
     ]
    }
   ],
   "source": [
    "str(df)  # Displays the structure of a data frame"
   ]
  },
  {
   "cell_type": "markdown",
   "id": "8a771ed2-147d-47b3-a401-0c5b1da99eed",
   "metadata": {},
   "source": [
    "- **Summary**: `summary()` provides a statistical summary of a data structure."
   ]
  },
  {
   "cell_type": "code",
   "execution_count": 125,
   "id": "70ba8a49-982e-4f57-9d9b-3b659cab804b",
   "metadata": {},
   "outputs": [
    {
     "data": {
      "text/plain": [
       "     Name                Age           City          \n",
       " Length:3           Min.   :25.0   Length:3          \n",
       " Class :character   1st Qu.:27.5   Class :character  \n",
       " Mode  :character   Median :30.0   Mode  :character  \n",
       "                    Mean   :30.0                     \n",
       "                    3rd Qu.:32.5                     \n",
       "                    Max.   :35.0                     "
      ]
     },
     "metadata": {},
     "output_type": "display_data"
    }
   ],
   "source": [
    "summary(df)  # Displays summary statistics of each column in the data frame"
   ]
  },
  {
   "cell_type": "markdown",
   "id": "65a0afb0-1032-4c7c-baf0-f539bc923011",
   "metadata": {},
   "source": [
    "- **Combine Vectors**: `cbind()` and `rbind()` are used to combine vectors/matrices by columns and rows, respectively."
   ]
  },
  {
   "cell_type": "code",
   "execution_count": 127,
   "id": "f41d3e74-bcf9-47f8-9b13-4248b2028e41",
   "metadata": {},
   "outputs": [
    {
     "data": {
      "text/html": [
       "<table class=\"dataframe\">\n",
       "<caption>A matrix: 3 × 2 of type dbl</caption>\n",
       "<thead>\n",
       "\t<tr><th scope=col>vec1</th><th scope=col>vec2</th></tr>\n",
       "</thead>\n",
       "<tbody>\n",
       "\t<tr><td>1</td><td>4</td></tr>\n",
       "\t<tr><td>2</td><td>5</td></tr>\n",
       "\t<tr><td>3</td><td>6</td></tr>\n",
       "</tbody>\n",
       "</table>\n"
      ],
      "text/latex": [
       "A matrix: 3 × 2 of type dbl\n",
       "\\begin{tabular}{ll}\n",
       " vec1 & vec2\\\\\n",
       "\\hline\n",
       "\t 1 & 4\\\\\n",
       "\t 2 & 5\\\\\n",
       "\t 3 & 6\\\\\n",
       "\\end{tabular}\n"
      ],
      "text/markdown": [
       "\n",
       "A matrix: 3 × 2 of type dbl\n",
       "\n",
       "| vec1 | vec2 |\n",
       "|---|---|\n",
       "| 1 | 4 |\n",
       "| 2 | 5 |\n",
       "| 3 | 6 |\n",
       "\n"
      ],
      "text/plain": [
       "     vec1 vec2\n",
       "[1,] 1    4   \n",
       "[2,] 2    5   \n",
       "[3,] 3    6   "
      ]
     },
     "metadata": {},
     "output_type": "display_data"
    },
    {
     "data": {
      "text/html": [
       "<table class=\"dataframe\">\n",
       "<caption>A matrix: 2 × 3 of type dbl</caption>\n",
       "<tbody>\n",
       "\t<tr><th scope=row>vec1</th><td>1</td><td>2</td><td>3</td></tr>\n",
       "\t<tr><th scope=row>vec2</th><td>4</td><td>5</td><td>6</td></tr>\n",
       "</tbody>\n",
       "</table>\n"
      ],
      "text/latex": [
       "A matrix: 2 × 3 of type dbl\n",
       "\\begin{tabular}{r|lll}\n",
       "\tvec1 & 1 & 2 & 3\\\\\n",
       "\tvec2 & 4 & 5 & 6\\\\\n",
       "\\end{tabular}\n"
      ],
      "text/markdown": [
       "\n",
       "A matrix: 2 × 3 of type dbl\n",
       "\n",
       "| vec1 | 1 | 2 | 3 |\n",
       "| vec2 | 4 | 5 | 6 |\n",
       "\n"
      ],
      "text/plain": [
       "     [,1] [,2] [,3]\n",
       "vec1 1    2    3   \n",
       "vec2 4    5    6   "
      ]
     },
     "metadata": {},
     "output_type": "display_data"
    }
   ],
   "source": [
    "cbind(vec1, vec2)  # Combine vectors column-wise\n",
    "rbind(vec1, vec2)  # Combine vectors row-wise"
   ]
  },
  {
   "cell_type": "markdown",
   "id": "d7006acd-3a15-44b3-9084-35796f444454",
   "metadata": {},
   "source": [
    "### **Conclusion:**\n",
    "\n",
    "- **Vectors** are one-dimensional arrays holding elements of the same type.\n",
    "- **Lists** can hold different types of objects, including vectors, matrices, and other lists.\n",
    "- **Matrices** are two-dimensional arrays that contain elements of the same type.\n",
    "- **Data Frames** are two-dimensional tables where each column can hold different data types (most common structure for datasets).\n",
    "-"
   ]
  },
  {
   "cell_type": "markdown",
   "id": "28fc3c0f-d5c8-499c-92a8-950059c91c67",
   "metadata": {},
   "source": [
    "## Appendix: Loops and data structure"
   ]
  },
  {
   "cell_type": "markdown",
   "id": "cbe58b55-302a-4bad-8756-34b8a2e3c4cf",
   "metadata": {},
   "source": [
    "#### **Looping Through a Vector**"
   ]
  },
  {
   "cell_type": "code",
   "execution_count": 226,
   "id": "c30461dc-79ee-4ac0-aa4e-f1d71e611732",
   "metadata": {},
   "outputs": [],
   "source": [
    "\n",
    "# Numeric vector\n",
    "numeric_vector <- c(5, 7, 9)\n",
    "\n",
    "# Character vector\n",
    "char_vector <- c(\"a\", \"b\", \"c\")\n"
   ]
  },
  {
   "cell_type": "markdown",
   "id": "faaaff9c-8ab0-4914-8d34-87db832186c4",
   "metadata": {},
   "source": []
  },
  {
   "cell_type": "code",
   "execution_count": 227,
   "id": "b4635b59-b44d-4028-90d6-f5869d35003a",
   "metadata": {},
   "outputs": [
    {
     "name": "stdout",
     "output_type": "stream",
     "text": [
      "[1] 5\n",
      "[1] 7\n",
      "[1] 9\n"
     ]
    }
   ],
   "source": [
    "\n",
    "for (element in numeric_vector) {\n",
    "  print(element)\n",
    "}\n"
   ]
  },
  {
   "cell_type": "code",
   "execution_count": 229,
   "id": "d90d71c3-1d35-4ea4-a9be-99dcf4c63cec",
   "metadata": {},
   "outputs": [
    {
     "name": "stdout",
     "output_type": "stream",
     "text": [
      "[1] 1\n",
      "Element at position 1 is 5 \n",
      "[1] 2\n",
      "Element at position 2 is 7 \n",
      "[1] 3\n",
      "Element at position 3 is 9 \n"
     ]
    }
   ],
   "source": [
    "for (i in seq_along(numeric_vector)) {\n",
    "    print(i)\n",
    "    cat(\"Element at position\", i, \"is\", numeric_vector[i], \"\\n\")\n",
    "}\n"
   ]
  },
  {
   "cell_type": "markdown",
   "id": "a221718a-b2c4-4409-a1bf-923ccd243187",
   "metadata": {},
   "source": [
    "#### **Looping Through a List**"
   ]
  },
  {
   "cell_type": "code",
   "execution_count": 216,
   "id": "1e9304c6-ca36-4319-9e35-5c2f066f13ca",
   "metadata": {},
   "outputs": [
    {
     "name": "stdout",
     "output_type": "stream",
     "text": [
      "[1] \"Alice\"\n",
      "[1] 25\n",
      "[1] 88 92 95\n"
     ]
    }
   ],
   "source": [
    "my_list <- list(name = \"Alice\", age = 25, scores = c(88, 92, 95))\n",
    "\n",
    "for (item in my_list) {\n",
    "  print(item)\n",
    "}\n"
   ]
  },
  {
   "cell_type": "code",
   "execution_count": 230,
   "id": "880bdd89-ba1b-4a38-95ef-d8dd99645194",
   "metadata": {},
   "outputs": [
    {
     "name": "stdout",
     "output_type": "stream",
     "text": [
      "Element at position 1 is:\n",
      "[1] \"Alice\"\n",
      "Element at position 2 is:\n",
      "[1] 25\n",
      "Element at position 3 is:\n",
      "[1] 88 92 95\n"
     ]
    }
   ],
   "source": [
    "# Loop through the list by index\n",
    "for (i in seq_along(my_list)) {\n",
    "  cat(\"Element at position\", i, \"is:\\n\")\n",
    "  print(my_list[[i]])\n",
    "}\n"
   ]
  },
  {
   "cell_type": "markdown",
   "id": "3680cb51-568d-4435-859c-727194848fd5",
   "metadata": {},
   "source": [
    "#### **Looping Through a Matrix**"
   ]
  },
  {
   "cell_type": "code",
   "execution_count": 217,
   "id": "d6f15bd7-0c2e-414a-b627-06019a54ac29",
   "metadata": {},
   "outputs": [],
   "source": [
    "\n",
    "# Creating a 2x3 matrix\n",
    "matrix_1 <- matrix(1:6, nrow = 2, ncol = 3)\n"
   ]
  },
  {
   "cell_type": "markdown",
   "id": "3aadef91-6710-4c4b-9491-c46d071e0c8c",
   "metadata": {},
   "source": [
    "You can loop over rows, columns, or individual elements in a matrix.\n",
    "\n",
    "**Example**:"
   ]
  },
  {
   "cell_type": "code",
   "execution_count": 218,
   "id": "f8e1eb9b-c680-4c72-b333-cdceb80ba932",
   "metadata": {},
   "outputs": [
    {
     "name": "stdout",
     "output_type": "stream",
     "text": [
      "[1] 1\n",
      "[1] 3\n",
      "[1] 5\n",
      "[1] 2\n",
      "[1] 4\n",
      "[1] 6\n"
     ]
    }
   ],
   "source": [
    "\n",
    "# Loop through each element\n",
    "for (i in 1:nrow(matrix_1)) {\n",
    "  for (j in 1:ncol(matrix_1)) {\n",
    "    print(matrix_1[i, j])\n",
    "  }\n",
    "}\n"
   ]
  },
  {
   "cell_type": "markdown",
   "id": "7fe176ee-d2c6-4a59-8415-14d18572aadc",
   "metadata": {},
   "source": [
    "#### **Looping Through Data Frames**"
   ]
  },
  {
   "cell_type": "code",
   "execution_count": 219,
   "id": "1f432e32-8a84-401e-86b5-210e5937974d",
   "metadata": {},
   "outputs": [],
   "source": [
    "\n",
    "# Create a data frame\n",
    "df <- data.frame(\n",
    "  Name = c(\"Alice\", \"Bob\"),\n",
    "  Age = c(25, 30),\n",
    "  Gender = c(\"F\", \"M\")\n",
    ")\n"
   ]
  },
  {
   "cell_type": "code",
   "execution_count": 221,
   "id": "b8d5beee-43dc-4d78-b0b7-c1c124172427",
   "metadata": {},
   "outputs": [
    {
     "name": "stdout",
     "output_type": "stream",
     "text": [
      "   Name Age Gender\n",
      "1 Alice  25      F\n",
      "  Name Age Gender\n",
      "2  Bob  30      M\n"
     ]
    }
   ],
   "source": [
    "# Loop through each row\n",
    "for (i in 1:nrow(df)) {\n",
    "  print(df[i, ])\n",
    "}"
   ]
  },
  {
   "cell_type": "code",
   "execution_count": 222,
   "id": "564d3c13-6722-478e-ad4d-fa9741e50ed5",
   "metadata": {},
   "outputs": [
    {
     "name": "stdout",
     "output_type": "stream",
     "text": [
      "[1] \"Alice\" \"Bob\"  \n",
      "[1] 25 30\n",
      "[1] \"F\" \"M\"\n"
     ]
    }
   ],
   "source": [
    "# Loop through each column\n",
    "for (col in names(df)) {\n",
    "  print(df[[col]])\n",
    "}"
   ]
  },
  {
   "cell_type": "markdown",
   "id": "2e88d953-8121-40a2-837d-8c916d7a299d",
   "metadata": {},
   "source": [
    "#### **Summary of Looping and Data Structures in R**\n",
    "\n",
    "| Data Structure | Description                                                                                      | Common Looping Technique           |\n",
    "|----------------|--------------------------------------------------------------------------------------------------|------------------------------------|\n",
    "| **Vector**     | One-dimensional array with elements of the same type.                                           | `for` loop                         |\n",
    "| **List**       | Collection of elements, each possibly of different types.                                        | `for` loop, `lapply()`, `sapply()` |\n",
    "| **Matrix**     | Two-dimensional array with elements of the same type.                                            | Nested `for` loops, `apply()`      |\n",
    "| **Data Frame** | Table-like structure with columns of different types.                                            | `for` loop, `apply()`, `lapply()`  |"
   ]
  },
  {
   "cell_type": "code",
   "execution_count": null,
   "id": "f529da27-7cde-4663-aa72-620f0196e1de",
   "metadata": {},
   "outputs": [],
   "source": []
  }
 ],
 "metadata": {
  "kernelspec": {
   "display_name": "R",
   "language": "R",
   "name": "ir"
  },
  "language_info": {
   "codemirror_mode": "r",
   "file_extension": ".r",
   "mimetype": "text/x-r-source",
   "name": "R",
   "pygments_lexer": "r",
   "version": "4.4.1"
  }
 },
 "nbformat": 4,
 "nbformat_minor": 5
}
