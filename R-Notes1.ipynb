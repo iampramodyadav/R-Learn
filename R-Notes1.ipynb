{
 "cells": [
  {
   "cell_type": "markdown",
   "id": "09829c18-9074-48b7-ac22-01065a023ea5",
   "metadata": {},
   "source": [
    "# R"
   ]
  },
  {
   "cell_type": "markdown",
   "id": "d3d82059-7202-4754-97b3-09f1bf196489",
   "metadata": {},
   "source": [
    "# General terminology"
   ]
  },
  {
   "cell_type": "markdown",
   "id": "65e84b11-b5ff-471b-86f0-3a84950dd679",
   "metadata": {},
   "source": [
    "### 1. Programming Language\n",
    "A **programming language** is a formal language used to write instructions that a computer can execute. These instructions perform specific tasks or solve problems. Examples of programming languages include Python, R, MATLAB, Java, C++, etc.\n",
    "\n",
    "---\n",
    "\n",
    "### 2. Interpreter\n",
    "An **interpreter** is a program that executes code line by line. It reads the source code, converts it into machine-readable instructions, and executes it on the spot. This allows you to run and test code quickly, but execution can be slower compared to compiled code.\n",
    "\n",
    "- **Example:** Python, R, and MATLAB use interpreters.\n",
    "- **Advantage:** Immediate execution and testing.\n",
    "- **Disadvantage:** Slower execution for large programs compared to compiled languages.\n",
    "\n",
    "---\n",
    "\n",
    "### 3. Compiler\n",
    "A **compiler** translates the entire source code of a program into machine code (binary code) in one go before execution. The machine code is saved as an executable file that can run directly on a computer.\n",
    "\n",
    "- **Example:** C, C++, and Java use compilers.\n",
    "- **Advantage:** Faster execution after compilation.\n",
    "- **Disadvantage:** Errors are found only after the entire code is compiled, and debugging can be harder.\n",
    "\n",
    "---\n",
    "\n",
    "### 4. High-Level Programming Language\n",
    "A **high-level language** is a programming language that is easy for humans to read and write. It uses natural language elements, which makes it more abstract from machine-level details.\n",
    "\n",
    "- **Examples:** Python, R, MATLAB, Java.\n",
    "- **Features:** Easier to use, focuses on problem-solving rather than hardware specifics.\n",
    "- **Advantage:** Higher productivity and easier to debug and maintain.\n",
    "- **Disadvantage:** Slower than low-level languages since code needs to be translated into machine code.\n",
    "\n",
    "---\n",
    "\n",
    "### 5. Low-Level Programming Language\n",
    "A **low-level language** is closer to machine code and deals with hardware-specific operations. It provides less abstraction and is more difficult to write and maintain but offers more control over the hardware.\n",
    "\n",
    "- **Examples:** Assembly language, machine code.\n",
    "- **Features:** More efficient and faster as it directly interacts with hardware.\n",
    "- **Advantage:** Speed and control over the system.\n",
    "- **Disadvantage:** Hard to write and debug.\n",
    "\n",
    "---\n",
    "\n",
    "### 6. Syntax\n",
    "**Syntax** refers to the rules that define the correct structure of commands in a programming language. Each programming language has its own syntax, which you need to follow when writing code.\n",
    "\n",
    "- **Example:** In Python, print statements are written as `print(\"Hello World\")`, whereas in C, it would be `printf(\"Hello World\");`.\n",
    "- **Importance:** Correct syntax is crucial to ensure the code runs without errors.\n",
    "\n",
    "---\n",
    "\n",
    "### 7. Variable\n",
    "A **variable** is a storage location in memory with a name and a value. It is used to store data that can be manipulated and retrieved during program execution.\n",
    "\n",
    "- **Example:** In Python, `x = 10` creates a variable `x` that stores the value `10`.\n",
    "- **Types:** Variables can hold different types of data such as numbers (integers, floats), strings, or lists.\n",
    "\n",
    "---\n",
    "\n",
    "### 8. Data Types\n",
    "A **data type** defines the type of data that a variable can store. Common data types include:\n",
    "\n",
    "- **Integer:** Whole numbers (e.g., 5, -10).\n",
    "- **Float:** Numbers with decimals (e.g., 3.14, -2.7).\n",
    "- **String:** Text data (e.g., \"Hello World\").\n",
    "- **Boolean:** True or False values.\n",
    "  \n",
    "Knowing the data type helps in choosing the right operations to apply to a variable.\n",
    "\n",
    "---\n",
    "\n",
    "### 9. Function\n",
    "A **function** is a block of code that performs a specific task. Functions take inputs (called arguments), process them, and return an output.\n",
    "\n",
    "- **Example:** In R, `mean()` is a function that calculates the average of numbers.\n",
    "- **Purpose:** It helps in organizing code, reusing it, and improving readability.\n",
    "\n",
    "---\n",
    "\n",
    "### 10. Control Structures\n",
    "**Control structures** determine the flow of execution in a program based on certain conditions or loops. Common control structures are:\n",
    "\n",
    "- **If-Else Statements:** Execute code based on conditions.\n",
    "  - Example: `if (x > 0) { print(\"Positive\") } else { print(\"Negative\") }`\n",
    "  \n",
    "- **Loops:** Execute a block of code repeatedly.\n",
    "  - **For Loop:** Repeats code for a set number of times.\n",
    "  - **While Loop:** Repeats code while a condition is true.\n",
    "\n",
    "---\n",
    "\n",
    "### 11. Algorithm\n",
    "An **algorithm** is a step-by-step procedure for solving a problem or performing a task. It defines the logical sequence of actions that must be followed to achieve a specific goal.\n",
    "\n",
    "- **Example:** A sorting algorithm arranges data in a particular order (like ascending or descending).\n",
    "\n",
    "---\n",
    "\n",
    "### 12. Debugging\n",
    "**Debugging** is the process of finding and fixing errors (bugs) in the program. It involves running the program, identifying where it behaves unexpectedly, and correcting the underlying issues.\n",
    "\n",
    "- **Tools:** Many development environments provide debugging tools to help you step through code, set breakpoints, and inspect variable values.\n",
    "\n",
    "---\n",
    "\n",
    "### 13. IDE (Integrated Development Environment)\n",
    "An **IDE** is software that provides tools to write, test, and debug code efficiently. It often includes a code editor, debugger, and other features that make coding easier.\n",
    "\n",
    "- **Examples:** RStudio (for R), MATLAB IDE, PyCharm (for Python).\n",
    "\n",
    "---\n",
    "\n",
    "### 14. Library/Package\n",
    "A **library** or **package** is a collection of pre-written code that provides specific functionality, such as mathematical operations, data visualization, or data manipulation. Using libraries helps save time and effort by reusing existing solutions.\n",
    "\n",
    "- **Example:** In R, `ggplot2` is a package for data visualization, and in Python, `numpy` is used for numerical computations.\n",
    "\n",
    "---\n",
    "\n",
    "### 15. Object-Oriented Programming (OOP)\n",
    "**Object-Oriented Programming** is a programming paradigm where code is organized into objects that represent real-world entities. These objects can contain both data (attributes) and functions (methods) that act on the data.\n",
    "\n",
    "- **Examples:** Classes and objects are key concepts in OOP.\n",
    "- **Advantages:** OOP makes code more modular, reusable, and easier to manage in large projects.\n",
    "\n",
    "---\n",
    "\n",
    "### 16. API (Application Programming Interface)\n",
    "An **API** is a set of functions and protocols that allow different software applications to communicate with each other. APIs define how requests and responses should be structured.\n",
    "\n",
    "- **Example:** A weather API might allow you to retrieve the current temperature for a location by making an HTTP request.\n",
    "\n",
    "---"
   ]
  },
  {
   "cell_type": "markdown",
   "id": "09647905-b9da-461a-8c8c-23e219471160",
   "metadata": {},
   "source": [
    "\n",
    "### 17. Console\n",
    "The **console** (or command line interface) is a tool for interacting with the computer by typing commands. In programming, it is often used to run scripts, display outputs, and manage files.\n",
    "\n",
    "- **Example:** The Python shell (when you run Python in terminal) or R console in RStudio.\n",
    "\n",
    "---\n",
    "\n",
    "### 18. Terminal\n",
    "The **terminal** is a command-line interface that allows you to execute commands directly on your operating system. It provides access to the underlying file system and other utilities via text-based commands.\n",
    "\n",
    "- **Example:** Bash terminal on Linux/Mac or Command Prompt on Windows.\n",
    "\n",
    "---\n",
    "\n",
    "### 19. REPL (Read-Eval-Print Loop)\n",
    "A **REPL** is an interactive environment used to execute code line by line and immediately see the results. Many interpreted languages (like Python, R, and JavaScript) use REPL.\n",
    "\n",
    "- **Example:** Python's interactive shell (`>>>`), where you can type commands and see results instantly.\n",
    "\n",
    "---\n",
    "\n",
    "### 20. Shell\n",
    "A **shell** is a user interface that allows access to the operating system’s services. It can be a command-line shell (like Bash or Command Prompt) or a graphical shell (like Windows Explorer).\n",
    "\n",
    "- **Example:** Bash shell in Linux, or PowerShell in Windows.\n",
    "\n",
    "---\n",
    "\n",
    "### 21. Script\n",
    "A **script** is a set of instructions written in a programming language, often interpreted, that performs a specific task. Scripts are commonly used for automation and small tasks.\n",
    "\n",
    "- **Example:** Python scripts (`.py` files) or shell scripts (`.sh` files).\n",
    "\n",
    "---\n",
    "\n",
    "### 22. Class\n",
    "A **class** is a blueprint for creating objects in object-oriented programming. It defines the properties (attributes) and behaviors (methods) that the objects created from the class will have.\n",
    "\n",
    "- **Example:** A `Car` class might have attributes like `color` and `model`, and methods like `drive()` or `stop()`.\n",
    "\n",
    "---\n",
    "\n",
    "### 23. Object\n",
    "An **object** is an instance of a class. It represents a real-world entity with attributes and methods.\n",
    "\n",
    "- **Example:** If `Car` is a class, then `myCar = Car()` creates an object `myCar` that is an instance of the `Car` class.\n",
    "\n",
    "---\n",
    "\n",
    "### 24. Module\n",
    "A **module** is a file containing a set of functions, classes, or variables that you can import into other programs or scripts.\n",
    "\n",
    "- **Example:** In Python, you can create a module by saving a `.py` file and importing it into other scripts using `import module_name`.\n",
    "\n",
    "---\n",
    "\n",
    "### 25. Framework\n",
    "A **framework** is a collection of libraries, tools, and best practices designed to simplify software development. It provides a predefined structure for developers to build applications faster.\n",
    "\n",
    "- **Examples:** Django (for Python web development), React (for JavaScript).\n",
    "\n",
    "---\n",
    "\n",
    "### 26. Version Control\n",
    "**Version control** is a system that tracks changes to your code, allowing you to revert to previous versions and collaborate with others. Git is the most popular version control system.\n",
    "\n",
    "- **Example:** GitHub is a platform for hosting Git repositories and collaborating on projects.\n",
    "\n",
    "---\n",
    "\n",
    "### 27. Repository\n",
    "A **repository** is a storage location for your project files, along with their version history, typically managed by a version control system like Git.\n",
    "\n",
    "- **Example:** A GitHub repository stores code, documentation, and the version history of a project.\n",
    "\n",
    "---\n",
    "\n",
    "\n",
    "### 28. Command-Line Argument\n",
    "A **command-line argument** is an input passed to a script or program via the command line when it is executed.\n",
    "\n",
    "- **Example:** In Python, `python script.py arg1 arg2` passes `arg1` and `arg2` as arguments to `script.py`.\n",
    "\n",
    "---\n",
    "\n",
    "**Conclusion:**\n",
    "Understanding these fundamental programming terms will give you a strong foundation as you learn to code. Each term represents a building block that you'll frequently encounter when writing and executing programs in any language."
   ]
  },
  {
   "cell_type": "markdown",
   "id": "63adb2ae-7932-4470-8dcf-7ec2f54bdac4",
   "metadata": {},
   "source": [
    "## Setting Up the R Environment"
   ]
  },
  {
   "cell_type": "markdown",
   "id": "46ad87eb-897f-47f6-9ff9-bf05e6b47a38",
   "metadata": {},
   "source": [
    "[swirl](https://swirlstats.com/students.html)"
   ]
  },
  {
   "cell_type": "markdown",
   "id": "8f205d6f-8f60-4f1c-8048-de87a7b0eb94",
   "metadata": {},
   "source": [
    "- **Installation:** Install R from CRAN and RStudio IDE from RStudio.\n",
    "- **RStudio Basics:** Overview of the RStudio interface (Console, Script Editor, Environment, and Plots pane).\n",
    "- **Package Management:** How to install, load, and update packages using `install.packages()` and `library()` functions."
   ]
  },
  {
   "cell_type": "markdown",
   "id": "f8237037-da10-48f5-956c-5a79f7718368",
   "metadata": {},
   "source": [
    "# Introduction to Programming Concepts"
   ]
  },
  {
   "cell_type": "markdown",
   "id": "e86f8ac7-36ee-4b40-8328-f7d3ccca84a1",
   "metadata": {},
   "source": [
    "- **Variables and Data Types:** Explain what variables are and the different data types (numeric, integer, character, logical, etc.)."
   ]
  },
  {
   "cell_type": "code",
   "execution_count": 128,
   "id": "4185c613-330a-4181-9105-fc0da2815b69",
   "metadata": {},
   "outputs": [
    {
     "data": {
      "text/html": [
       "'hello world'"
      ],
      "text/latex": [
       "'hello world'"
      ],
      "text/markdown": [
       "'hello world'"
      ],
      "text/plain": [
       "[1] \"hello world\""
      ]
     },
     "metadata": {},
     "output_type": "display_data"
    }
   ],
   "source": [
    "\"hello world\""
   ]
  },
  {
   "cell_type": "code",
   "execution_count": 129,
   "id": "58a26c42-a001-4df5-9bd5-dccac27fe12a",
   "metadata": {},
   "outputs": [
    {
     "name": "stdout",
     "output_type": "stream",
     "text": [
      "[1] \"hello world!\"\n"
     ]
    }
   ],
   "source": [
    "print(\"hello world!\")"
   ]
  },
  {
   "cell_type": "markdown",
   "id": "aa8e2b07-757a-4939-a842-702216cd6844",
   "metadata": {},
   "source": [
    "## Variables and Data Types in R\n",
    "\n",
    "When learning R programming, two key concepts are **variables** and **data types**. Here’s a breakdown of both:\n",
    "\n",
    "---\n",
    "\n",
    "### 1. Variables in R\n",
    "\n",
    "A **variable** is a storage location in memory, identified by a name, that holds a value. In R, variables are used to store data that can be used and manipulated later in the program.\n",
    "\n",
    "#### Creating Variables\n",
    "In R, you can assign a value to a variable using the assignment operator `<-` (or sometimes `=`). Here’s an example:"
   ]
  },
  {
   "cell_type": "markdown",
   "id": "920791b1-2ec1-4360-9fd1-f2cc5740ea41",
   "metadata": {},
   "source": [
    "#### Assigning values to variables"
   ]
  },
  {
   "cell_type": "code",
   "execution_count": 130,
   "id": "68c38b5c-15b6-4181-a659-df32ca601481",
   "metadata": {},
   "outputs": [],
   "source": [
    "x <- 10       # Numeric variable"
   ]
  },
  {
   "cell_type": "code",
   "execution_count": 131,
   "id": "a7731395-b3e0-4a5c-a97a-0ee5868c935b",
   "metadata": {},
   "outputs": [],
   "source": [
    "y <- \"Hello\"  # Character (string) variable"
   ]
  },
  {
   "cell_type": "code",
   "execution_count": 132,
   "id": "8721ce2c-f028-4765-be04-fa6c780f7fba",
   "metadata": {},
   "outputs": [],
   "source": [
    "z <- TRUE     # Logical (boolean) variable"
   ]
  },
  {
   "cell_type": "markdown",
   "id": "3b650184-9b54-4aa0-a416-c8f3742b3bbd",
   "metadata": {},
   "source": [
    "- **x** stores a numeric value `10`.\n",
    "- **y** stores a string `\"Hello\"`.\n",
    "- **z** stores a logical value `TRUE`."
   ]
  },
  {
   "cell_type": "markdown",
   "id": "54ce5eb6-3267-4e7b-94a1-8c1d558093e1",
   "metadata": {},
   "source": [
    "#### Variable Naming Rules\n",
    "- A variable name can contain letters, numbers, underscores (`_`), and periods (`.`).\n",
    "- Variable names **cannot start with a number**.\n",
    "- R is **case-sensitive**, meaning `Var1` and `var1` are two different variables.\n",
    "\n",
    "#### Example of Valid and Invalid Variable Names:"
   ]
  },
  {
   "cell_type": "code",
   "execution_count": 133,
   "id": "1b86e3a7-936c-4642-80e3-fa315d741789",
   "metadata": {},
   "outputs": [],
   "source": [
    "valid_name <- 100"
   ]
  },
  {
   "cell_type": "code",
   "execution_count": 134,
   "id": "94cbf4bb-dbea-42f7-b5c9-e4a69b05ea86",
   "metadata": {},
   "outputs": [
    {
     "ename": "ERROR",
     "evalue": "Error in invalid - name <- 200: object 'invalid' not found\n",
     "output_type": "error",
     "traceback": [
      "Error in invalid - name <- 200: object 'invalid' not found\nTraceback:\n"
     ]
    }
   ],
   "source": [
    "invalid-name <- 200   # Error: Hyphens are not allowed in variable names"
   ]
  },
  {
   "cell_type": "code",
   "execution_count": 135,
   "id": "fb7c6ebd-2924-4520-8eb3-0f0b2838c46e",
   "metadata": {},
   "outputs": [
    {
     "ename": "ERROR",
     "evalue": "Error in parse(text = input): <text>:1:2: unexpected symbol\n1: 1variable\n     ^\n",
     "output_type": "error",
     "traceback": [
      "Error in parse(text = input): <text>:1:2: unexpected symbol\n1: 1variable\n     ^\nTraceback:\n"
     ]
    }
   ],
   "source": [
    "1variable <- 300      # Error: Cannot start a variable name with a number"
   ]
  },
  {
   "cell_type": "markdown",
   "id": "0527bf79-35fc-43cc-aa94-132ba579fa8f",
   "metadata": {},
   "source": [
    "### 2. Data Types in R\n",
    "\n",
    "A **data type** refers to the type of value that a variable can store. R supports various data types, and understanding them is essential to writing efficient R programs."
   ]
  },
  {
   "cell_type": "markdown",
   "id": "82ddd727-825a-43f8-8e0c-205ade7b2589",
   "metadata": {},
   "source": [
    "#### Primary Data Types in R:"
   ]
  },
  {
   "cell_type": "markdown",
   "id": "661b5e5f-5a54-439f-ac63-9c53490e1c4d",
   "metadata": {},
   "source": [
    "#### 1. **Integer**:\n",
    "   - Represents whole numbers. Use the `L` suffix to define integers explicitly.\n",
    "   - Example:"
   ]
  },
  {
   "cell_type": "code",
   "execution_count": 192,
   "id": "29ca1ccd-0c4c-43f7-99d7-3170b18e57cd",
   "metadata": {
    "jp-MarkdownHeadingCollapsed": true
   },
   "outputs": [
    {
     "data": {
      "text/html": [
       "42"
      ],
      "text/latex": [
       "42"
      ],
      "text/markdown": [
       "42"
      ],
      "text/plain": [
       "[1] 42"
      ]
     },
     "metadata": {},
     "output_type": "display_data"
    },
    {
     "data": {
      "text/html": [
       "'integer'"
      ],
      "text/latex": [
       "'integer'"
      ],
      "text/markdown": [
       "'integer'"
      ],
      "text/plain": [
       "[1] \"integer\""
      ]
     },
     "metadata": {},
     "output_type": "display_data"
    },
    {
     "data": {
      "text/html": [
       "'integer'"
      ],
      "text/latex": [
       "'integer'"
      ],
      "text/markdown": [
       "'integer'"
      ],
      "text/plain": [
       "[1] \"integer\""
      ]
     },
     "metadata": {},
     "output_type": "display_data"
    }
   ],
   "source": [
    "int <- 42L  # Integer\n",
    "int\n",
    "typeof(int)\n",
    "class(int)"
   ]
  },
  {
   "cell_type": "code",
   "execution_count": 163,
   "id": "4ae83a82",
   "metadata": {
    "jp-MarkdownHeadingCollapsed": true
   },
   "outputs": [
    {
     "data": {
      "text/html": [
       "-2"
      ],
      "text/latex": [
       "-2"
      ],
      "text/markdown": [
       "-2"
      ],
      "text/plain": [
       "[1] -2"
      ]
     },
     "metadata": {},
     "output_type": "display_data"
    },
    {
     "data": {
      "text/html": [
       "'integer'"
      ],
      "text/latex": [
       "'integer'"
      ],
      "text/markdown": [
       "'integer'"
      ],
      "text/plain": [
       "[1] \"integer\""
      ]
     },
     "metadata": {},
     "output_type": "display_data"
    }
   ],
   "source": [
    "int <- -2L  # Integer\n",
    "int\n",
    "typeof(int)"
   ]
  },
  {
   "cell_type": "markdown",
   "id": "3e6d618e-b9bf-4ee5-9b3a-049d794d21e2",
   "metadata": {},
   "source": [
    "#### 2. **Double**: (or Numeric)\n",
    "   - Represents decimal numbers.\n",
    "   - Example:"
   ]
  },
  {
   "cell_type": "code",
   "execution_count": 193,
   "id": "497e16ab-dd7a-4c12-85cb-67782a688dea",
   "metadata": {},
   "outputs": [
    {
     "data": {
      "text/html": [
       "'double'"
      ],
      "text/latex": [
       "'double'"
      ],
      "text/markdown": [
       "'double'"
      ],
      "text/plain": [
       "[1] \"double\""
      ]
     },
     "metadata": {},
     "output_type": "display_data"
    },
    {
     "data": {
      "text/html": [
       "'numeric'"
      ],
      "text/latex": [
       "'numeric'"
      ],
      "text/markdown": [
       "'numeric'"
      ],
      "text/plain": [
       "[1] \"numeric\""
      ]
     },
     "metadata": {},
     "output_type": "display_data"
    }
   ],
   "source": [
    "decimal <- 3.14  # Numeric (floating-point)\n",
    "typeof(decimal)\n",
    "class(decimal)"
   ]
  },
  {
   "cell_type": "code",
   "execution_count": 194,
   "id": "9f0d200b-b29c-45f1-83db-5c0c8a8ec1ac",
   "metadata": {},
   "outputs": [
    {
     "data": {
      "text/html": [
       "'double'"
      ],
      "text/latex": [
       "'double'"
      ],
      "text/markdown": [
       "'double'"
      ],
      "text/plain": [
       "[1] \"double\""
      ]
     },
     "metadata": {},
     "output_type": "display_data"
    },
    {
     "data": {
      "text/html": [
       "'numeric'"
      ],
      "text/latex": [
       "'numeric'"
      ],
      "text/markdown": [
       "'numeric'"
      ],
      "text/plain": [
       "[1] \"numeric\""
      ]
     },
     "metadata": {},
     "output_type": "display_data"
    }
   ],
   "source": [
    "num <- 42        # Numeric\n",
    "typeof(num)\n",
    "class(num)"
   ]
  },
  {
   "cell_type": "markdown",
   "id": "af290a13-b68d-4e97-9f26-4e07049280d6",
   "metadata": {},
   "source": [
    "#### 3. **Character (String)**:\n",
    "   - Represents text or a sequence of characters.\n",
    "   - Example:"
   ]
  },
  {
   "cell_type": "code",
   "execution_count": 166,
   "id": "101e39ce-3991-45d8-945d-bfd6c0a2a727",
   "metadata": {
    "jp-MarkdownHeadingCollapsed": true
   },
   "outputs": [
    {
     "data": {
      "text/html": [
       "'Hello, R!'"
      ],
      "text/latex": [
       "'Hello, R!'"
      ],
      "text/markdown": [
       "'Hello, R!'"
      ],
      "text/plain": [
       "[1] \"Hello, R!\""
      ]
     },
     "metadata": {},
     "output_type": "display_data"
    }
   ],
   "source": [
    "char <- \"Hello, R!\"  # Character (string)\n",
    "char"
   ]
  },
  {
   "cell_type": "code",
   "execution_count": 167,
   "id": "f4703511-857d-4b74-8dc5-053924ac1b4f",
   "metadata": {},
   "outputs": [
    {
     "data": {
      "text/html": [
       "'character'"
      ],
      "text/latex": [
       "'character'"
      ],
      "text/markdown": [
       "'character'"
      ],
      "text/plain": [
       "[1] \"character\""
      ]
     },
     "metadata": {},
     "output_type": "display_data"
    }
   ],
   "source": [
    "typeof(char)"
   ]
  },
  {
   "cell_type": "markdown",
   "id": "7e754c72-8994-41cd-bd7e-aee6c3b291fe",
   "metadata": {},
   "source": [
    "#### 4. **Logical (Boolean)**:\n",
    "   - Represents `TRUE` or `FALSE` values. (T/F)\n",
    "   - Example:"
   ]
  },
  {
   "cell_type": "code",
   "execution_count": 176,
   "id": "63f7028e-41fa-49f5-9a9e-297216dfdbc3",
   "metadata": {
    "jp-MarkdownHeadingCollapsed": true
   },
   "outputs": [
    {
     "data": {
      "text/html": [
       "TRUE"
      ],
      "text/latex": [
       "TRUE"
      ],
      "text/markdown": [
       "TRUE"
      ],
      "text/plain": [
       "[1] TRUE"
      ]
     },
     "metadata": {},
     "output_type": "display_data"
    },
    {
     "data": {
      "text/html": [
       "'logical'"
      ],
      "text/latex": [
       "'logical'"
      ],
      "text/markdown": [
       "'logical'"
      ],
      "text/plain": [
       "[1] \"logical\""
      ]
     },
     "metadata": {},
     "output_type": "display_data"
    }
   ],
   "source": [
    "is_sunny <- TRUE     # Logical\n",
    "is_sunny\n",
    "typeof(is_sunny)"
   ]
  },
  {
   "cell_type": "code",
   "execution_count": 177,
   "id": "fe906206-474b-4d2c-9df4-47dc33986dc5",
   "metadata": {},
   "outputs": [
    {
     "data": {
      "text/html": [
       "'logical'"
      ],
      "text/latex": [
       "'logical'"
      ],
      "text/markdown": [
       "'logical'"
      ],
      "text/plain": [
       "[1] \"logical\""
      ]
     },
     "metadata": {},
     "output_type": "display_data"
    }
   ],
   "source": [
    "is_raining <- FALSE  # Logical\n",
    "typeof(is_raining)"
   ]
  },
  {
   "cell_type": "code",
   "execution_count": 178,
   "id": "0b178be0",
   "metadata": {
    "jp-MarkdownHeadingCollapsed": true
   },
   "outputs": [
    {
     "data": {
      "text/html": [
       "TRUE"
      ],
      "text/latex": [
       "TRUE"
      ],
      "text/markdown": [
       "TRUE"
      ],
      "text/plain": [
       "[1] TRUE"
      ]
     },
     "metadata": {},
     "output_type": "display_data"
    },
    {
     "data": {
      "text/html": [
       "'logical'"
      ],
      "text/latex": [
       "'logical'"
      ],
      "text/markdown": [
       "'logical'"
      ],
      "text/plain": [
       "[1] \"logical\""
      ]
     },
     "metadata": {},
     "output_type": "display_data"
    }
   ],
   "source": [
    "is_sunny <- T     # Logical\n",
    "is_sunny\n",
    "typeof(is_sunny)"
   ]
  },
  {
   "cell_type": "code",
   "execution_count": 179,
   "id": "bfc409fa",
   "metadata": {},
   "outputs": [
    {
     "data": {
      "text/html": [
       "FALSE"
      ],
      "text/latex": [
       "FALSE"
      ],
      "text/markdown": [
       "FALSE"
      ],
      "text/plain": [
       "[1] FALSE"
      ]
     },
     "metadata": {},
     "output_type": "display_data"
    },
    {
     "data": {
      "text/html": [
       "'logical'"
      ],
      "text/latex": [
       "'logical'"
      ],
      "text/markdown": [
       "'logical'"
      ],
      "text/plain": [
       "[1] \"logical\""
      ]
     },
     "metadata": {},
     "output_type": "display_data"
    }
   ],
   "source": [
    "is_raining <- F  # Logical\n",
    "is_raining\n",
    "typeof(is_raining)"
   ]
  },
  {
   "cell_type": "code",
   "execution_count": null,
   "id": "bc75d31d-41b8-4684-9241-4fb10b22c5ba",
   "metadata": {},
   "outputs": [],
   "source": []
  },
  {
   "cell_type": "markdown",
   "id": "bef5c4c7-8590-4d14-be8a-1438c4aede08",
   "metadata": {
    "jp-MarkdownHeadingCollapsed": true
   },
   "source": [
    "5. **Complex**:\n",
    "   - Represents complex numbers with real and imaginary parts.\n",
    "   - Example:"
   ]
  },
  {
   "cell_type": "code",
   "execution_count": 180,
   "id": "0c36b00b-5524-43fc-bfa2-63f4044a74a2",
   "metadata": {
    "jp-MarkdownHeadingCollapsed": true
   },
   "outputs": [],
   "source": [
    "complex_num <- 4 + 2i  # Complex number (4 is real part, 2i is imaginary part)"
   ]
  },
  {
   "cell_type": "code",
   "execution_count": 181,
   "id": "6a5ced38-8892-4d0a-b7c4-60affbdc8341",
   "metadata": {},
   "outputs": [
    {
     "data": {
      "text/html": [
       "4+2i"
      ],
      "text/latex": [
       "4+2i"
      ],
      "text/markdown": [
       "4+2i"
      ],
      "text/plain": [
       "[1] 4+2i"
      ]
     },
     "metadata": {},
     "output_type": "display_data"
    }
   ],
   "source": [
    "complex_num"
   ]
  },
  {
   "cell_type": "code",
   "execution_count": 182,
   "id": "935d31db-05ad-487a-94bf-c09a8a3b897b",
   "metadata": {},
   "outputs": [
    {
     "data": {
      "text/html": [
       "'complex'"
      ],
      "text/latex": [
       "'complex'"
      ],
      "text/markdown": [
       "'complex'"
      ],
      "text/plain": [
       "[1] \"complex\""
      ]
     },
     "metadata": {},
     "output_type": "display_data"
    }
   ],
   "source": [
    "typeof(complex_num)"
   ]
  },
  {
   "cell_type": "markdown",
   "id": "7730e621-aa65-49e1-b863-74a4f1e0191f",
   "metadata": {},
   "source": [
    "#### 6. **Raw**"
   ]
  },
  {
   "cell_type": "markdown",
   "id": "379c02ef-d367-4c47-9ed1-194a76074982",
   "metadata": {},
   "source": [
    "A `raw` data type specifies values as raw bytes. You can use the following methods to convert character data types to a raw data type and vice-versa:\n",
    "\n",
    "- `charToRaw()` - converts character data to raw data\n",
    "- `rawToChar()` - converts raw data to character data"
   ]
  },
  {
   "cell_type": "code",
   "execution_count": 212,
   "id": "84001e73-63d6-498a-aaf7-88949c999a2d",
   "metadata": {},
   "outputs": [
    {
     "name": "stdout",
     "output_type": "stream",
     "text": [
      " [1] 57 65 6c 63 6f 6d 65 20 74 6f 20 50 72 6f 67 72 61 6d 69 7a\n",
      "[1] \"raw\"\n",
      "[1] \"Welcome to Programiz\"\n",
      "[1] \"character\"\n"
     ]
    }
   ],
   "source": [
    "# convert character to raw\n",
    "raw_variable <- charToRaw(\"Welcome to Programiz\")\n",
    "\n",
    "print(raw_variable)\n",
    "print(class(raw_variable))\n",
    "\n",
    "# convert raw to character\n",
    "char_variable <- rawToChar(raw_variable)\n",
    "\n",
    "print(char_variable)\n",
    "print(class(char_variable))"
   ]
  },
  {
   "cell_type": "code",
   "execution_count": 207,
   "id": "53b6101e-b1b2-4f26-8ae9-9cb6cf8e0fd4",
   "metadata": {},
   "outputs": [
    {
     "data": {
      "text/plain": [
       "[1] ff"
      ]
     },
     "metadata": {},
     "output_type": "display_data"
    },
    {
     "data": {
      "text/html": [
       "'raw'"
      ],
      "text/latex": [
       "'raw'"
      ],
      "text/markdown": [
       "'raw'"
      ],
      "text/plain": [
       "[1] \"raw\""
      ]
     },
     "metadata": {},
     "output_type": "display_data"
    },
    {
     "data": {
      "text/html": [
       "'raw'"
      ],
      "text/latex": [
       "'raw'"
      ],
      "text/markdown": [
       "'raw'"
      ],
      "text/plain": [
       "[1] \"raw\""
      ]
     },
     "metadata": {},
     "output_type": "display_data"
    }
   ],
   "source": [
    "single_raw <- as.raw(255)\n",
    "single_raw\n",
    "typeof(single_raw)\n",
    "class(single_raw)"
   ]
  },
  {
   "cell_type": "markdown",
   "id": "58cc41b3-ba47-4d1b-9ac7-580deeedcea4",
   "metadata": {},
   "source": [
    "### 3. Checking Data Types\n",
    "\n",
    "- `class()` - what kind of object is it (high-level)?\n",
    "- `typeof()` - what is the object’s data type (low-level)?\n",
    "- `length()` - how long is it? What about two dimensional objects?\n",
    "- `attributes()` - does it have any metadata?\n",
    "\n",
    "You can check the type of a variable using the `class()` or `typeof()` functions in R.\n",
    "\n",
    "- **Example**:"
   ]
  },
  {
   "cell_type": "code",
   "execution_count": 210,
   "id": "3968837f-2bea-4458-9e19-71297a12c54e",
   "metadata": {},
   "outputs": [
    {
     "data": {
      "text/html": [
       "'numeric'"
      ],
      "text/latex": [
       "'numeric'"
      ],
      "text/markdown": [
       "'numeric'"
      ],
      "text/plain": [
       "[1] \"numeric\""
      ]
     },
     "metadata": {},
     "output_type": "display_data"
    },
    {
     "data": {
      "text/html": [
       "'double'"
      ],
      "text/latex": [
       "'double'"
      ],
      "text/markdown": [
       "'double'"
      ],
      "text/plain": [
       "[1] \"double\""
      ]
     },
     "metadata": {},
     "output_type": "display_data"
    },
    {
     "data": {
      "text/html": [
       "FALSE"
      ],
      "text/latex": [
       "FALSE"
      ],
      "text/markdown": [
       "FALSE"
      ],
      "text/plain": [
       "[1] FALSE"
      ]
     },
     "metadata": {},
     "output_type": "display_data"
    },
    {
     "data": {
      "text/html": [
       "TRUE"
      ],
      "text/latex": [
       "TRUE"
      ],
      "text/markdown": [
       "TRUE"
      ],
      "text/plain": [
       "[1] TRUE"
      ]
     },
     "metadata": {},
     "output_type": "display_data"
    }
   ],
   "source": [
    "x <- 10\n",
    "class(x)    # Returns \"numeric\"\n",
    "typeof(x)   # Returns \"double\"\n",
    "\n",
    "is.integer(x)\n",
    "is.double(x)"
   ]
  },
  {
   "cell_type": "code",
   "execution_count": 211,
   "id": "7884a288",
   "metadata": {},
   "outputs": [
    {
     "data": {
      "text/html": [
       "'integer'"
      ],
      "text/latex": [
       "'integer'"
      ],
      "text/markdown": [
       "'integer'"
      ],
      "text/plain": [
       "[1] \"integer\""
      ]
     },
     "metadata": {},
     "output_type": "display_data"
    },
    {
     "data": {
      "text/html": [
       "'integer'"
      ],
      "text/latex": [
       "'integer'"
      ],
      "text/markdown": [
       "'integer'"
      ],
      "text/plain": [
       "[1] \"integer\""
      ]
     },
     "metadata": {},
     "output_type": "display_data"
    },
    {
     "data": {
      "text/html": [
       "TRUE"
      ],
      "text/latex": [
       "TRUE"
      ],
      "text/markdown": [
       "TRUE"
      ],
      "text/plain": [
       "[1] TRUE"
      ]
     },
     "metadata": {},
     "output_type": "display_data"
    },
    {
     "data": {
      "text/html": [
       "FALSE"
      ],
      "text/latex": [
       "FALSE"
      ],
      "text/markdown": [
       "FALSE"
      ],
      "text/plain": [
       "[1] FALSE"
      ]
     },
     "metadata": {},
     "output_type": "display_data"
    }
   ],
   "source": [
    "x <- 10L\n",
    "class(x)    # Returns \"integer\"\n",
    "typeof(x)   # Returns \"integer\"\n",
    "\n",
    "is.integer(x)\n",
    "is.double(x)"
   ]
  },
  {
   "cell_type": "markdown",
   "id": "db755c78-e0ff-4329-879f-f4cf99bc0de4",
   "metadata": {},
   "source": [
    "### 4. Type Conversion\n",
    "\n",
    "You can convert between data types using functions like `as.numeric()`, `as.character()`, `as.logical()`, and so on.\n",
    "\n",
    "#### Example of Type Conversion:"
   ]
  },
  {
   "cell_type": "code",
   "execution_count": null,
   "id": "e7f74fb7-df23-49f2-bfa7-6d9d75467db8",
   "metadata": {},
   "outputs": [],
   "source": []
  },
  {
   "cell_type": "markdown",
   "id": "e71c9483-7ade-4047-b74b-ea41f30a92d3",
   "metadata": {},
   "source": [
    "[Read: Conversion Functions in R](https://www.scaler.com/topics/conversion-functions-in-r/)\n",
    "\n",
    "[Source: Convert ](https://cran.r-project.org/web/packages/hablar/vignettes/convert.html)"
   ]
  },
  {
   "cell_type": "code",
   "execution_count": 201,
   "id": "5c07c748-bfde-4bdd-9be5-ffb1d039a4ec",
   "metadata": {
    "jp-MarkdownHeadingCollapsed": true
   },
   "outputs": [
    {
     "data": {
      "text/html": [
       "'numeric'"
      ],
      "text/latex": [
       "'numeric'"
      ],
      "text/markdown": [
       "'numeric'"
      ],
      "text/plain": [
       "[1] \"numeric\""
      ]
     },
     "metadata": {},
     "output_type": "display_data"
    }
   ],
   "source": [
    "num <- \"100\"         # Character variable (string)\n",
    "converted_num <- as.numeric(num)  # Convert to numeric\n",
    "class(converted_num)  # Returns \"numeric\""
   ]
  },
  {
   "cell_type": "code",
   "execution_count": 202,
   "id": "e3897ca5-c41b-4371-a72d-a11900fc97ce",
   "metadata": {},
   "outputs": [
    {
     "data": {
      "text/html": [
       "'double'"
      ],
      "text/latex": [
       "'double'"
      ],
      "text/markdown": [
       "'double'"
      ],
      "text/plain": [
       "[1] \"double\""
      ]
     },
     "metadata": {},
     "output_type": "display_data"
    }
   ],
   "source": [
    "typeof(converted_num)"
   ]
  },
  {
   "cell_type": "code",
   "execution_count": 203,
   "id": "565805e2",
   "metadata": {
    "jp-MarkdownHeadingCollapsed": true
   },
   "outputs": [
    {
     "data": {
      "text/html": [
       "'numeric'"
      ],
      "text/latex": [
       "'numeric'"
      ],
      "text/markdown": [
       "'numeric'"
      ],
      "text/plain": [
       "[1] \"numeric\""
      ]
     },
     "metadata": {},
     "output_type": "display_data"
    }
   ],
   "source": [
    "num <- \"100\"         # Character variable (string)\n",
    "converted_num <- as.numeric(num)  # Convert to numeric\n",
    "class(converted_num)  # Returns \"numeric\""
   ]
  },
  {
   "cell_type": "markdown",
   "id": "863a2c96-c59d-468f-99d7-887c7eed24fc",
   "metadata": {},
   "source": [
    "### 5. Special Data Types: NULL, NA, NaN, and Inf\n",
    "\n",
    "- **NULL**: Represents the absence of a value or an empty object."
   ]
  },
  {
   "cell_type": "code",
   "execution_count": 221,
   "id": "b977d26c-ccc1-495a-b6f4-a65ddcc7ac9e",
   "metadata": {
    "jp-MarkdownHeadingCollapsed": true
   },
   "outputs": [
    {
     "data": {
      "text/plain": [
       "NULL"
      ]
     },
     "metadata": {},
     "output_type": "display_data"
    }
   ],
   "source": [
    "x <- NULL\n",
    "x\n",
    "#class(x)\n",
    "#typeof(x)"
   ]
  },
  {
   "cell_type": "markdown",
   "id": "3234755b-6b04-47f7-97fd-6a690a17a097",
   "metadata": {
    "jp-MarkdownHeadingCollapsed": true
   },
   "source": [
    "- **NA**: Represents a missing or undefined value (Not Available)."
   ]
  },
  {
   "cell_type": "code",
   "execution_count": 220,
   "id": "9295b046-98bc-4d26-8c34-b5718fc76525",
   "metadata": {
    "jp-MarkdownHeadingCollapsed": true
   },
   "outputs": [
    {
     "data": {
      "text/html": [
       "&lt;NA&gt;"
      ],
      "text/latex": [
       "<NA>"
      ],
      "text/markdown": [
       "&lt;NA&gt;"
      ],
      "text/plain": [
       "[1] NA"
      ]
     },
     "metadata": {},
     "output_type": "display_data"
    }
   ],
   "source": [
    "x <- NA\n",
    "x\n",
    "#class(x)\n",
    "#typeof(x)"
   ]
  },
  {
   "cell_type": "markdown",
   "id": "99f5a459-6c4d-4ab6-be15-f6071b7df45f",
   "metadata": {
    "jp-MarkdownHeadingCollapsed": true
   },
   "source": [
    "- **NaN**: Stands for \"Not a Number\" and occurs in undefined mathematical operations like `0/0`."
   ]
  },
  {
   "cell_type": "code",
   "execution_count": 219,
   "id": "2fea52ea-d9d8-436a-8dc0-90b88b84788b",
   "metadata": {
    "jp-MarkdownHeadingCollapsed": true
   },
   "outputs": [
    {
     "data": {
      "text/html": [
       "NaN"
      ],
      "text/latex": [
       "NaN"
      ],
      "text/markdown": [
       "NaN"
      ],
      "text/plain": [
       "[1] NaN"
      ]
     },
     "metadata": {},
     "output_type": "display_data"
    }
   ],
   "source": [
    "x <- 0/0\n",
    "x\n",
    "#class(x)\n",
    "#typeof(x)"
   ]
  },
  {
   "cell_type": "markdown",
   "id": "090b954a-604d-4a35-97f5-4c7e5de8ef0a",
   "metadata": {
    "jp-MarkdownHeadingCollapsed": true
   },
   "source": [
    "- **Inf**: Represents infinity. For example, dividing a number by zero results in `Inf`."
   ]
  },
  {
   "cell_type": "code",
   "execution_count": 223,
   "id": "95a7bdeb-5b42-4cf2-9ad4-37d461141635",
   "metadata": {
    "jp-MarkdownHeadingCollapsed": true
   },
   "outputs": [
    {
     "data": {
      "text/html": [
       "Inf"
      ],
      "text/latex": [
       "Inf"
      ],
      "text/markdown": [
       "Inf"
      ],
      "text/plain": [
       "[1] Inf"
      ]
     },
     "metadata": {},
     "output_type": "display_data"
    }
   ],
   "source": [
    "x <- 10 / 0  # Returns Inf\n",
    "x\n",
    "#class(x)\n",
    "#typeof(x)"
   ]
  },
  {
   "cell_type": "markdown",
   "id": "4c8ae3ee-2371-4c67-a58a-1c450c02e0c2",
   "metadata": {},
   "source": [
    "### 6. Data Structures (Related to Variables and Data Types)\n",
    "\n",
    "In R, data can also be organized into various structures. These are collections of variables and their values.\n",
    "\n",
    "1. **Vector**: A sequence of data elements of the same type."
   ]
  },
  {
   "cell_type": "code",
   "execution_count": 55,
   "id": "031e9cfd-2c79-477d-820a-8799cada16f1",
   "metadata": {
    "jp-MarkdownHeadingCollapsed": true
   },
   "outputs": [
    {
     "data": {
      "text/html": [
       "<style>\n",
       ".list-inline {list-style: none; margin:0; padding: 0}\n",
       ".list-inline>li {display: inline-block}\n",
       ".list-inline>li:not(:last-child)::after {content: \"\\00b7\"; padding: 0 .5ex}\n",
       "</style>\n",
       "<ol class=list-inline><li>1</li><li>2</li><li>3</li><li>4</li></ol>\n"
      ],
      "text/latex": [
       "\\begin{enumerate*}\n",
       "\\item 1\n",
       "\\item 2\n",
       "\\item 3\n",
       "\\item 4\n",
       "\\end{enumerate*}\n"
      ],
      "text/markdown": [
       "1. 1\n",
       "2. 2\n",
       "3. 3\n",
       "4. 4\n",
       "\n",
       "\n"
      ],
      "text/plain": [
       "[1] 1 2 3 4"
      ]
     },
     "metadata": {},
     "output_type": "display_data"
    }
   ],
   "source": [
    "vec <- c(1, 2, 3, 4)  # Numeric vector\n",
    "vec"
   ]
  },
  {
   "cell_type": "markdown",
   "id": "a90fd3d0-f144-4b41-9b6f-86c676712ad6",
   "metadata": {
    "jp-MarkdownHeadingCollapsed": true
   },
   "source": [
    "2. **List**: A collection of elements of different types.\n",
    "   ```R"
   ]
  },
  {
   "cell_type": "code",
   "execution_count": 54,
   "id": "4d1889dd-eaf5-4808-a76c-102f03b9f415",
   "metadata": {
    "jp-MarkdownHeadingCollapsed": true
   },
   "outputs": [
    {
     "data": {
      "text/html": [
       "<ol>\n",
       "\t<li>1</li>\n",
       "\t<li>'Hello'</li>\n",
       "\t<li>TRUE</li>\n",
       "</ol>\n"
      ],
      "text/latex": [
       "\\begin{enumerate}\n",
       "\\item 1\n",
       "\\item 'Hello'\n",
       "\\item TRUE\n",
       "\\end{enumerate}\n"
      ],
      "text/markdown": [
       "1. 1\n",
       "2. 'Hello'\n",
       "3. TRUE\n",
       "\n",
       "\n"
      ],
      "text/plain": [
       "[[1]]\n",
       "[1] 1\n",
       "\n",
       "[[2]]\n",
       "[1] \"Hello\"\n",
       "\n",
       "[[3]]\n",
       "[1] TRUE\n"
      ]
     },
     "metadata": {},
     "output_type": "display_data"
    }
   ],
   "source": [
    "lst <- list(1, \"Hello\", TRUE)  # List with different data types\n",
    "lst"
   ]
  },
  {
   "cell_type": "markdown",
   "id": "0df1f42d-27b4-41fa-bd01-227de47b5bca",
   "metadata": {
    "jp-MarkdownHeadingCollapsed": true
   },
   "source": [
    "3. **Matrix**: A two-dimensional array of the same type."
   ]
  },
  {
   "cell_type": "code",
   "execution_count": 53,
   "id": "7dc25a6a-321b-4125-8389-3ffe679bd374",
   "metadata": {
    "jp-MarkdownHeadingCollapsed": true
   },
   "outputs": [
    {
     "data": {
      "text/html": [
       "<table class=\"dataframe\">\n",
       "<caption>A matrix: 2 × 3 of type int</caption>\n",
       "<tbody>\n",
       "\t<tr><td>1</td><td>3</td><td>5</td></tr>\n",
       "\t<tr><td>2</td><td>4</td><td>6</td></tr>\n",
       "</tbody>\n",
       "</table>\n"
      ],
      "text/latex": [
       "A matrix: 2 × 3 of type int\n",
       "\\begin{tabular}{lll}\n",
       "\t 1 & 3 & 5\\\\\n",
       "\t 2 & 4 & 6\\\\\n",
       "\\end{tabular}\n"
      ],
      "text/markdown": [
       "\n",
       "A matrix: 2 × 3 of type int\n",
       "\n",
       "| 1 | 3 | 5 |\n",
       "| 2 | 4 | 6 |\n",
       "\n"
      ],
      "text/plain": [
       "     [,1] [,2] [,3]\n",
       "[1,] 1    3    5   \n",
       "[2,] 2    4    6   "
      ]
     },
     "metadata": {},
     "output_type": "display_data"
    }
   ],
   "source": [
    "mat <- matrix(1:6, nrow = 2)  # 2x3 numeric matrix\n",
    "mat"
   ]
  },
  {
   "cell_type": "markdown",
   "id": "c02cbfa0-535c-454a-ac8a-dbcda7ff825b",
   "metadata": {
    "jp-MarkdownHeadingCollapsed": true
   },
   "source": [
    "4. **Data Frame**: A table with columns that can store different data types."
   ]
  },
  {
   "cell_type": "code",
   "execution_count": 51,
   "id": "fd895a93-ef41-471b-b6f9-212eccb5e0d7",
   "metadata": {
    "jp-MarkdownHeadingCollapsed": true
   },
   "outputs": [],
   "source": [
    "df <- data.frame(Name = c(\"John\", \"Doe\"), Age = c(25, 30))"
   ]
  },
  {
   "cell_type": "code",
   "execution_count": 52,
   "id": "9db1231d-fe5f-4feb-9ec4-41200fc09d5e",
   "metadata": {
    "jp-MarkdownHeadingCollapsed": true
   },
   "outputs": [
    {
     "data": {
      "text/html": [
       "<table class=\"dataframe\">\n",
       "<caption>A data.frame: 2 × 2</caption>\n",
       "<thead>\n",
       "\t<tr><th scope=col>Name</th><th scope=col>Age</th></tr>\n",
       "\t<tr><th scope=col>&lt;chr&gt;</th><th scope=col>&lt;dbl&gt;</th></tr>\n",
       "</thead>\n",
       "<tbody>\n",
       "\t<tr><td>John</td><td>25</td></tr>\n",
       "\t<tr><td>Doe </td><td>30</td></tr>\n",
       "</tbody>\n",
       "</table>\n"
      ],
      "text/latex": [
       "A data.frame: 2 × 2\n",
       "\\begin{tabular}{ll}\n",
       " Name & Age\\\\\n",
       " <chr> & <dbl>\\\\\n",
       "\\hline\n",
       "\t John & 25\\\\\n",
       "\t Doe  & 30\\\\\n",
       "\\end{tabular}\n"
      ],
      "text/markdown": [
       "\n",
       "A data.frame: 2 × 2\n",
       "\n",
       "| Name &lt;chr&gt; | Age &lt;dbl&gt; |\n",
       "|---|---|\n",
       "| John | 25 |\n",
       "| Doe  | 30 |\n",
       "\n"
      ],
      "text/plain": [
       "  Name Age\n",
       "1 John 25 \n",
       "2 Doe  30 "
      ]
     },
     "metadata": {},
     "output_type": "display_data"
    }
   ],
   "source": [
    "df"
   ]
  },
  {
   "cell_type": "markdown",
   "id": "15a2f299-a0fb-4939-bcd5-9c7256b096a7",
   "metadata": {},
   "source": [
    "5. **Data Frame**: Used to represent categorical data with a fixed set of values (called levels).\n"
   ]
  },
  {
   "cell_type": "code",
   "execution_count": 227,
   "id": "1a1c3a35-ed7d-4a17-9c9e-26d49593a9bf",
   "metadata": {},
   "outputs": [
    {
     "data": {
      "text/html": [
       "<style>\n",
       ".list-inline {list-style: none; margin:0; padding: 0}\n",
       ".list-inline>li {display: inline-block}\n",
       ".list-inline>li:not(:last-child)::after {content: \"\\00b7\"; padding: 0 .5ex}\n",
       "</style>\n",
       "<ol class=list-inline><li>low</li><li>medium</li><li>high</li></ol>\n",
       "\n",
       "<details>\n",
       "\t<summary style=display:list-item;cursor:pointer>\n",
       "\t\t<strong>Levels</strong>:\n",
       "\t</summary>\n",
       "\t<style>\n",
       "\t.list-inline {list-style: none; margin:0; padding: 0}\n",
       "\t.list-inline>li {display: inline-block}\n",
       "\t.list-inline>li:not(:last-child)::after {content: \"\\00b7\"; padding: 0 .5ex}\n",
       "\t</style>\n",
       "\t<ol class=list-inline><li>'high'</li><li>'low'</li><li>'medium'</li></ol>\n",
       "</details>"
      ],
      "text/latex": [
       "\\begin{enumerate*}\n",
       "\\item low\n",
       "\\item medium\n",
       "\\item high\n",
       "\\end{enumerate*}\n",
       "\n",
       "\\emph{Levels}: \\begin{enumerate*}\n",
       "\\item 'high'\n",
       "\\item 'low'\n",
       "\\item 'medium'\n",
       "\\end{enumerate*}\n"
      ],
      "text/markdown": [
       "1. low\n",
       "2. medium\n",
       "3. high\n",
       "\n",
       "\n",
       "\n",
       "**Levels**: 1. 'high'\n",
       "2. 'low'\n",
       "3. 'medium'\n",
       "\n",
       "\n"
      ],
      "text/plain": [
       "[1] low    medium high  \n",
       "Levels: high low medium"
      ]
     },
     "metadata": {},
     "output_type": "display_data"
    }
   ],
   "source": [
    "factor_data <- factor(c(\"low\", \"medium\", \"high\"))\n",
    "factor_data"
   ]
  },
  {
   "cell_type": "markdown",
   "id": "c32581de-fc16-40cd-a376-9a2563c85820",
   "metadata": {},
   "source": [
    "### **Conclusion:**\n",
    "\n",
    "- **Variables** are containers that store data, and in R, you assign values to variables using `<-`.\n",
    "- **Data types** define the kind of values a variable can store, such as numeric, character, or logical.\n",
    "- Understanding data types helps you manage and manipulate data correctly in your R programs. You can also check and convert between data types as needed.\n",
    "\n",
    "Understanding these concepts is crucial for writing efficient and error-free R programs."
   ]
  },
  {
   "cell_type": "markdown",
   "id": "d6d016a4-1cce-42d1-ac92-43d4ca9b367b",
   "metadata": {},
   "source": [
    "## Operators:\n",
    "\n",
    "Arithmetic, relational, and logical operators."
   ]
  },
  {
   "cell_type": "markdown",
   "id": "bd47f806-98ce-4c17-967e-8fb3407a6b1d",
   "metadata": {},
   "source": [
    "### Operators in R\n",
    "\n",
    "Operators in R are symbols or combinations of symbols that perform operations on variables and values. R provides a variety of operators to carry out arithmetic, relational, logical, assignment, and other types of operations. Here’s an overview of the main types of operators in R:"
   ]
  },
  {
   "cell_type": "markdown",
   "id": "41b27666-0cdd-4096-a215-29477dce3da1",
   "metadata": {},
   "source": [
    "### **1. Arithmetic Operators**\n",
    "\n",
    "Arithmetic operators perform mathematical calculations.\n",
    "\n",
    "| Operator | Description           | Example         |\n",
    "|----------|-----------------------|-----------------|\n",
    "| `+`      | Addition              | `5 + 2` = 7     |\n",
    "| `-`      | Subtraction           | `5 - 2` = 3     |\n",
    "| `*`      | Multiplication        | `5 * 2` = 10    |\n",
    "| `/`      | Division              | `5 / 2` = 2.5   |\n",
    "| `^` or `**` | Exponentiation    | `5 ^ 2` = 25    |\n",
    "| `%%`     | Modulus (remainder)   | `5 %% 2` = 1    |\n",
    "| `%/%`    | Integer Division      | `5 %/% 2` = 2   |"
   ]
  },
  {
   "cell_type": "markdown",
   "id": "9c573a49-a6fa-4cc7-995d-6790b2f1a3df",
   "metadata": {},
   "source": [
    "#### **Example:**"
   ]
  },
  {
   "cell_type": "code",
   "execution_count": 229,
   "id": "743fce7c-a485-4f20-a5fe-f059ffb2ee2b",
   "metadata": {},
   "outputs": [
    {
     "name": "stdout",
     "output_type": "stream",
     "text": [
      "[1]   13.000000    7.000000   30.000000    3.333333 1000.000000    1.000000\n",
      "[7]    3.000000\n"
     ]
    }
   ],
   "source": [
    "\n",
    "x <- 10\n",
    "y <- 3\n",
    "\n",
    "sum <- x + y      # Addition\n",
    "diff <- x - y     # Subtraction\n",
    "prod <- x * y     # Multiplication\n",
    "quotient <- x / y # Division\n",
    "power <- x ^ y    # Exponentiation\n",
    "remainder <- x %% y # Modulus\n",
    "int_div <- x %/% y # Integer Division\n",
    "\n",
    "print(c(sum, diff, prod, quotient, power, remainder, int_div))\n"
   ]
  },
  {
   "cell_type": "markdown",
   "id": "3f6cf6ba-7f9b-4bab-93b0-c6d88b187a80",
   "metadata": {},
   "source": [
    "### **2. Relational (Comparison) Operators**\n",
    "\n",
    "Relational operators compare two values and return a logical value (`TRUE` or `FALSE`).\n",
    "\n",
    "| Operator | Description             | Example         |\n",
    "|----------|-------------------------|-----------------|\n",
    "| `==`     | Equal to                | `5 == 2` = FALSE|\n",
    "| `!=`     | Not equal to            | `5 != 2` = TRUE |\n",
    "| `>`      | Greater than            | `5 > 2` = TRUE  |\n",
    "| `<`      | Less than               | `5 < 2` = FALSE |\n",
    "| `>=`     | Greater than or equal to| `5 >= 2` = TRUE |\n",
    "| `<=`     | Less than or equal to   | `5 <= 2` = FALSE|"
   ]
  },
  {
   "cell_type": "markdown",
   "id": "63fa7a1b-2c20-4e00-812f-553c392ba765",
   "metadata": {},
   "source": [
    "#### **Example:**"
   ]
  },
  {
   "cell_type": "code",
   "execution_count": 75,
   "id": "ba90e053-23b2-493b-94a1-ffb47c5e2643",
   "metadata": {},
   "outputs": [
    {
     "name": "stdout",
     "output_type": "stream",
     "text": [
      "[1] FALSE\n",
      "[1] TRUE\n",
      "[1] TRUE\n",
      "[1] FALSE\n",
      "[1] TRUE\n",
      "[1] FALSE\n"
     ]
    }
   ],
   "source": [
    "\n",
    "x <- 5\n",
    "y <- 2\n",
    "\n",
    "print(x == y)   # Returns FALSE\n",
    "print(x != y)   # Returns TRUE\n",
    "print(x > y)    # Returns TRUE\n",
    "print(x < y)    # Returns FALSE\n",
    "print(x >= y)   # Returns TRUE\n",
    "print(x <= y)   # Returns FALSE\n"
   ]
  },
  {
   "cell_type": "markdown",
   "id": "5c1ee060-0a61-4c7c-9355-b13bb841bd28",
   "metadata": {},
   "source": [
    "### **3. Logical Operators**\n",
    "\n",
    "Logical operators are used to combine multiple conditions and return a logical result (`TRUE` or `FALSE`).\n",
    "\n",
    "| Operator | Description        | Example         |\n",
    "|----------|--------------------|-----------------|\n",
    "| `&`      | Logical AND (element-wise) | `TRUE & FALSE` = FALSE |\n",
    "| `&&`     | Logical AND (first element) | `TRUE && FALSE` = FALSE|\n",
    "| `|`      | Logical OR (element-wise)  | `TRUE | FALSE` = TRUE  |\n",
    "| `||`     | Logical OR (first element) | `TRUE || FALSE` = TRUE |\n",
    "| `!`      | Logical NOT         | `!TRUE` = FALSE |\n",
    "\n",
    "- `&` and `|` evaluate the condition for **all elements**.\n",
    "- `&&` and `||` evaluate the condition for the **first element only**."
   ]
  },
  {
   "cell_type": "markdown",
   "id": "30d1fc00-7578-40c8-9de0-8ba05082497f",
   "metadata": {},
   "source": [
    "#### **Example:**"
   ]
  },
  {
   "cell_type": "code",
   "execution_count": 76,
   "id": "4e5a82d0-e735-4663-970f-e62fe5ca1160",
   "metadata": {},
   "outputs": [
    {
     "name": "stdout",
     "output_type": "stream",
     "text": [
      "[1] FALSE FALSE  TRUE\n"
     ]
    },
    {
     "name": "stderr",
     "output_type": "stream",
     "text": [
      "Warning message in x && y:\n",
      "\"'length(x) = 3 > 1' in coercion to 'logical(1)'\"\n",
      "Warning message in x && y:\n",
      "\"'length(x) = 3 > 1' in coercion to 'logical(1)'\"\n"
     ]
    },
    {
     "name": "stdout",
     "output_type": "stream",
     "text": [
      "[1] FALSE\n",
      "[1]  TRUE FALSE  TRUE\n"
     ]
    },
    {
     "name": "stderr",
     "output_type": "stream",
     "text": [
      "Warning message in x || y:\n",
      "\"'length(x) = 3 > 1' in coercion to 'logical(1)'\"\n"
     ]
    },
    {
     "name": "stdout",
     "output_type": "stream",
     "text": [
      "[1] TRUE\n",
      "[1] FALSE  TRUE FALSE\n"
     ]
    }
   ],
   "source": [
    "\n",
    "x <- c(TRUE, FALSE, TRUE)\n",
    "y <- c(FALSE, FALSE, TRUE)\n",
    "\n",
    "print(x & y)    # Element-wise AND: Returns c(FALSE, FALSE, TRUE)\n",
    "print(x && y)   # First element AND: Returns FALSE\n",
    "print(x | y)    # Element-wise OR: Returns c(TRUE, FALSE, TRUE)\n",
    "print(x || y)   # First element OR: Returns TRUE\n",
    "print(!x)       # NOT operator: Returns c(FALSE, TRUE, FALSE)\n"
   ]
  },
  {
   "cell_type": "markdown",
   "id": "02a61dbb-f6d0-42cd-8780-eff2306e54c4",
   "metadata": {},
   "source": [
    "### **4. Assignment Operators**\n",
    "\n",
    "Assignment operators are used to assign values to variables.\n",
    "\n",
    "| Operator | Description            | Example           |\n",
    "|----------|------------------------|-------------------|\n",
    "| `<-`     | Leftward assignment    | `x <- 5`          |\n",
    "| `->`     | Rightward assignment   | `5 -> x`          |\n",
    "| `<<-`    | Global leftward assignment | `x <<- 5`      |\n",
    "| `->>`    | Global rightward assignment| `5 ->> x`      |\n",
    "| `=`      | Assignment (used in functions)| `x = 5`    |\n",
    "\n",
    "- **`<-`** and **`=`** are the most common assignment operators in R.\n",
    "- **`<<-`** assigns a value to a global variable from within a function."
   ]
  },
  {
   "cell_type": "markdown",
   "id": "62cb547e-a087-4496-8257-077faefc57be",
   "metadata": {},
   "source": [
    "#### **Example:**"
   ]
  },
  {
   "cell_type": "code",
   "execution_count": 80,
   "id": "b88916b9-6dcf-4065-b547-eaccf696420e",
   "metadata": {},
   "outputs": [
    {
     "name": "stdout",
     "output_type": "stream",
     "text": [
      "[1] 10\n",
      "[1] 20\n"
     ]
    }
   ],
   "source": [
    "\n",
    "x <- 10   # Leftward assignment\n",
    "20 -> y   # Rightward assignment (equivalent to y <-20)\n",
    "\n",
    "print(x)\n",
    "print(y)\n"
   ]
  },
  {
   "cell_type": "markdown",
   "id": "9a773d3d-af9f-4013-8324-a0407613ceb1",
   "metadata": {},
   "source": [
    "### **5. Miscellaneous Operators**"
   ]
  },
  {
   "cell_type": "markdown",
   "id": "c07ceacd-e0c4-487e-a181-539dd4b9595f",
   "metadata": {},
   "source": [
    "#### **a. Colon Operator (`:`)**\n",
    "The colon (`:`) is used to create a sequence of numbers."
   ]
  },
  {
   "cell_type": "code",
   "execution_count": 81,
   "id": "65332458-4498-4d7d-8da7-9a794a6cfb1a",
   "metadata": {},
   "outputs": [
    {
     "name": "stdout",
     "output_type": "stream",
     "text": [
      "[1] 1 2 3 4 5\n"
     ]
    }
   ],
   "source": [
    "\n",
    "x <- 1:5  # Creates a sequence from 1 to 5\n",
    "print(x)  # Prints c(1, 2, 3, 4, 5)\n"
   ]
  },
  {
   "cell_type": "markdown",
   "id": "3168f505-cc51-46b6-a8dd-de1f9da1c208",
   "metadata": {},
   "source": [
    "#### **b. Sequence Generation (`seq()`)**\n",
    "The `seq()` function is used to generate a sequence with specific increments."
   ]
  },
  {
   "cell_type": "code",
   "execution_count": 82,
   "id": "8b4f453f-56a6-4b6d-a9ea-d664d0868f5a",
   "metadata": {},
   "outputs": [
    {
     "name": "stdout",
     "output_type": "stream",
     "text": [
      "[1] 1 3 5 7 9\n"
     ]
    }
   ],
   "source": [
    "\n",
    "x <- seq(1, 10, by=2)  # Creates a sequence from 1 to 10 with a step of 2\n",
    "print(x)  # Prints c(1, 3, 5, 7, 9)\n"
   ]
  },
  {
   "cell_type": "markdown",
   "id": "cb32b959-b9d8-4ae7-8685-da98a4c10f73",
   "metadata": {},
   "source": [
    "#### **c. Element Selection (`[]`, `[[]]`)**\n",
    "Used to select elements from a vector, matrix, or list."
   ]
  },
  {
   "cell_type": "code",
   "execution_count": 83,
   "id": "a628aa8b-ebfc-4ce9-95ce-f6b64ca51b2e",
   "metadata": {},
   "outputs": [
    {
     "name": "stdout",
     "output_type": "stream",
     "text": [
      "[1] 20\n"
     ]
    }
   ],
   "source": [
    "\n",
    "vec <- c(10, 20, 30, 40)\n",
    "print(vec[2])   # Access the second element (prints 20)\n"
   ]
  },
  {
   "cell_type": "markdown",
   "id": "d1712066-0034-4185-9f62-c14b7fe2d877",
   "metadata": {},
   "source": [
    "#### **d. List Access (`$`)**\n",
    "The `$` operator is used to access elements by name in a list or data frame."
   ]
  },
  {
   "cell_type": "code",
   "execution_count": 84,
   "id": "720075ab-c85f-4353-83ef-e3b53de2864a",
   "metadata": {},
   "outputs": [
    {
     "name": "stdout",
     "output_type": "stream",
     "text": [
      "[1] 1\n"
     ]
    }
   ],
   "source": [
    "\n",
    "data <- list(a = 1, b = 2)\n",
    "print(data$a)  # Access the element named 'a' (prints 1)\n"
   ]
  },
  {
   "cell_type": "markdown",
   "id": "c205702f-1a86-419f-bc10-c67cf82809b8",
   "metadata": {},
   "source": [
    "### **6. Special Operators**\n",
    "\n",
    "R provides a few operators that are specific to certain tasks."
   ]
  },
  {
   "cell_type": "markdown",
   "id": "e6e3f7c2-afbd-408b-b32e-0ff77186527a",
   "metadata": {},
   "source": [
    "#### **a. Matrix Multiplication (`%*%`)**\n",
    "Used for matrix multiplication."
   ]
  },
  {
   "cell_type": "code",
   "execution_count": 85,
   "id": "3f225b9d-dfd6-46cb-be63-a82b1d176f46",
   "metadata": {},
   "outputs": [
    {
     "name": "stdout",
     "output_type": "stream",
     "text": [
      "     [,1] [,2]\n",
      "[1,]   23   31\n",
      "[2,]   34   46\n"
     ]
    }
   ],
   "source": [
    "\n",
    "mat1 <- matrix(1:4, nrow=2)\n",
    "mat2 <- matrix(5:8, nrow=2)\n",
    "result <- mat1 %*% mat2\n",
    "print(result)  # Matrix multiplication\n"
   ]
  },
  {
   "cell_type": "markdown",
   "id": "badfc253-4dae-461d-92a7-b5203623aa5c",
   "metadata": {},
   "source": [
    "#### **b. Modulus and Integer Division (`%%` and `%/%`)**\n",
    "These operators are used for division-related operations:\n",
    "\n",
    "- **`%%`** gives the remainder.\n",
    "- **`%/%`** gives the integer part of division."
   ]
  },
  {
   "cell_type": "code",
   "execution_count": 86,
   "id": "f60d687a-d548-4069-a772-6f7d02db50c3",
   "metadata": {},
   "outputs": [
    {
     "name": "stdout",
     "output_type": "stream",
     "text": [
      "[1] 1\n",
      "[1] 3\n"
     ]
    }
   ],
   "source": [
    "\n",
    "x <- 10\n",
    "y <- 3\n",
    "\n",
    "print(x %% y)  # Returns 1 (remainder)\n",
    "print(x %/% y) # Returns 3 (integer division)\n"
   ]
  },
  {
   "cell_type": "markdown",
   "id": "594ece69-fb26-47db-8f66-962db45d2472",
   "metadata": {},
   "source": [
    "#### **c. In Operator (`%in%`)**\n",
    "Used to check whether an element exists in a vector or list."
   ]
  },
  {
   "cell_type": "code",
   "execution_count": 87,
   "id": "3bcbdd06-01c9-4286-945b-98bc72eea0f6",
   "metadata": {},
   "outputs": [
    {
     "name": "stdout",
     "output_type": "stream",
     "text": [
      "[1] TRUE\n"
     ]
    }
   ],
   "source": [
    "\n",
    "x <- 3\n",
    "y <- c(1, 2, 3, 4, 5)\n",
    "\n",
    "print(x %in% y)  # Returns TRUE (3 is in the vector y)\n"
   ]
  },
  {
   "cell_type": "markdown",
   "id": "b3855d09-feec-44b6-8dea-3f346379a1ba",
   "metadata": {},
   "source": [
    "### **7. Summary of Operators**\n",
    "\n",
    "1. **Arithmetic Operators**: Perform basic math operations (`+`, `-`, `*`, `/`, etc.).\n",
    "2. **Relational Operators**: Compare values (`==`, `!=`, `>`, `<`, etc.).\n",
    "3. **Logical Operators**: Combine conditions (`&`, `|`, `!`, etc.).\n",
    "4. **Assignment Operators**: Assign values to variables (`<-`, `=`, etc.).\n",
    "5. **Miscellaneous Operators**: Sequence creation (`:`), element selection (`[]`), list access (`$`), etc.\n",
    "6. **Special Operators**: Matrix multiplication (`%*%`), modulus (`%%`), and membership test (`%in%`)."
   ]
  },
  {
   "cell_type": "markdown",
   "id": "4e125231-c198-468e-b5d7-51c6f7221f5a",
   "metadata": {},
   "source": [
    "### **Conclusion:**\n",
    "\n",
    "Understanding these operators is crucial for performing calculations, comparisons, and data manipulations in R. Mastering how to use them efficiently will help you write more robust and flexible R programs."
   ]
  },
  {
   "cell_type": "code",
   "execution_count": null,
   "id": "fbacdfb3-9633-4b4a-9b76-300a48f16c36",
   "metadata": {},
   "outputs": [],
   "source": []
  },
  {
   "cell_type": "markdown",
   "id": "d327b12a-4963-4b57-b105-690ab7f5c6b1",
   "metadata": {},
   "source": [
    "## Control Structures:\n",
    "\n",
    "- if statements, for loops, while loops."
   ]
  },
  {
   "cell_type": "markdown",
   "id": "dbd92678-7d76-4eef-8d0c-0428474f074d",
   "metadata": {},
   "source": [
    "Control structures in R are used to control the flow of execution in a program. They help in making decisions, repeating tasks, or breaking out of certain operations. The most common control structures in R include **conditional statements** and **loops**."
   ]
  },
  {
   "cell_type": "markdown",
   "id": "b31657a6-8a82-4891-aef2-bec9f8ec4cc5",
   "metadata": {},
   "source": [
    "### **1. Conditional Statements (if, else if, else)**\n",
    "\n",
    "Conditional statements allow the program to execute different pieces of code based on certain conditions.\n",
    "\n",
    "#### **if Statement**\n",
    "The `if` statement checks whether a condition is `TRUE`. If it is, the code inside the block is executed."
   ]
  },
  {
   "cell_type": "code",
   "execution_count": 65,
   "id": "2f3757d3-9d3c-4896-ad98-d23272169379",
   "metadata": {},
   "outputs": [
    {
     "name": "stdout",
     "output_type": "stream",
     "text": [
      "[1] \"x is greater than 3\"\n"
     ]
    }
   ],
   "source": [
    "\n",
    "x <- 5\n",
    "\n",
    "if (x > 3) {\n",
    "  print(\"x is greater than 3\")\n",
    "}\n"
   ]
  },
  {
   "cell_type": "markdown",
   "id": "b6708cf4-d326-48c3-8ad0-0931ae46d482",
   "metadata": {},
   "source": [
    "#### **if-else Statement**\n",
    "The `else` block is executed when the condition in the `if` statement is `FALSE`."
   ]
  },
  {
   "cell_type": "code",
   "execution_count": 64,
   "id": "7c1832e0-2c87-42a1-a0b4-28bc8420ca46",
   "metadata": {},
   "outputs": [
    {
     "name": "stdout",
     "output_type": "stream",
     "text": [
      "[1] \"x is less than or equal to 3\"\n"
     ]
    }
   ],
   "source": [
    "\n",
    "x <- 2\n",
    "\n",
    "if (x > 3) {\n",
    "  print(\"x is greater than 3\")\n",
    "} else {\n",
    "  print(\"x is less than or equal to 3\")\n",
    "}\n"
   ]
  },
  {
   "cell_type": "markdown",
   "id": "e608aeb3-5b56-456f-ae22-9480951cc6a1",
   "metadata": {},
   "source": [
    "#### **else if Statement**\n",
    "The `else if` statement allows you to check multiple conditions sequentially. If none of the conditions are `TRUE`, the `else` block (if provided) is executed."
   ]
  },
  {
   "cell_type": "code",
   "execution_count": 63,
   "id": "efdd759b-357e-484e-beb4-85cc3e663793",
   "metadata": {},
   "outputs": [
    {
     "name": "stdout",
     "output_type": "stream",
     "text": [
      "[1] \"x is greater than 3 but less than or equal to 10\"\n"
     ]
    }
   ],
   "source": [
    "\n",
    "x <- 5\n",
    "\n",
    "if (x > 10) {\n",
    "  print(\"x is greater than 10\")\n",
    "} else if (x > 3) {\n",
    "  print(\"x is greater than 3 but less than or equal to 10\")\n",
    "} else {\n",
    "  print(\"x is less than or equal to 3\")\n",
    "}\n"
   ]
  },
  {
   "cell_type": "markdown",
   "id": "8a4b7e57-8677-435b-a7ad-bf8f25cb4c6c",
   "metadata": {},
   "source": [
    "\n",
    "\n",
    "### **2. Loops**\n",
    "\n",
    "Loops are used to repeat a block of code multiple times. There are several types of loops in R:\n",
    "\n",
    "#### **for Loop**\n",
    "The `for` loop repeats a block of code a specified number of times, iterating over elements in a sequence or vector."
   ]
  },
  {
   "cell_type": "code",
   "execution_count": 66,
   "id": "26c25960-5341-41cc-94cc-870e897c8208",
   "metadata": {},
   "outputs": [
    {
     "name": "stdout",
     "output_type": "stream",
     "text": [
      "[1] 1\n",
      "[1] 2\n",
      "[1] 3\n",
      "[1] 4\n",
      "[1] 5\n"
     ]
    }
   ],
   "source": [
    "\n",
    "# Example: Print numbers 1 to 5\n",
    "for (i in 1:5) {\n",
    "  print(i)\n",
    "}\n"
   ]
  },
  {
   "cell_type": "markdown",
   "id": "2d090ea0-2b4a-43ac-8040-2dbc7affa84d",
   "metadata": {},
   "source": [
    "In this example, the loop iterates over the numbers 1 to 5, printing each one.\n",
    "\n",
    "#### **while Loop**\n",
    "The `while` loop repeats a block of code as long as a specified condition is `TRUE`."
   ]
  },
  {
   "cell_type": "code",
   "execution_count": 67,
   "id": "9da35299-f367-4c90-9083-87f4107fc2c6",
   "metadata": {},
   "outputs": [
    {
     "name": "stdout",
     "output_type": "stream",
     "text": [
      "[1] 1\n",
      "[1] 2\n",
      "[1] 3\n",
      "[1] 4\n",
      "[1] 5\n"
     ]
    }
   ],
   "source": [
    "\n",
    "# Example: Print numbers from 1 to 5 using a while loop\n",
    "x <- 1\n",
    "\n",
    "while (x <= 5) {\n",
    "  print(x)\n",
    "  x <- x + 1\n",
    "}\n"
   ]
  },
  {
   "cell_type": "markdown",
   "id": "aaea8ada-8d7e-40b1-8851-3e97ffdeb4f7",
   "metadata": {},
   "source": [
    "In this example, the loop keeps running as long as `x` is less than or equal to 5. The value of `x` is incremented after each iteration.\n",
    "\n",
    "#### **repeat Loop**\n",
    "The `repeat` loop repeats a block of code indefinitely until a `break` statement is encountered."
   ]
  },
  {
   "cell_type": "code",
   "execution_count": 68,
   "id": "072e6b13-3f48-4326-92ce-4b25d0496714",
   "metadata": {},
   "outputs": [
    {
     "name": "stdout",
     "output_type": "stream",
     "text": [
      "[1] 1\n",
      "[1] 2\n",
      "[1] 3\n",
      "[1] 4\n",
      "[1] 5\n"
     ]
    }
   ],
   "source": [
    "\n",
    "# Example: Print numbers from 1 to 5 using a repeat loop\n",
    "x <- 1\n",
    "\n",
    "repeat {\n",
    "  print(x)\n",
    "  x <- x + 1\n",
    "  \n",
    "  if (x > 5) {\n",
    "    break  # Exit the loop when x becomes greater than 5\n",
    "  }\n",
    "}\n"
   ]
  },
  {
   "cell_type": "markdown",
   "id": "8eb44891-9752-4dbb-9095-cf87168dcfdf",
   "metadata": {},
   "source": [
    "In this example, the loop continues until `x` is greater than 5, at which point the `break` statement is used to exit the loop.\n",
    "\n",
    "\n",
    "\n",
    "### **3. Loop Control (break, next)**\n",
    "\n",
    "Loop control statements allow you to change the normal flow of loops.\n",
    "\n",
    "#### **break**\n",
    "The `break` statement is used to exit a loop prematurely when a specific condition is met."
   ]
  },
  {
   "cell_type": "code",
   "execution_count": 69,
   "id": "09ebb973-d8f2-4ba9-8f3d-4dc336f03845",
   "metadata": {},
   "outputs": [
    {
     "name": "stdout",
     "output_type": "stream",
     "text": [
      "[1] 1\n",
      "[1] 2\n"
     ]
    }
   ],
   "source": [
    "\n",
    "# Example: Exit the loop when i equals 3\n",
    "for (i in 1:5) {\n",
    "  if (i == 3) {\n",
    "    break  # Exit the loop when i is 3\n",
    "  }\n",
    "  print(i)\n",
    "}\n"
   ]
  },
  {
   "cell_type": "markdown",
   "id": "7685de4a-4122-4488-93cd-a6fc11ef3a39",
   "metadata": {},
   "source": [
    "In this example, the loop stops when `i` equals 3, so only the numbers 1 and 2 are printed."
   ]
  },
  {
   "cell_type": "markdown",
   "id": "d94aec9f-5d50-40ee-b21a-2d668b38ba4b",
   "metadata": {},
   "source": [
    "#### **next**\n",
    "The `next` statement is used to skip the current iteration of a loop and move on to the next one."
   ]
  },
  {
   "cell_type": "code",
   "execution_count": 71,
   "id": "fef06cf5-5b26-47bb-80a1-3acc65022757",
   "metadata": {},
   "outputs": [
    {
     "name": "stdout",
     "output_type": "stream",
     "text": [
      "[1] 1\n",
      "[1] 2\n",
      "[1] 4\n",
      "[1] 5\n"
     ]
    }
   ],
   "source": [
    "\n",
    "# Example: Skip the number 3\n",
    "for (i in 1:5) {\n",
    "  if (i == 3) {\n",
    "    next  # Skip the current iteration when i is 3\n",
    "  }\n",
    "  print(i)\n",
    "}\n"
   ]
  },
  {
   "cell_type": "markdown",
   "id": "fbb6c500-03a0-48e1-8680-0e3abf2a0270",
   "metadata": {},
   "source": [
    "In this example, the loop skips the iteration where `i` equals 3, so 1, 2, 4, and 5 are printed, but not 3."
   ]
  },
  {
   "cell_type": "markdown",
   "id": "636d7277-753d-474c-81d8-8690aa858701",
   "metadata": {},
   "source": [
    "### **4. Logical Operators**\n",
    "\n",
    "Logical operators are used within control structures to create complex conditions.\n",
    "\n",
    "- **& (AND)**: Both conditions must be `TRUE`.\n",
    "- **| (OR)**: At least one of the conditions must be `TRUE`.\n",
    "- **! (NOT)**: Negates a condition (turns `TRUE` into `FALSE`, and vice versa)."
   ]
  },
  {
   "cell_type": "markdown",
   "id": "b32b0339-53a5-4d24-8d22-df4dd7dd5bca",
   "metadata": {},
   "source": [
    "#### **Example with Logical Operators:**"
   ]
  },
  {
   "cell_type": "code",
   "execution_count": 72,
   "id": "b9ef9a1d-c3d7-4b30-86dc-1e7bf174a3bc",
   "metadata": {},
   "outputs": [
    {
     "name": "stdout",
     "output_type": "stream",
     "text": [
      "[1] \"x is between 3 and 10\"\n"
     ]
    }
   ],
   "source": [
    "\n",
    "x <- 7\n",
    "\n",
    "if (x > 3 & x < 10) {\n",
    "  print(\"x is between 3 and 10\")\n",
    "}\n"
   ]
  },
  {
   "cell_type": "markdown",
   "id": "7a9bb5d8-2e87-4ef8-9086-3ed16a8fa09a",
   "metadata": {},
   "source": [
    "In this example, the condition is `TRUE` because `x` is greater than 3 and less than 10.\n",
    "\n",
    "\n",
    "\n",
    "### **5. Vectorized ifelse() Function**\n",
    "\n",
    "R also provides the `ifelse()` function, which allows you to apply conditional logic over vectors. This is useful when you want to apply conditions element-wise."
   ]
  },
  {
   "cell_type": "code",
   "execution_count": 73,
   "id": "a7986e63-9206-49e3-a881-5c87b10c9d55",
   "metadata": {},
   "outputs": [
    {
     "name": "stdout",
     "output_type": "stream",
     "text": [
      "[1] \"Odd\"  \"Even\" \"Odd\"  \"Even\" \"Odd\" \n"
     ]
    }
   ],
   "source": [
    "\n",
    "# Example: Check whether each number in a vector is even or odd\n",
    "numbers <- 1:5\n",
    "result <- ifelse(numbers %% 2 == 0, \"Even\", \"Odd\")\n",
    "print(result)\n"
   ]
  },
  {
   "cell_type": "markdown",
   "id": "fd2100c1-8bb3-4a96-b796-d92f79cfd254",
   "metadata": {},
   "source": [
    "In this example, the `ifelse()` function checks whether each element of `numbers` is even or odd. If the number is divisible by 2 (`numbers %% 2 == 0`), it returns `\"Even\"`, otherwise `\"Odd\"`."
   ]
  },
  {
   "cell_type": "markdown",
   "id": "e1d58f1c-07cb-4b3a-b251-fe68bba10605",
   "metadata": {},
   "source": [
    "### **Conclusion:**\n",
    "\n",
    "- **Conditional statements** (`if`, `else if`, `else`) allow for decision-making in your code.\n",
    "- **Loops** (`for`, `while`, `repeat`) enable you to execute a block of code multiple times.\n",
    "- **Loop control statements** (`break`, `next`) allow you to control the flow of loops, letting you exit or skip iterations.\n",
    "- R also provides the vectorized `ifelse()` function for efficient element-wise condition checking.\n",
    "\n",
    "Understanding and using these control structures will enable you to build dynamic and flexible programs in R."
   ]
  },
  {
   "cell_type": "markdown",
   "id": "3bc7c2c2-3f88-4776-bf0b-548cfbc3afde",
   "metadata": {},
   "source": [
    "## Functions\n",
    "\n",
    "What functions are, how to define and call them."
   ]
  },
  {
   "cell_type": "markdown",
   "id": "98a9439c-a733-434e-b902-8de81c7aa1d1",
   "metadata": {},
   "source": [
    "Functions are a fundamental concept in R, allowing you to group blocks of code into reusable components. They make your code modular, easier to debug, and more readable. A function takes inputs (called arguments), processes them, and returns an output (result). R also comes with many **built-in functions**, but you can create **user-defined functions** as well."
   ]
  },
  {
   "cell_type": "markdown",
   "id": "edc44543-b30f-4297-ab70-8c3f0f9b842e",
   "metadata": {},
   "source": [
    "### **1. What are Functions?**\n",
    "\n",
    "A function is a set of statements organized together to perform a specific task. Functions in R can:\n",
    "- Take inputs (called parameters or arguments).\n",
    "- Perform some operations using these inputs.\n",
    "- Return one or more outputs.\n",
    "\n",
    "#### **Built-in Functions Example:**"
   ]
  },
  {
   "cell_type": "code",
   "execution_count": 88,
   "id": "cf5fe905-795f-4eb6-b0aa-323c5f3838d0",
   "metadata": {},
   "outputs": [
    {
     "name": "stdout",
     "output_type": "stream",
     "text": [
      "[1] 4\n"
     ]
    }
   ],
   "source": [
    "\n",
    "# Example: sqrt() is a built-in function to calculate square root\n",
    "result <- sqrt(16)\n",
    "print(result)  # Output: 4\n"
   ]
  },
  {
   "cell_type": "markdown",
   "id": "ea973fba-10db-47d0-99d0-410e78ad22d9",
   "metadata": {},
   "source": [
    "In this example, `sqrt()` is a built-in function that takes one input (16) and returns its square root."
   ]
  },
  {
   "cell_type": "markdown",
   "id": "ad9ad8c8-47b2-467d-93bc-3003f3df3fbf",
   "metadata": {},
   "source": [
    "### **2. Defining a Function in R**\n",
    "\n",
    "To define a function in R, use the `function()` keyword. A function has the following components:\n",
    "- **Function Name**: A name to call the function.\n",
    "- **Arguments/Parameters**: Inputs the function will use.\n",
    "- **Body**: The block of code that performs the task.\n",
    "- **Return Value**: The output returned by the function.\n",
    "\n",
    "#### **Syntax:**"
   ]
  },
  {
   "cell_type": "code",
   "execution_count": 90,
   "id": "e5136d0e-cd70-4bd0-bdf3-115b7ca2f5f4",
   "metadata": {},
   "outputs": [],
   "source": [
    "\n",
    "function_name <- function(arg1, arg2, ...) {\n",
    "  # Code to execute\n",
    "  return(value)  # Optional, if not provided, the last evaluated expression is returned\n",
    "}\n"
   ]
  },
  {
   "cell_type": "markdown",
   "id": "96c4ff44-d7a0-4827-816a-2c8a8de0ce98",
   "metadata": {},
   "source": [
    "#### **Example: Simple Function**"
   ]
  },
  {
   "cell_type": "code",
   "execution_count": 91,
   "id": "9821d585-4301-4678-9824-5c16f3d2d959",
   "metadata": {},
   "outputs": [
    {
     "name": "stdout",
     "output_type": "stream",
     "text": [
      "[1] 8\n"
     ]
    }
   ],
   "source": [
    "\n",
    "# Define a function to add two numbers\n",
    "add_numbers <- function(a, b) {\n",
    "  sum <- a + b\n",
    "  return(sum)  # Return the sum\n",
    "}\n",
    "\n",
    "# Call the function\n",
    "result <- add_numbers(5, 3)\n",
    "print(result)  # Output: 8\n"
   ]
  },
  {
   "cell_type": "markdown",
   "id": "bd15da81-3dbd-4c0e-8549-d5abd9461d44",
   "metadata": {},
   "source": [
    "In this example, the function `add_numbers()` takes two inputs (`a` and `b`), adds them, and returns the result."
   ]
  },
  {
   "cell_type": "markdown",
   "id": "6cc51fe8-df98-4f5b-ae5f-efc9e26fde0c",
   "metadata": {},
   "source": [
    "### **3. Calling a Function**\n",
    "\n",
    "Once a function is defined, you can call it by using its name followed by parentheses containing the arguments.\n",
    "\n",
    "#### **Example:**"
   ]
  },
  {
   "cell_type": "code",
   "execution_count": 92,
   "id": "3516a17d-06db-45d7-a79d-ad8c22b92299",
   "metadata": {},
   "outputs": [
    {
     "name": "stdout",
     "output_type": "stream",
     "text": [
      "[1] 30\n"
     ]
    }
   ],
   "source": [
    "\n",
    "# Function call with arguments\n",
    "result <- add_numbers(10, 20)\n",
    "print(result)  # Output: 30\n"
   ]
  },
  {
   "cell_type": "markdown",
   "id": "46c05ece-8ea5-464a-95fd-7f333d810881",
   "metadata": {},
   "source": [
    "You can pass arguments directly when calling the function."
   ]
  },
  {
   "cell_type": "markdown",
   "id": "b97308f3-4bae-46dd-a1d2-486f23b18a61",
   "metadata": {},
   "source": [
    "### **4. Function Arguments**\n",
    "\n",
    "Functions in R can have several types of arguments:\n",
    "- **Positional Arguments**: Arguments are matched to function parameters by their position.\n",
    "- **Named Arguments**: Arguments can be passed using names, in any order.\n",
    "- **Default Arguments**: You can provide default values for arguments, which will be used if no value is supplied during the function call.\n",
    "\n",
    "#### **Example with Named and Default Arguments:**"
   ]
  },
  {
   "cell_type": "code",
   "execution_count": 93,
   "id": "f7e5d84e-f132-4377-938b-c3b04c46425b",
   "metadata": {},
   "outputs": [
    {
     "name": "stdout",
     "output_type": "stream",
     "text": [
      "[1] \"Hi Simran\"\n",
      "[1] \"Hello Simran\"\n"
     ]
    }
   ],
   "source": [
    "\n",
    "# Define a function with a default argument\n",
    "greet <- function(name, greeting = \"Hello\") {\n",
    "  paste(greeting, name)\n",
    "}\n",
    "\n",
    "# Call the function with both arguments\n",
    "print(greet(\"Simran\", \"Hi\"))  # Output: \"Hi Simran\"\n",
    "\n",
    "# Call the function using default value for greeting\n",
    "print(greet(\"Simran\"))  # Output: \"Hello Simran\"\n"
   ]
  },
  {
   "cell_type": "markdown",
   "id": "e226fff8-373c-40bf-af78-33c2e5c9b50c",
   "metadata": {},
   "source": [
    "### **5. Returning Values from Functions**\n",
    "\n",
    "A function can return a value using the `return()` statement, but if you don’t use `return()`, R will automatically return the value of the last evaluated expression.\n",
    "\n",
    "#### **Example:**"
   ]
  },
  {
   "cell_type": "code",
   "execution_count": 94,
   "id": "9d35c465-cccc-49bc-940c-bcf15fde833b",
   "metadata": {},
   "outputs": [
    {
     "name": "stdout",
     "output_type": "stream",
     "text": [
      "[1] 20\n"
     ]
    }
   ],
   "source": [
    "\n",
    "# Function without explicit return statement\n",
    "multiply <- function(a, b) {\n",
    "  a * b  # The last evaluated expression is returned\n",
    "}\n",
    "\n",
    "# Call the function\n",
    "result <- multiply(4, 5)\n",
    "print(result)  # Output: 20\n"
   ]
  },
  {
   "cell_type": "markdown",
   "id": "4946f406-e03b-43a0-b32e-77a44960c6b9",
   "metadata": {},
   "source": [
    "In this case, R automatically returns the result of `a * b` because it’s the last expression in the function."
   ]
  },
  {
   "cell_type": "markdown",
   "id": "14cdd0c7-3075-4300-aa0a-823414f3619a",
   "metadata": {},
   "source": [
    "### **6. Nested Functions**\n",
    "\n",
    "You can define functions within other functions. The inner function is only accessible within the outer function.\n",
    "\n",
    "#### **Example:**"
   ]
  },
  {
   "cell_type": "code",
   "execution_count": 95,
   "id": "06e8369c-6519-4977-a2bb-3b18c28888b0",
   "metadata": {},
   "outputs": [
    {
     "name": "stdout",
     "output_type": "stream",
     "text": [
      "[1] 21\n"
     ]
    }
   ],
   "source": [
    "\n",
    "# Define a function with a nested function\n",
    "outer_function <- function(x) {\n",
    "  inner_function <- function(y) {\n",
    "    return(y + 2)\n",
    "  }\n",
    "  \n",
    "  return(inner_function(x) * 3)\n",
    "}\n",
    "\n",
    "# Call the outer function\n",
    "result <- outer_function(5)\n",
    "print(result)  # Output: 21 (5 + 2 = 7; 7 * 3 = 21)\n"
   ]
  },
  {
   "cell_type": "markdown",
   "id": "70e091a6-3644-400a-972e-3bc238a9494c",
   "metadata": {},
   "source": [
    "### **7. Anonymous Functions**\n",
    "\n",
    "In R, you can create anonymous functions, i.e., functions without a name, especially useful for short tasks like passing functions as arguments to other functions.\n",
    "\n",
    "#### **Example:**"
   ]
  },
  {
   "cell_type": "code",
   "execution_count": 96,
   "id": "b1b2b9d6-c549-40ab-906c-482239fae612",
   "metadata": {},
   "outputs": [
    {
     "name": "stdout",
     "output_type": "stream",
     "text": [
      "[1]  1  4  9 16 25\n"
     ]
    }
   ],
   "source": [
    "\n",
    "# Define an anonymous function inside sapply\n",
    "result <- sapply(1:5, function(x) x^2)  # Squaring numbers from 1 to 5\n",
    "print(result)  # Output: 1 4 9 16 25\n"
   ]
  },
  {
   "cell_type": "markdown",
   "id": "b2142dd5-31b6-4136-8a9b-d52586a2952a",
   "metadata": {},
   "source": [
    "Here, the anonymous function squares each element in the sequence `1:5`."
   ]
  },
  {
   "cell_type": "markdown",
   "id": "5256d19b-27ed-4795-99df-8c6af6a89f05",
   "metadata": {},
   "source": [
    "### **8. Lazy Evaluation**\n",
    "\n",
    "R uses **lazy evaluation** for function arguments, meaning arguments are only evaluated when they are actually used inside the function.\n",
    "\n",
    "#### **Example:**"
   ]
  },
  {
   "cell_type": "code",
   "execution_count": 97,
   "id": "812ffea9-0f32-49cb-a9e0-a1fd9d14061f",
   "metadata": {},
   "outputs": [
    {
     "name": "stdout",
     "output_type": "stream",
     "text": [
      "[1] 10\n"
     ]
    }
   ],
   "source": [
    "\n",
    "lazy_function <- function(a, b) {\n",
    "  print(a)\n",
    "  # b is never used, so it won't be evaluated\n",
    "}\n",
    "\n",
    "lazy_function(10, stop(\"This will not be evaluated\"))  # Output: 10\n"
   ]
  },
  {
   "cell_type": "markdown",
   "id": "fb5044a9-3006-4aa2-bcce-9154baf6f35d",
   "metadata": {},
   "source": [
    "In this example, since `b` is not used inside the function, the error from `stop()` is never triggered."
   ]
  },
  {
   "cell_type": "markdown",
   "id": "b3157230-f10a-4bd0-8a11-a95cf4a3cd96",
   "metadata": {},
   "source": [
    "### **9. Variable Scope in Functions**\n",
    "\n",
    "In R, the scope of a variable refers to the regions of a program where the variable can be accessed. There are two types:\n",
    "- **Local Scope**: Variables declared inside a function are local to that function and cannot be accessed outside it.\n",
    "- **Global Scope**: Variables declared outside any function are global and can be accessed from anywhere in the program.\n",
    "\n",
    "#### **Example:**"
   ]
  },
  {
   "cell_type": "code",
   "execution_count": 98,
   "id": "85b5081f-8b74-43f9-95b2-fb8275a76bc9",
   "metadata": {},
   "outputs": [
    {
     "name": "stdout",
     "output_type": "stream",
     "text": [
      "[1] 5\n",
      "[1] 10\n"
     ]
    }
   ],
   "source": [
    "x <- 10  # Global variable\n",
    "\n",
    "my_function <- function() {\n",
    "  y <- 5  # Local variable\n",
    "  print(y)\n",
    "}\n",
    "\n",
    "my_function()  # Output: 5\n",
    "print(x)  # Output: 10\n",
    "# print(y)  # Error: object 'y' not found (because y is local to my_function)"
   ]
  },
  {
   "cell_type": "markdown",
   "id": "a8be9487-69b8-4547-9966-e4afd893e364",
   "metadata": {},
   "source": []
  },
  {
   "cell_type": "markdown",
   "id": "25ce8d69-76aa-4438-9eed-ea6121402e84",
   "metadata": {},
   "source": [
    "### **10. Common Built-in Functions**\n",
    "\n",
    "R comes with many useful built-in functions. Some commonly used ones include:\n",
    "\n",
    "- **`sum()`**: Adds all elements in a vector.\n",
    "- **`mean()`**: Computes the average of a numeric vector.\n",
    "- **`length()`**: Returns the number of elements in a vector.\n",
    "- **`max()` / `min()`**: Returns the maximum or minimum value in a vector.\n",
    "- **`sqrt()`**: Computes the square root of a number.\n",
    "- **`paste()`**: Concatenates strings."
   ]
  },
  {
   "cell_type": "markdown",
   "id": "64b4052c-d5b0-4ccb-bf40-00cc343d59b7",
   "metadata": {},
   "source": [
    "### **11. Function Documentation**\n",
    "\n",
    "It is a good practice to add comments or documentation inside your functions to explain what they do, what inputs they expect, and what outputs they produce. This makes it easier for others (and yourself) to understand the code later."
   ]
  },
  {
   "cell_type": "code",
   "execution_count": 100,
   "id": "6d1c4241-6c19-4eba-b65e-cf20512fb3cd",
   "metadata": {},
   "outputs": [],
   "source": [
    "\n",
    "# Function to calculate the area of a rectangle\n",
    "# Args:\n",
    "#   length: The length of the rectangle.\n",
    "#   width: The width of the rectangle.\n",
    "# Returns:\n",
    "#   The area of the rectangle.\n",
    "calculate_area <- function(length, width) {\n",
    "  area <- length * width\n",
    "  return(area)\n",
    "}\n"
   ]
  },
  {
   "cell_type": "markdown",
   "id": "c576b087-771b-4dc9-8549-770e3e2e6a1a",
   "metadata": {},
   "source": [
    "### **Conclusion:**\n",
    "\n",
    "- Functions in R are essential tools for making your code reusable, modular, and easier to manage.\n",
    "- You can define functions using the `function()` keyword, and they can take arguments, return values, and perform complex tasks.\n",
    "- Functions can have default arguments, return values explicitly or implicitly, and even be anonymous or nested.\n",
    "- Understanding functions in R will allow you to write cleaner, more efficient code, making it easier to handle complex tasks."
   ]
  },
  {
   "cell_type": "markdown",
   "id": "07d5855b-42b1-40e6-82ab-252fcccf991e",
   "metadata": {},
   "source": [
    "## Data Structures\n",
    "\n",
    "Vectors, lists, matrices, data frames, and factors."
   ]
  },
  {
   "cell_type": "markdown",
   "id": "f252503a-773e-4ef3-a7ad-999cabf389c1",
   "metadata": {},
   "source": [
    "### Data Structures in R\n",
    "\n",
    "R provides various data structures that allow you to organize and manipulate data efficiently. Each data structure is suited for specific tasks, making it crucial to choose the right one based on your needs. The most common data structures in R are:\n",
    "- **Vectors**\n",
    "- **Lists**\n",
    "- **Matrices**\n",
    "- **Data Frames**\n",
    "- **Factors**\n",
    "  \n",
    "These structures vary in terms of dimension, type of data they can store, and how they are used."
   ]
  },
  {
   "cell_type": "markdown",
   "id": "78aede49-ec6c-4276-bc80-28fa94f98803",
   "metadata": {},
   "source": [
    "### **1. Vectors**\n",
    "\n",
    "A **vector** is the simplest and most basic data structure in R. It is a one-dimensional array that holds elements of the same type, such as numeric, character, logical, or integer.\n",
    "\n",
    "#### **Types of Vectors:**\n",
    "- **Numeric Vector**: Stores numbers (e.g., 1.5, 2.3, -5).\n",
    "- **Integer Vector**: Stores integer values (e.g., 1, 2, -10).\n",
    "- **Character Vector**: Stores text (e.g., \"apple\", \"banana\").\n",
    "- **Logical Vector**: Stores boolean values (`TRUE`, `FALSE`).\n",
    "\n",
    "#### **Creating Vectors:**"
   ]
  },
  {
   "cell_type": "code",
   "execution_count": 102,
   "id": "188686fb-5fac-4e92-9166-56c5d77b0b3f",
   "metadata": {},
   "outputs": [],
   "source": [
    "\n",
    "# Numeric vector\n",
    "num_vector <- c(1.2, 3.4, 5.6)\n",
    "\n",
    "# Integer vector\n",
    "int_vector <- c(1L, 2L, 3L)  # 'L' indicates an integer\n",
    "\n",
    "# Character vector\n",
    "char_vector <- c(\"apple\", \"banana\", \"cherry\")\n",
    "\n",
    "# Logical vector\n",
    "log_vector <- c(TRUE, FALSE, TRUE)\n",
    "\n",
    "# Sequence of numbers\n",
    "seq_vector <- 1:10  # Creates a sequence from 1 to 10\n"
   ]
  },
  {
   "cell_type": "markdown",
   "id": "60be852e-7ece-4338-b29f-54816a27d637",
   "metadata": {},
   "source": [
    "#### **Common Operations on Vectors:**\n",
    "- **Accessing Elements**: Use square brackets `[]` to access elements."
   ]
  },
  {
   "cell_type": "code",
   "execution_count": 103,
   "id": "252fddc1-e71f-4761-873c-a148ecd1cc39",
   "metadata": {},
   "outputs": [
    {
     "data": {
      "text/html": [
       "3.4"
      ],
      "text/latex": [
       "3.4"
      ],
      "text/markdown": [
       "3.4"
      ],
      "text/plain": [
       "[1] 3.4"
      ]
     },
     "metadata": {},
     "output_type": "display_data"
    }
   ],
   "source": [
    "num_vector[2]  # Access second element (3.4)"
   ]
  },
  {
   "cell_type": "markdown",
   "id": "c6db4a26-efa9-4a63-864f-9992dddf2bf9",
   "metadata": {},
   "source": [
    "- **Vector Arithmetic**: Vectors support element-wise operations."
   ]
  },
  {
   "cell_type": "code",
   "execution_count": 105,
   "id": "8dfcc34b-e187-4c0b-b6f7-3ad6f55b0111",
   "metadata": {},
   "outputs": [],
   "source": [
    "vec1 <- c(1, 2, 3)\n",
    "vec2 <- c(4, 5, 6)\n",
    "result <- vec1 + vec2  # Element-wise addition: c(5, 7, 9)"
   ]
  },
  {
   "cell_type": "markdown",
   "id": "8d04f5fe-8f3b-4bb9-9ef3-ddf9bc92c56c",
   "metadata": {},
   "source": [
    "### **2. Lists**\n",
    "\n",
    "A **list** is a more flexible data structure that can contain elements of different types (e.g., numeric, character, logical, vectors, even other lists). It is a collection of objects, allowing you to mix and match data types."
   ]
  },
  {
   "cell_type": "markdown",
   "id": "888b231e-aa61-4fe8-b688-f11364f1b172",
   "metadata": {},
   "source": [
    "#### **Creating a List:**"
   ]
  },
  {
   "cell_type": "code",
   "execution_count": 106,
   "id": "24bb6b86-73c2-43a9-bf3d-640bffcb1f8f",
   "metadata": {},
   "outputs": [
    {
     "data": {
      "text/html": [
       "'John'"
      ],
      "text/latex": [
       "'John'"
      ],
      "text/markdown": [
       "'John'"
      ],
      "text/plain": [
       "[1] \"John\""
      ]
     },
     "metadata": {},
     "output_type": "display_data"
    },
    {
     "data": {
      "text/html": [
       "25"
      ],
      "text/latex": [
       "25"
      ],
      "text/markdown": [
       "25"
      ],
      "text/plain": [
       "[1] 25"
      ]
     },
     "metadata": {},
     "output_type": "display_data"
    },
    {
     "data": {
      "text/html": [
       "<style>\n",
       ".list-inline {list-style: none; margin:0; padding: 0}\n",
       ".list-inline>li {display: inline-block}\n",
       ".list-inline>li:not(:last-child)::after {content: \"\\00b7\"; padding: 0 .5ex}\n",
       "</style>\n",
       "<ol class=list-inline><li>90</li><li>85</li><li>88</li></ol>\n"
      ],
      "text/latex": [
       "\\begin{enumerate*}\n",
       "\\item 90\n",
       "\\item 85\n",
       "\\item 88\n",
       "\\end{enumerate*}\n"
      ],
      "text/markdown": [
       "1. 90\n",
       "2. 85\n",
       "3. 88\n",
       "\n",
       "\n"
      ],
      "text/plain": [
       "[1] 90 85 88"
      ]
     },
     "metadata": {},
     "output_type": "display_data"
    }
   ],
   "source": [
    "\n",
    "# List containing different types of data\n",
    "my_list <- list(name = \"John\", age = 25, scores = c(90, 85, 88))\n",
    "\n",
    "# Accessing elements in a list\n",
    "my_list$name      # Access 'name' element\n",
    "my_list$age       # Access 'age' element\n",
    "my_list[[3]]      # Access third element (scores vector)\n"
   ]
  },
  {
   "cell_type": "markdown",
   "id": "22edf1a2-b3d6-4d4f-a5aa-014282e0560b",
   "metadata": {},
   "source": [
    "- **Named Lists**: You can assign names to the list elements for easier access."
   ]
  },
  {
   "cell_type": "code",
   "execution_count": 107,
   "id": "057f3f5e-e8d6-42e4-95e9-23dcd0578228",
   "metadata": {},
   "outputs": [
    {
     "data": {
      "text/html": [
       "'John'"
      ],
      "text/latex": [
       "'John'"
      ],
      "text/markdown": [
       "'John'"
      ],
      "text/plain": [
       "[1] \"John\""
      ]
     },
     "metadata": {},
     "output_type": "display_data"
    }
   ],
   "source": [
    "\n",
    "my_list <- list(name = \"John\", age = 25)\n",
    "my_list$name  # Access element by name\n"
   ]
  },
  {
   "cell_type": "markdown",
   "id": "0d9ac4f2-fbbc-4850-8e70-9eafb740d55b",
   "metadata": {},
   "source": [
    "#### **Lists vs. Vectors:**\n",
    "- **Homogeneity**: Vectors can only hold elements of the same type, while lists can store different types of objects.\n",
    "- **Length**: Lists can contain elements of varying lengths, while vectors must have elements of the same length."
   ]
  },
  {
   "cell_type": "markdown",
   "id": "b1eb7f9d-bfd7-4a7a-b1c3-b6a628c6a855",
   "metadata": {},
   "source": [
    "### **3. Matrices**\n",
    "\n",
    "A **matrix** is a two-dimensional array that contains elements of the same type (numeric, logical, or character). Matrices are essentially vectors arranged in rows and columns.\n",
    "\n",
    "#### **Creating a Matrix:**"
   ]
  },
  {
   "cell_type": "code",
   "execution_count": 108,
   "id": "98a544a0-6f60-41eb-bf25-1c2fe068208a",
   "metadata": {},
   "outputs": [],
   "source": [
    "\n",
    "# Create a 3x3 numeric matrix\n",
    "matrix_1 <- matrix(1:9, nrow = 3, ncol = 3)\n",
    "\n",
    "# Create a matrix by combining vectors by row\n",
    "matrix_2 <- rbind(c(1, 2, 3), c(4, 5, 6), c(7, 8, 9))\n",
    "\n",
    "# Create a matrix by combining vectors by column\n",
    "matrix_3 <- cbind(c(1, 4, 7), c(2, 5, 8), c(3, 6, 9))\n"
   ]
  },
  {
   "cell_type": "markdown",
   "id": "7ea33f88-891f-4e58-8a75-ca3ab5d3c1a2",
   "metadata": {},
   "source": [
    "#### **Matrix Operations:**\n",
    "- **Element Access**: Use row and column indices to access elements.\n",
    "  ```R\n",
    "  matrix_1[2, 3]  # Access element in 2nd row, 3rd column\n",
    "  ```\n",
    "\n",
    "- **Matrix Arithmetic**: You can perform element-wise or matrix multiplication."
   ]
  },
  {
   "cell_type": "code",
   "execution_count": 109,
   "id": "44917bd8-6870-4da8-bf44-c32037d5014b",
   "metadata": {},
   "outputs": [],
   "source": [
    "\n",
    "mat1 <- matrix(1:4, nrow = 2)\n",
    "mat2 <- matrix(5:8, nrow = 2)\n",
    "\n",
    "result_add <- mat1 + mat2  # Element-wise addition\n",
    "result_mult <- mat1 %*% mat2  # Matrix multiplication\n"
   ]
  },
  {
   "cell_type": "markdown",
   "id": "e041ceff-4f4d-44d1-942c-38745d2f69dc",
   "metadata": {},
   "source": [
    "### **4. Data Frames**\n",
    "\n",
    "A **data frame** is a two-dimensional table where each column can contain different types of data (e.g., numeric, character, logical). It’s similar to a matrix but allows mixed data types. Data frames are widely used for handling tabular data, such as datasets for statistical analysis.\n",
    "\n",
    "#### **Creating a Data Frame:**"
   ]
  },
  {
   "cell_type": "code",
   "execution_count": 110,
   "id": "6ed48e8a-a7cb-4867-a6a2-c2e8cb59cd4c",
   "metadata": {},
   "outputs": [
    {
     "name": "stdout",
     "output_type": "stream",
     "text": [
      "   Name Age Score\n",
      "1 Alice  25    90\n",
      "2   Bob  30    85\n",
      "3 Carol  35    88\n"
     ]
    }
   ],
   "source": [
    "\n",
    "# Create a data frame with different types of columns\n",
    "df <- data.frame(\n",
    "  Name = c(\"Alice\", \"Bob\", \"Carol\"),\n",
    "  Age = c(25, 30, 35),\n",
    "  Score = c(90, 85, 88)\n",
    ")\n",
    "print(df)\n"
   ]
  },
  {
   "cell_type": "markdown",
   "id": "104dc76a-ff45-465d-b813-b78419084622",
   "metadata": {},
   "source": [
    "#### **Accessing Data in Data Frames:**\n",
    "- **By Column Name**:"
   ]
  },
  {
   "cell_type": "code",
   "execution_count": 112,
   "id": "897fea39-0143-4222-8308-ae2728cdf786",
   "metadata": {},
   "outputs": [
    {
     "data": {
      "text/html": [
       "<style>\n",
       ".list-inline {list-style: none; margin:0; padding: 0}\n",
       ".list-inline>li {display: inline-block}\n",
       ".list-inline>li:not(:last-child)::after {content: \"\\00b7\"; padding: 0 .5ex}\n",
       "</style>\n",
       "<ol class=list-inline><li>'Alice'</li><li>'Bob'</li><li>'Carol'</li></ol>\n"
      ],
      "text/latex": [
       "\\begin{enumerate*}\n",
       "\\item 'Alice'\n",
       "\\item 'Bob'\n",
       "\\item 'Carol'\n",
       "\\end{enumerate*}\n"
      ],
      "text/markdown": [
       "1. 'Alice'\n",
       "2. 'Bob'\n",
       "3. 'Carol'\n",
       "\n",
       "\n"
      ],
      "text/plain": [
       "[1] \"Alice\" \"Bob\"   \"Carol\""
      ]
     },
     "metadata": {},
     "output_type": "display_data"
    }
   ],
   "source": [
    "df$Name   # Access the 'Name' column"
   ]
  },
  {
   "cell_type": "markdown",
   "id": "b941a401-b2f7-48db-9eb0-7121a1dda319",
   "metadata": {},
   "source": [
    "- **By Indexing**:"
   ]
  },
  {
   "cell_type": "code",
   "execution_count": 113,
   "id": "d8978110-2a50-4b24-aecb-97e00bdfd231",
   "metadata": {},
   "outputs": [
    {
     "data": {
      "text/html": [
       "<table class=\"dataframe\">\n",
       "<caption>A data.frame: 1 × 3</caption>\n",
       "<thead>\n",
       "\t<tr><th></th><th scope=col>Name</th><th scope=col>Age</th><th scope=col>Score</th></tr>\n",
       "\t<tr><th></th><th scope=col>&lt;chr&gt;</th><th scope=col>&lt;dbl&gt;</th><th scope=col>&lt;dbl&gt;</th></tr>\n",
       "</thead>\n",
       "<tbody>\n",
       "\t<tr><th scope=row>1</th><td>Alice</td><td>25</td><td>90</td></tr>\n",
       "</tbody>\n",
       "</table>\n"
      ],
      "text/latex": [
       "A data.frame: 1 × 3\n",
       "\\begin{tabular}{r|lll}\n",
       "  & Name & Age & Score\\\\\n",
       "  & <chr> & <dbl> & <dbl>\\\\\n",
       "\\hline\n",
       "\t1 & Alice & 25 & 90\\\\\n",
       "\\end{tabular}\n"
      ],
      "text/markdown": [
       "\n",
       "A data.frame: 1 × 3\n",
       "\n",
       "| <!--/--> | Name &lt;chr&gt; | Age &lt;dbl&gt; | Score &lt;dbl&gt; |\n",
       "|---|---|---|---|\n",
       "| 1 | Alice | 25 | 90 |\n",
       "\n"
      ],
      "text/plain": [
       "  Name  Age Score\n",
       "1 Alice 25  90   "
      ]
     },
     "metadata": {},
     "output_type": "display_data"
    },
    {
     "data": {
      "text/html": [
       "<style>\n",
       ".list-inline {list-style: none; margin:0; padding: 0}\n",
       ".list-inline>li {display: inline-block}\n",
       ".list-inline>li:not(:last-child)::after {content: \"\\00b7\"; padding: 0 .5ex}\n",
       "</style>\n",
       "<ol class=list-inline><li>25</li><li>30</li><li>35</li></ol>\n"
      ],
      "text/latex": [
       "\\begin{enumerate*}\n",
       "\\item 25\n",
       "\\item 30\n",
       "\\item 35\n",
       "\\end{enumerate*}\n"
      ],
      "text/markdown": [
       "1. 25\n",
       "2. 30\n",
       "3. 35\n",
       "\n",
       "\n"
      ],
      "text/plain": [
       "[1] 25 30 35"
      ]
     },
     "metadata": {},
     "output_type": "display_data"
    },
    {
     "data": {
      "text/html": [
       "25"
      ],
      "text/latex": [
       "25"
      ],
      "text/markdown": [
       "25"
      ],
      "text/plain": [
       "[1] 25"
      ]
     },
     "metadata": {},
     "output_type": "display_data"
    }
   ],
   "source": [
    "\n",
    "df[1, ]    # Access the first row\n",
    "df[, 2]    # Access the second column\n",
    "df[1, 2]   # Access the element in the first row, second column\n"
   ]
  },
  {
   "cell_type": "markdown",
   "id": "2663cf02-dc3e-4dd6-9644-d69ecb242b01",
   "metadata": {},
   "source": [
    "#### **Adding/Removing Columns:**"
   ]
  },
  {
   "cell_type": "code",
   "execution_count": 114,
   "id": "9b2b4e68-3459-4da5-9524-2fb37b45fe71",
   "metadata": {},
   "outputs": [],
   "source": [
    "\n",
    "# Add a new column\n",
    "df$City <- c(\"New York\", \"London\", \"Paris\")\n",
    "\n",
    "# Remove a column\n",
    "df$Score <- NULL\n"
   ]
  },
  {
   "cell_type": "markdown",
   "id": "fafe5154-76fd-463e-8b3c-ee79add30301",
   "metadata": {},
   "source": [
    "### **5. Factors**\n",
    "\n",
    "A **factor** is used to represent categorical data. Factors are important in statistical modeling as they define the levels of categorical variables (e.g., \"Male\", \"Female\" for gender). Factors are stored as integers with labels.\n",
    "\n",
    "#### **Creating Factors:**"
   ]
  },
  {
   "cell_type": "code",
   "execution_count": 115,
   "id": "d347e4a4-acaa-483c-ae54-822f744a2edd",
   "metadata": {},
   "outputs": [
    {
     "name": "stdout",
     "output_type": "stream",
     "text": [
      "[1] Male   Female Female Male  \n",
      "Levels: Female Male\n"
     ]
    },
    {
     "data": {
      "text/html": [
       "<style>\n",
       ".list-inline {list-style: none; margin:0; padding: 0}\n",
       ".list-inline>li {display: inline-block}\n",
       ".list-inline>li:not(:last-child)::after {content: \"\\00b7\"; padding: 0 .5ex}\n",
       "</style>\n",
       "<ol class=list-inline><li>'Female'</li><li>'Male'</li></ol>\n"
      ],
      "text/latex": [
       "\\begin{enumerate*}\n",
       "\\item 'Female'\n",
       "\\item 'Male'\n",
       "\\end{enumerate*}\n"
      ],
      "text/markdown": [
       "1. 'Female'\n",
       "2. 'Male'\n",
       "\n",
       "\n"
      ],
      "text/plain": [
       "[1] \"Female\" \"Male\"  "
      ]
     },
     "metadata": {},
     "output_type": "display_data"
    }
   ],
   "source": [
    "\n",
    "# Create a factor with levels\n",
    "gender <- factor(c(\"Male\", \"Female\", \"Female\", \"Male\"))\n",
    "print(gender)\n",
    "\n",
    "# Check the levels\n",
    "levels(gender)  # Output: \"Female\", \"Male\"\n"
   ]
  },
  {
   "cell_type": "markdown",
   "id": "ed1d700d-f8a2-4bd5-9227-e0d466fccb8d",
   "metadata": {},
   "source": [
    "#### **Ordered Factors:**\n",
    "You can create ordered factors where levels have a specific order (e.g., \"Low\", \"Medium\", \"High\")."
   ]
  },
  {
   "cell_type": "code",
   "execution_count": 116,
   "id": "deaa79d4-420b-45bd-b519-14f31a235cdf",
   "metadata": {},
   "outputs": [
    {
     "name": "stdout",
     "output_type": "stream",
     "text": [
      "[1] High School College     Graduate    College    \n",
      "Levels: High School < College < Graduate\n"
     ]
    }
   ],
   "source": [
    "\n",
    "# Create an ordered factor\n",
    "education <- factor(c(\"High School\", \"College\", \"Graduate\", \"College\"),\n",
    "                    levels = c(\"High School\", \"College\", \"Graduate\"),\n",
    "                    ordered = TRUE)\n",
    "print(education)\n"
   ]
  },
  {
   "cell_type": "markdown",
   "id": "352f2ee7-4d0c-4343-91ab-92047a19aa9d",
   "metadata": {},
   "source": [
    "#### **Factors vs. Character Vectors:**\n",
    "- Factors are stored as integers internally with corresponding levels, while character vectors store text directly.\n",
    "- Factors are more efficient for storing categorical data and are used in statistical modeling."
   ]
  },
  {
   "cell_type": "markdown",
   "id": "03403fc5-12cf-4d45-9b47-2fd8a3031d0f",
   "metadata": {},
   "source": [
    "### **6. Arrays**\n",
    "\n",
    "An **array** is similar to a matrix but can have more than two dimensions (i.e., higher-dimensional data). Each element in an array must be of the same type.\n",
    "\n",
    "#### **Creating an Array:**"
   ]
  },
  {
   "cell_type": "code",
   "execution_count": 117,
   "id": "e0d67431-25bb-46b4-b256-5a41c050679e",
   "metadata": {},
   "outputs": [
    {
     "name": "stdout",
     "output_type": "stream",
     "text": [
      ", , 1\n",
      "\n",
      "     [,1] [,2] [,3]\n",
      "[1,]    1    5    9\n",
      "[2,]    2    6   10\n",
      "[3,]    3    7   11\n",
      "[4,]    4    8   12\n",
      "\n",
      ", , 2\n",
      "\n",
      "     [,1] [,2] [,3]\n",
      "[1,]   13   17   21\n",
      "[2,]   14   18   22\n",
      "[3,]   15   19   23\n",
      "[4,]   16   20   24\n",
      "\n"
     ]
    }
   ],
   "source": [
    "\n",
    "# Create a 3-dimensional array\n",
    "arr <- array(1:24, dim = c(4, 3, 2))  # 4 rows, 3 columns, 2 matrices\n",
    "print(arr)\n"
   ]
  },
  {
   "cell_type": "markdown",
   "id": "11d56e0f-d947-4937-99b7-4b38ae26cd14",
   "metadata": {},
   "source": [
    "#### **Accessing Elements in an Array:**"
   ]
  },
  {
   "cell_type": "code",
   "execution_count": 119,
   "id": "548e757f-9e99-4859-85c1-28e5c740a904",
   "metadata": {},
   "outputs": [
    {
     "data": {
      "text/html": [
       "10"
      ],
      "text/latex": [
       "10"
      ],
      "text/markdown": [
       "10"
      ],
      "text/plain": [
       "[1] 10"
      ]
     },
     "metadata": {},
     "output_type": "display_data"
    }
   ],
   "source": [
    "\n",
    "arr[2, 3, 1]  # Access element at [row=2, column=3, matrix=1]\n"
   ]
  },
  {
   "cell_type": "markdown",
   "id": "79664053-a820-4333-aaad-e01f399410a5",
   "metadata": {},
   "source": [
    "### **7. Important Operations on Data Structures**\n",
    "\n",
    "- **Length**: `length()` returns the number of elements in a vector or list."
   ]
  },
  {
   "cell_type": "code",
   "execution_count": 121,
   "id": "af8911d6-748c-44d0-a299-330521e42ce6",
   "metadata": {},
   "outputs": [
    {
     "data": {
      "text/html": [
       "4"
      ],
      "text/latex": [
       "4"
      ],
      "text/markdown": [
       "4"
      ],
      "text/plain": [
       "[1] 4"
      ]
     },
     "metadata": {},
     "output_type": "display_data"
    }
   ],
   "source": [
    "length(c(1, 2, 3, 4))  # Output: 4"
   ]
  },
  {
   "cell_type": "markdown",
   "id": "ae859143-1625-449a-9b1f-5c8491aebad9",
   "metadata": {},
   "source": [
    "- **Dimensions**: `dim()` returns the dimensions of matrices and data frames."
   ]
  },
  {
   "cell_type": "code",
   "execution_count": 123,
   "id": "72427eeb-d243-46ef-bbc8-1577125f44e6",
   "metadata": {},
   "outputs": [
    {
     "data": {
      "text/html": [
       "<style>\n",
       ".list-inline {list-style: none; margin:0; padding: 0}\n",
       ".list-inline>li {display: inline-block}\n",
       ".list-inline>li:not(:last-child)::after {content: \"\\00b7\"; padding: 0 .5ex}\n",
       "</style>\n",
       "<ol class=list-inline><li>3</li><li>3</li></ol>\n"
      ],
      "text/latex": [
       "\\begin{enumerate*}\n",
       "\\item 3\n",
       "\\item 3\n",
       "\\end{enumerate*}\n"
      ],
      "text/markdown": [
       "1. 3\n",
       "2. 3\n",
       "\n",
       "\n"
      ],
      "text/plain": [
       "[1] 3 3"
      ]
     },
     "metadata": {},
     "output_type": "display_data"
    }
   ],
   "source": [
    "dim(matrix(1:9, nrow=3))  # Output: 3 3 (rows and columns)"
   ]
  },
  {
   "cell_type": "markdown",
   "id": "da0585e3-2e67-41eb-8fe4-1d04e402c4a6",
   "metadata": {},
   "source": [
    "- **Structure**: `str()` gives a summary of the structure of any R object."
   ]
  },
  {
   "cell_type": "code",
   "execution_count": 124,
   "id": "cebe5d0f-0d49-4a34-be40-caab1a72096f",
   "metadata": {},
   "outputs": [
    {
     "name": "stdout",
     "output_type": "stream",
     "text": [
      "'data.frame':\t3 obs. of  3 variables:\n",
      " $ Name: chr  \"Alice\" \"Bob\" \"Carol\"\n",
      " $ Age : num  25 30 35\n",
      " $ City: chr  \"New York\" \"London\" \"Paris\"\n"
     ]
    }
   ],
   "source": [
    "str(df)  # Displays the structure of a data frame"
   ]
  },
  {
   "cell_type": "markdown",
   "id": "8a771ed2-147d-47b3-a401-0c5b1da99eed",
   "metadata": {},
   "source": [
    "- **Summary**: `summary()` provides a statistical summary of a data structure."
   ]
  },
  {
   "cell_type": "code",
   "execution_count": 125,
   "id": "70ba8a49-982e-4f57-9d9b-3b659cab804b",
   "metadata": {},
   "outputs": [
    {
     "data": {
      "text/plain": [
       "     Name                Age           City          \n",
       " Length:3           Min.   :25.0   Length:3          \n",
       " Class :character   1st Qu.:27.5   Class :character  \n",
       " Mode  :character   Median :30.0   Mode  :character  \n",
       "                    Mean   :30.0                     \n",
       "                    3rd Qu.:32.5                     \n",
       "                    Max.   :35.0                     "
      ]
     },
     "metadata": {},
     "output_type": "display_data"
    }
   ],
   "source": [
    "summary(df)  # Displays summary statistics of each column in the data frame"
   ]
  },
  {
   "cell_type": "markdown",
   "id": "65a0afb0-1032-4c7c-baf0-f539bc923011",
   "metadata": {},
   "source": [
    "- **Combine Vectors**: `cbind()` and `rbind()` are used to combine vectors/matrices by columns and rows, respectively."
   ]
  },
  {
   "cell_type": "code",
   "execution_count": 127,
   "id": "f41d3e74-bcf9-47f8-9b13-4248b2028e41",
   "metadata": {},
   "outputs": [
    {
     "data": {
      "text/html": [
       "<table class=\"dataframe\">\n",
       "<caption>A matrix: 3 × 2 of type dbl</caption>\n",
       "<thead>\n",
       "\t<tr><th scope=col>vec1</th><th scope=col>vec2</th></tr>\n",
       "</thead>\n",
       "<tbody>\n",
       "\t<tr><td>1</td><td>4</td></tr>\n",
       "\t<tr><td>2</td><td>5</td></tr>\n",
       "\t<tr><td>3</td><td>6</td></tr>\n",
       "</tbody>\n",
       "</table>\n"
      ],
      "text/latex": [
       "A matrix: 3 × 2 of type dbl\n",
       "\\begin{tabular}{ll}\n",
       " vec1 & vec2\\\\\n",
       "\\hline\n",
       "\t 1 & 4\\\\\n",
       "\t 2 & 5\\\\\n",
       "\t 3 & 6\\\\\n",
       "\\end{tabular}\n"
      ],
      "text/markdown": [
       "\n",
       "A matrix: 3 × 2 of type dbl\n",
       "\n",
       "| vec1 | vec2 |\n",
       "|---|---|\n",
       "| 1 | 4 |\n",
       "| 2 | 5 |\n",
       "| 3 | 6 |\n",
       "\n"
      ],
      "text/plain": [
       "     vec1 vec2\n",
       "[1,] 1    4   \n",
       "[2,] 2    5   \n",
       "[3,] 3    6   "
      ]
     },
     "metadata": {},
     "output_type": "display_data"
    },
    {
     "data": {
      "text/html": [
       "<table class=\"dataframe\">\n",
       "<caption>A matrix: 2 × 3 of type dbl</caption>\n",
       "<tbody>\n",
       "\t<tr><th scope=row>vec1</th><td>1</td><td>2</td><td>3</td></tr>\n",
       "\t<tr><th scope=row>vec2</th><td>4</td><td>5</td><td>6</td></tr>\n",
       "</tbody>\n",
       "</table>\n"
      ],
      "text/latex": [
       "A matrix: 2 × 3 of type dbl\n",
       "\\begin{tabular}{r|lll}\n",
       "\tvec1 & 1 & 2 & 3\\\\\n",
       "\tvec2 & 4 & 5 & 6\\\\\n",
       "\\end{tabular}\n"
      ],
      "text/markdown": [
       "\n",
       "A matrix: 2 × 3 of type dbl\n",
       "\n",
       "| vec1 | 1 | 2 | 3 |\n",
       "| vec2 | 4 | 5 | 6 |\n",
       "\n"
      ],
      "text/plain": [
       "     [,1] [,2] [,3]\n",
       "vec1 1    2    3   \n",
       "vec2 4    5    6   "
      ]
     },
     "metadata": {},
     "output_type": "display_data"
    }
   ],
   "source": [
    "cbind(vec1, vec2)  # Combine vectors column-wise\n",
    "rbind(vec1, vec2)  # Combine vectors row-wise"
   ]
  },
  {
   "cell_type": "markdown",
   "id": "d7006acd-3a15-44b3-9084-35796f444454",
   "metadata": {},
   "source": [
    "### **Conclusion:**\n",
    "\n",
    "- **Vectors** are one-dimensional arrays holding elements of the same type.\n",
    "- **Lists** can hold different types of objects, including vectors, matrices, and other lists.\n",
    "- **Matrices** are two-dimensional arrays that contain elements of the same type.\n",
    "- **Data Frames** are two-dimensional tables where each column can hold different data types (most common structure for datasets).\n",
    "-"
   ]
  },
  {
   "cell_type": "code",
   "execution_count": null,
   "id": "0e110a11-f445-4c9d-ac44-c2da9753a439",
   "metadata": {},
   "outputs": [],
   "source": []
  }
 ],
 "metadata": {
  "kernelspec": {
   "display_name": "R",
   "language": "R",
   "name": "ir"
  },
  "language_info": {
   "codemirror_mode": "r",
   "file_extension": ".r",
   "mimetype": "text/x-r-source",
   "name": "R",
   "pygments_lexer": "r",
   "version": "4.2.2"
  }
 },
 "nbformat": 4,
 "nbformat_minor": 5
}
