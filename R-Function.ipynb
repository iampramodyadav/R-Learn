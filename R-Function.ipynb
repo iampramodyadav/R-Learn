{
 "cells": [
  {
   "cell_type": "markdown",
   "id": "35074bea-f5c5-43d1-81da-6df7611374dd",
   "metadata": {},
   "source": [
    "# Notes on Functions in R"
   ]
  },
  {
   "cell_type": "markdown",
   "id": "0116dd40-4afa-4b9b-a5df-b550d89064da",
   "metadata": {},
   "source": [
    "## 1. What is a Function in R?\n",
    "\n",
    "A **function** in R is a block of reusable code that performs a specific task. It takes input (called arguments or parameters), processes it, and optionally returns an output. Functions help organize code, make it reusable, and reduce repetition.\n",
    "\n",
    "### Key Features of Functions:\n",
    "- **Modularity**: Break complex problems into smaller, manageable tasks.\n",
    "- **Reusability**: Write once, use multiple times.\n",
    "- **Abstraction**: Hide implementation details; focus on what the function does."
   ]
  },
  {
   "cell_type": "markdown",
   "id": "c4fdae92-ab8d-4e42-ba59-574197b2110c",
   "metadata": {},
   "source": [
    "### Syntax of a Function in R:\n",
    "```R\n",
    "function_name <- function(arguments) {\n",
    "  # Code to execute\n",
    "  return(value)  # Optional return statement\n",
    "}\n",
    "```\n",
    "- `function_name`: Name you give to the function.\n",
    "- `arguments`: Inputs (optional; can be zero or more).\n",
    "- `return()`: Specifies the output (optional; if omitted, the last evaluated expression is returned).\n",
    "\n",
    "---"
   ]
  },
  {
   "cell_type": "markdown",
   "id": "95013bbd-ae4f-4fd1-8f87-556bbc2515f7",
   "metadata": {},
   "source": [
    "## 2. Why Use Functions?\n",
    "\n",
    "- **Efficiency**: Avoid rewriting the same code multiple times.\n",
    "- **Readability**: Makes code cleaner and easier to understand.\n",
    "- **Debugging**: Easier to test and fix small, isolated pieces of code.\n",
    "- **Scalability**: Functions can be reused across projects or modified for new tasks.\n",
    "\n",
    "### When to Use Functions?\n",
    "- When you need to perform a task repeatedly with different inputs.\n",
    "- When you want to simplify complex operations into a single call.\n",
    "- When you want to share code with others or use it in multiple scripts.\n",
    "\n",
    "---"
   ]
  },
  {
   "cell_type": "markdown",
   "id": "9a572970-e395-4205-8559-72f2f5c466b4",
   "metadata": {},
   "source": [
    "## 3. Creating a Basic Function\n",
    "\n",
    "### Example 1: Simple Function Without Arguments"
   ]
  },
  {
   "cell_type": "code",
   "execution_count": 1,
   "id": "63059d3c-e383-4d9f-b5d1-ec8345ea4b39",
   "metadata": {},
   "outputs": [
    {
     "name": "stdout",
     "output_type": "stream",
     "text": [
      "[1] \"Hello, World!\"\n"
     ]
    }
   ],
   "source": [
    "\n",
    "greet <- function() {\n",
    "  message <- \"Hello, World!\"\n",
    "  print(message)\n",
    "}\n",
    "\n",
    "# Call the function\n",
    "greet()"
   ]
  },
  {
   "cell_type": "markdown",
   "id": "92efe040-b768-41f5-8452-4fbee6152fc8",
   "metadata": {},
   "source": [
    "**Output**: `\"Hello, World!\"`\n",
    "\n",
    "- No arguments are passed.\n",
    "- The function simply prints a message.\n",
    "\n",
    "---"
   ]
  },
  {
   "cell_type": "markdown",
   "id": "74af05c1-e6e3-4e02-b3bd-0204f5b5c730",
   "metadata": {},
   "source": [
    "### Example 2: Function With Arguments"
   ]
  },
  {
   "cell_type": "code",
   "execution_count": 2,
   "id": "0ff0ab7e-409d-42c0-93c5-6e62ebfeb3cb",
   "metadata": {},
   "outputs": [
    {
     "name": "stdout",
     "output_type": "stream",
     "text": [
      "[1] 8\n"
     ]
    }
   ],
   "source": [
    "\n",
    "add_numbers <- function(a, b) {\n",
    "  sum <- a + b\n",
    "  return(sum)\n",
    "}\n",
    "\n",
    "# Call the function\n",
    "result <- add_numbers(5, 3)\n",
    "print(result)\n"
   ]
  },
  {
   "cell_type": "markdown",
   "id": "aee6f15d-e670-4fbd-a206-9190562c4ba0",
   "metadata": {},
   "source": [
    "**Output**: `8`\n",
    "\n",
    "- Arguments `a` and `b` are inputs.\n",
    "- The function returns their sum using `return()`.\n",
    "\n",
    "---"
   ]
  },
  {
   "cell_type": "markdown",
   "id": "0ef67678-86fa-4b45-b6f5-23672e0673d3",
   "metadata": {},
   "source": [
    "## 4. Default Arguments\n",
    "You can assign default values to arguments, making them optional."
   ]
  },
  {
   "cell_type": "markdown",
   "id": "52f92729-4752-4664-ae06-03d0cbc70f56",
   "metadata": {},
   "source": [
    "### Example 3: Function With Default Arguments"
   ]
  },
  {
   "cell_type": "code",
   "execution_count": 3,
   "id": "d4d5ebdb-14db-4379-8971-e3942030c9c4",
   "metadata": {},
   "outputs": [
    {
     "name": "stdout",
     "output_type": "stream",
     "text": [
      "[1] 10\n",
      "[1] 15\n"
     ]
    }
   ],
   "source": [
    "\n",
    "multiply <- function(x, y = 2) {\n",
    "  result <- x * y\n",
    "  return(result)\n",
    "}\n",
    "\n",
    "# Call with one argument (uses default y = 2)\n",
    "print(multiply(5))        # Output: 10\n",
    "\n",
    "# Call with both arguments\n",
    "print(multiply(5, 3))     # Output: 15\n"
   ]
  },
  {
   "cell_type": "markdown",
   "id": "40bd07c3-59fa-48a9-a574-dbbbe99d6b12",
   "metadata": {},
   "source": [
    "- If `y` is not provided, it defaults to `2`.\n",
    "- You can override the default by passing a value.\n",
    "\n",
    "---"
   ]
  },
  {
   "cell_type": "markdown",
   "id": "9909dc18-36e6-4e4a-ad7a-a40eeb5a7843",
   "metadata": {},
   "source": [
    "## 5. Returning Values in R\n",
    "\n",
    "Functions in R can return different data types: numbers, strings, vectors, lists, data frames, etc. The `return()` statement explicitly specifies the output, but if omitted, the last evaluated expression is returned implicitly."
   ]
  },
  {
   "cell_type": "markdown",
   "id": "6a95263a-db8e-474f-b88c-1cbbe9f38bda",
   "metadata": {},
   "source": [
    "### Example 4: Returning Different Data Types\n",
    "\n",
    "#### a. Numeric Return"
   ]
  },
  {
   "cell_type": "code",
   "execution_count": 4,
   "id": "faa1057d-ce59-4e2a-9ab7-cb6b11c1b03d",
   "metadata": {},
   "outputs": [
    {
     "name": "stdout",
     "output_type": "stream",
     "text": [
      "[1] 16\n"
     ]
    }
   ],
   "source": [
    "\n",
    "square <- function(x) {\n",
    "  return(x * x)\n",
    "}\n",
    "\n",
    "result <- square(4)\n",
    "print(result)  # Output: 16\n"
   ]
  },
  {
   "cell_type": "markdown",
   "id": "c401f224-479c-4d10-b0a3-740dc00e49cf",
   "metadata": {},
   "source": [
    "#### b. String Return"
   ]
  },
  {
   "cell_type": "code",
   "execution_count": 5,
   "id": "c393a1a6-2d22-42ef-9a30-e8aa26765285",
   "metadata": {},
   "outputs": [
    {
     "name": "stdout",
     "output_type": "stream",
     "text": [
      "[1] \"Hello, Alice\"\n"
     ]
    }
   ],
   "source": [
    "\n",
    "get_greeting <- function(name) {\n",
    "  greeting <- paste(\"Hello,\", name)\n",
    "  return(greeting)\n",
    "}\n",
    "\n",
    "result <- get_greeting(\"Alice\")\n",
    "print(result)  # Output: \"Hello, Alice\"\n"
   ]
  },
  {
   "cell_type": "markdown",
   "id": "52146981-5a59-437e-b9dd-c814e0a1e7d5",
   "metadata": {},
   "source": [
    "#### c. Vector Return"
   ]
  },
  {
   "cell_type": "code",
   "execution_count": 6,
   "id": "5792cea2-acaa-413f-9396-0dcb47fc4d79",
   "metadata": {},
   "outputs": [
    {
     "name": "stdout",
     "output_type": "stream",
     "text": [
      "[1] 2 4 6\n"
     ]
    }
   ],
   "source": [
    "\n",
    "double_vector <- function(vec) {\n",
    "  return(vec * 2)\n",
    "}\n",
    "\n",
    "result <- double_vector(c(1, 2, 3))\n",
    "print(result)  # Output: [1] 2 4 6\n"
   ]
  },
  {
   "cell_type": "markdown",
   "id": "11cfe3da-fd3f-47f4-95ae-8b1e52bcfb78",
   "metadata": {},
   "source": [
    "#### d. List Return"
   ]
  },
  {
   "cell_type": "code",
   "execution_count": 7,
   "id": "49ca7a01-bbf9-4963-9931-e3a802ad0f43",
   "metadata": {},
   "outputs": [
    {
     "name": "stdout",
     "output_type": "stream",
     "text": [
      "$Name\n",
      "[1] \"Bob\"\n",
      "\n",
      "$Age\n",
      "[1] 25\n",
      "\n"
     ]
    }
   ],
   "source": [
    "\n",
    "person_info <- function(name, age) {\n",
    "  info <- list(Name = name, Age = age)\n",
    "  return(info)\n",
    "}\n",
    "\n",
    "result <- person_info(\"Bob\", 25)\n",
    "print(result)  \n",
    "# Output: $Name [1] \"Bob\" \n",
    "#         $Age  [1] 25\n"
   ]
  },
  {
   "cell_type": "markdown",
   "id": "62a2a8b9-5d32-4198-bfea-fb29fa39b86d",
   "metadata": {},
   "source": [
    "#### e. Implicit Return (No `return()`)"
   ]
  },
  {
   "cell_type": "code",
   "execution_count": 8,
   "id": "1d405d54-cf98-40ed-b5cd-925b4dc278cb",
   "metadata": {},
   "outputs": [
    {
     "name": "stdout",
     "output_type": "stream",
     "text": [
      "[1] 6\n"
     ]
    }
   ],
   "source": [
    "\n",
    "subtract <- function(a, b) {\n",
    "  a - b  # Last expression is returned\n",
    "}\n",
    "\n",
    "result <- subtract(10, 4)\n",
    "print(result)  # Output: 6\n"
   ]
  },
  {
   "cell_type": "markdown",
   "id": "1cfdbedb-bdf0-4c8c-a650-9c42683f70b1",
   "metadata": {},
   "source": [
    "## 6. Scope of Variables in Functions\n",
    "\n",
    "- **Local Variables**: Defined inside the function; only accessible within it.\n",
    "- **Global Variables**: Defined outside; accessible everywhere unless overridden."
   ]
  },
  {
   "cell_type": "markdown",
   "id": "e301a2e9-c3b2-4a02-8b44-4e04919fcfa5",
   "metadata": {},
   "source": [
    "### Example 5: Local vs Global Scope"
   ]
  },
  {
   "cell_type": "code",
   "execution_count": 9,
   "id": "ca3a8c59-9444-4f02-a94c-5f4c14c467a7",
   "metadata": {},
   "outputs": [
    {
     "name": "stdout",
     "output_type": "stream",
     "text": [
      "[1] 5\n",
      "[1] 10\n"
     ]
    }
   ],
   "source": [
    "\n",
    "x <- 10  # Global variable\n",
    "\n",
    "modify_x <- function() {\n",
    "  x <- 5  # Local variable\n",
    "  print(x)\n",
    "}\n",
    "\n",
    "modify_x()  # Output: 5\n",
    "print(x)    # Output: 10 (global x unchanged)\n"
   ]
  },
  {
   "cell_type": "markdown",
   "id": "c28497cd-399f-443f-b863-b80d1460dc7c",
   "metadata": {},
   "source": [
    "- The local `x` inside the function doesn’t affect the global `x`."
   ]
  },
  {
   "cell_type": "markdown",
   "id": "5486d611-a54a-4c6b-a78a-4ac80c67312f",
   "metadata": {},
   "source": [
    "## 7. Advanced Examples\n",
    "\n",
    "### Example 6: Function with Conditional Logic"
   ]
  },
  {
   "cell_type": "code",
   "execution_count": 10,
   "id": "a8c0452f-ce09-4cf8-a520-07a302963050",
   "metadata": {},
   "outputs": [],
   "source": [
    "\n",
    "is_positive <- function(num) {\n",
    "  if (num > 0) {\n",
    "    return(TRUE)\n",
    "  } else {\n",
    "    return(FALSE)\n",
    "  }\n",
    "}"
   ]
  },
  {
   "cell_type": "code",
   "execution_count": 11,
   "id": "99ce376c-e8d7-4688-8d66-0cbb3734e107",
   "metadata": {},
   "outputs": [
    {
     "name": "stdout",
     "output_type": "stream",
     "text": [
      "[1] TRUE\n",
      "[1] FALSE\n"
     ]
    }
   ],
   "source": [
    "print(is_positive(5))   # Output: TRUE\n",
    "print(is_positive(-2))  # Output: FALSE"
   ]
  },
  {
   "cell_type": "markdown",
   "id": "4e8271aa-50ef-4e26-b90d-57303af0cf2a",
   "metadata": {},
   "source": [
    "### Example 7: Function with Multiple Returns"
   ]
  },
  {
   "cell_type": "code",
   "execution_count": 12,
   "id": "a758d108-7556-46c4-93b8-2e7514689c15",
   "metadata": {},
   "outputs": [
    {
     "name": "stdout",
     "output_type": "stream",
     "text": [
      "$Sum\n",
      "[1] 10\n",
      "\n",
      "$Difference\n",
      "[1] 2\n",
      "\n",
      "$Product\n",
      "[1] 24\n",
      "\n"
     ]
    }
   ],
   "source": [
    "\n",
    "math_operations <- function(a, b) {\n",
    "  sum <- a + b\n",
    "  diff <- a - b\n",
    "  prod <- a * b\n",
    "  return(list(Sum = sum, Difference = diff, Product = prod))\n",
    "}\n",
    "\n",
    "result <- math_operations(6, 4)\n",
    "print(result)\n",
    "# Output: $Sum [1] 10 \n",
    "#         $Difference [1] 2 \n",
    "#         $Product [1] 24\n"
   ]
  },
  {
   "cell_type": "markdown",
   "id": "27f3b73a-4569-41d0-9f85-53b139bcfc3b",
   "metadata": {},
   "source": []
  },
  {
   "cell_type": "markdown",
   "id": "4d6ac8d7-98a5-4a34-ba3d-352ab039e041",
   "metadata": {},
   "source": [
    "### Example 8: Function to Process a Data Frame"
   ]
  },
  {
   "cell_type": "code",
   "execution_count": 13,
   "id": "025a5144-c2bb-4f47-bfdc-f422b26e6122",
   "metadata": {},
   "outputs": [
    {
     "name": "stdout",
     "output_type": "stream",
     "text": [
      "$Mean\n",
      "[1] 3\n",
      "\n",
      "$Max\n",
      "[1] 5\n",
      "\n"
     ]
    }
   ],
   "source": [
    "\n",
    "summarize_data <- function(df) {\n",
    "  mean_val <- mean(df$values)\n",
    "  max_val <- max(df$values)\n",
    "  return(list(Mean = mean_val, Max = max_val))\n",
    "}\n",
    "\n",
    "# Create a sample data frame\n",
    "data <- data.frame(values = c(1, 2, 3, 4, 5))\n",
    "result <- summarize_data(data)\n",
    "print(result)  \n",
    "# Output: $Mean [1] 3 \n",
    "#         $Max  [1] 5\n"
   ]
  },
  {
   "cell_type": "markdown",
   "id": "eb89ff42-a6fc-4ca2-bb83-dab3a9d8b3d2",
   "metadata": {},
   "source": [
    "## 8. Common Use Cases for Functions in R\n",
    "\n",
    "1. **Data Cleaning**: Write a function to remove NA values or outliers.\n",
    "2. **Statistical Analysis**: Create functions for custom calculations (e.g., mean, median).\n",
    "3. **Visualization**: Automate repetitive plotting tasks.\n",
    "4. **Simulation**: Run experiments with varying parameters."
   ]
  },
  {
   "cell_type": "markdown",
   "id": "666ad3da-0ab2-4d68-9992-c39fbde7a608",
   "metadata": {},
   "source": [
    "### Example 9: Practical Use Case - Cleaning Data"
   ]
  },
  {
   "cell_type": "code",
   "execution_count": 14,
   "id": "a993ec2b-5bb8-49c3-812b-efa759425df2",
   "metadata": {},
   "outputs": [
    {
     "name": "stdout",
     "output_type": "stream",
     "text": [
      "[1] 1 3 5\n"
     ]
    }
   ],
   "source": [
    "\n",
    "remove_na <- function(vec) {\n",
    "  return(vec[!is.na(vec)])\n",
    "}\n",
    "\n",
    "data <- c(1, NA, 3, NA, 5)\n",
    "cleaned_data <- remove_na(data)\n",
    "print(cleaned_data)  # Output: [1] 1 3 5\n"
   ]
  },
  {
   "cell_type": "markdown",
   "id": "f2fe0354-4838-497a-8c6e-481ab32e0da7",
   "metadata": {
    "jp-MarkdownHeadingCollapsed": true
   },
   "source": [
    "## 9. Tips for Writing Functions in R\n",
    "\n",
    "- Use meaningful names for functions and arguments.\n",
    "- Add comments to explain complex logic.\n",
    "- Keep functions short and focused on one task.\n",
    "- Test with different inputs to ensure robustness."
   ]
  },
  {
   "cell_type": "markdown",
   "id": "90ff4eb9-45bd-4998-879e-763cc321f32a",
   "metadata": {},
   "source": [
    "## 10. Summary\n",
    "\n",
    "- A **function** is a reusable block of code that performs a specific task.\n",
    "- Use functions to save time, improve readability, and modularize code.\n",
    "- Functions can return any data type: numeric, string, vector, list, etc.\n",
    "- Arguments can have defaults, and returns can be explicit (`return()`) or implicit.\n",
    "- Scope matters: local variables stay inside functions; global variables are outside."
   ]
  },
  {
   "cell_type": "code",
   "execution_count": null,
   "id": "c55d603c-6bad-4f2d-9875-52e254527f5e",
   "metadata": {},
   "outputs": [],
   "source": []
  }
 ],
 "metadata": {
  "kernelspec": {
   "display_name": "R",
   "language": "R",
   "name": "ir"
  },
  "language_info": {
   "codemirror_mode": "r",
   "file_extension": ".r",
   "mimetype": "text/x-r-source",
   "name": "R",
   "pygments_lexer": "r",
   "version": "4.4.2"
  }
 },
 "nbformat": 4,
 "nbformat_minor": 5
}
