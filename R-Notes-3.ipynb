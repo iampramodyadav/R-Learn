{
 "cells": [
  {
   "cell_type": "markdown",
   "id": "8492ff6c-f769-445c-83b8-43d04adf8c96",
   "metadata": {},
   "source": [
    "### **1. Setting and Checking the Working Directory**\n",
    "\n",
    "R uses a concept of a \"working directory,\" which is the folder where R will look for files to read or save. Managing the working directory allows you to specify where R reads or writes files.\n",
    "\n",
    "#### **Check Current Working Directory**\n",
    "\n",
    "To check the current working directory:"
   ]
  },
  {
   "cell_type": "code",
   "execution_count": 9,
   "id": "415ec747-66e2-40c6-9664-bd11debf5dd8",
   "metadata": {},
   "outputs": [
    {
     "data": {
      "text/html": [
       "'C:/Users/admin/Desktop/GitHub/R-Learn'"
      ],
      "text/latex": [
       "'C:/Users/admin/Desktop/GitHub/R-Learn'"
      ],
      "text/markdown": [
       "'C:/Users/admin/Desktop/GitHub/R-Learn'"
      ],
      "text/plain": [
       "[1] \"C:/Users/admin/Desktop/GitHub/R-Learn\""
      ]
     },
     "metadata": {},
     "output_type": "display_data"
    }
   ],
   "source": [
    "getwd()"
   ]
  },
  {
   "cell_type": "markdown",
   "id": "92c8f7ee-8ced-45dc-95fb-7f8a157c497d",
   "metadata": {},
   "source": [
    "#### **Set Working Directory**\n",
    "\n",
    "You can change the working directory to any folder path:"
   ]
  },
  {
   "cell_type": "code",
   "execution_count": 10,
   "id": "547dfb8c-f6e7-4ec3-937a-29207d8f6f39",
   "metadata": {},
   "outputs": [],
   "source": [
    "# Set working directory\n",
    "setwd(\"C://Users//admin//Desktop//GitHub//R-Learn//new_folder_name\")"
   ]
  },
  {
   "cell_type": "code",
   "execution_count": 11,
   "id": "82e4a902-4b65-4757-8b51-a3b5d26f7012",
   "metadata": {},
   "outputs": [
    {
     "data": {
      "text/html": [
       "'C:/Users/admin/Desktop/GitHub/R-Learn/new_folder_name'"
      ],
      "text/latex": [
       "'C:/Users/admin/Desktop/GitHub/R-Learn/new\\_folder\\_name'"
      ],
      "text/markdown": [
       "'C:/Users/admin/Desktop/GitHub/R-Learn/new_folder_name'"
      ],
      "text/plain": [
       "[1] \"C:/Users/admin/Desktop/GitHub/R-Learn/new_folder_name\""
      ]
     },
     "metadata": {},
     "output_type": "display_data"
    }
   ],
   "source": [
    "getwd()"
   ]
  },
  {
   "cell_type": "code",
   "execution_count": 12,
   "id": "fe1239f8-022a-4e9e-a550-bd0bd1a58dd3",
   "metadata": {},
   "outputs": [],
   "source": [
    "setwd(\"C://Users//admin//Desktop//GitHub//R-Learn\")"
   ]
  },
  {
   "cell_type": "code",
   "execution_count": 13,
   "id": "86163ce0",
   "metadata": {},
   "outputs": [
    {
     "data": {
      "text/html": [
       "'C:/Users/admin/Desktop/GitHub/R-Learn'"
      ],
      "text/latex": [
       "'C:/Users/admin/Desktop/GitHub/R-Learn'"
      ],
      "text/markdown": [
       "'C:/Users/admin/Desktop/GitHub/R-Learn'"
      ],
      "text/plain": [
       "[1] \"C:/Users/admin/Desktop/GitHub/R-Learn\""
      ]
     },
     "metadata": {},
     "output_type": "display_data"
    }
   ],
   "source": [
    "getwd()"
   ]
  },
  {
   "cell_type": "markdown",
   "id": "7dc5e21a-da83-43eb-b170-ae6f964f443b",
   "metadata": {},
   "source": [
    "Replace `\"path/to/your/directory\"` with the path of your desired directory. You can also use relative paths, such as `setwd(\"..\")` to move up one level in the directory tree.\n",
    "\n",
    "---\n",
    "\n",
    "### **2. Listing Files in a Directory**\n",
    "\n",
    "You can list all files and folders in the current working directory, or in any specified directory."
   ]
  },
  {
   "cell_type": "code",
   "execution_count": 14,
   "id": "06ad35a9-194c-4b27-994a-ae6069a3b9a1",
   "metadata": {},
   "outputs": [
    {
     "data": {
      "text/html": [
       "<style>\n",
       ".list-inline {list-style: none; margin:0; padding: 0}\n",
       ".list-inline>li {display: inline-block}\n",
       ".list-inline>li:not(:last-child)::after {content: \"\\00b7\"; padding: 0 .5ex}\n",
       "</style>\n",
       "<ol class=list-inline><li>'ave_file2.csv'</li><li>'CUSTOMJupyNote_LauncH.py'</li><li>'data.csv'</li><li>'DataHandling.ipynb'</li><li>'file.csv'</li><li>'LICENSE'</li><li>'modified_file.csv'</li><li>'my_funtion.R'</li><li>'new_folder_name'</li><li>'output_file.csv'</li><li>'plot.r'</li><li>'plot_data_visualization_R.ipynb'</li><li>'processed_data.csv'</li><li>'R-Notes-3.ipynb'</li><li>'R-Notes1.ipynb'</li><li>'R-Notes2.ipynb'</li><li>'R-Notes2.R'</li><li>'R-Notes3.R'</li><li>'R-Notes4.R'</li><li>'R-Notes5.R'</li><li>'README.md'</li><li>'Rplots.pdf'</li><li>'s4-BasketballData.R'</li><li>'save_file.csv'</li><li>'scatter_plot1.png'</li><li>'test.r'</li><li>'Untitled.ipynb'</li><li>'untitled.r'</li><li>'userInput.r'</li><li>'wait.r'</li><li>'zillow.csv'</li></ol>\n"
      ],
      "text/latex": [
       "\\begin{enumerate*}\n",
       "\\item 'ave\\_file2.csv'\n",
       "\\item 'CUSTOMJupyNote\\_LauncH.py'\n",
       "\\item 'data.csv'\n",
       "\\item 'DataHandling.ipynb'\n",
       "\\item 'file.csv'\n",
       "\\item 'LICENSE'\n",
       "\\item 'modified\\_file.csv'\n",
       "\\item 'my\\_funtion.R'\n",
       "\\item 'new\\_folder\\_name'\n",
       "\\item 'output\\_file.csv'\n",
       "\\item 'plot.r'\n",
       "\\item 'plot\\_data\\_visualization\\_R.ipynb'\n",
       "\\item 'processed\\_data.csv'\n",
       "\\item 'R-Notes-3.ipynb'\n",
       "\\item 'R-Notes1.ipynb'\n",
       "\\item 'R-Notes2.ipynb'\n",
       "\\item 'R-Notes2.R'\n",
       "\\item 'R-Notes3.R'\n",
       "\\item 'R-Notes4.R'\n",
       "\\item 'R-Notes5.R'\n",
       "\\item 'README.md'\n",
       "\\item 'Rplots.pdf'\n",
       "\\item 's4-BasketballData.R'\n",
       "\\item 'save\\_file.csv'\n",
       "\\item 'scatter\\_plot1.png'\n",
       "\\item 'test.r'\n",
       "\\item 'Untitled.ipynb'\n",
       "\\item 'untitled.r'\n",
       "\\item 'userInput.r'\n",
       "\\item 'wait.r'\n",
       "\\item 'zillow.csv'\n",
       "\\end{enumerate*}\n"
      ],
      "text/markdown": [
       "1. 'ave_file2.csv'\n",
       "2. 'CUSTOMJupyNote_LauncH.py'\n",
       "3. 'data.csv'\n",
       "4. 'DataHandling.ipynb'\n",
       "5. 'file.csv'\n",
       "6. 'LICENSE'\n",
       "7. 'modified_file.csv'\n",
       "8. 'my_funtion.R'\n",
       "9. 'new_folder_name'\n",
       "10. 'output_file.csv'\n",
       "11. 'plot.r'\n",
       "12. 'plot_data_visualization_R.ipynb'\n",
       "13. 'processed_data.csv'\n",
       "14. 'R-Notes-3.ipynb'\n",
       "15. 'R-Notes1.ipynb'\n",
       "16. 'R-Notes2.ipynb'\n",
       "17. 'R-Notes2.R'\n",
       "18. 'R-Notes3.R'\n",
       "19. 'R-Notes4.R'\n",
       "20. 'R-Notes5.R'\n",
       "21. 'README.md'\n",
       "22. 'Rplots.pdf'\n",
       "23. 's4-BasketballData.R'\n",
       "24. 'save_file.csv'\n",
       "25. 'scatter_plot1.png'\n",
       "26. 'test.r'\n",
       "27. 'Untitled.ipynb'\n",
       "28. 'untitled.r'\n",
       "29. 'userInput.r'\n",
       "30. 'wait.r'\n",
       "31. 'zillow.csv'\n",
       "\n",
       "\n"
      ],
      "text/plain": [
       " [1] \"ave_file2.csv\"                   \"CUSTOMJupyNote_LauncH.py\"       \n",
       " [3] \"data.csv\"                        \"DataHandling.ipynb\"             \n",
       " [5] \"file.csv\"                        \"LICENSE\"                        \n",
       " [7] \"modified_file.csv\"               \"my_funtion.R\"                   \n",
       " [9] \"new_folder_name\"                 \"output_file.csv\"                \n",
       "[11] \"plot.r\"                          \"plot_data_visualization_R.ipynb\"\n",
       "[13] \"processed_data.csv\"              \"R-Notes-3.ipynb\"                \n",
       "[15] \"R-Notes1.ipynb\"                  \"R-Notes2.ipynb\"                 \n",
       "[17] \"R-Notes2.R\"                      \"R-Notes3.R\"                     \n",
       "[19] \"R-Notes4.R\"                      \"R-Notes5.R\"                     \n",
       "[21] \"README.md\"                       \"Rplots.pdf\"                     \n",
       "[23] \"s4-BasketballData.R\"             \"save_file.csv\"                  \n",
       "[25] \"scatter_plot1.png\"               \"test.r\"                         \n",
       "[27] \"Untitled.ipynb\"                  \"untitled.r\"                     \n",
       "[29] \"userInput.r\"                     \"wait.r\"                         \n",
       "[31] \"zillow.csv\"                     "
      ]
     },
     "metadata": {},
     "output_type": "display_data"
    }
   ],
   "source": [
    "# List files in the current working directory\n",
    "list.files()"
   ]
  },
  {
   "cell_type": "code",
   "execution_count": 16,
   "id": "4db1e046-c434-404f-9692-7b7eeedbfa62",
   "metadata": {},
   "outputs": [
    {
     "data": {
      "text/html": [
       "'source_file.csv'"
      ],
      "text/latex": [
       "'source\\_file.csv'"
      ],
      "text/markdown": [
       "'source_file.csv'"
      ],
      "text/plain": [
       "[1] \"source_file.csv\""
      ]
     },
     "metadata": {},
     "output_type": "display_data"
    }
   ],
   "source": [
    "# List files in a specific directory\n",
    "list.files(\"C://Users//admin//Desktop//GitHub//R-Learn//new_folder_name\")"
   ]
  },
  {
   "cell_type": "markdown",
   "id": "ecf09bf7-e082-46f4-ad94-425bb3234ab3",
   "metadata": {},
   "source": [
    "#### **Advanced Listing with Options**"
   ]
  },
  {
   "cell_type": "code",
   "execution_count": 17,
   "id": "de607df6-1163-46ee-93b9-2090d7bc2e57",
   "metadata": {},
   "outputs": [
    {
     "data": {
      "text/html": [
       "<style>\n",
       ".list-inline {list-style: none; margin:0; padding: 0}\n",
       ".list-inline>li {display: inline-block}\n",
       ".list-inline>li:not(:last-child)::after {content: \"\\00b7\"; padding: 0 .5ex}\n",
       "</style>\n",
       "<ol class=list-inline><li>'.'</li><li>'..'</li><li>'.git'</li><li>'.ipynb_checkpoints'</li><li>'ave_file2.csv'</li><li>'CUSTOMJupyNote_LauncH.py'</li><li>'data.csv'</li><li>'DataHandling.ipynb'</li><li>'file.csv'</li><li>'LICENSE'</li><li>'modified_file.csv'</li><li>'my_funtion.R'</li><li>'new_folder_name'</li><li>'output_file.csv'</li><li>'plot.r'</li><li>'plot_data_visualization_R.ipynb'</li><li>'processed_data.csv'</li><li>'R-Notes-3.ipynb'</li><li>'R-Notes1.ipynb'</li><li>'R-Notes2.ipynb'</li><li>'R-Notes2.R'</li><li>'R-Notes3.R'</li><li>'R-Notes4.R'</li><li>'R-Notes5.R'</li><li>'README.md'</li><li>'Rplots.pdf'</li><li>'s4-BasketballData.R'</li><li>'save_file.csv'</li><li>'scatter_plot1.png'</li><li>'test.r'</li><li>'Untitled.ipynb'</li><li>'untitled.r'</li><li>'userInput.r'</li><li>'wait.r'</li><li>'zillow.csv'</li></ol>\n"
      ],
      "text/latex": [
       "\\begin{enumerate*}\n",
       "\\item '.'\n",
       "\\item '..'\n",
       "\\item '.git'\n",
       "\\item '.ipynb\\_checkpoints'\n",
       "\\item 'ave\\_file2.csv'\n",
       "\\item 'CUSTOMJupyNote\\_LauncH.py'\n",
       "\\item 'data.csv'\n",
       "\\item 'DataHandling.ipynb'\n",
       "\\item 'file.csv'\n",
       "\\item 'LICENSE'\n",
       "\\item 'modified\\_file.csv'\n",
       "\\item 'my\\_funtion.R'\n",
       "\\item 'new\\_folder\\_name'\n",
       "\\item 'output\\_file.csv'\n",
       "\\item 'plot.r'\n",
       "\\item 'plot\\_data\\_visualization\\_R.ipynb'\n",
       "\\item 'processed\\_data.csv'\n",
       "\\item 'R-Notes-3.ipynb'\n",
       "\\item 'R-Notes1.ipynb'\n",
       "\\item 'R-Notes2.ipynb'\n",
       "\\item 'R-Notes2.R'\n",
       "\\item 'R-Notes3.R'\n",
       "\\item 'R-Notes4.R'\n",
       "\\item 'R-Notes5.R'\n",
       "\\item 'README.md'\n",
       "\\item 'Rplots.pdf'\n",
       "\\item 's4-BasketballData.R'\n",
       "\\item 'save\\_file.csv'\n",
       "\\item 'scatter\\_plot1.png'\n",
       "\\item 'test.r'\n",
       "\\item 'Untitled.ipynb'\n",
       "\\item 'untitled.r'\n",
       "\\item 'userInput.r'\n",
       "\\item 'wait.r'\n",
       "\\item 'zillow.csv'\n",
       "\\end{enumerate*}\n"
      ],
      "text/markdown": [
       "1. '.'\n",
       "2. '..'\n",
       "3. '.git'\n",
       "4. '.ipynb_checkpoints'\n",
       "5. 'ave_file2.csv'\n",
       "6. 'CUSTOMJupyNote_LauncH.py'\n",
       "7. 'data.csv'\n",
       "8. 'DataHandling.ipynb'\n",
       "9. 'file.csv'\n",
       "10. 'LICENSE'\n",
       "11. 'modified_file.csv'\n",
       "12. 'my_funtion.R'\n",
       "13. 'new_folder_name'\n",
       "14. 'output_file.csv'\n",
       "15. 'plot.r'\n",
       "16. 'plot_data_visualization_R.ipynb'\n",
       "17. 'processed_data.csv'\n",
       "18. 'R-Notes-3.ipynb'\n",
       "19. 'R-Notes1.ipynb'\n",
       "20. 'R-Notes2.ipynb'\n",
       "21. 'R-Notes2.R'\n",
       "22. 'R-Notes3.R'\n",
       "23. 'R-Notes4.R'\n",
       "24. 'R-Notes5.R'\n",
       "25. 'README.md'\n",
       "26. 'Rplots.pdf'\n",
       "27. 's4-BasketballData.R'\n",
       "28. 'save_file.csv'\n",
       "29. 'scatter_plot1.png'\n",
       "30. 'test.r'\n",
       "31. 'Untitled.ipynb'\n",
       "32. 'untitled.r'\n",
       "33. 'userInput.r'\n",
       "34. 'wait.r'\n",
       "35. 'zillow.csv'\n",
       "\n",
       "\n"
      ],
      "text/plain": [
       " [1] \".\"                               \"..\"                             \n",
       " [3] \".git\"                            \".ipynb_checkpoints\"             \n",
       " [5] \"ave_file2.csv\"                   \"CUSTOMJupyNote_LauncH.py\"       \n",
       " [7] \"data.csv\"                        \"DataHandling.ipynb\"             \n",
       " [9] \"file.csv\"                        \"LICENSE\"                        \n",
       "[11] \"modified_file.csv\"               \"my_funtion.R\"                   \n",
       "[13] \"new_folder_name\"                 \"output_file.csv\"                \n",
       "[15] \"plot.r\"                          \"plot_data_visualization_R.ipynb\"\n",
       "[17] \"processed_data.csv\"              \"R-Notes-3.ipynb\"                \n",
       "[19] \"R-Notes1.ipynb\"                  \"R-Notes2.ipynb\"                 \n",
       "[21] \"R-Notes2.R\"                      \"R-Notes3.R\"                     \n",
       "[23] \"R-Notes4.R\"                      \"R-Notes5.R\"                     \n",
       "[25] \"README.md\"                       \"Rplots.pdf\"                     \n",
       "[27] \"s4-BasketballData.R\"             \"save_file.csv\"                  \n",
       "[29] \"scatter_plot1.png\"               \"test.r\"                         \n",
       "[31] \"Untitled.ipynb\"                  \"untitled.r\"                     \n",
       "[33] \"userInput.r\"                     \"wait.r\"                         \n",
       "[35] \"zillow.csv\"                     "
      ]
     },
     "metadata": {},
     "output_type": "display_data"
    }
   ],
   "source": [
    "# List all files including hidden files\n",
    "list.files(all.files = TRUE)"
   ]
  },
  {
   "cell_type": "code",
   "execution_count": 18,
   "id": "2f536d94-98ba-4211-b1d6-b8cd92961661",
   "metadata": {},
   "outputs": [
    {
     "data": {
      "text/html": [
       "<style>\n",
       ".list-inline {list-style: none; margin:0; padding: 0}\n",
       ".list-inline>li {display: inline-block}\n",
       ".list-inline>li:not(:last-child)::after {content: \"\\00b7\"; padding: 0 .5ex}\n",
       "</style>\n",
       "<ol class=list-inline><li>'./ave_file2.csv'</li><li>'./CUSTOMJupyNote_LauncH.py'</li><li>'./data.csv'</li><li>'./DataHandling.ipynb'</li><li>'./file.csv'</li><li>'./LICENSE'</li><li>'./modified_file.csv'</li><li>'./my_funtion.R'</li><li>'./new_folder_name'</li><li>'./output_file.csv'</li><li>'./plot.r'</li><li>'./plot_data_visualization_R.ipynb'</li><li>'./processed_data.csv'</li><li>'./R-Notes-3.ipynb'</li><li>'./R-Notes1.ipynb'</li><li>'./R-Notes2.ipynb'</li><li>'./R-Notes2.R'</li><li>'./R-Notes3.R'</li><li>'./R-Notes4.R'</li><li>'./R-Notes5.R'</li><li>'./README.md'</li><li>'./Rplots.pdf'</li><li>'./s4-BasketballData.R'</li><li>'./save_file.csv'</li><li>'./scatter_plot1.png'</li><li>'./test.r'</li><li>'./Untitled.ipynb'</li><li>'./untitled.r'</li><li>'./userInput.r'</li><li>'./wait.r'</li><li>'./zillow.csv'</li></ol>\n"
      ],
      "text/latex": [
       "\\begin{enumerate*}\n",
       "\\item './ave\\_file2.csv'\n",
       "\\item './CUSTOMJupyNote\\_LauncH.py'\n",
       "\\item './data.csv'\n",
       "\\item './DataHandling.ipynb'\n",
       "\\item './file.csv'\n",
       "\\item './LICENSE'\n",
       "\\item './modified\\_file.csv'\n",
       "\\item './my\\_funtion.R'\n",
       "\\item './new\\_folder\\_name'\n",
       "\\item './output\\_file.csv'\n",
       "\\item './plot.r'\n",
       "\\item './plot\\_data\\_visualization\\_R.ipynb'\n",
       "\\item './processed\\_data.csv'\n",
       "\\item './R-Notes-3.ipynb'\n",
       "\\item './R-Notes1.ipynb'\n",
       "\\item './R-Notes2.ipynb'\n",
       "\\item './R-Notes2.R'\n",
       "\\item './R-Notes3.R'\n",
       "\\item './R-Notes4.R'\n",
       "\\item './R-Notes5.R'\n",
       "\\item './README.md'\n",
       "\\item './Rplots.pdf'\n",
       "\\item './s4-BasketballData.R'\n",
       "\\item './save\\_file.csv'\n",
       "\\item './scatter\\_plot1.png'\n",
       "\\item './test.r'\n",
       "\\item './Untitled.ipynb'\n",
       "\\item './untitled.r'\n",
       "\\item './userInput.r'\n",
       "\\item './wait.r'\n",
       "\\item './zillow.csv'\n",
       "\\end{enumerate*}\n"
      ],
      "text/markdown": [
       "1. './ave_file2.csv'\n",
       "2. './CUSTOMJupyNote_LauncH.py'\n",
       "3. './data.csv'\n",
       "4. './DataHandling.ipynb'\n",
       "5. './file.csv'\n",
       "6. './LICENSE'\n",
       "7. './modified_file.csv'\n",
       "8. './my_funtion.R'\n",
       "9. './new_folder_name'\n",
       "10. './output_file.csv'\n",
       "11. './plot.r'\n",
       "12. './plot_data_visualization_R.ipynb'\n",
       "13. './processed_data.csv'\n",
       "14. './R-Notes-3.ipynb'\n",
       "15. './R-Notes1.ipynb'\n",
       "16. './R-Notes2.ipynb'\n",
       "17. './R-Notes2.R'\n",
       "18. './R-Notes3.R'\n",
       "19. './R-Notes4.R'\n",
       "20. './R-Notes5.R'\n",
       "21. './README.md'\n",
       "22. './Rplots.pdf'\n",
       "23. './s4-BasketballData.R'\n",
       "24. './save_file.csv'\n",
       "25. './scatter_plot1.png'\n",
       "26. './test.r'\n",
       "27. './Untitled.ipynb'\n",
       "28. './untitled.r'\n",
       "29. './userInput.r'\n",
       "30. './wait.r'\n",
       "31. './zillow.csv'\n",
       "\n",
       "\n"
      ],
      "text/plain": [
       " [1] \"./ave_file2.csv\"                   \"./CUSTOMJupyNote_LauncH.py\"       \n",
       " [3] \"./data.csv\"                        \"./DataHandling.ipynb\"             \n",
       " [5] \"./file.csv\"                        \"./LICENSE\"                        \n",
       " [7] \"./modified_file.csv\"               \"./my_funtion.R\"                   \n",
       " [9] \"./new_folder_name\"                 \"./output_file.csv\"                \n",
       "[11] \"./plot.r\"                          \"./plot_data_visualization_R.ipynb\"\n",
       "[13] \"./processed_data.csv\"              \"./R-Notes-3.ipynb\"                \n",
       "[15] \"./R-Notes1.ipynb\"                  \"./R-Notes2.ipynb\"                 \n",
       "[17] \"./R-Notes2.R\"                      \"./R-Notes3.R\"                     \n",
       "[19] \"./R-Notes4.R\"                      \"./R-Notes5.R\"                     \n",
       "[21] \"./README.md\"                       \"./Rplots.pdf\"                     \n",
       "[23] \"./s4-BasketballData.R\"             \"./save_file.csv\"                  \n",
       "[25] \"./scatter_plot1.png\"               \"./test.r\"                         \n",
       "[27] \"./Untitled.ipynb\"                  \"./untitled.r\"                     \n",
       "[29] \"./userInput.r\"                     \"./wait.r\"                         \n",
       "[31] \"./zillow.csv\"                     "
      ]
     },
     "metadata": {},
     "output_type": "display_data"
    }
   ],
   "source": [
    "# List files with full paths\n",
    "list.files(full.names = TRUE)"
   ]
  },
  {
   "cell_type": "markdown",
   "id": "d66f165b-cc52-491a-a879-217f70909034",
   "metadata": {},
   "source": [
    "### **3. Creating, Copying, Moving, and Deleting Files**\n",
    "\n",
    "These operations allow you to create new directories, copy, move, and delete files from within R.\n",
    "\n",
    "#### **Creating a Directory**\n",
    "\n",
    "You can create a new directory:"
   ]
  },
  {
   "cell_type": "code",
   "execution_count": 19,
   "id": "14d569fb-c4ca-43ec-8c76-ca64367ec8d7",
   "metadata": {},
   "outputs": [],
   "source": [
    "dir.create(\"new_folder_name1\")"
   ]
  },
  {
   "cell_type": "markdown",
   "id": "19d0c253-f595-44da-a652-73ea817c67a9",
   "metadata": {},
   "source": [
    "#### **Copying Files**\n",
    "\n",
    "To copy files from one location to another:"
   ]
  },
  {
   "cell_type": "code",
   "execution_count": 20,
   "id": "dfb8558a-ed58-4c61-b2bf-91f05b0379cf",
   "metadata": {},
   "outputs": [
    {
     "data": {
      "text/html": [
       "FALSE"
      ],
      "text/latex": [
       "FALSE"
      ],
      "text/markdown": [
       "FALSE"
      ],
      "text/plain": [
       "[1] FALSE"
      ]
     },
     "metadata": {},
     "output_type": "display_data"
    }
   ],
   "source": [
    "# Copy a file\n",
    "file.copy(\"data.csv\", \"new_folder_name/source_file.csv\")"
   ]
  },
  {
   "cell_type": "markdown",
   "id": "350f1566-76c6-49ac-9fba-f4d4818bf244",
   "metadata": {},
   "source": [
    "#### **Moving or Renaming Files**\n",
    "\n",
    "To move or rename files, use `file.rename()`:"
   ]
  },
  {
   "cell_type": "code",
   "execution_count": 21,
   "id": "cdb90a88-a239-49fe-bc03-634a55e9655c",
   "metadata": {},
   "outputs": [
    {
     "name": "stderr",
     "output_type": "stream",
     "text": [
      "Warning message in file.rename(\"scatter_plot.png\", \"scatter_plot1.png\"):\n",
      "\"cannot rename file 'scatter_plot.png' to 'scatter_plot1.png', reason 'The system cannot find the file specified'\"\n"
     ]
    },
    {
     "data": {
      "text/html": [
       "FALSE"
      ],
      "text/latex": [
       "FALSE"
      ],
      "text/markdown": [
       "FALSE"
      ],
      "text/plain": [
       "[1] FALSE"
      ]
     },
     "metadata": {},
     "output_type": "display_data"
    }
   ],
   "source": [
    "\n",
    "# Rename or move a file\n",
    "file.rename(\"scatter_plot.png\", \"scatter_plot1.png\")\n"
   ]
  },
  {
   "cell_type": "markdown",
   "id": "6e20ca75-fae3-4ed4-9967-b65c1920f695",
   "metadata": {},
   "source": [
    "#### **Deleting Files**\n",
    "\n",
    "To delete a file:"
   ]
  },
  {
   "cell_type": "code",
   "execution_count": 22,
   "id": "f373d0d1-389e-4de4-aaee-8923008d6ab5",
   "metadata": {
    "jp-MarkdownHeadingCollapsed": true
   },
   "outputs": [
    {
     "name": "stderr",
     "output_type": "stream",
     "text": [
      "Warning message in file.remove(\"file_to_delete.txt\"):\n",
      "\"cannot remove file 'file_to_delete.txt', reason 'No such file or directory'\"\n"
     ]
    },
    {
     "data": {
      "text/html": [
       "FALSE"
      ],
      "text/latex": [
       "FALSE"
      ],
      "text/markdown": [
       "FALSE"
      ],
      "text/plain": [
       "[1] FALSE"
      ]
     },
     "metadata": {},
     "output_type": "display_data"
    }
   ],
   "source": [
    "file.remove(\"file_to_delete.txt\")"
   ]
  },
  {
   "cell_type": "markdown",
   "id": "89c3d014-471e-4033-8cff-9c6b87ce4712",
   "metadata": {},
   "source": [
    "### **4. Reading and Writing Files**\n",
    "\n",
    "R offers several functions to read from and write to files. Here’s an example with a `.csv` file.\n",
    "\n",
    "#### **Reading a File**"
   ]
  },
  {
   "cell_type": "code",
   "execution_count": 12,
   "id": "46b05b6a-5d01-4006-8971-3b66eda0650e",
   "metadata": {
    "jp-MarkdownHeadingCollapsed": true
   },
   "outputs": [
    {
     "data": {
      "text/html": [
       "<table class=\"dataframe\">\n",
       "<caption>A data.frame: 6 × 7</caption>\n",
       "<thead>\n",
       "\t<tr><th></th><th scope=col>Index</th><th scope=col>Living.Space..sq.ft.</th><th scope=col>Beds</th><th scope=col>Baths</th><th scope=col>Zip</th><th scope=col>Year</th><th scope=col>List.Price....</th></tr>\n",
       "\t<tr><th></th><th scope=col>&lt;int&gt;</th><th scope=col>&lt;int&gt;</th><th scope=col>&lt;int&gt;</th><th scope=col>&lt;dbl&gt;</th><th scope=col>&lt;int&gt;</th><th scope=col>&lt;int&gt;</th><th scope=col>&lt;int&gt;</th></tr>\n",
       "</thead>\n",
       "<tbody>\n",
       "\t<tr><th scope=row>1</th><td>1</td><td>2222</td><td>3</td><td>3.5</td><td>32312</td><td>1981</td><td>250000</td></tr>\n",
       "\t<tr><th scope=row>2</th><td>2</td><td>1628</td><td>3</td><td>2.0</td><td>32308</td><td>2009</td><td>185000</td></tr>\n",
       "\t<tr><th scope=row>3</th><td>3</td><td>3824</td><td>5</td><td>4.0</td><td>32312</td><td>1954</td><td>399000</td></tr>\n",
       "\t<tr><th scope=row>4</th><td>4</td><td>1137</td><td>3</td><td>2.0</td><td>32309</td><td>1993</td><td>150000</td></tr>\n",
       "\t<tr><th scope=row>5</th><td>5</td><td>3560</td><td>6</td><td>4.0</td><td>32309</td><td>1973</td><td>315000</td></tr>\n",
       "\t<tr><th scope=row>6</th><td>6</td><td>2893</td><td>4</td><td>3.0</td><td>32312</td><td>1994</td><td>699000</td></tr>\n",
       "</tbody>\n",
       "</table>\n"
      ],
      "text/latex": [
       "A data.frame: 6 × 7\n",
       "\\begin{tabular}{r|lllllll}\n",
       "  & Index & Living.Space..sq.ft. & Beds & Baths & Zip & Year & List.Price....\\\\\n",
       "  & <int> & <int> & <int> & <dbl> & <int> & <int> & <int>\\\\\n",
       "\\hline\n",
       "\t1 & 1 & 2222 & 3 & 3.5 & 32312 & 1981 & 250000\\\\\n",
       "\t2 & 2 & 1628 & 3 & 2.0 & 32308 & 2009 & 185000\\\\\n",
       "\t3 & 3 & 3824 & 5 & 4.0 & 32312 & 1954 & 399000\\\\\n",
       "\t4 & 4 & 1137 & 3 & 2.0 & 32309 & 1993 & 150000\\\\\n",
       "\t5 & 5 & 3560 & 6 & 4.0 & 32309 & 1973 & 315000\\\\\n",
       "\t6 & 6 & 2893 & 4 & 3.0 & 32312 & 1994 & 699000\\\\\n",
       "\\end{tabular}\n"
      ],
      "text/markdown": [
       "\n",
       "A data.frame: 6 × 7\n",
       "\n",
       "| <!--/--> | Index &lt;int&gt; | Living.Space..sq.ft. &lt;int&gt; | Beds &lt;int&gt; | Baths &lt;dbl&gt; | Zip &lt;int&gt; | Year &lt;int&gt; | List.Price.... &lt;int&gt; |\n",
       "|---|---|---|---|---|---|---|---|\n",
       "| 1 | 1 | 2222 | 3 | 3.5 | 32312 | 1981 | 250000 |\n",
       "| 2 | 2 | 1628 | 3 | 2.0 | 32308 | 2009 | 185000 |\n",
       "| 3 | 3 | 3824 | 5 | 4.0 | 32312 | 1954 | 399000 |\n",
       "| 4 | 4 | 1137 | 3 | 2.0 | 32309 | 1993 | 150000 |\n",
       "| 5 | 5 | 3560 | 6 | 4.0 | 32309 | 1973 | 315000 |\n",
       "| 6 | 6 | 2893 | 4 | 3.0 | 32312 | 1994 | 699000 |\n",
       "\n"
      ],
      "text/plain": [
       "  Index Living.Space..sq.ft. Beds Baths Zip   Year List.Price....\n",
       "1 1     2222                 3    3.5   32312 1981 250000        \n",
       "2 2     1628                 3    2.0   32308 2009 185000        \n",
       "3 3     3824                 5    4.0   32312 1954 399000        \n",
       "4 4     1137                 3    2.0   32309 1993 150000        \n",
       "5 5     3560                 6    4.0   32309 1973 315000        \n",
       "6 6     2893                 4    3.0   32312 1994 699000        "
      ]
     },
     "metadata": {},
     "output_type": "display_data"
    }
   ],
   "source": [
    "data <- read.csv(\"modified_file.csv\")\n",
    "head(data)"
   ]
  },
  {
   "cell_type": "markdown",
   "id": "a24ef4a5-f41c-467e-9cef-2116263f03b9",
   "metadata": {},
   "source": [
    "#### **Writing to a File**"
   ]
  },
  {
   "cell_type": "code",
   "execution_count": 13,
   "id": "d7383d8a-722d-45e5-98f9-35731688ef28",
   "metadata": {
    "jp-MarkdownHeadingCollapsed": true
   },
   "outputs": [],
   "source": [
    "\n",
    "write.csv(data, \"output_file.csv\")\n"
   ]
  },
  {
   "cell_type": "markdown",
   "id": "3a9a1c92-e669-4d32-8b60-3b7435c05420",
   "metadata": {},
   "source": [
    "### **5. Calling Functions from External Scripts**\n",
    "\n",
    "Sometimes, you might want to separate functions into different files to organize your code better. You can source these files and call their functions in your main R script.\n",
    "\n",
    "#### **Example: Sourcing an External Script**\n",
    "\n",
    "Suppose you have a file called `my_functions.R` in a folder. Here’s how you’d source it and call a function from it:\n",
    "\n",
    "1. **Create `my_functions.R`**:"
   ]
  },
  {
   "cell_type": "markdown",
   "id": "038e1391-590b-49eb-aaa0-42a7cd07386f",
   "metadata": {
    "jp-MarkdownHeadingCollapsed": true
   },
   "source": [
    "```R\n",
    "   # Inside my_functions.R file\n",
    "   add_numbers <- function(a, b) {\n",
    "       return(a + b)\n",
    "   }\n",
    "\n",
    "\n",
    "\n",
    "   sub_numbers <- function(a, b) {\n",
    "       return(a - b)\n",
    "   }\n",
    "```"
   ]
  },
  {
   "cell_type": "markdown",
   "id": "0ed073be-33b1-4133-b65a-b0d60fe2d9d1",
   "metadata": {
    "jp-MarkdownHeadingCollapsed": true
   },
   "source": [
    "2. **Source and Call the Function**:"
   ]
  },
  {
   "cell_type": "code",
   "execution_count": null,
   "id": "80c4e14b-5d9e-40cd-b63c-0c15dd94892d",
   "metadata": {
    "jp-MarkdownHeadingCollapsed": true
   },
   "outputs": [],
   "source": [
    "# In your main R script\n",
    "source(\"my_funtion.R\")"
   ]
  },
  {
   "cell_type": "code",
   "execution_count": null,
   "id": "9800940b-69a4-4037-8444-9965020973d7",
   "metadata": {
    "jp-MarkdownHeadingCollapsed": true
   },
   "outputs": [
    {
     "name": "stdout",
     "output_type": "stream",
     "text": [
      "[1] 30\n"
     ]
    }
   ],
   "source": [
    "   # Call the function from my_functions.R\n",
    "result <- add_numbers(10, 20)\n",
    "print(result) # Output should be 30"
   ]
  },
  {
   "cell_type": "code",
   "execution_count": 19,
   "id": "e317f9bd-e704-41ca-ae21-9ec173216089",
   "metadata": {},
   "outputs": [
    {
     "name": "stdout",
     "output_type": "stream",
     "text": [
      "[1] -10\n"
     ]
    }
   ],
   "source": [
    "result <- sub_numbers(10, 20)\n",
    "print(result) # Output should be 30"
   ]
  },
  {
   "cell_type": "markdown",
   "id": "4cb14e96-831e-417e-a426-352662fff521",
   "metadata": {},
   "source": [
    "---\n",
    "\n",
    "### **6. Checking File Properties**\n",
    "\n",
    "R also provides functions to check for the existence of files or directories, file size, and modification time.\n",
    "\n",
    "#### **Check if a File Exists**"
   ]
  },
  {
   "cell_type": "code",
   "execution_count": 21,
   "id": "734bfbcc-54f6-49b2-9395-e56a66c36fff",
   "metadata": {
    "jp-MarkdownHeadingCollapsed": true
   },
   "outputs": [
    {
     "data": {
      "text/html": [
       "TRUE"
      ],
      "text/latex": [
       "TRUE"
      ],
      "text/markdown": [
       "TRUE"
      ],
      "text/plain": [
       "[1] TRUE"
      ]
     },
     "metadata": {},
     "output_type": "display_data"
    }
   ],
   "source": [
    "file.exists(\"my_funtion.R\")"
   ]
  },
  {
   "cell_type": "markdown",
   "id": "8a068319-820a-4188-aceb-bf052767f726",
   "metadata": {},
   "source": [
    "#### **Get File Information**"
   ]
  },
  {
   "cell_type": "code",
   "execution_count": 22,
   "id": "ac98e353-43fc-4053-9c39-2f2919718c5f",
   "metadata": {},
   "outputs": [
    {
     "data": {
      "text/html": [
       "125"
      ],
      "text/latex": [
       "125"
      ],
      "text/markdown": [
       "125"
      ],
      "text/plain": [
       "[1] 125"
      ]
     },
     "metadata": {},
     "output_type": "display_data"
    }
   ],
   "source": [
    "# File size\n",
    "file.info(\"my_funtion.R\")$size"
   ]
  },
  {
   "cell_type": "code",
   "execution_count": 24,
   "id": "ad13b759-8fb0-43eb-8e06-1e4cadc13a30",
   "metadata": {},
   "outputs": [
    {
     "data": {
      "text/plain": [
       "[1] \"2024-11-06 19:02:19 CET\""
      ]
     },
     "metadata": {},
     "output_type": "display_data"
    }
   ],
   "source": [
    "# Modification time\n",
    "file.info(\"my_funtion.R\")$mtime"
   ]
  },
  {
   "cell_type": "markdown",
   "id": "6feb54f3-785b-419b-b926-e15e41760afe",
   "metadata": {},
   "source": [
    "\n",
    "\n",
    "### **7. Practical Example of File and Directory Management in R**\n",
    "\n",
    "Here’s an example workflow using multiple file system functions in R."
   ]
  },
  {
   "cell_type": "markdown",
   "id": "89e94b3d-a814-4a3e-81b0-ccddbce65ed0",
   "metadata": {
    "jp-MarkdownHeadingCollapsed": true
   },
   "source": [
    "\n",
    "```R\n",
    "# Set working directory\n",
    "setwd(\"path/to/your/main/directory\")\n",
    "\n",
    "# Check current working directory\n",
    "print(getwd())\n",
    "\n",
    "# Create a new directory if it doesn't exist\n",
    "if (!dir.exists(\"data_folder\")) {\n",
    "    dir.create(\"data_folder\")\n",
    "}\n",
    "\n",
    "# Copy a file to the new directory\n",
    "file.copy(\"source_file.csv\", \"data_folder/source_file.csv\")\n",
    "\n",
    "# List files in the new directory\n",
    "list.files(\"data_folder\")\n",
    "\n",
    "# Source and use a function from an external script\n",
    "source(\"data_folder/my_functions.R\")\n",
    "result <- add_numbers(5, 10)\n",
    "print(result)\n",
    "\n",
    "# Delete the copied file\n",
    "file.remove(\"data_folder/source_file.csv\")\n",
    "\n",
    "# Remove the new directory\n",
    "unlink(\"data_folder\", recursive = TRUE)\n",
    "\n",
    "```\n"
   ]
  },
  {
   "cell_type": "markdown",
   "id": "2a9ce668-a781-465e-a226-364080e6f1d7",
   "metadata": {
    "jp-MarkdownHeadingCollapsed": true
   },
   "source": [
    "---\n",
    "\n",
    "### **8. Summary of Commands**\n",
    "\n",
    "| Function                   | Purpose                                                      |\n",
    "|----------------------------|--------------------------------------------------------------|\n",
    "| `getwd()`                  | Get current working directory                                |\n",
    "| `setwd(\"path\")`            | Set working directory                                        |\n",
    "| `list.files(\"path\")`       | List files in a directory                                    |\n",
    "| `dir.create(\"folder\")`     | Create a new folder                                          |\n",
    "| `file.copy(\"from\", \"to\")`  | Copy a file                                                  |\n",
    "| `file.rename(\"old\", \"new\")`| Rename or move a file                                        |\n",
    "| `file.remove(\"file\")`      | Delete a file                                                |\n",
    "| `file.exists(\"file\")`      | Check if a file exists                                       |\n",
    "| `file.info(\"file\")`        | Get file information (size, modification time)               |\n",
    "| `source(\"file.R\")`         | Source an external R script and call its functions           |\n",
    "| `unlink(\"folder\", TRUE)`   | Delete a directory and all its contents                      |\n",
    "\n",
    "These commands provide a comprehensive toolkit for handling files and directories in R, making it easier to organize and automate tasks in your projects. Let me know if you need further details on any specific command or feature."
   ]
  },
  {
   "cell_type": "markdown",
   "id": "79b9803d-f82e-4a0c-97ab-0a386351b059",
   "metadata": {},
   "source": [
    "\n",
    "### **8. Summary of Commands**\n",
    "\n",
    "| Function                   | Purpose                                                      |\n",
    "|----------------------------|--------------------------------------------------------------|\n",
    "| `getwd()`                  | Get current working directory                                |\n",
    "| `setwd(\"path\")`            | Set working directory                                        |\n",
    "| `list.files(\"path\")`       | List files in a directory                                    |\n",
    "| `dir.create(\"folder\")`     | Create a new folder                                          |\n",
    "| `file.copy(\"from\", \"to\")`  | Copy a file                                                  |\n",
    "| `file.rename(\"old\", \"new\")`| Rename or move a file                                        |\n",
    "| `file.remove(\"file\")`      | Delete a file                                                |\n",
    "| `file.exists(\"file\")`      | Check if a file exists                                       |\n",
    "| `file.info(\"file\")`        | Get file information (size, modification time)               |\n",
    "| `source(\"file.R\")`         | Source an external R script and call its functions           |\n",
    "| `unlink(\"folder\", TRUE)`   | Delete a directory and all its contents                      |\n"
   ]
  },
  {
   "cell_type": "code",
   "execution_count": null,
   "id": "96119da7-0ffb-4f82-aad3-38f2dd5cb784",
   "metadata": {},
   "outputs": [],
   "source": []
  }
 ],
 "metadata": {
  "kernelspec": {
   "display_name": "R",
   "language": "R",
   "name": "ir"
  },
  "language_info": {
   "codemirror_mode": "r",
   "file_extension": ".r",
   "mimetype": "text/x-r-source",
   "name": "R",
   "pygments_lexer": "r",
   "version": "4.4.1"
  }
 },
 "nbformat": 4,
 "nbformat_minor": 5
}
