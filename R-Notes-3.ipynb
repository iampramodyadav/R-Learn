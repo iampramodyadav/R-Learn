{
 "cells": [
  {
   "cell_type": "markdown",
   "id": "8492ff6c-f769-445c-83b8-43d04adf8c96",
   "metadata": {},
   "source": [
    "### **1. Setting and Checking the Working Directory**\n",
    "\n",
    "R uses a concept of a \"working directory,\" which is the folder where R will look for files to read or save. Managing the working directory allows you to specify where R reads or writes files.\n",
    "\n",
    "#### **Check Current Working Directory**\n",
    "\n",
    "To check the current working directory:"
   ]
  },
  {
   "cell_type": "code",
   "execution_count": 9,
   "id": "415ec747-66e2-40c6-9664-bd11debf5dd8",
   "metadata": {},
   "outputs": [
    {
     "data": {
      "text/html": [
       "'C:/Users/admin/Desktop/GitHub/R-Learn'"
      ],
      "text/latex": [
       "'C:/Users/admin/Desktop/GitHub/R-Learn'"
      ],
      "text/markdown": [
       "'C:/Users/admin/Desktop/GitHub/R-Learn'"
      ],
      "text/plain": [
       "[1] \"C:/Users/admin/Desktop/GitHub/R-Learn\""
      ]
     },
     "metadata": {},
     "output_type": "display_data"
    }
   ],
   "source": [
    "getwd()"
   ]
  },
  {
   "cell_type": "markdown",
   "id": "92c8f7ee-8ced-45dc-95fb-7f8a157c497d",
   "metadata": {},
   "source": [
    "#### **Set Working Directory**\n",
    "\n",
    "You can change the working directory to any folder path:"
   ]
  },
  {
   "cell_type": "code",
   "execution_count": 10,
   "id": "547dfb8c-f6e7-4ec3-937a-29207d8f6f39",
   "metadata": {},
   "outputs": [],
   "source": [
    "# Set working directory\n",
    "setwd(\"C://Users//admin//Desktop//GitHub//R-Learn//new_folder_name\")"
   ]
  },
  {
   "cell_type": "code",
   "execution_count": 11,
   "id": "82e4a902-4b65-4757-8b51-a3b5d26f7012",
   "metadata": {},
   "outputs": [
    {
     "data": {
      "text/html": [
       "'C:/Users/admin/Desktop/GitHub/R-Learn/new_folder_name'"
      ],
      "text/latex": [
       "'C:/Users/admin/Desktop/GitHub/R-Learn/new\\_folder\\_name'"
      ],
      "text/markdown": [
       "'C:/Users/admin/Desktop/GitHub/R-Learn/new_folder_name'"
      ],
      "text/plain": [
       "[1] \"C:/Users/admin/Desktop/GitHub/R-Learn/new_folder_name\""
      ]
     },
     "metadata": {},
     "output_type": "display_data"
    }
   ],
   "source": [
    "getwd()"
   ]
  },
  {
   "cell_type": "code",
   "execution_count": 12,
   "id": "fe1239f8-022a-4e9e-a550-bd0bd1a58dd3",
   "metadata": {},
   "outputs": [],
   "source": [
    "setwd(\"C://Users//admin//Desktop//GitHub//R-Learn\")"
   ]
  },
  {
   "cell_type": "code",
   "execution_count": 13,
   "id": "86163ce0",
   "metadata": {},
   "outputs": [
    {
     "data": {
      "text/html": [
       "'C:/Users/admin/Desktop/GitHub/R-Learn'"
      ],
      "text/latex": [
       "'C:/Users/admin/Desktop/GitHub/R-Learn'"
      ],
      "text/markdown": [
       "'C:/Users/admin/Desktop/GitHub/R-Learn'"
      ],
      "text/plain": [
       "[1] \"C:/Users/admin/Desktop/GitHub/R-Learn\""
      ]
     },
     "metadata": {},
     "output_type": "display_data"
    }
   ],
   "source": [
    "getwd()"
   ]
  },
  {
   "cell_type": "markdown",
   "id": "7dc5e21a-da83-43eb-b170-ae6f964f443b",
   "metadata": {},
   "source": [
    "Replace `\"path/to/your/directory\"` with the path of your desired directory. You can also use relative paths, such as `setwd(\"..\")` to move up one level in the directory tree.\n",
    "\n",
    "---\n",
    "\n",
    "### **2. Listing Files in a Directory**\n",
    "\n",
    "You can list all files and folders in the current working directory, or in any specified directory."
   ]
  },
  {
   "cell_type": "code",
   "execution_count": 14,
   "id": "06ad35a9-194c-4b27-994a-ae6069a3b9a1",
   "metadata": {},
   "outputs": [
    {
     "data": {
      "text/html": [
       "<style>\n",
       ".list-inline {list-style: none; margin:0; padding: 0}\n",
       ".list-inline>li {display: inline-block}\n",
       ".list-inline>li:not(:last-child)::after {content: \"\\00b7\"; padding: 0 .5ex}\n",
       "</style>\n",
       "<ol class=list-inline><li>'ave_file2.csv'</li><li>'CUSTOMJupyNote_LauncH.py'</li><li>'data.csv'</li><li>'DataHandling.ipynb'</li><li>'file.csv'</li><li>'LICENSE'</li><li>'modified_file.csv'</li><li>'my_funtion.R'</li><li>'new_folder_name'</li><li>'output_file.csv'</li><li>'plot.r'</li><li>'plot_data_visualization_R.ipynb'</li><li>'processed_data.csv'</li><li>'R-Notes-3.ipynb'</li><li>'R-Notes1.ipynb'</li><li>'R-Notes2.ipynb'</li><li>'R-Notes2.R'</li><li>'R-Notes3.R'</li><li>'R-Notes4.R'</li><li>'R-Notes5.R'</li><li>'README.md'</li><li>'Rplots.pdf'</li><li>'s4-BasketballData.R'</li><li>'save_file.csv'</li><li>'scatter_plot1.png'</li><li>'test.r'</li><li>'Untitled.ipynb'</li><li>'untitled.r'</li><li>'userInput.r'</li><li>'wait.r'</li><li>'zillow.csv'</li></ol>\n"
      ],
      "text/latex": [
       "\\begin{enumerate*}\n",
       "\\item 'ave\\_file2.csv'\n",
       "\\item 'CUSTOMJupyNote\\_LauncH.py'\n",
       "\\item 'data.csv'\n",
       "\\item 'DataHandling.ipynb'\n",
       "\\item 'file.csv'\n",
       "\\item 'LICENSE'\n",
       "\\item 'modified\\_file.csv'\n",
       "\\item 'my\\_funtion.R'\n",
       "\\item 'new\\_folder\\_name'\n",
       "\\item 'output\\_file.csv'\n",
       "\\item 'plot.r'\n",
       "\\item 'plot\\_data\\_visualization\\_R.ipynb'\n",
       "\\item 'processed\\_data.csv'\n",
       "\\item 'R-Notes-3.ipynb'\n",
       "\\item 'R-Notes1.ipynb'\n",
       "\\item 'R-Notes2.ipynb'\n",
       "\\item 'R-Notes2.R'\n",
       "\\item 'R-Notes3.R'\n",
       "\\item 'R-Notes4.R'\n",
       "\\item 'R-Notes5.R'\n",
       "\\item 'README.md'\n",
       "\\item 'Rplots.pdf'\n",
       "\\item 's4-BasketballData.R'\n",
       "\\item 'save\\_file.csv'\n",
       "\\item 'scatter\\_plot1.png'\n",
       "\\item 'test.r'\n",
       "\\item 'Untitled.ipynb'\n",
       "\\item 'untitled.r'\n",
       "\\item 'userInput.r'\n",
       "\\item 'wait.r'\n",
       "\\item 'zillow.csv'\n",
       "\\end{enumerate*}\n"
      ],
      "text/markdown": [
       "1. 'ave_file2.csv'\n",
       "2. 'CUSTOMJupyNote_LauncH.py'\n",
       "3. 'data.csv'\n",
       "4. 'DataHandling.ipynb'\n",
       "5. 'file.csv'\n",
       "6. 'LICENSE'\n",
       "7. 'modified_file.csv'\n",
       "8. 'my_funtion.R'\n",
       "9. 'new_folder_name'\n",
       "10. 'output_file.csv'\n",
       "11. 'plot.r'\n",
       "12. 'plot_data_visualization_R.ipynb'\n",
       "13. 'processed_data.csv'\n",
       "14. 'R-Notes-3.ipynb'\n",
       "15. 'R-Notes1.ipynb'\n",
       "16. 'R-Notes2.ipynb'\n",
       "17. 'R-Notes2.R'\n",
       "18. 'R-Notes3.R'\n",
       "19. 'R-Notes4.R'\n",
       "20. 'R-Notes5.R'\n",
       "21. 'README.md'\n",
       "22. 'Rplots.pdf'\n",
       "23. 's4-BasketballData.R'\n",
       "24. 'save_file.csv'\n",
       "25. 'scatter_plot1.png'\n",
       "26. 'test.r'\n",
       "27. 'Untitled.ipynb'\n",
       "28. 'untitled.r'\n",
       "29. 'userInput.r'\n",
       "30. 'wait.r'\n",
       "31. 'zillow.csv'\n",
       "\n",
       "\n"
      ],
      "text/plain": [
       " [1] \"ave_file2.csv\"                   \"CUSTOMJupyNote_LauncH.py\"       \n",
       " [3] \"data.csv\"                        \"DataHandling.ipynb\"             \n",
       " [5] \"file.csv\"                        \"LICENSE\"                        \n",
       " [7] \"modified_file.csv\"               \"my_funtion.R\"                   \n",
       " [9] \"new_folder_name\"                 \"output_file.csv\"                \n",
       "[11] \"plot.r\"                          \"plot_data_visualization_R.ipynb\"\n",
       "[13] \"processed_data.csv\"              \"R-Notes-3.ipynb\"                \n",
       "[15] \"R-Notes1.ipynb\"                  \"R-Notes2.ipynb\"                 \n",
       "[17] \"R-Notes2.R\"                      \"R-Notes3.R\"                     \n",
       "[19] \"R-Notes4.R\"                      \"R-Notes5.R\"                     \n",
       "[21] \"README.md\"                       \"Rplots.pdf\"                     \n",
       "[23] \"s4-BasketballData.R\"             \"save_file.csv\"                  \n",
       "[25] \"scatter_plot1.png\"               \"test.r\"                         \n",
       "[27] \"Untitled.ipynb\"                  \"untitled.r\"                     \n",
       "[29] \"userInput.r\"                     \"wait.r\"                         \n",
       "[31] \"zillow.csv\"                     "
      ]
     },
     "metadata": {},
     "output_type": "display_data"
    }
   ],
   "source": [
    "# List files in the current working directory\n",
    "list.files()"
   ]
  },
  {
   "cell_type": "code",
   "execution_count": 16,
   "id": "4db1e046-c434-404f-9692-7b7eeedbfa62",
   "metadata": {},
   "outputs": [
    {
     "data": {
      "text/html": [
       "'source_file.csv'"
      ],
      "text/latex": [
       "'source\\_file.csv'"
      ],
      "text/markdown": [
       "'source_file.csv'"
      ],
      "text/plain": [
       "[1] \"source_file.csv\""
      ]
     },
     "metadata": {},
     "output_type": "display_data"
    }
   ],
   "source": [
    "# List files in a specific directory\n",
    "list.files(\"C://Users//admin//Desktop//GitHub//R-Learn//new_folder_name\")"
   ]
  },
  {
   "cell_type": "markdown",
   "id": "ecf09bf7-e082-46f4-ad94-425bb3234ab3",
   "metadata": {},
   "source": [
    "#### **Advanced Listing with Options**"
   ]
  },
  {
   "cell_type": "code",
   "execution_count": 17,
   "id": "de607df6-1163-46ee-93b9-2090d7bc2e57",
   "metadata": {},
   "outputs": [
    {
     "data": {
      "text/html": [
       "<style>\n",
       ".list-inline {list-style: none; margin:0; padding: 0}\n",
       ".list-inline>li {display: inline-block}\n",
       ".list-inline>li:not(:last-child)::after {content: \"\\00b7\"; padding: 0 .5ex}\n",
       "</style>\n",
       "<ol class=list-inline><li>'.'</li><li>'..'</li><li>'.git'</li><li>'.ipynb_checkpoints'</li><li>'ave_file2.csv'</li><li>'CUSTOMJupyNote_LauncH.py'</li><li>'data.csv'</li><li>'DataHandling.ipynb'</li><li>'file.csv'</li><li>'LICENSE'</li><li>'modified_file.csv'</li><li>'my_funtion.R'</li><li>'new_folder_name'</li><li>'output_file.csv'</li><li>'plot.r'</li><li>'plot_data_visualization_R.ipynb'</li><li>'processed_data.csv'</li><li>'R-Notes-3.ipynb'</li><li>'R-Notes1.ipynb'</li><li>'R-Notes2.ipynb'</li><li>'R-Notes2.R'</li><li>'R-Notes3.R'</li><li>'R-Notes4.R'</li><li>'R-Notes5.R'</li><li>'README.md'</li><li>'Rplots.pdf'</li><li>'s4-BasketballData.R'</li><li>'save_file.csv'</li><li>'scatter_plot1.png'</li><li>'test.r'</li><li>'Untitled.ipynb'</li><li>'untitled.r'</li><li>'userInput.r'</li><li>'wait.r'</li><li>'zillow.csv'</li></ol>\n"
      ],
      "text/latex": [
       "\\begin{enumerate*}\n",
       "\\item '.'\n",
       "\\item '..'\n",
       "\\item '.git'\n",
       "\\item '.ipynb\\_checkpoints'\n",
       "\\item 'ave\\_file2.csv'\n",
       "\\item 'CUSTOMJupyNote\\_LauncH.py'\n",
       "\\item 'data.csv'\n",
       "\\item 'DataHandling.ipynb'\n",
       "\\item 'file.csv'\n",
       "\\item 'LICENSE'\n",
       "\\item 'modified\\_file.csv'\n",
       "\\item 'my\\_funtion.R'\n",
       "\\item 'new\\_folder\\_name'\n",
       "\\item 'output\\_file.csv'\n",
       "\\item 'plot.r'\n",
       "\\item 'plot\\_data\\_visualization\\_R.ipynb'\n",
       "\\item 'processed\\_data.csv'\n",
       "\\item 'R-Notes-3.ipynb'\n",
       "\\item 'R-Notes1.ipynb'\n",
       "\\item 'R-Notes2.ipynb'\n",
       "\\item 'R-Notes2.R'\n",
       "\\item 'R-Notes3.R'\n",
       "\\item 'R-Notes4.R'\n",
       "\\item 'R-Notes5.R'\n",
       "\\item 'README.md'\n",
       "\\item 'Rplots.pdf'\n",
       "\\item 's4-BasketballData.R'\n",
       "\\item 'save\\_file.csv'\n",
       "\\item 'scatter\\_plot1.png'\n",
       "\\item 'test.r'\n",
       "\\item 'Untitled.ipynb'\n",
       "\\item 'untitled.r'\n",
       "\\item 'userInput.r'\n",
       "\\item 'wait.r'\n",
       "\\item 'zillow.csv'\n",
       "\\end{enumerate*}\n"
      ],
      "text/markdown": [
       "1. '.'\n",
       "2. '..'\n",
       "3. '.git'\n",
       "4. '.ipynb_checkpoints'\n",
       "5. 'ave_file2.csv'\n",
       "6. 'CUSTOMJupyNote_LauncH.py'\n",
       "7. 'data.csv'\n",
       "8. 'DataHandling.ipynb'\n",
       "9. 'file.csv'\n",
       "10. 'LICENSE'\n",
       "11. 'modified_file.csv'\n",
       "12. 'my_funtion.R'\n",
       "13. 'new_folder_name'\n",
       "14. 'output_file.csv'\n",
       "15. 'plot.r'\n",
       "16. 'plot_data_visualization_R.ipynb'\n",
       "17. 'processed_data.csv'\n",
       "18. 'R-Notes-3.ipynb'\n",
       "19. 'R-Notes1.ipynb'\n",
       "20. 'R-Notes2.ipynb'\n",
       "21. 'R-Notes2.R'\n",
       "22. 'R-Notes3.R'\n",
       "23. 'R-Notes4.R'\n",
       "24. 'R-Notes5.R'\n",
       "25. 'README.md'\n",
       "26. 'Rplots.pdf'\n",
       "27. 's4-BasketballData.R'\n",
       "28. 'save_file.csv'\n",
       "29. 'scatter_plot1.png'\n",
       "30. 'test.r'\n",
       "31. 'Untitled.ipynb'\n",
       "32. 'untitled.r'\n",
       "33. 'userInput.r'\n",
       "34. 'wait.r'\n",
       "35. 'zillow.csv'\n",
       "\n",
       "\n"
      ],
      "text/plain": [
       " [1] \".\"                               \"..\"                             \n",
       " [3] \".git\"                            \".ipynb_checkpoints\"             \n",
       " [5] \"ave_file2.csv\"                   \"CUSTOMJupyNote_LauncH.py\"       \n",
       " [7] \"data.csv\"                        \"DataHandling.ipynb\"             \n",
       " [9] \"file.csv\"                        \"LICENSE\"                        \n",
       "[11] \"modified_file.csv\"               \"my_funtion.R\"                   \n",
       "[13] \"new_folder_name\"                 \"output_file.csv\"                \n",
       "[15] \"plot.r\"                          \"plot_data_visualization_R.ipynb\"\n",
       "[17] \"processed_data.csv\"              \"R-Notes-3.ipynb\"                \n",
       "[19] \"R-Notes1.ipynb\"                  \"R-Notes2.ipynb\"                 \n",
       "[21] \"R-Notes2.R\"                      \"R-Notes3.R\"                     \n",
       "[23] \"R-Notes4.R\"                      \"R-Notes5.R\"                     \n",
       "[25] \"README.md\"                       \"Rplots.pdf\"                     \n",
       "[27] \"s4-BasketballData.R\"             \"save_file.csv\"                  \n",
       "[29] \"scatter_plot1.png\"               \"test.r\"                         \n",
       "[31] \"Untitled.ipynb\"                  \"untitled.r\"                     \n",
       "[33] \"userInput.r\"                     \"wait.r\"                         \n",
       "[35] \"zillow.csv\"                     "
      ]
     },
     "metadata": {},
     "output_type": "display_data"
    }
   ],
   "source": [
    "# List all files including hidden files\n",
    "list.files(all.files = TRUE)"
   ]
  },
  {
   "cell_type": "code",
   "execution_count": 18,
   "id": "2f536d94-98ba-4211-b1d6-b8cd92961661",
   "metadata": {},
   "outputs": [
    {
     "data": {
      "text/html": [
       "<style>\n",
       ".list-inline {list-style: none; margin:0; padding: 0}\n",
       ".list-inline>li {display: inline-block}\n",
       ".list-inline>li:not(:last-child)::after {content: \"\\00b7\"; padding: 0 .5ex}\n",
       "</style>\n",
       "<ol class=list-inline><li>'./ave_file2.csv'</li><li>'./CUSTOMJupyNote_LauncH.py'</li><li>'./data.csv'</li><li>'./DataHandling.ipynb'</li><li>'./file.csv'</li><li>'./LICENSE'</li><li>'./modified_file.csv'</li><li>'./my_funtion.R'</li><li>'./new_folder_name'</li><li>'./output_file.csv'</li><li>'./plot.r'</li><li>'./plot_data_visualization_R.ipynb'</li><li>'./processed_data.csv'</li><li>'./R-Notes-3.ipynb'</li><li>'./R-Notes1.ipynb'</li><li>'./R-Notes2.ipynb'</li><li>'./R-Notes2.R'</li><li>'./R-Notes3.R'</li><li>'./R-Notes4.R'</li><li>'./R-Notes5.R'</li><li>'./README.md'</li><li>'./Rplots.pdf'</li><li>'./s4-BasketballData.R'</li><li>'./save_file.csv'</li><li>'./scatter_plot1.png'</li><li>'./test.r'</li><li>'./Untitled.ipynb'</li><li>'./untitled.r'</li><li>'./userInput.r'</li><li>'./wait.r'</li><li>'./zillow.csv'</li></ol>\n"
      ],
      "text/latex": [
       "\\begin{enumerate*}\n",
       "\\item './ave\\_file2.csv'\n",
       "\\item './CUSTOMJupyNote\\_LauncH.py'\n",
       "\\item './data.csv'\n",
       "\\item './DataHandling.ipynb'\n",
       "\\item './file.csv'\n",
       "\\item './LICENSE'\n",
       "\\item './modified\\_file.csv'\n",
       "\\item './my\\_funtion.R'\n",
       "\\item './new\\_folder\\_name'\n",
       "\\item './output\\_file.csv'\n",
       "\\item './plot.r'\n",
       "\\item './plot\\_data\\_visualization\\_R.ipynb'\n",
       "\\item './processed\\_data.csv'\n",
       "\\item './R-Notes-3.ipynb'\n",
       "\\item './R-Notes1.ipynb'\n",
       "\\item './R-Notes2.ipynb'\n",
       "\\item './R-Notes2.R'\n",
       "\\item './R-Notes3.R'\n",
       "\\item './R-Notes4.R'\n",
       "\\item './R-Notes5.R'\n",
       "\\item './README.md'\n",
       "\\item './Rplots.pdf'\n",
       "\\item './s4-BasketballData.R'\n",
       "\\item './save\\_file.csv'\n",
       "\\item './scatter\\_plot1.png'\n",
       "\\item './test.r'\n",
       "\\item './Untitled.ipynb'\n",
       "\\item './untitled.r'\n",
       "\\item './userInput.r'\n",
       "\\item './wait.r'\n",
       "\\item './zillow.csv'\n",
       "\\end{enumerate*}\n"
      ],
      "text/markdown": [
       "1. './ave_file2.csv'\n",
       "2. './CUSTOMJupyNote_LauncH.py'\n",
       "3. './data.csv'\n",
       "4. './DataHandling.ipynb'\n",
       "5. './file.csv'\n",
       "6. './LICENSE'\n",
       "7. './modified_file.csv'\n",
       "8. './my_funtion.R'\n",
       "9. './new_folder_name'\n",
       "10. './output_file.csv'\n",
       "11. './plot.r'\n",
       "12. './plot_data_visualization_R.ipynb'\n",
       "13. './processed_data.csv'\n",
       "14. './R-Notes-3.ipynb'\n",
       "15. './R-Notes1.ipynb'\n",
       "16. './R-Notes2.ipynb'\n",
       "17. './R-Notes2.R'\n",
       "18. './R-Notes3.R'\n",
       "19. './R-Notes4.R'\n",
       "20. './R-Notes5.R'\n",
       "21. './README.md'\n",
       "22. './Rplots.pdf'\n",
       "23. './s4-BasketballData.R'\n",
       "24. './save_file.csv'\n",
       "25. './scatter_plot1.png'\n",
       "26. './test.r'\n",
       "27. './Untitled.ipynb'\n",
       "28. './untitled.r'\n",
       "29. './userInput.r'\n",
       "30. './wait.r'\n",
       "31. './zillow.csv'\n",
       "\n",
       "\n"
      ],
      "text/plain": [
       " [1] \"./ave_file2.csv\"                   \"./CUSTOMJupyNote_LauncH.py\"       \n",
       " [3] \"./data.csv\"                        \"./DataHandling.ipynb\"             \n",
       " [5] \"./file.csv\"                        \"./LICENSE\"                        \n",
       " [7] \"./modified_file.csv\"               \"./my_funtion.R\"                   \n",
       " [9] \"./new_folder_name\"                 \"./output_file.csv\"                \n",
       "[11] \"./plot.r\"                          \"./plot_data_visualization_R.ipynb\"\n",
       "[13] \"./processed_data.csv\"              \"./R-Notes-3.ipynb\"                \n",
       "[15] \"./R-Notes1.ipynb\"                  \"./R-Notes2.ipynb\"                 \n",
       "[17] \"./R-Notes2.R\"                      \"./R-Notes3.R\"                     \n",
       "[19] \"./R-Notes4.R\"                      \"./R-Notes5.R\"                     \n",
       "[21] \"./README.md\"                       \"./Rplots.pdf\"                     \n",
       "[23] \"./s4-BasketballData.R\"             \"./save_file.csv\"                  \n",
       "[25] \"./scatter_plot1.png\"               \"./test.r\"                         \n",
       "[27] \"./Untitled.ipynb\"                  \"./untitled.r\"                     \n",
       "[29] \"./userInput.r\"                     \"./wait.r\"                         \n",
       "[31] \"./zillow.csv\"                     "
      ]
     },
     "metadata": {},
     "output_type": "display_data"
    }
   ],
   "source": [
    "# List files with full paths\n",
    "list.files(full.names = TRUE)"
   ]
  },
  {
   "cell_type": "markdown",
   "id": "d66f165b-cc52-491a-a879-217f70909034",
   "metadata": {},
   "source": [
    "### **3. Creating, Copying, Moving, and Deleting Files**\n",
    "\n",
    "These operations allow you to create new directories, copy, move, and delete files from within R.\n",
    "\n",
    "#### **Creating a Directory**\n",
    "\n",
    "You can create a new directory:"
   ]
  },
  {
   "cell_type": "code",
   "execution_count": 19,
   "id": "14d569fb-c4ca-43ec-8c76-ca64367ec8d7",
   "metadata": {},
   "outputs": [],
   "source": [
    "dir.create(\"new_folder_name1\")"
   ]
  },
  {
   "cell_type": "markdown",
   "id": "19d0c253-f595-44da-a652-73ea817c67a9",
   "metadata": {},
   "source": [
    "#### **Copying Files**\n",
    "\n",
    "To copy files from one location to another:"
   ]
  },
  {
   "cell_type": "code",
   "execution_count": 20,
   "id": "dfb8558a-ed58-4c61-b2bf-91f05b0379cf",
   "metadata": {},
   "outputs": [
    {
     "data": {
      "text/html": [
       "FALSE"
      ],
      "text/latex": [
       "FALSE"
      ],
      "text/markdown": [
       "FALSE"
      ],
      "text/plain": [
       "[1] FALSE"
      ]
     },
     "metadata": {},
     "output_type": "display_data"
    }
   ],
   "source": [
    "# Copy a file\n",
    "file.copy(\"data.csv\", \"new_folder_name/source_file.csv\")"
   ]
  },
  {
   "cell_type": "markdown",
   "id": "350f1566-76c6-49ac-9fba-f4d4818bf244",
   "metadata": {},
   "source": [
    "#### **Moving or Renaming Files**\n",
    "\n",
    "To move or rename files, use `file.rename()`:"
   ]
  },
  {
   "cell_type": "code",
   "execution_count": 21,
   "id": "cdb90a88-a239-49fe-bc03-634a55e9655c",
   "metadata": {},
   "outputs": [
    {
     "name": "stderr",
     "output_type": "stream",
     "text": [
      "Warning message in file.rename(\"scatter_plot.png\", \"scatter_plot1.png\"):\n",
      "\"cannot rename file 'scatter_plot.png' to 'scatter_plot1.png', reason 'The system cannot find the file specified'\"\n"
     ]
    },
    {
     "data": {
      "text/html": [
       "FALSE"
      ],
      "text/latex": [
       "FALSE"
      ],
      "text/markdown": [
       "FALSE"
      ],
      "text/plain": [
       "[1] FALSE"
      ]
     },
     "metadata": {},
     "output_type": "display_data"
    }
   ],
   "source": [
    "\n",
    "# Rename or move a file\n",
    "file.rename(\"scatter_plot.png\", \"scatter_plot1.png\")\n"
   ]
  },
  {
   "cell_type": "markdown",
   "id": "6e20ca75-fae3-4ed4-9967-b65c1920f695",
   "metadata": {},
   "source": [
    "#### **Deleting Files**\n",
    "\n",
    "To delete a file:"
   ]
  },
  {
   "cell_type": "code",
   "execution_count": 22,
   "id": "f373d0d1-389e-4de4-aaee-8923008d6ab5",
   "metadata": {
    "jp-MarkdownHeadingCollapsed": true
   },
   "outputs": [
    {
     "name": "stderr",
     "output_type": "stream",
     "text": [
      "Warning message in file.remove(\"file_to_delete.txt\"):\n",
      "\"cannot remove file 'file_to_delete.txt', reason 'No such file or directory'\"\n"
     ]
    },
    {
     "data": {
      "text/html": [
       "FALSE"
      ],
      "text/latex": [
       "FALSE"
      ],
      "text/markdown": [
       "FALSE"
      ],
      "text/plain": [
       "[1] FALSE"
      ]
     },
     "metadata": {},
     "output_type": "display_data"
    }
   ],
   "source": [
    "file.remove(\"file_to_delete.txt\")"
   ]
  },
  {
   "cell_type": "markdown",
   "id": "89c3d014-471e-4033-8cff-9c6b87ce4712",
   "metadata": {},
   "source": [
    "### **4. Reading and Writing Files**\n",
    "\n",
    "R offers several functions to read from and write to files. Here’s an example with a `.csv` file.\n",
    "\n",
    "#### **Reading a File**"
   ]
  },
  {
   "cell_type": "code",
   "execution_count": 12,
   "id": "46b05b6a-5d01-4006-8971-3b66eda0650e",
   "metadata": {
    "jp-MarkdownHeadingCollapsed": true
   },
   "outputs": [
    {
     "data": {
      "text/html": [
       "<table class=\"dataframe\">\n",
       "<caption>A data.frame: 6 × 7</caption>\n",
       "<thead>\n",
       "\t<tr><th></th><th scope=col>Index</th><th scope=col>Living.Space..sq.ft.</th><th scope=col>Beds</th><th scope=col>Baths</th><th scope=col>Zip</th><th scope=col>Year</th><th scope=col>List.Price....</th></tr>\n",
       "\t<tr><th></th><th scope=col>&lt;int&gt;</th><th scope=col>&lt;int&gt;</th><th scope=col>&lt;int&gt;</th><th scope=col>&lt;dbl&gt;</th><th scope=col>&lt;int&gt;</th><th scope=col>&lt;int&gt;</th><th scope=col>&lt;int&gt;</th></tr>\n",
       "</thead>\n",
       "<tbody>\n",
       "\t<tr><th scope=row>1</th><td>1</td><td>2222</td><td>3</td><td>3.5</td><td>32312</td><td>1981</td><td>250000</td></tr>\n",
       "\t<tr><th scope=row>2</th><td>2</td><td>1628</td><td>3</td><td>2.0</td><td>32308</td><td>2009</td><td>185000</td></tr>\n",
       "\t<tr><th scope=row>3</th><td>3</td><td>3824</td><td>5</td><td>4.0</td><td>32312</td><td>1954</td><td>399000</td></tr>\n",
       "\t<tr><th scope=row>4</th><td>4</td><td>1137</td><td>3</td><td>2.0</td><td>32309</td><td>1993</td><td>150000</td></tr>\n",
       "\t<tr><th scope=row>5</th><td>5</td><td>3560</td><td>6</td><td>4.0</td><td>32309</td><td>1973</td><td>315000</td></tr>\n",
       "\t<tr><th scope=row>6</th><td>6</td><td>2893</td><td>4</td><td>3.0</td><td>32312</td><td>1994</td><td>699000</td></tr>\n",
       "</tbody>\n",
       "</table>\n"
      ],
      "text/latex": [
       "A data.frame: 6 × 7\n",
       "\\begin{tabular}{r|lllllll}\n",
       "  & Index & Living.Space..sq.ft. & Beds & Baths & Zip & Year & List.Price....\\\\\n",
       "  & <int> & <int> & <int> & <dbl> & <int> & <int> & <int>\\\\\n",
       "\\hline\n",
       "\t1 & 1 & 2222 & 3 & 3.5 & 32312 & 1981 & 250000\\\\\n",
       "\t2 & 2 & 1628 & 3 & 2.0 & 32308 & 2009 & 185000\\\\\n",
       "\t3 & 3 & 3824 & 5 & 4.0 & 32312 & 1954 & 399000\\\\\n",
       "\t4 & 4 & 1137 & 3 & 2.0 & 32309 & 1993 & 150000\\\\\n",
       "\t5 & 5 & 3560 & 6 & 4.0 & 32309 & 1973 & 315000\\\\\n",
       "\t6 & 6 & 2893 & 4 & 3.0 & 32312 & 1994 & 699000\\\\\n",
       "\\end{tabular}\n"
      ],
      "text/markdown": [
       "\n",
       "A data.frame: 6 × 7\n",
       "\n",
       "| <!--/--> | Index &lt;int&gt; | Living.Space..sq.ft. &lt;int&gt; | Beds &lt;int&gt; | Baths &lt;dbl&gt; | Zip &lt;int&gt; | Year &lt;int&gt; | List.Price.... &lt;int&gt; |\n",
       "|---|---|---|---|---|---|---|---|\n",
       "| 1 | 1 | 2222 | 3 | 3.5 | 32312 | 1981 | 250000 |\n",
       "| 2 | 2 | 1628 | 3 | 2.0 | 32308 | 2009 | 185000 |\n",
       "| 3 | 3 | 3824 | 5 | 4.0 | 32312 | 1954 | 399000 |\n",
       "| 4 | 4 | 1137 | 3 | 2.0 | 32309 | 1993 | 150000 |\n",
       "| 5 | 5 | 3560 | 6 | 4.0 | 32309 | 1973 | 315000 |\n",
       "| 6 | 6 | 2893 | 4 | 3.0 | 32312 | 1994 | 699000 |\n",
       "\n"
      ],
      "text/plain": [
       "  Index Living.Space..sq.ft. Beds Baths Zip   Year List.Price....\n",
       "1 1     2222                 3    3.5   32312 1981 250000        \n",
       "2 2     1628                 3    2.0   32308 2009 185000        \n",
       "3 3     3824                 5    4.0   32312 1954 399000        \n",
       "4 4     1137                 3    2.0   32309 1993 150000        \n",
       "5 5     3560                 6    4.0   32309 1973 315000        \n",
       "6 6     2893                 4    3.0   32312 1994 699000        "
      ]
     },
     "metadata": {},
     "output_type": "display_data"
    }
   ],
   "source": [
    "data <- read.csv(\"modified_file.csv\")\n",
    "head(data)"
   ]
  },
  {
   "cell_type": "markdown",
   "id": "a24ef4a5-f41c-467e-9cef-2116263f03b9",
   "metadata": {},
   "source": [
    "#### **Writing to a File**"
   ]
  },
  {
   "cell_type": "code",
   "execution_count": 13,
   "id": "d7383d8a-722d-45e5-98f9-35731688ef28",
   "metadata": {
    "jp-MarkdownHeadingCollapsed": true
   },
   "outputs": [],
   "source": [
    "\n",
    "write.csv(data, \"output_file.csv\")\n"
   ]
  },
  {
   "cell_type": "markdown",
   "id": "3a9a1c92-e669-4d32-8b60-3b7435c05420",
   "metadata": {},
   "source": [
    "### **5. Calling Functions from External Scripts**\n",
    "\n",
    "Sometimes, you might want to separate functions into different files to organize your code better. You can source these files and call their functions in your main R script.\n",
    "\n",
    "#### **Example: Sourcing an External Script**\n",
    "\n",
    "Suppose you have a file called `my_functions.R` in a folder. Here’s how you’d source it and call a function from it:\n",
    "\n",
    "1. **Create `my_functions.R`**:"
   ]
  },
  {
   "cell_type": "markdown",
   "id": "038e1391-590b-49eb-aaa0-42a7cd07386f",
   "metadata": {
    "jp-MarkdownHeadingCollapsed": true
   },
   "source": [
    "```R\n",
    "   # Inside my_functions.R file\n",
    "   add_numbers <- function(a, b) {\n",
    "       return(a + b)\n",
    "   }\n",
    "\n",
    "\n",
    "\n",
    "   sub_numbers <- function(a, b) {\n",
    "       return(a - b)\n",
    "   }\n",
    "```"
   ]
  },
  {
   "cell_type": "markdown",
   "id": "0ed073be-33b1-4133-b65a-b0d60fe2d9d1",
   "metadata": {
    "jp-MarkdownHeadingCollapsed": true
   },
   "source": [
    "2. **Source and Call the Function**:"
   ]
  },
  {
   "cell_type": "code",
   "execution_count": null,
   "id": "80c4e14b-5d9e-40cd-b63c-0c15dd94892d",
   "metadata": {
    "jp-MarkdownHeadingCollapsed": true
   },
   "outputs": [],
   "source": [
    "# In your main R script\n",
    "source(\"my_funtion.R\")"
   ]
  },
  {
   "cell_type": "code",
   "execution_count": null,
   "id": "9800940b-69a4-4037-8444-9965020973d7",
   "metadata": {
    "jp-MarkdownHeadingCollapsed": true
   },
   "outputs": [
    {
     "name": "stdout",
     "output_type": "stream",
     "text": [
      "[1] 30\n"
     ]
    }
   ],
   "source": [
    "   # Call the function from my_functions.R\n",
    "result <- add_numbers(10, 20)\n",
    "print(result) # Output should be 30"
   ]
  },
  {
   "cell_type": "code",
   "execution_count": 19,
   "id": "e317f9bd-e704-41ca-ae21-9ec173216089",
   "metadata": {},
   "outputs": [
    {
     "name": "stdout",
     "output_type": "stream",
     "text": [
      "[1] -10\n"
     ]
    }
   ],
   "source": [
    "result <- sub_numbers(10, 20)\n",
    "print(result) # Output should be 30"
   ]
  },
  {
   "cell_type": "markdown",
   "id": "4cb14e96-831e-417e-a426-352662fff521",
   "metadata": {},
   "source": [
    "---\n",
    "\n",
    "### **6. Checking File Properties**\n",
    "\n",
    "R also provides functions to check for the existence of files or directories, file size, and modification time.\n",
    "\n",
    "#### **Check if a File Exists**"
   ]
  },
  {
   "cell_type": "code",
   "execution_count": 21,
   "id": "734bfbcc-54f6-49b2-9395-e56a66c36fff",
   "metadata": {
    "jp-MarkdownHeadingCollapsed": true
   },
   "outputs": [
    {
     "data": {
      "text/html": [
       "TRUE"
      ],
      "text/latex": [
       "TRUE"
      ],
      "text/markdown": [
       "TRUE"
      ],
      "text/plain": [
       "[1] TRUE"
      ]
     },
     "metadata": {},
     "output_type": "display_data"
    }
   ],
   "source": [
    "file.exists(\"my_funtion.R\")"
   ]
  },
  {
   "cell_type": "markdown",
   "id": "8a068319-820a-4188-aceb-bf052767f726",
   "metadata": {},
   "source": [
    "#### **Get File Information**"
   ]
  },
  {
   "cell_type": "code",
   "execution_count": 22,
   "id": "ac98e353-43fc-4053-9c39-2f2919718c5f",
   "metadata": {},
   "outputs": [
    {
     "data": {
      "text/html": [
       "125"
      ],
      "text/latex": [
       "125"
      ],
      "text/markdown": [
       "125"
      ],
      "text/plain": [
       "[1] 125"
      ]
     },
     "metadata": {},
     "output_type": "display_data"
    }
   ],
   "source": [
    "# File size\n",
    "file.info(\"my_funtion.R\")$size"
   ]
  },
  {
   "cell_type": "code",
   "execution_count": 24,
   "id": "ad13b759-8fb0-43eb-8e06-1e4cadc13a30",
   "metadata": {},
   "outputs": [
    {
     "data": {
      "text/plain": [
       "[1] \"2024-11-06 19:02:19 CET\""
      ]
     },
     "metadata": {},
     "output_type": "display_data"
    }
   ],
   "source": [
    "# Modification time\n",
    "file.info(\"my_funtion.R\")$mtime"
   ]
  },
  {
   "cell_type": "markdown",
   "id": "6feb54f3-785b-419b-b926-e15e41760afe",
   "metadata": {},
   "source": [
    "\n",
    "\n",
    "### **7. Practical Example of File and Directory Management in R**\n",
    "\n",
    "Here’s an example workflow using multiple file system functions in R."
   ]
  },
  {
   "cell_type": "markdown",
   "id": "89e94b3d-a814-4a3e-81b0-ccddbce65ed0",
   "metadata": {
    "jp-MarkdownHeadingCollapsed": true
   },
   "source": [
    "\n",
    "```R\n",
    "# Set working directory\n",
    "setwd(\"path/to/your/main/directory\")\n",
    "\n",
    "# Check current working directory\n",
    "print(getwd())\n",
    "\n",
    "# Create a new directory if it doesn't exist\n",
    "if (!dir.exists(\"data_folder\")) {\n",
    "    dir.create(\"data_folder\")\n",
    "}\n",
    "\n",
    "# Copy a file to the new directory\n",
    "file.copy(\"source_file.csv\", \"data_folder/source_file.csv\")\n",
    "\n",
    "# List files in the new directory\n",
    "list.files(\"data_folder\")\n",
    "\n",
    "# Source and use a function from an external script\n",
    "source(\"data_folder/my_functions.R\")\n",
    "result <- add_numbers(5, 10)\n",
    "print(result)\n",
    "\n",
    "# Delete the copied file\n",
    "file.remove(\"data_folder/source_file.csv\")\n",
    "\n",
    "# Remove the new directory\n",
    "unlink(\"data_folder\", recursive = TRUE)\n",
    "\n",
    "```\n"
   ]
  },
  {
   "cell_type": "markdown",
   "id": "79b9803d-f82e-4a0c-97ab-0a386351b059",
   "metadata": {},
   "source": [
    "\n",
    "### **8. Summary of Commands**\n",
    "\n",
    "| Function                   | Purpose                                                      |\n",
    "|----------------------------|--------------------------------------------------------------|\n",
    "| `getwd()`                  | Get current working directory                                |\n",
    "| `setwd(\"path\")`            | Set working directory                                        |\n",
    "| `list.files(\"path\")`       | List files in a directory                                    |\n",
    "| `dir.create(\"folder\")`     | Create a new folder                                          |\n",
    "| `file.copy(\"from\", \"to\")`  | Copy a file                                                  |\n",
    "| `file.rename(\"old\", \"new\")`| Rename or move a file                                        |\n",
    "| `file.remove(\"file\")`      | Delete a file                                                |\n",
    "| `file.exists(\"file\")`      | Check if a file exists                                       |\n",
    "| `file.info(\"file\")`        | Get file information (size, modification time)               |\n",
    "| `source(\"file.R\")`         | Source an external R script and call its functions           |\n",
    "| `unlink(\"folder\", TRUE)`   | Delete a directory and all its contents                      |\n"
   ]
  },
  {
   "cell_type": "markdown",
   "id": "0b7c7999-7294-4ae7-967a-238fb42cfdd6",
   "metadata": {},
   "source": [
    "### **1. Reading and Writing Files in R**\n",
    "\n",
    "R provides several functions for reading from and writing to different types of files, especially those used in data analysis, such as CSV and text files.\n",
    "\n",
    "#### **Reading Files**\n",
    "\n",
    "1. **Reading CSV Files**  \n",
    "   CSV (Comma-Separated Values) files are one of the most common file formats for data storage."
   ]
  },
  {
   "cell_type": "markdown",
   "id": "2bb436d2-e60c-4610-a48b-bc1b38b88093",
   "metadata": {},
   "source": [
    "   ```r\n",
    "   # Basic CSV reading\n",
    "   data <- read.csv(\"path/to/your/file.csv\")\n",
    "   \n",
    "   # Options\n",
    "   data <- read.csv(\"file.csv\", header = TRUE, sep = \",\", stringsAsFactors = FALSE)\n",
    "   ```"
   ]
  },
  {
   "cell_type": "markdown",
   "id": "02c84948-98d3-485e-91a8-ed02e1a44ef8",
   "metadata": {},
   "source": [
    "   - `header`: Logical, if `TRUE`, the first row is treated as column names.\n",
    "   - `sep`: Defines the delimiter (comma, tab, etc.).\n",
    "   - `stringsAsFactors`: Prevents character strings from being converted to factors.\n",
    "\n",
    "2. **Reading Excel Files**  \n",
    "   Use the `readxl` package for reading Excel files."
   ]
  },
  {
   "cell_type": "markdown",
   "id": "b2065fbe-1ea9-4c8e-b44b-f48a42fc6ef9",
   "metadata": {},
   "source": [
    "   ```r\n",
    "   # Install and load the package\n",
    "   install.packages(\"readxl\")\n",
    "   library(readxl)\n",
    "   \n",
    "   # Read the Excel file\n",
    "   data <- read_excel(\"path/to/your/file.xlsx\", sheet = \"Sheet1\")\n",
    "   ```"
   ]
  },
  {
   "cell_type": "markdown",
   "id": "43473600-7ad5-4127-9e61-9823c0c60b92",
   "metadata": {},
   "source": [
    "3. **Reading Text Files**  \n",
    "   Use `read.table` for general text files."
   ]
  },
  {
   "cell_type": "markdown",
   "id": "11c92dd3-3410-487d-b400-95cce764fc29",
   "metadata": {},
   "source": [
    "   ```r\n",
    "   data <- read.table(\"file.txt\", header = TRUE, sep = \"\\t\")\n",
    "   ```"
   ]
  },
  {
   "cell_type": "markdown",
   "id": "c514c862-4659-4522-9a6a-ab1ee2716228",
   "metadata": {},
   "source": [
    "   - `sep` parameter can be customized based on delimiter (e.g., `sep = \",\"` for CSV, `sep = \"\\t\"` for tab-separated files).\n",
    "\n",
    "4. **Reading JSON Files**  \n",
    "   JSON files can be read using the `jsonlite` package."
   ]
  },
  {
   "cell_type": "markdown",
   "id": "997e83d1-1862-4f8c-9e14-b136904c748d",
   "metadata": {},
   "source": [
    "   ```r\n",
    "   # Install and load the package\n",
    "   install.packages(\"jsonlite\")\n",
    "   library(jsonlite)\n",
    "   \n",
    "   # Read JSON file\n",
    "   data <- fromJSON(\"path/to/your/file.json\")\n",
    "   ```"
   ]
  },
  {
   "cell_type": "markdown",
   "id": "58e98239-dd43-47d0-a591-3b5925ac2baf",
   "metadata": {},
   "source": [
    "#### **Writing Files**\n",
    "\n",
    "1. **Writing CSV Files**  \n",
    "   `write.csv` is commonly used for writing data to a CSV file."
   ]
  },
  {
   "cell_type": "markdown",
   "id": "3116bedf-8237-474c-bb65-fc89283fa95c",
   "metadata": {},
   "source": [
    "   ```r\n",
    "   write.csv(data, \"output_file.csv\", row.names = FALSE)\n",
    "   ```"
   ]
  },
  {
   "cell_type": "markdown",
   "id": "d873f485-4071-40f4-a306-83a2f0097129",
   "metadata": {},
   "source": [
    "2. **Writing Excel Files**  \n",
    "   Use the `writexl` package to write data frames to Excel files."
   ]
  },
  {
   "cell_type": "markdown",
   "id": "179c8269-c17d-4b65-b82b-a39337c50290",
   "metadata": {},
   "source": [
    "   ```r\n",
    "   # Install and load the package\n",
    "   install.packages(\"writexl\")\n",
    "   library(writexl)\n",
    "   \n",
    "   # Write to Excel\n",
    "   write_xlsx(data, \"output_file.xlsx\")\n",
    "   ```"
   ]
  },
  {
   "cell_type": "markdown",
   "id": "af4e2589-7542-44b8-b069-da1eb592eaa3",
   "metadata": {},
   "source": [
    "3. **Writing Text Files**  \n",
    "   `write.table` writes data to a general text file."
   ]
  },
  {
   "cell_type": "markdown",
   "id": "0516927c-8cf4-49cf-9550-af8ada62b9ba",
   "metadata": {},
   "source": [
    "   ```r\n",
    "   write.table(data, \"output_file.txt\", sep = \"\\t\", row.names = FALSE, col.names = TRUE)\n",
    "   ```"
   ]
  },
  {
   "cell_type": "markdown",
   "id": "a2ca4fac-9e02-44b3-8657-caec3d15f431",
   "metadata": {},
   "source": [
    "4. **Writing JSON Files**  \n",
    "   To write JSON files, use the `jsonlite` package."
   ]
  },
  {
   "cell_type": "markdown",
   "id": "a1606214-057f-4fa2-9007-7d3f1aa0a1c7",
   "metadata": {},
   "source": [
    "   ```r\n",
    "   # Write to JSON\n",
    "   toJSON(data, pretty = TRUE, auto_unbox = TRUE, file = \"output_file.json\")\n",
    "   ```"
   ]
  },
  {
   "cell_type": "markdown",
   "id": "ee38a060-557a-46d3-a1ad-d10edab5dcbe",
   "metadata": {},
   "source": [
    "---\n",
    "\n",
    "### **2. Cleaning Data in R**\n",
    "\n",
    "Cleaning data often involves removing or transforming unwanted characters, handling missing values, and formatting data for analysis.\n",
    "\n",
    "#### **Handling Missing Data**\n",
    "\n",
    "1. **Detecting Missing Values**  \n",
    "   `NA` is used to represent missing values in R."
   ]
  },
  {
   "cell_type": "markdown",
   "id": "71e1e092-0377-45df-9e63-433bb4d656ec",
   "metadata": {},
   "source": [
    "   ```r\n",
    "   # Identify missing values\n",
    "   is.na(data)\n",
    "   \n",
    "   # Count missing values in each column\n",
    "   colSums(is.na(data))\n",
    "   ```"
   ]
  },
  {
   "cell_type": "markdown",
   "id": "2fdba973-85b6-4afc-a514-bd201797f084",
   "metadata": {},
   "source": [
    "2. **Removing Missing Data**  \n",
    "   You can remove rows with missing values using `na.omit` or `drop_na` from `dplyr`."
   ]
  },
  {
   "cell_type": "markdown",
   "id": "6b0ebfc5-baef-4846-bcb0-08fd0dafaa97",
   "metadata": {},
   "source": [
    "   ```r\n",
    "   # Remove rows with missing values\n",
    "   data_cleaned <- na.omit(data)\n",
    "   \n",
    "   # Using dplyr\n",
    "   library(dplyr)\n",
    "   data_cleaned <- drop_na(data)\n",
    "   ```"
   ]
  },
  {
   "cell_type": "markdown",
   "id": "7c28ff0e-a627-42d0-b536-e88b894a02a6",
   "metadata": {},
   "source": [
    "3. **Replacing Missing Values**  \n",
    "   Replace missing values with a specific value, like the column mean."
   ]
  },
  {
   "cell_type": "markdown",
   "id": "2af6f46f-da63-474b-b61b-8ac7268885d8",
   "metadata": {},
   "source": [
    "   ```r\n",
    "   # Replace NA in a specific column with the column mean\n",
    "   data$column[is.na(data$column)] <- mean(data$column, na.rm = TRUE)\n",
    "   ```"
   ]
  },
  {
   "cell_type": "markdown",
   "id": "e17fa903-9133-4f61-949e-ca2bd8a7b8ad",
   "metadata": {},
   "source": [
    "#### **Removing Unwanted Characters**\n",
    "\n",
    "1. **Removing Whitespace**  \n",
    "   Use `trimws()` to remove leading and trailing whitespace."
   ]
  },
  {
   "cell_type": "markdown",
   "id": "8c0bda86-b856-44b0-81f0-d2012e457f53",
   "metadata": {},
   "source": [
    "   ```r\n",
    "   data$column <- trimws(data$column)\n",
    "   ```"
   ]
  },
  {
   "cell_type": "markdown",
   "id": "fc2d2284-20a4-4fb7-898a-22c7b04aab47",
   "metadata": {},
   "source": [
    "2. **Removing Specific Characters**  \n",
    "   Use `gsub()` for substitution."
   ]
  },
  {
   "cell_type": "markdown",
   "id": "6c276d91-5d87-473e-9f7d-1b3cc85d4b32",
   "metadata": {},
   "source": [
    "   ```r\n",
    "   # Remove all digits from a column\n",
    "   data$column <- gsub(\"[0-9]\", \"\", data$column)\n",
    "   ```"
   ]
  },
  {
   "cell_type": "markdown",
   "id": "2d29a971-2a67-488b-acb1-69a951a34f47",
   "metadata": {},
   "source": [
    "3. **Converting Case**  \n",
    "   Convert strings to uppercase or lowercase."
   ]
  },
  {
   "cell_type": "markdown",
   "id": "8acfe03c-4b3c-4128-bcdb-db2d4d1f01ef",
   "metadata": {},
   "source": [
    "   ```r\n",
    "   data$column <- tolower(data$column) # Lowercase\n",
    "   data$column <- toupper(data$column) # Uppercase\n",
    "   ```"
   ]
  },
  {
   "cell_type": "markdown",
   "id": "c7e8493a-dab3-4ba0-b924-def8c47830b8",
   "metadata": {},
   "source": [
    "---\n",
    "\n",
    "### **3. Character String Handling in R**\n",
    "\n",
    "Character string manipulation is crucial for cleaning and transforming text data.\n",
    "\n",
    "#### **Basic String Operations**\n",
    "\n",
    "1. **Concatenating Strings**  \n",
    "   Use `paste()` or `paste0()` to concatenate strings."
   ]
  },
  {
   "cell_type": "markdown",
   "id": "3eaff583-d68c-449e-af7e-645a31869c93",
   "metadata": {},
   "source": [
    "   ```r\n",
    "   # Concatenate with space\n",
    "   paste(\"Hello\", \"World\") # Output: \"Hello World\"\n",
    "   \n",
    "   # Concatenate without space\n",
    "   paste0(\"Hello\", \"World\") # Output: \"HelloWorld\"\n",
    "   ```"
   ]
  },
  {
   "cell_type": "markdown",
   "id": "7bf0b408-ab83-4ea2-8bb6-d2d0871651f7",
   "metadata": {},
   "source": [
    "2. **Splitting Strings**  \n",
    "   Use `strsplit()` to split a string into parts based on a separator."
   ]
  },
  {
   "cell_type": "markdown",
   "id": "d4a2f1eb-eb4d-4d2e-b2e5-c19931d6ff66",
   "metadata": {},
   "source": [
    "   ```r\n",
    "   # Split by space\n",
    "   strsplit(\"Hello World\", \" \")\n",
    "   ```"
   ]
  },
  {
   "cell_type": "markdown",
   "id": "d89059b9-8ef2-4dc2-b411-2a53c035a4a7",
   "metadata": {},
   "source": [
    "3. **Extracting Substrings**  \n",
    "   Use `substr()` to extract parts of a string."
   ]
  },
  {
   "cell_type": "markdown",
   "id": "67c4345f-ec34-49be-9985-09901b9dc722",
   "metadata": {},
   "source": [
    "   ```r\n",
    "   # Extract first 5 characters\n",
    "   substr(\"HelloWorld\", 1, 5) # Output: \"Hello\"\n",
    "   ```"
   ]
  },
  {
   "cell_type": "markdown",
   "id": "fd857462-594d-42e6-858d-17caed8268b2",
   "metadata": {},
   "source": [
    "#### **Pattern Matching and Replacement**\n",
    "\n",
    "1. **Searching for Patterns**  \n",
    "   Use `grep()` or `grepl()` to find patterns."
   ]
  },
  {
   "cell_type": "markdown",
   "id": "5f0d70a7-9a45-4301-b34f-633090212b8d",
   "metadata": {},
   "source": [
    "   ```r\n",
    "   # Find rows where a column contains \"apple\"\n",
    "   rows <- grep(\"apple\", data$column)\n",
    "   ```"
   ]
  },
  {
   "cell_type": "markdown",
   "id": "bf53271c-e1c6-4372-a5fe-bc3057576b12",
   "metadata": {},
   "source": [
    "2. **Replacing Patterns**  \n",
    "   Use `gsub()` to replace parts of a string."
   ]
  },
  {
   "cell_type": "markdown",
   "id": "729c0948-5884-4d05-a5c8-b092acdd1f00",
   "metadata": {},
   "source": [
    "   ```r\n",
    "   # Replace \"apple\" with \"orange\"\n",
    "   data$column <- gsub(\"apple\", \"orange\", data$column)\n",
    "   ```"
   ]
  },
  {
   "cell_type": "markdown",
   "id": "33b31038-9959-437c-beaf-69fc907adb04",
   "metadata": {},
   "source": [
    "### **4. Example Workflow**\n",
    "\n",
    "Below is an example that combines reading, cleaning, and handling strings in R:"
   ]
  },
  {
   "cell_type": "markdown",
   "id": "31b2baa5-fda2-4dc7-bd30-1dbd2cda05d4",
   "metadata": {},
   "source": [
    "```r\n",
    "# Step 1: Read data from a CSV file\n",
    "data <- read.csv(\"data_file.csv\", stringsAsFactors = FALSE)\n",
    "\n",
    "# Step 2: Check for missing values and remove rows with NA\n",
    "data <- na.omit(data)\n",
    "\n",
    "# Step 3: Remove unwanted characters from a specific column\n",
    "data$column <- gsub(\"[^a-zA-Z0-9 ]\", \"\", data$column) # Keep only alphanumeric characters and spaces\n",
    "\n",
    "# Step 4: Convert all text to lowercase\n",
    "data$column <- tolower(data$column)\n",
    "\n",
    "# Step 5: Save the cleaned data to a new CSV file\n",
    "write.csv(data, \"cleaned_data.csv\", row.names = FALSE)\n",
    "```"
   ]
  },
  {
   "cell_type": "markdown",
   "id": "7ce3c74e-ec1d-45ec-a4a2-dfe3b2866168",
   "metadata": {},
   "source": [
    "### **Summary**\n",
    "\n",
    "| Task                                 | Function                    | Example                                                        |\n",
    "|--------------------------------------|-----------------------------|----------------------------------------------------------------|\n",
    "| **Read CSV**                         | `read.csv()`               | `data <- read.csv(\"file.csv\")`                                 |\n",
    "| **Write CSV**                        | `write.csv()`              | `write.csv(data, \"file.csv\")`                                  |\n",
    "| **Check Missing Values**             | `is.na()`, `colSums()`     | `colSums(is.na(data))`                                         |\n",
    "| **Remove Rows with NA**              | `na.omit()`                | `data <- na.omit(data)`                                        |\n",
    "| **Replace NA with Mean**             | Subset and `mean()`        | `data$col[is.na(data$col)] <- mean(data$col, na.rm = TRUE)`    |\n",
    "| **Remove Specific Characters**       | `gsub()`                   | `data$col <- gsub(\"[0-9]\", \"\", data$col)`                      |\n",
    "| **Concatenate Strings**              | `paste()`, `paste0()`      | `paste(\"Hello\", \"World\")`                                      |\n",
    "| **Split String**                     | `strsplit()`               | `strsplit(\"Hello World\", \" \")`                                 |\n",
    "| **Extract Substring**                | `substr()`                 | `substr(\"HelloWorld\", 1, 5)`                                   |\n",
    "| **Find Pattern in Text**             | `grep()`, `grepl()`        | `grep(\"pattern\", data$column)`                                 |\n",
    "| **Replace Pattern in Text**          | `gsub()`                   | `data$col <- gsub(\"pattern\", \"replacement\", data$col)`         |"
   ]
  },
  {
   "cell_type": "markdown",
   "id": "1c4a9cef-9822-412b-8629-e12c8696c702",
   "metadata": {},
   "source": [
    "The `sub()` function in R is used for substituting the first occurrence of a specified pattern within a character string. Unlike `gsub()`, which replaces *all* occurrences of a pattern in each element of a string, `sub()` only replaces the *first* occurrence of the pattern.\n",
    "\n",
    "Here’s how `sub()` fits in with `gsub()` and other string manipulation functions:\n",
    "\n",
    "---\n",
    "\n",
    "### **Pattern Replacement with `sub()`**\n",
    "\n",
    "- **Purpose**: Replace the first occurrence of a pattern in each element of a character vector.\n",
    "- **Syntax**: `sub(pattern, replacement, x)`\n",
    "\n",
    "  - `pattern`: A regular expression defining the pattern you want to match.\n",
    "  - `replacement`: The string that will replace the matched pattern.\n",
    "  - `x`: The character vector where the replacement is to be performed.\n",
    "\n",
    "#### **Example with `sub()`**"
   ]
  },
  {
   "cell_type": "code",
   "execution_count": 23,
   "id": "91f556d0-31bf-47dc-ba42-ab6c82bc9f55",
   "metadata": {},
   "outputs": [
    {
     "name": "stdout",
     "output_type": "stream",
     "text": [
      "[1] \"orange pie\"   \"orange tart\"  \"orange crisp\"\n"
     ]
    }
   ],
   "source": [
    "\n",
    "# Original vector with some repeated words\n",
    "text <- c(\"apple pie\", \"apple tart\", \"apple crisp\")\n",
    "\n",
    "# Replace only the first occurrence of \"apple\" in each element\n",
    "result <- sub(\"apple\", \"orange\", text)\n",
    "print(result)\n",
    "# Output: \"orange pie\" \"orange tart\" \"orange crisp\"\n"
   ]
  },
  {
   "cell_type": "markdown",
   "id": "8f5b6dae-5554-428f-bdb9-2dc493ff1176",
   "metadata": {},
   "source": [
    "In this example, `sub()` only replaces the first occurrence of \"apple\" in each string, so \"apple pie\" becomes \"orange pie,\" but if \"apple\" appeared multiple times in any element, only the first would be replaced.\n",
    "\n",
    "#### **Comparison with `gsub()`**\n",
    "\n",
    "If we wanted to replace *all* occurrences of \"apple\" with \"orange\" in each element, we’d use `gsub()`:"
   ]
  },
  {
   "cell_type": "code",
   "execution_count": 24,
   "id": "a33feb7a-c62b-4772-adee-fa3441c4be99",
   "metadata": {},
   "outputs": [
    {
     "name": "stdout",
     "output_type": "stream",
     "text": [
      "[1] \"orange pie\"   \"orange tart\"  \"orange crisp\"\n"
     ]
    }
   ],
   "source": [
    "\n",
    "result_all <- gsub(\"apple\", \"orange\", text)\n",
    "print(result_all)\n",
    "# Output: \"orange pie\" \"orange tart\" \"orange crisp\"\n"
   ]
  },
  {
   "cell_type": "markdown",
   "id": "285e50c4-7214-47a6-8c37-3a638ab86f01",
   "metadata": {},
   "source": [
    "For this specific example, both `sub()` and `gsub()` return the same result because \"apple\" only appears once per element. However, in cases where multiple occurrences exist, `gsub()` would replace each instance.\n",
    "\n",
    "---\n",
    "\n",
    "### **Practical Usage of `sub()` and `gsub()` Together**\n",
    "\n",
    "You might use `sub()` and `gsub()` in combination to achieve different types of substitutions. For example, you may want to change the first occurrence of a term in one field while changing all occurrences in another.\n",
    "\n",
    "---\n",
    "\n",
    "### **Example Workflow Using `sub()` in Data Cleaning**"
   ]
  },
  {
   "cell_type": "code",
   "execution_count": 26,
   "id": "748a3b60-f7df-44cf-9758-95b501e34e54",
   "metadata": {},
   "outputs": [],
   "source": [
    "# Example character vector with inconsistent text\n",
    "text <- c(\"123-apple-456\", \"789-apple-apple\", \"apple-101\")"
   ]
  },
  {
   "cell_type": "code",
   "execution_count": 27,
   "id": "245fbd57-6373-4216-aace-6cc1e51a52c1",
   "metadata": {},
   "outputs": [
    {
     "name": "stdout",
     "output_type": "stream",
     "text": [
      "[1] \"123-fruit-456\"   \"789-fruit-apple\" \"fruit-101\"      \n"
     ]
    }
   ],
   "source": [
    "# Using sub to replace only the first \"apple\" in each element\n",
    "first_only <- sub(\"apple\", \"fruit\", text)\n",
    "print(first_only)\n",
    "# Output: \"123-fruit-456\" \"789-fruit-apple\" \"fruit-101\""
   ]
  },
  {
   "cell_type": "code",
   "execution_count": 28,
   "id": "79bb0203-7958-407d-a065-86da52e9113b",
   "metadata": {},
   "outputs": [
    {
     "name": "stdout",
     "output_type": "stream",
     "text": [
      "[1] \"123-fruit-456\"   \"789-fruit-fruit\" \"fruit-101\"      \n"
     ]
    }
   ],
   "source": [
    "# Using gsub to replace all occurrences of \"apple\" in each element\n",
    "all_occurrences <- gsub(\"apple\", \"fruit\", text)\n",
    "print(all_occurrences)\n",
    "# Output: \"123-fruit-456\" \"789-fruit-fruit\" \"fruit-101\""
   ]
  },
  {
   "cell_type": "markdown",
   "id": "1a531b9f-8fc4-412b-b949-1a2a3cf3fa19",
   "metadata": {},
   "source": [
    "### **Summary of `sub()` vs `gsub()`**\n",
    "\n",
    "| Function  | Description                               | Replaces                  | Example                                 |\n",
    "|-----------|-------------------------------------------|---------------------------|-----------------------------------------|\n",
    "| `sub()`   | Replaces the first occurrence of a pattern in each string element | First occurrence only     | `sub(\"pattern\", \"replacement\", x)`      |\n",
    "| `gsub()`  | Replaces all occurrences of a pattern in each string element     | Every occurrence          | `gsub(\"pattern\", \"replacement\", x)`     |"
   ]
  },
  {
   "cell_type": "code",
   "execution_count": null,
   "id": "a6baed46-7546-416d-b705-64f532021707",
   "metadata": {},
   "outputs": [],
   "source": []
  },
  {
   "cell_type": "code",
   "execution_count": null,
   "id": "4468d38a-6b68-4e5c-90f7-a85046270293",
   "metadata": {},
   "outputs": [],
   "source": []
  },
  {
   "cell_type": "code",
   "execution_count": null,
   "id": "d9c32736-eb9a-4bf2-b04f-93e11b4f4f79",
   "metadata": {},
   "outputs": [],
   "source": []
  },
  {
   "cell_type": "code",
   "execution_count": null,
   "id": "246f4526-1635-43d8-97fc-7e3de941594f",
   "metadata": {},
   "outputs": [],
   "source": []
  }
 ],
 "metadata": {
  "kernelspec": {
   "display_name": "R",
   "language": "R",
   "name": "ir"
  },
  "language_info": {
   "codemirror_mode": "r",
   "file_extension": ".r",
   "mimetype": "text/x-r-source",
   "name": "R",
   "pygments_lexer": "r",
   "version": "4.4.1"
  }
 },
 "nbformat": 4,
 "nbformat_minor": 5
}
